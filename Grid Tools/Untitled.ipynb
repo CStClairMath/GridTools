{
 "cells": [
  {
   "cell_type": "code",
   "execution_count": 139,
   "metadata": {},
   "outputs": [
    {
     "ename": "ImportError",
     "evalue": "cannot import name 'from_networkx_graph' from 'sage.graphs.graph_input' (/opt/sagemath-9.3/local/lib/python3.7/site-packages/sage/graphs/graph_input.py)",
     "output_type": "error",
     "traceback": [
      "\u001b[0;31m---------------------------------------------------------------------------\u001b[0m",
      "\u001b[0;31mImportError\u001b[0m                               Traceback (most recent call last)",
      "\u001b[0;32m<ipython-input-139-e911b12f828a>\u001b[0m in \u001b[0;36m<module>\u001b[0;34m\u001b[0m\n\u001b[1;32m      1\u001b[0m \u001b[0;32mimport\u001b[0m \u001b[0mnetworkx\u001b[0m \u001b[0;32mas\u001b[0m \u001b[0mnx\u001b[0m\u001b[0;34m\u001b[0m\u001b[0;34m\u001b[0m\u001b[0m\n\u001b[0;32m----> 2\u001b[0;31m \u001b[0;32mfrom\u001b[0m \u001b[0msage\u001b[0m\u001b[0;34m.\u001b[0m\u001b[0mgraphs\u001b[0m\u001b[0;34m.\u001b[0m\u001b[0mgraph_input\u001b[0m \u001b[0;32mimport\u001b[0m \u001b[0mfrom_networkx_graph\u001b[0m\u001b[0;34m\u001b[0m\u001b[0;34m\u001b[0m\u001b[0m\n\u001b[0m\u001b[1;32m      3\u001b[0m \u001b[0;32mimport\u001b[0m \u001b[0mast\u001b[0m\u001b[0;34m\u001b[0m\u001b[0;34m\u001b[0m\u001b[0m\n",
      "\u001b[0;31mImportError\u001b[0m: cannot import name 'from_networkx_graph' from 'sage.graphs.graph_input' (/opt/sagemath-9.3/local/lib/python3.7/site-packages/sage/graphs/graph_input.py)"
     ]
    }
   ],
   "source": [
    "import networkx as nx\n",
    "import ast"
   ]
  },
  {
   "cell_type": "code",
   "execution_count": 33,
   "metadata": {},
   "outputs": [],
   "source": [
    "g = nx.read_gml('testCinfExport.gml')"
   ]
  },
  {
   "cell_type": "code",
   "execution_count": 39,
   "metadata": {},
   "outputs": [
    {
     "data": {
      "text/plain": [
       "{'[1, 2, 3]': {'[2, 1, 3]': {'weight': '[[1, 0, 0], [0, 0, 0]]'},\n",
       "  '[1, 3, 2]': {'weight': '[[0, 1, 0], [0, 0, 0]]'},\n",
       "  '[3, 2, 1]': {'weight': '[[0, 0, 1], [0, 0, 0]]'}},\n",
       " '[2, 1, 3]': {'[1, 2, 3]': {'weight': '[[0, 0, 0], [0, 0, 1]]'},\n",
       "  '[2, 3, 1]': {'weight': '[[0, 0, 1], [0, 0, 0]]'},\n",
       "  '[3, 1, 2]': {'weight': '[[0, 1, 0], [1, 0, 0]]'}},\n",
       " '[2, 3, 1]': {'[3, 2, 1]': {'weight': '[[0, 0, 0], [1, 0, 0]]'},\n",
       "  '[2, 1, 3]': {'weight': '[[0, 0, 0], [0, 1, 0]]'},\n",
       "  '[1, 3, 2]': {'weight': '[[0, 0, 0], [0, 0, 1]]'}},\n",
       " '[3, 2, 1]': {'[2, 3, 1]': {'weight': '[[0, 1, 0], [0, 0, 0]]'},\n",
       "  '[3, 1, 2]': {'weight': '[[1, 0, 0], [0, 0, 1]]'},\n",
       "  '[1, 2, 3]': {'weight': '[[0, 0, 0], [0, 1, 0]]'}},\n",
       " '[3, 1, 2]': {'[1, 3, 2]': {'weight': '[[0, 0, 0], [0, 0, 0]]'},\n",
       "  '[3, 2, 1]': {'weight': '[[0, 0, 0], [0, 0, 0]]'},\n",
       "  '[2, 1, 3]': {'weight': '[[0, 0, 0], [0, 0, 0]]'}},\n",
       " '[1, 3, 2]': {'[3, 1, 2]': {'weight': '[[0, 0, 1], [0, 1, 0]]'},\n",
       "  '[1, 2, 3]': {'weight': '[[0, 0, 0], [1, 0, 0]]'},\n",
       "  '[2, 3, 1]': {'weight': '[[1, 0, 0], [0, 0, 0]]'}}}"
      ]
     },
     "execution_count": 39,
     "metadata": {},
     "output_type": "execute_result"
    }
   ],
   "source": [
    "nx.to_dict_of_dicts(g)"
   ]
  },
  {
   "cell_type": "code",
   "execution_count": 188,
   "metadata": {},
   "outputs": [],
   "source": [
    "def convert_gml(fileName):\n",
    "    g = nx.read_gml(fileName)\n",
    "    for edge in g.edges:\n",
    "        g[edge[0]][edge[1]]['weight'] = ast.literal_eval(g[edge[0]][edge[1]]['weight'])\n",
    "        g[edge[0]][edge[1]]['weight'] = g[edge[0]][edge[1]]['weight'][0]+g[edge[0]][edge[1]]['weight'][1]\n",
    "#         print(str(g[edge[0]][edge[1]]['weight']))\n",
    "#         print(type(g[edge[0]][edge[1]]['weight']))\n",
    "    return g\n",
    "\n",
    "def construct_cinf(g, size = -1): #Construct CFKinf complex from graph data - essentially just changing weights to polynomials\n",
    "    if size == -1:\n",
    "        size = len(g.get_edge_data(list(g.edges())[0][0],list(g.edges())[0][1])['weight'])  #kind of a mess - just turning the edges\n",
    "    n = size/2                                                                              #into a list and checking the length of\n",
    "    preF = LaurentPolynomialRing(GF(2), 'U', n)                                                #the weight of the first edge\n",
    "    preF.inject_variables()\n",
    "    Vars = preF.gens()\n",
    "    F = LaurentPolynomialRing(preF, 'V', n)\n",
    "    F.inject_variables()\n",
    "    Vars = Vars + F.gens()\n",
    "    sageG = DiGraph()\n",
    "    for edge in g.edges:\n",
    "        start = edge[0]\n",
    "        end = edge[1]\n",
    "        poly = F(1)\n",
    "        i = 0\n",
    "        for entry in g[edge[0]][edge[1]]['weight']:\n",
    "            poly = poly*(Vars[i])**entry\n",
    "            i = i + 1\n",
    "#        g[start][end]['weight'] = poly\n",
    "        sageG.add_edge(start,end,poly)\n",
    "    return sageG\n",
    "        \n",
    "    "
   ]
  },
  {
   "cell_type": "code",
   "execution_count": null,
   "metadata": {},
   "outputs": [],
   "source": []
  },
  {
   "cell_type": "code",
   "execution_count": 213,
   "metadata": {},
   "outputs": [
    {
     "name": "stdout",
     "output_type": "stream",
     "text": [
      "Defining U0, U1, U2\n",
      "Defining V0, V1, V2\n"
     ]
    }
   ],
   "source": [
    "g = convert_gml('testCinfExport.gml')\n",
    "sageG = construct_cinf(g)\n",
    "# dictg = nx.to_dict_of_dicts(g)\n",
    "# newg = DiGraph()\n",
    "# #graphs.graph_input.from_dict_of_dicts(dictg, weighted = True)\n",
    "# newg\n",
    "myf = sageG.weighted_adjacency_matrix()"
   ]
  },
  {
   "cell_type": "code",
   "execution_count": 214,
   "metadata": {},
   "outputs": [
    {
     "data": {
      "text/plain": [
       "[       0    U0*U1     U0^2        0        0    U0*U2]\n",
       "[   U0*V0        0        0     U0^2 U0*U2*V1        0]\n",
       "[   U0*V2        0        0    U0*U2 U0*U1*V0        0]\n",
       "[       0    U0*V2    U0*V1        0        0    U0*V0]\n",
       "[       0       U0       U0        0        0       U0]\n",
       "[   U0*V1        0        0    U0*U1  U0^2*V2        0]"
      ]
     },
     "execution_count": 214,
     "metadata": {},
     "output_type": "execute_result"
    }
   ],
   "source": [
    "U0*myf"
   ]
  },
  {
   "cell_type": "code",
   "execution_count": 212,
   "metadata": {},
   "outputs": [
    {
     "data": {
      "text/plain": [
       "[    0    U1    U0     0     0    U2]\n",
       "[   V0     0     0    U0 U2*V1     0]\n",
       "[   V2     0     0    U2 U1*V0     0]\n",
       "[    0    V2    V1     0     0    V0]\n",
       "[    0     1     1     0     0     1]\n",
       "[   V1     0     0    U1 U0*V2     0]"
      ]
     },
     "execution_count": 212,
     "metadata": {},
     "output_type": "execute_result"
    }
   ],
   "source": [
    "myf"
   ]
  },
  {
   "cell_type": "code",
   "execution_count": 205,
   "metadata": {},
   "outputs": [
    {
     "data": {
      "text/plain": [
       "[    0    U1    U0     0     0    U2]\n",
       "[   V0     0     0    U0 U2*V1     0]\n",
       "[   V2     0     0    U2 U1*V0     0]\n",
       "[    0    V2    V1     0     0    V0]\n",
       "[    0     1     1     0     0     1]\n",
       "[   V1     0     0    U1 U0*V2     0]"
      ]
     },
     "execution_count": 205,
     "metadata": {},
     "output_type": "execute_result"
    }
   ],
   "source": [
    "myf.substitute(U0=1)"
   ]
  },
  {
   "cell_type": "code",
   "execution_count": 182,
   "metadata": {},
   "outputs": [
    {
     "ename": "AssertionError",
     "evalue": "",
     "output_type": "error",
     "traceback": [
      "\u001b[0;31m---------------------------------------------------------------------------\u001b[0m",
      "\u001b[0;31mAssertionError\u001b[0m                            Traceback (most recent call last)",
      "\u001b[0;32m<ipython-input-182-96cbaa66640f>\u001b[0m in \u001b[0;36m<module>\u001b[0;34m\u001b[0m\n\u001b[0;32m----> 1\u001b[0;31m \u001b[0mnewg\u001b[0m \u001b[0;34m=\u001b[0m \u001b[0mDiGraph\u001b[0m\u001b[0;34m(\u001b[0m\u001b[0mg\u001b[0m\u001b[0;34m,\u001b[0m \u001b[0mweighted\u001b[0m \u001b[0;34m=\u001b[0m \u001b[0;32mTrue\u001b[0m\u001b[0;34m,\u001b[0m \u001b[0mformat\u001b[0m \u001b[0;34m=\u001b[0m \u001b[0;34m'weighted_adjacency_matrix'\u001b[0m\u001b[0;34m)\u001b[0m\u001b[0;34m\u001b[0m\u001b[0;34m\u001b[0m\u001b[0m\n\u001b[0m\u001b[1;32m      2\u001b[0m \u001b[0mnewg\u001b[0m\u001b[0;34m.\u001b[0m\u001b[0mplot\u001b[0m\u001b[0;34m(\u001b[0m\u001b[0medge_labels\u001b[0m \u001b[0;34m=\u001b[0m \u001b[0;32mTrue\u001b[0m\u001b[0;34m)\u001b[0m\u001b[0;34m\u001b[0m\u001b[0;34m\u001b[0m\u001b[0m\n\u001b[1;32m      3\u001b[0m \u001b[0mnewg\u001b[0m\u001b[0;34m.\u001b[0m\u001b[0medge_labels\u001b[0m\u001b[0;34m(\u001b[0m\u001b[0;34m)\u001b[0m\u001b[0;34m\u001b[0m\u001b[0;34m\u001b[0m\u001b[0m\n\u001b[1;32m      4\u001b[0m \u001b[0;31m#newg.weighted_adjacency_matrix(sparse = True)\u001b[0m\u001b[0;34m\u001b[0m\u001b[0;34m\u001b[0m\u001b[0;34m\u001b[0m\u001b[0m\n",
      "\u001b[0;32m/opt/sagemath-9.3/local/lib/python3.7/site-packages/sage/graphs/digraph.py\u001b[0m in \u001b[0;36m__init__\u001b[0;34m(self, data, pos, loops, format, weighted, data_structure, vertex_labels, name, multiedges, convert_empty_dict_labels_to_None, sparse, immutable)\u001b[0m\n\u001b[1;32m    751\u001b[0m         \u001b[0;32melif\u001b[0m \u001b[0mformat\u001b[0m \u001b[0;34m==\u001b[0m \u001b[0;34m'adjacency_matrix'\u001b[0m\u001b[0;34m:\u001b[0m\u001b[0;34m\u001b[0m\u001b[0;34m\u001b[0m\u001b[0m\n\u001b[1;32m    752\u001b[0m             \u001b[0;32mfrom\u001b[0m \u001b[0;34m.\u001b[0m\u001b[0mgraph_input\u001b[0m \u001b[0;32mimport\u001b[0m \u001b[0mfrom_adjacency_matrix\u001b[0m\u001b[0;34m\u001b[0m\u001b[0;34m\u001b[0m\u001b[0m\n\u001b[0;32m--> 753\u001b[0;31m             \u001b[0mfrom_adjacency_matrix\u001b[0m\u001b[0;34m(\u001b[0m\u001b[0mself\u001b[0m\u001b[0;34m,\u001b[0m \u001b[0mdata\u001b[0m\u001b[0;34m,\u001b[0m \u001b[0mloops\u001b[0m\u001b[0;34m=\u001b[0m\u001b[0mloops\u001b[0m\u001b[0;34m,\u001b[0m \u001b[0mmultiedges\u001b[0m\u001b[0;34m=\u001b[0m\u001b[0mmultiedges\u001b[0m\u001b[0;34m,\u001b[0m \u001b[0mweighted\u001b[0m\u001b[0;34m=\u001b[0m\u001b[0mweighted\u001b[0m\u001b[0;34m)\u001b[0m\u001b[0;34m\u001b[0m\u001b[0;34m\u001b[0m\u001b[0m\n\u001b[0m\u001b[1;32m    754\u001b[0m \u001b[0;34m\u001b[0m\u001b[0m\n\u001b[1;32m    755\u001b[0m         \u001b[0;32melif\u001b[0m \u001b[0mformat\u001b[0m \u001b[0;34m==\u001b[0m \u001b[0;34m'incidence_matrix'\u001b[0m\u001b[0;34m:\u001b[0m\u001b[0;34m\u001b[0m\u001b[0;34m\u001b[0m\u001b[0m\n",
      "\u001b[0;32m/opt/sagemath-9.3/local/lib/python3.7/site-packages/sage/graphs/graph_input.py\u001b[0m in \u001b[0;36mfrom_adjacency_matrix\u001b[0;34m(G, M, loops, multiedges, weighted)\u001b[0m\n\u001b[1;32m    237\u001b[0m     \u001b[0;32mfrom\u001b[0m \u001b[0msage\u001b[0m\u001b[0;34m.\u001b[0m\u001b[0mstructure\u001b[0m\u001b[0;34m.\u001b[0m\u001b[0melement\u001b[0m \u001b[0;32mimport\u001b[0m \u001b[0mis_Matrix\u001b[0m\u001b[0;34m\u001b[0m\u001b[0;34m\u001b[0m\u001b[0m\n\u001b[1;32m    238\u001b[0m     \u001b[0;32mfrom\u001b[0m \u001b[0msage\u001b[0m\u001b[0;34m.\u001b[0m\u001b[0mrings\u001b[0m\u001b[0;34m.\u001b[0m\u001b[0minteger_ring\u001b[0m \u001b[0;32mimport\u001b[0m \u001b[0mZZ\u001b[0m\u001b[0;34m\u001b[0m\u001b[0;34m\u001b[0m\u001b[0m\n\u001b[0;32m--> 239\u001b[0;31m     \u001b[0;32massert\u001b[0m \u001b[0mis_Matrix\u001b[0m\u001b[0;34m(\u001b[0m\u001b[0mM\u001b[0m\u001b[0;34m)\u001b[0m\u001b[0;34m\u001b[0m\u001b[0;34m\u001b[0m\u001b[0m\n\u001b[0m\u001b[1;32m    240\u001b[0m     \u001b[0;31m# note: the adjacency matrix might be weighted and hence not\u001b[0m\u001b[0;34m\u001b[0m\u001b[0;34m\u001b[0m\u001b[0;34m\u001b[0m\u001b[0m\n\u001b[1;32m    241\u001b[0m     \u001b[0;31m# necessarily consists of integers\u001b[0m\u001b[0;34m\u001b[0m\u001b[0;34m\u001b[0m\u001b[0;34m\u001b[0m\u001b[0m\n",
      "\u001b[0;31mAssertionError\u001b[0m: "
     ]
    }
   ],
   "source": [
    "newg = DiGraph(g, weighted = True)\n",
    "newg.plot(edge_labels = True)\n",
    "newg.ed()\n",
    "#newg.weighted_adjacency_matrix(sparse = True)"
   ]
  },
  {
   "cell_type": "code",
   "execution_count": 168,
   "metadata": {},
   "outputs": [
    {
     "ename": "TypeError",
     "evalue": "weighted_adjacency_matrix() got an unexpected keyword argument 'base_ring'",
     "output_type": "error",
     "traceback": [
      "\u001b[0;31m---------------------------------------------------------------------------\u001b[0m",
      "\u001b[0;31mTypeError\u001b[0m                                 Traceback (most recent call last)",
      "\u001b[0;32m<ipython-input-168-1d8599dba1ac>\u001b[0m in \u001b[0;36m<module>\u001b[0;34m\u001b[0m\n\u001b[0;32m----> 1\u001b[0;31m \u001b[0mnewg\u001b[0m\u001b[0;34m.\u001b[0m\u001b[0mweighted_adjacency_matrix\u001b[0m\u001b[0;34m(\u001b[0m\u001b[0mbase_ring\u001b[0m \u001b[0;34m=\u001b[0m \u001b[0mF\u001b[0m\u001b[0;34m)\u001b[0m\u001b[0;34m\u001b[0m\u001b[0;34m\u001b[0m\u001b[0m\n\u001b[0m",
      "\u001b[0;31mTypeError\u001b[0m: weighted_adjacency_matrix() got an unexpected keyword argument 'base_ring'"
     ]
    }
   ],
   "source": [
    "newg.weighted_adjacency_matrix(base_ring = F)"
   ]
  },
  {
   "cell_type": "code",
   "execution_count": 92,
   "metadata": {},
   "outputs": [
    {
     "data": {
      "text/plain": [
       "[1, 0, 0, 0, 0, 0]"
      ]
     },
     "execution_count": 92,
     "metadata": {},
     "output_type": "execute_result"
    }
   ],
   "source": [
    "g.get_edge_data(list(g.edges())[0][0],list(g.edges())[0][1])['weight'"
   ]
  },
  {
   "cell_type": "code",
   "execution_count": 98,
   "metadata": {},
   "outputs": [
    {
     "name": "stdout",
     "output_type": "stream",
     "text": [
      "Defining w0, w1, w2, w3\n",
      "Defining z0, z1, z2, z3\n"
     ]
    },
    {
     "data": {
      "text/plain": [
       "z0"
      ]
     },
     "execution_count": 98,
     "metadata": {},
     "output_type": "execute_result"
    }
   ],
   "source": [
    "preF = LaurentPolynomialRing(GF(2), 4, ('w'))\n",
    "preF.inject_variables()\n",
    "F = LaurentPolynomialRing(preF,4,'z')\n",
    "F.inject_variables()\n",
    "F.gens()[0]"
   ]
  },
  {
   "cell_type": "code",
   "execution_count": 143,
   "metadata": {},
   "outputs": [
    {
     "data": {
      "text/plain": [
       "<networkx.classes.digraph.DiGraph object at 0x6ffd75a4e390>"
      ]
     },
     "execution_count": 143,
     "metadata": {},
     "output_type": "execute_result"
    }
   ],
   "source": [
    "g"
   ]
  },
  {
   "cell_type": "code",
   "execution_count": 115,
   "metadata": {},
   "outputs": [
    {
     "name": "stdout",
     "output_type": "stream",
     "text": [
      "[1, 0, 0, 0, 0, 0]\n",
      "<class 'list'>\n",
      "[0, 1, 0, 0, 0, 0]\n",
      "<class 'list'>\n",
      "[0, 0, 1, 0, 0, 0]\n",
      "<class 'list'>\n",
      "[0, 0, 0, 0, 0, 1]\n",
      "<class 'list'>\n",
      "[0, 0, 1, 0, 0, 0]\n",
      "<class 'list'>\n",
      "[0, 1, 0, 1, 0, 0]\n",
      "<class 'list'>\n",
      "[0, 0, 0, 1, 0, 0]\n",
      "<class 'list'>\n",
      "[0, 0, 0, 0, 1, 0]\n",
      "<class 'list'>\n",
      "[0, 0, 0, 0, 0, 1]\n",
      "<class 'list'>\n",
      "[0, 1, 0, 0, 0, 0]\n",
      "<class 'list'>\n",
      "[1, 0, 0, 0, 0, 1]\n",
      "<class 'list'>\n",
      "[0, 0, 0, 0, 1, 0]\n",
      "<class 'list'>\n",
      "[0, 0, 0, 0, 0, 0]\n",
      "<class 'list'>\n",
      "[0, 0, 0, 0, 0, 0]\n",
      "<class 'list'>\n",
      "[0, 0, 0, 0, 0, 0]\n",
      "<class 'list'>\n",
      "[0, 0, 1, 0, 1, 0]\n",
      "<class 'list'>\n",
      "[0, 0, 0, 1, 0, 0]\n",
      "<class 'list'>\n",
      "[1, 0, 0, 0, 0, 0]\n",
      "<class 'list'>\n"
     ]
    }
   ],
   "source": [
    "g = convert_gml('testCinfExport.gml')"
   ]
  },
  {
   "cell_type": "code",
   "execution_count": 51,
   "metadata": {},
   "outputs": [
    {
     "data": {
      "text/plain": [
       "[1, 2, 3, 4]"
      ]
     },
     "execution_count": 51,
     "metadata": {},
     "output_type": "execute_result"
    }
   ],
   "source": [
    "[1,2]+[3,4]"
   ]
  },
  {
   "cell_type": "code",
   "execution_count": 17,
   "metadata": {},
   "outputs": [
    {
     "ename": "ModuleNotFoundError",
     "evalue": "No module named 'pyvis'",
     "output_type": "error",
     "traceback": [
      "\u001b[0;31m---------------------------------------------------------------------------\u001b[0m",
      "\u001b[0;31mModuleNotFoundError\u001b[0m                       Traceback (most recent call last)",
      "\u001b[0;32m<ipython-input-17-269e5d9f8b54>\u001b[0m in \u001b[0;36m<module>\u001b[0;34m\u001b[0m\n\u001b[1;32m      3\u001b[0m \u001b[0;32mimport\u001b[0m \u001b[0mcopy\u001b[0m\u001b[0;34m\u001b[0m\u001b[0;34m\u001b[0m\u001b[0m\n\u001b[1;32m      4\u001b[0m \u001b[0;32mimport\u001b[0m \u001b[0mnetworkx\u001b[0m \u001b[0;32mas\u001b[0m \u001b[0mnx\u001b[0m\u001b[0;34m\u001b[0m\u001b[0;34m\u001b[0m\u001b[0m\n\u001b[0;32m----> 5\u001b[0;31m \u001b[0;32mfrom\u001b[0m \u001b[0mpyvis\u001b[0m\u001b[0;34m.\u001b[0m\u001b[0mnetwork\u001b[0m \u001b[0;32mimport\u001b[0m \u001b[0mNetwork\u001b[0m\u001b[0;34m\u001b[0m\u001b[0;34m\u001b[0m\u001b[0m\n\u001b[0m\u001b[1;32m      6\u001b[0m \u001b[0;32mimport\u001b[0m \u001b[0mplotly\u001b[0m\u001b[0;34m\u001b[0m\u001b[0;34m\u001b[0m\u001b[0m\n\u001b[1;32m      7\u001b[0m \u001b[0;32mimport\u001b[0m \u001b[0mplotly\u001b[0m\u001b[0;34m.\u001b[0m\u001b[0mgraph_objects\u001b[0m \u001b[0;32mas\u001b[0m \u001b[0mgo\u001b[0m\u001b[0;34m\u001b[0m\u001b[0;34m\u001b[0m\u001b[0m\n",
      "\u001b[0;31mModuleNotFoundError\u001b[0m: No module named 'pyvis'"
     ]
    }
   ],
   "source": [
    "conda create -n sage sage python=X"
   ]
  },
  {
   "cell_type": "code",
   "execution_count": 18,
   "metadata": {},
   "outputs": [],
   "source": [
    "G = SymmetricGroup([1,2,3,4,5])"
   ]
  },
  {
   "cell_type": "code",
   "execution_count": 31,
   "metadata": {},
   "outputs": [
    {
     "data": {
      "text/plain": [
       "(1,2,3)"
      ]
     },
     "execution_count": 31,
     "metadata": {},
     "output_type": "execute_result"
    }
   ],
   "source": [
    "G((1,2,3))"
   ]
  },
  {
   "cell_type": "code",
   "execution_count": 25,
   "metadata": {},
   "outputs": [
    {
     "data": {
      "text/plain": [
       "(1,2)"
      ]
     },
     "execution_count": 25,
     "metadata": {},
     "output_type": "execute_result"
    }
   ],
   "source": [
    "G.list()[2]"
   ]
  },
  {
   "cell_type": "code",
   "execution_count": 26,
   "metadata": {},
   "outputs": [
    {
     "data": {
      "text/plain": [
       "(1,4,2,5,3)"
      ]
     },
     "execution_count": 26,
     "metadata": {},
     "output_type": "execute_result"
    }
   ],
   "source": [
    "G.list()[3]"
   ]
  },
  {
   "cell_type": "code",
   "execution_count": 24,
   "metadata": {},
   "outputs": [
    {
     "data": {
      "text/plain": [
       "(1,5,3)(2,4)"
      ]
     },
     "execution_count": 24,
     "metadata": {},
     "output_type": "execute_result"
    }
   ],
   "source": [
    "G.list()[2]*G.list()[3]"
   ]
  },
  {
   "cell_type": "code",
   "execution_count": 1,
   "metadata": {},
   "outputs": [
    {
     "data": {
      "text/plain": [
       "-1 * 3^2 * 223"
      ]
     },
     "execution_count": 1,
     "metadata": {},
     "output_type": "execute_result"
    }
   ],
   "source": [
    "factor(-2007)"
   ]
  },
  {
   "cell_type": "code",
   "execution_count": 3,
   "metadata": {},
   "outputs": [],
   "source": [
    "U, V = var('U V')"
   ]
  },
  {
   "cell_type": "code",
   "execution_count": 4,
   "metadata": {},
   "outputs": [
    {
     "data": {
      "text/plain": [
       "U"
      ]
     },
     "execution_count": 4,
     "metadata": {},
     "output_type": "execute_result"
    }
   ],
   "source": [
    "U"
   ]
  },
  {
   "cell_type": "code",
   "execution_count": 5,
   "metadata": {},
   "outputs": [
    {
     "data": {
      "text/plain": [
       "V"
      ]
     },
     "execution_count": 5,
     "metadata": {},
     "output_type": "execute_result"
    }
   ],
   "source": [
    "V"
   ]
  },
  {
   "cell_type": "code",
   "execution_count": 6,
   "metadata": {},
   "outputs": [
    {
     "data": {
      "text/plain": [
       "U^2"
      ]
     },
     "execution_count": 6,
     "metadata": {},
     "output_type": "execute_result"
    }
   ],
   "source": [
    "U*U"
   ]
  },
  {
   "cell_type": "code",
   "execution_count": 165,
   "metadata": {},
   "outputs": [
    {
     "name": "stdout",
     "output_type": "stream",
     "text": [
      "Defining U0, U1, U2\n",
      "Defining V0, V1, V2\n"
     ]
    }
   ],
   "source": [
    "preF = LaurentPolynomialRing(GF(2), 'U', 3)\n",
    "preF.inject_variables()\n",
    "F = LaurentPolynomialRing(GF(2), 'V', 3)\n",
    "F.inject_variables()"
   ]
  },
  {
   "cell_type": "code",
   "execution_count": 16,
   "metadata": {},
   "outputs": [
    {
     "data": {
      "text/plain": [
       "Multivariate Laurent Polynomial Ring in U, V over Finite Field of size 2"
      ]
     },
     "execution_count": 16,
     "metadata": {},
     "output_type": "execute_result"
    }
   ],
   "source": [
    "F"
   ]
  },
  {
   "cell_type": "code",
   "execution_count": null,
   "metadata": {},
   "outputs": [],
   "source": []
  }
 ],
 "metadata": {
  "kernelspec": {
   "display_name": "SageMath 9.3",
   "language": "sage",
   "name": "sagemath"
  },
  "language_info": {
   "codemirror_mode": {
    "name": "ipython",
    "version": 3
   },
   "file_extension": ".py",
   "mimetype": "text/x-python",
   "name": "python",
   "nbconvert_exporter": "python",
   "pygments_lexer": "ipython3",
   "version": "3.7.10"
  }
 },
 "nbformat": 4,
 "nbformat_minor": 4
}
