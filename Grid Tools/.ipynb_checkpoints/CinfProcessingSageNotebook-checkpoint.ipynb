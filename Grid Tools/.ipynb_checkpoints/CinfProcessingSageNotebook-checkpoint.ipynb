{
 "cells": [
  {
   "cell_type": "code",
   "execution_count": 1,
   "metadata": {
    "slideshow": {
     "slide_type": "slide"
    }
   },
   "outputs": [],
   "source": [
    "import networkx as nx\n",
    "import csv\n",
    "# import ast\n",
    "import numpy as np\n",
    "from scipy import sparse\n",
    "import matplotlib.pyplot as plt\n",
    "import multiprocessing as mp\n",
    "#from sage.graphs.graph_decompositions.graph_products import is_cartesian_product\n",
    "import CodeModules.GFKTools as gfk\n",
    "import time\n",
    "import pickle\n",
    "import CodeModules.perm as pr\n",
    "TIMERS = True"
   ]
  },
  {
   "cell_type": "code",
   "execution_count": 27,
   "metadata": {},
   "outputs": [
    {
     "name": "stdout",
     "output_type": "stream",
     "text": [
      "['1', '1', '0', '-2', '', '', '']\n",
      "['2', '0', '-1', '-1', 'U0', '', '1']\n",
      "['3', '-1', '-2', '0', '', '', '']\n"
     ]
    }
   ],
   "source": [
    "file = open(\"TrefoilComplex.csv\")\n",
    "csvreader = csv.reader(file)\n",
    "header = []\n",
    "header = next(csvreader)\n",
    "\n",
    "rows = []\n",
    "\n",
    "for row in csvreader:\n",
    "    rows.append(row)\n",
    "    print(row)\n",
    "\n",
    "\n",
    "file.close()"
   ]
  },
  {
   "cell_type": "code",
   "execution_count": 2,
   "metadata": {},
   "outputs": [],
   "source": [
    "def comp_from_pickle(filename = 'DefaultPickleComp', grade = True):\n",
    "    \n",
    "# GFK toolkit has the ability to export its raw complex as a pickle file, this imports those files, then constructs cinf. \n",
    "# Largely unnecessary if calling from the imported GFK directly\n",
    "\n",
    "    graph, size, knot = imp_from_pickle(filename)\n",
    "    print(\"Grid complex imported with grid number = \" + str(size))\n",
    "    nxg, defield = construct_cinf(graph, size)\n",
    "    if grade:\n",
    "        print('proceeding to grade complex.')\n",
    "        nxg = grade_complex(nxg, defield)\n",
    "    \n",
    "    return nxg, defield\n",
    "\n",
    "def imp_from_pickle(filename = 'DefaultPickleComp'):\n",
    "    \n",
    "# Imports pickle file and returns the object. Will import from DefaultPickleComp if no name is provided\n",
    "    \n",
    "    if filename == 'DefaultPickleComp':\n",
    "        print('No name provided for import - importing from DefaultPickleComp')\n",
    "    \n",
    "    \n",
    "    try:\n",
    "        file = open(filename,'rb')\n",
    "        print(\"file opened\")\n",
    "    except:\n",
    "        print('Ran into an error: Make sure you\\'ve exported to the file you\\'re trying to import from')\n",
    "    stuff = pickle.load(file)\n",
    "    file.close()\n",
    "    print('file closed')\n",
    "    return stuff\n",
    "    \n",
    "    \n",
    "\n",
    "def name_some_vars(letters, num):\n",
    "    \n",
    "# Accepts a collection of strings, and an integer. Passing \"U\" and 3 for example returns \"U0, U1, U2\"\n",
    "    \n",
    "    result = []\n",
    "    num = int(num)\n",
    "    for letter in letters:\n",
    "        \n",
    "        for i in range(num):\n",
    "            new_var = f\"{letter}{i}\"\n",
    "            #print(new_var)\n",
    "            result.append(new_var)\n",
    "    \n",
    "    return result\n",
    "\n",
    "def construct_cinf(g, size = -1): #Construct CFKinf complex from graph data - essentially just changing weights to polynomials\n",
    "                                  #Only works for grid diagrams *not* Latin Squares\n",
    "    print('constructing cinf...')\n",
    "    if size == -1:\n",
    "        size = len(g.get_edge_data(list(g.edges())[0][0],list(g.edges())[0][1])['diffweight'][0])  #kind of a mess - just turning the edges\n",
    "        print(\"Grid size is \" + str(size/2))\n",
    "        n = size/2                                                                              #into a list and checking the length of#the weight of the first edge\n",
    "    else:\n",
    "        n = size\n",
    "    timerstart = time.time()\n",
    "    F,Vars = cinf_coeff(n)\n",
    "    resG = nx.DiGraph()\n",
    "    for edge in g.edges:\n",
    "        \n",
    "        start = edge[0]\n",
    "        end = edge[1]\n",
    "        poly = F(0)\n",
    "        \n",
    "        \n",
    "        for subweight in g[edge[0]][edge[1]]['diffweight']:\n",
    "            \n",
    "            i = 0\n",
    "            polychange = F(1)\n",
    "#             print(str(subweight) + str(edge))\n",
    "            for entry in subweight:\n",
    "                \n",
    "                polychange = polychange*(Vars[i])**entry\n",
    "                i = i + 1\n",
    "                \n",
    "            poly += polychange\n",
    "#             print(str(edge) + str(poly))\n",
    "        resG.add_edge(start,end,diffweight = poly)\n",
    "    \n",
    "    timerend = time.time()\n",
    "    elap = timerend - timerstart\n",
    "    print('Time to construct cinf '+ str(elap))\n",
    "    return resG, F\n",
    "        \n",
    "    \n",
    "def cinf_coeff(size):\n",
    "    \n",
    "# Takes size as an argument and returns the Laurent polynomial ring over Z2 with coefficients U0,...Usize,V0,...Vsize\n",
    "    \n",
    "    n = size\n",
    "    varis = name_some_vars(['U','V'],n)\n",
    "    F = LaurentPolynomialRing(GF(2), varis)\n",
    "    F.inject_variables()\n",
    "  \n",
    "    return F,list(F.gens())\n",
    "\n",
    "\n",
    "def range_skip_entry(n, skip):\n",
    "    \n",
    "# Acts similarly to standard range(n) but omits the \"skip\"th entry\n",
    "\n",
    "    u = []\n",
    "    for i in range(0, skip): u.append(i)\n",
    "    for j in range(skip+1, n): u.append(j)       \n",
    "    return u\n",
    "\n",
    "\n",
    "def to_hat(chain_comp, field):\n",
    "\n",
    "    print(\"setting Ui's and Vi's = 0\")\n",
    "    gens = field.gens()\n",
    "    size = len(gens)/2    \n",
    "    for edge in chain_comp.edges():\n",
    "    \n",
    "        for i in range(2*size):\n",
    "            \n",
    "            src = edge[0]\n",
    "            tar = edge[1]\n",
    "            chain_comp[src][tar]['diffweight'] = chain_comp[src][tar]['diffweight'].subs({gens[i]:0})\n",
    "\n",
    "    return 1\n",
    "\n",
    "\n",
    "def to_minus(chain_comp, field):\n",
    "#Substitutes U0 for all the Ui and 1 for Vi\n",
    "    \n",
    "    print(\"normalizing Ui's and to i = 0 and Vi = 1\")\n",
    "    gens = field.gens()\n",
    "    size = len(gens)/2    \n",
    "    for edge in chain_comp.edges():\n",
    "    \n",
    "        for i in range(size):\n",
    "            \n",
    "            src = edge[0]\n",
    "            tar = edge[1]\n",
    "            chain_comp[src][tar]['diffweight'] = chain_comp[src][tar]['diffweight'].subs({gens[i]:gens[0]})\n",
    "            chain_comp[src][tar]['diffweight'] = chain_comp[src][tar]['diffweight'].subs({gens[i+size]:1})\n",
    "            \n",
    "    remove_zeros(chain_comp)\n",
    "    return 1\n",
    "\n",
    "\n",
    "def normalize(chain_comp, field):\n",
    "#Substitutes U0 for all the Ui and V0 for all Vi\n",
    "    \n",
    "    gens = field.gens()\n",
    "    size = len(gens)/2    \n",
    "    for edge in chain_comp.edges():\n",
    "    \n",
    "        for i in range(size):\n",
    "            \n",
    "            src = edge[0]\n",
    "            tar = edge[1]\n",
    "            chain_comp[src][tar]['diffweight'] = chain_comp[src][tar]['diffweight'].subs({gens[i]:gens[0]})\n",
    "            chain_comp[src][tar]['diffweight'] = chain_comp[src][tar]['diffweight'].subs({gens[i+size]:gens[size]})\n",
    "            \n",
    "    remove_zeros(chain_comp)\n",
    "    return 1\n",
    "\n",
    "def remove_zeros(chain_comp):\n",
    "    \n",
    "    elist = list(chain_comp.edges())\n",
    "    for x,y in elist:\n",
    "    \n",
    "        if chain_comp[x][y]['diffweight'] == 0:\n",
    "            \n",
    "            chain_comp.remove_edge(x,y)\n",
    "            \n",
    "    return 1\n",
    "\n",
    "def gml_export_weighted(graph, filename = 'PleaseNameMe.gml'):\n",
    "\n",
    "    nxG = graph.copy()\n",
    "    \n",
    "    if filename == 'PleaseNameMe.gml':\n",
    "        print(\"You didn't name your output! It's been named PleaseNameMe.gml\")\n",
    "    \n",
    "    if filename[-4:] != \".gml\":\n",
    "        filename += \".gml\"\n",
    "    \n",
    "    for x,y in nxG.edges():\n",
    "        \n",
    "        nxG[x][y]['diffweight'] = str(nxG[x][y]['diffweight'])\n",
    "        \n",
    "    for node in nxG.nodes():\n",
    "        \n",
    "        #print(str((nxG.nodes()[node]['UGrading'],nxG.nodes()[node]['VGrading'],nxG.nodes()[node]['AGrading'])))\n",
    "\n",
    "        try:\n",
    "            nxG.nodes[node]['AGrading'] = int(nxG.nodes[node]['AGrading']) \n",
    "            nxG.nodes[node]['UGrading'] = int(nxG.nodes[node]['UGrading'])\n",
    "            nxG.nodes[node]['VGrading'] = int(nxG.nodes[node]['VGrading'])\n",
    "        except:\n",
    "            nxG.nodes[node]['AGrading'] = int(-99)\n",
    "            nxG.nodes[node]['UGrading'] = int(-99)\n",
    "            nxG.nodes[node]['VGrading'] = int(-99)\n",
    "\n",
    "    nx.write_gml(nxG, filename)\n",
    "        \n",
    "    return\n"
   ]
  },
  {
   "cell_type": "code",
   "execution_count": 3,
   "metadata": {},
   "outputs": [],
   "source": [
    "def graph_red_search(given_graph, started = False, timerstart = None): \n",
    "#searches through a cfk inf complex for reducible edges and calling\n",
    "#the reduction function to eliminate the pair according to the reduction algorithm\n",
    "#     dict_graph = nx.to_dict_of_dicts(given_graph)\n",
    "    if not started:\n",
    "        timerstart = time.time()    \n",
    "        print(\"Reducing complex...\")\n",
    "    \n",
    "    for key in given_graph:\n",
    "        \n",
    "        for target in given_graph[key]:\n",
    "            \n",
    "            if given_graph[key][target]['diffweight'] == 1:\n",
    "                given_graph = graph_reduction(given_graph, key, target)\n",
    "                return graph_red_search(given_graph, True, timerstart)\n",
    "            \n",
    "    timerstop = time.time()\n",
    "    print('Time to reduce complex: ' + str(timerstop - timerstart))\n",
    "            \n",
    "    return given_graph\n",
    "\n",
    "def graph_reduction(given_graph, key, target):\n",
    "#Deletes edge specified from graph_red_search and adds in edges according to the\n",
    "#reduction algorithm\n",
    "    for x in given_graph.predecessors(target):\n",
    "        \n",
    "        if x == key: continue\n",
    "        for y in given_graph.successors(key):\n",
    "        \n",
    "            if y == target: continue\n",
    "            x_weight = given_graph[x][target]['diffweight']\n",
    "            y_weight = given_graph[key][y]['diffweight']\n",
    "            red_weight = x_weight * y_weight\n",
    "            if given_graph.has_edge(x,y):\n",
    "                old_weight = given_graph[x][y]['diffweight']\n",
    "                red_weight = red_weight + old_weight\n",
    "            given_graph.add_edge(x,y,diffweight=red_weight)\n",
    "\n",
    "    given_graph.remove_node(key)\n",
    "    given_graph.remove_node(target)\n",
    "    return given_graph\n",
    "\n",
    "def remove_loops(givengraph, overwrite = True):\n",
    "    \n",
    "    if overwrite:\n",
    "        graph = givengraph\n",
    "    else:\n",
    "        graph = givengraph.copy()\n",
    "    \n",
    "    for ed in list(graph.edges()):\n",
    "        try:\n",
    "            out = graph.edges()(ed[0],ed[1])\n",
    "            back = graph.edges()[ed[1],ed[0]]\n",
    "            graph.remove_edge(ed[0],ed[1])\n",
    "            graph.remove_edge(ed[1],ed[0])\n",
    "        except KeyError:\n",
    "            continue\n",
    "            \n",
    "    return graph\n",
    "\n",
    "def remove_NU_loops(givengraph, overwrite = True):\n",
    "    \n",
    "    if overwrite:\n",
    "        graph = givengraph\n",
    "    else:\n",
    "        graph = givengraph.copy()\n",
    "    \n",
    "    for ed in list(graph.edges()):\n",
    "        try:\n",
    "            out = graph.edges()(ed[0],ed[1])\n",
    "            back = graph.edges()[ed[1],ed[0]]\n",
    "            if graph[ed[0]][ed[1]]['diffweight'] == 1:\n",
    "                continue\n",
    "            if graph[ed[1]][ed[0]]['diffweight'] == 1:\n",
    "                continue\n",
    "            graph.remove_edge(ed[0],ed[1])\n",
    "            graph.remove_edge(ed[1],ed[0])\n",
    "        except KeyError:\n",
    "            continue\n",
    "            \n",
    "    return graph\n",
    "\n",
    "def mod_out_nonVar0(chain_comp, field):\n",
    "\n",
    "#     print(\"setting Ui's and Vi's = 0\")\n",
    "    gens = field.gens()\n",
    "    size = len(gens)/2    \n",
    "    for edge in chain_comp.edges():\n",
    "    \n",
    "        for i in range(1,size):\n",
    "            \n",
    "            src = edge[0]\n",
    "            tar = edge[1]\n",
    "            chain_comp[src][tar]['diffweight'] = chain_comp[src][tar]['diffweight'].subs({gens[i]:0})\n",
    "\n",
    "        for i in range(size+1,2*size):\n",
    "\n",
    "            src = edge[0]\n",
    "            tar = edge[1]\n",
    "            chain_comp[src][tar]['diffweight'] = chain_comp[src][tar]['diffweight'].subs({gens[i]:0})\n",
    "\n",
    "    return 1"
   ]
  },
  {
   "cell_type": "code",
   "execution_count": 4,
   "metadata": {},
   "outputs": [],
   "source": [
    "def grade_complex(given_graph, given_field, gridX = -1):\n",
    "    \n",
    "    #Input: given_graph a networkx directed graph with 'diffweight' attribute on edges\n",
    "    #       given_field the laurent polynomial field associated to the grid graph\n",
    "    #       gridX a list representing the vertex to be graded 0 in U V and Alexander gradings\n",
    "    #\n",
    "    #Output: given_graph with new attributes on the vertices for U V and Alexander gradings\n",
    "    #        also an attribute HasBeenGraded as an artifact\n",
    "    \n",
    "    \n",
    "    #If the positions of the Xs aren't provided we'll initialize around whatever\n",
    "    #state happens to appear first in the digraph structure\n",
    "    if gridX == -1:\n",
    "        \n",
    "        gridX = list(given_graph.nodes())[0]\n",
    "    \n",
    "    gens = given_field.gens()\n",
    "    size = len(gens)/2 \n",
    "\n",
    "    print(\"grading complex...\")\n",
    "    \n",
    "    #Adding an attribute to all nodes to keep track of if they've been assigned gradings\n",
    "    nx.set_node_attributes(given_graph, False, \"HasBeenGraded\")\n",
    "    \n",
    "    #The gradings are relative so we're declaring one to be in U, V, and Alexander grading 0\n",
    "    #this block initializes those balues\n",
    "    given_graph.nodes()[str(gridX)]['HasBeenGraded'] = True\n",
    "    given_graph.nodes()[str(gridX)]['AGrading'] = 0\n",
    "    given_graph.nodes()[str(gridX)]['UGrading'] = 0\n",
    "    given_graph.nodes()[str(gridX)]['VGrading'] = 0\n",
    "    \n",
    "    if TIMERS: timerstart = time.time()\n",
    "\n",
    "    #Built in function to find a spanning tree\n",
    "    #span = nx.algorithms.tree.branchings.greedy_branching(given_graph)\n",
    "    \n",
    "    tree = nx.algorithms.minimum_spanning_tree( given_graph.to_undirected()  )\n",
    "    eds = set(tree.edges())  # Issues with functions finding directed spanning set - insteada we find an undirected one then direct it\n",
    "    spanset = []\n",
    "    \n",
    "    for edge in eds:\n",
    "        \n",
    "        if edge in given_graph.edges():\n",
    "            spanset.append(edge)\n",
    "            \n",
    "        else:\n",
    "            spanset.append((edge[1],edge[0]))\n",
    "        \n",
    "    span = given_graph.edge_subgraph(spanset)\n",
    "        \n",
    "    if TIMERS:\n",
    "        \n",
    "        timerstop = time.time()\n",
    "        print(\"Time to find arborescence:\" + str(timerstop - timerstart))\n",
    "    \n",
    "    #Bit of baseball terminology for the following nested loops, the active data is essentially at bat, the list we're working\n",
    "    #through is called on_deck, and then we're building up the follow up as in_the_hole which will turn into\n",
    "    #on deck on the following loop\n",
    "    #\n",
    "    #On deck holds the edges to be iterated through\n",
    "    on_deck = [str(gridX)]\n",
    "    \n",
    "    #In the hole holds the ones to be iterated through once on_deck is cleared\n",
    "    in_the_hole = []\n",
    "    \n",
    "    if TIMERS: timerstart = time.time()\n",
    "    \n",
    "    while len(on_deck) > 0: \n",
    "               \n",
    "        for vert in on_deck:\n",
    "\n",
    "            #Every vertex in on_deck should be graded. The loops iterate through the neighbors of each of these\n",
    "            #vertices, grading them and then adding them to in_the_hole, ignoring vertices that have already been graded.\n",
    "            #\n",
    "            #The loop is broken into two halves since we have two flavors of neighbor in a directed graph, successors and\n",
    "            #predecessors, named accordingly. These flavors differ in relative grading change by a sign.\n",
    "            for succ in span.successors(vert): \n",
    "                \n",
    "                #skip the vertex if its already been graded\n",
    "                if given_graph.nodes()[succ]['HasBeenGraded']: continue\n",
    "                    \n",
    "                in_the_hole.append(succ)\n",
    "                \n",
    "                ed_weight = given_graph[vert][succ]['diffweight']\n",
    "                \n",
    "                #set the maslov (homological) gradings\n",
    "                Upows = U_deg(ed_weight, given_field)\n",
    "                given_graph.nodes()[succ]['UGrading'] = given_graph.nodes()[vert]['UGrading'] - 1 + 2*Upows\n",
    "\n",
    "                Vpows = V_deg(ed_weight, given_field)\n",
    "                given_graph.nodes()[succ]['VGrading'] = given_graph.nodes()[vert]['VGrading'] - 1 + 2*Vpows\n",
    "\n",
    "                #Alexander grading is a function of the U and V grading, set here\n",
    "                given_graph.nodes()[succ]['AGrading'] = (1/2)*(given_graph.nodes()[succ]['UGrading']-given_graph.nodes()[succ]['VGrading'])\n",
    "\n",
    "                given_graph.nodes()[succ]['HasBeenGraded'] = True\n",
    "\n",
    "            for pred in span.predecessors(vert):\n",
    "                \n",
    "                if given_graph.nodes()[pred]['HasBeenGraded']: continue\n",
    "                in_the_hole.append(pred)\n",
    "                ed_weight = given_graph[pred][vert]['diffweight']\n",
    "                \n",
    "                #set the maslov (homological) gradings, note the negative grading change since we're following an arrow backwards.\n",
    "                Upows = U_deg(ed_weight, given_field)\n",
    "                given_graph.nodes()[pred]['UGrading'] = given_graph.nodes()[vert]['UGrading'] + 1 - 2*Upows       \n",
    "\n",
    "                Vpows = V_deg(ed_weight, given_field)\n",
    "                given_graph.nodes()[pred]['VGrading'] = given_graph.nodes()[vert]['VGrading'] + 1 - 2*Vpows\n",
    "\n",
    "                given_graph.nodes()[pred]['AGrading'] = (1/2)*(given_graph.nodes()[pred]['UGrading']-given_graph.nodes()[pred]['VGrading'])\n",
    "                given_graph.nodes()[pred]['HasBeenGraded'] = True\n",
    "                \n",
    "        on_deck = in_the_hole\n",
    "        in_the_hole =[]\n",
    "        \n",
    "    if TIMERS:\n",
    "        \n",
    "        timerstop = time.time()\n",
    "        print('Time to grade complex (given arborescence): ' + str(timerstop - timerstart))\n",
    "    \n",
    "    return given_graph\n",
    "            \n",
    "\n",
    "    \n",
    "def U_deg(poly, field):\n",
    "    \n",
    "    #Input: poly a laurent polynomial (must be  a monomial) in field a laurent polynomial ring\n",
    "    #\n",
    "    #Output: The total sum of powers of Ui in poly\n",
    "    \n",
    "    gens = field.gens()\n",
    "    size = len(gens)/2\n",
    "    degree = 0\n",
    "    \n",
    "    if type(poly) == sage.rings.finite_rings.integer_mod.IntegerMod_int: return 0\n",
    "    \n",
    "    powers = poly.exponents()   \n",
    "    \n",
    "    #len(powers) tells you how many terms the polynomial has\n",
    "#     if len(powers) > 1:\n",
    "        \n",
    "#         print(poly)\n",
    "        \n",
    "#         raise Exception(\"Ran into a non-homogoneous degree change - polynomial wasn't a monomial\")\n",
    "\n",
    "    if len(powers) == 0:\n",
    "        \n",
    "        return 0    \n",
    "    \n",
    "    #powers is a list of lists since its intended for more than just monomials, since we are guaranteeing\n",
    "    #a monomial at this point we'll just lift that inner list out\n",
    "    powers = powers[0]\n",
    "    \n",
    "    for i in range(size):\n",
    "        \n",
    "        degree = degree + powers[i]\n",
    "    \n",
    "    return degree\n",
    "\n",
    "    \n",
    "def V_deg(poly, field):\n",
    "    \n",
    "    #Input: poly a laurent polynomial (must be  a monomial) in field a laurent polynomial ring\n",
    "    #\n",
    "    #Output: The total sum of powers of Ui in poly    \n",
    "    \n",
    "    gens = field.gens()\n",
    "    size = len(gens)/2\n",
    "    degree = 0\n",
    "    \n",
    "    if type(poly) == sage.rings.finite_rings.integer_mod.IntegerMod_int: return 0\n",
    "    \n",
    "    powers = poly.exponents()   \n",
    "    \n",
    "    #len(powers) tells you how many terms the polynomial has    \n",
    "#     if len(powers) > 1:\n",
    "        \n",
    "#         print(poly)\n",
    "#         raise Exception(\"Ran into a non-homogoneous degree change - polynomial wasn't a monomial\")\n",
    "\n",
    "    if len(powers) == 0:\n",
    "        \n",
    "        return 0    \n",
    "    \n",
    "    #powers is a list of lists since its intended for more than just monomials, since we are guaranteeing\n",
    "    #a monomial at this point we'll just lift that inner list out    \n",
    "    powers = powers[0]\n",
    "    for i in range(size):\n",
    "        \n",
    "        degree = degree + powers[size + i]\n",
    "    \n",
    "    return degree    \n",
    "    \n"
   ]
  },
  {
   "cell_type": "code",
   "execution_count": 5,
   "metadata": {},
   "outputs": [],
   "source": [
    "#converting braid notation to a grid --- this is not a unique choice in general so we're going to make some decisions\n",
    "\n",
    "class braid:\n",
    "    \n",
    "    def __init__(self, recipe, size = 0):\n",
    "        if size == 0:\n",
    "            candidate1 = max(recipe)\n",
    "            candidate2 = abs(min(recipe))\n",
    "            size = max([candidate1,candidate2])+1\n",
    "        self.strands = []\n",
    "        for i in range(1, size+1):\n",
    "            self.strands.append(i)\n",
    "        self.recipe = recipe\n",
    "        self.size = size    \n",
    "        \n",
    "def braid_to_cromwell(given):\n",
    "    n = given.size\n",
    "    closing_heights = []\n",
    "    for i in range(n):\n",
    "        closing_heights.append(i+1)\n",
    "    cromwell = [] #We're going to keep track of corners of the knot as a cromwell matrix (0's and 1's) and track the ones here by marking the two heights\n",
    "                  #for example [[3,1],[2,3],[1,2]] contains the information for a 3x3. The Cromwell matrix won't see the sub-ordering\n",
    "    strands = given.strands.copy()\n",
    "    for sig in given.recipe:\n",
    "        new_entry = crom_twist(sig, strands, cromwell, closing_heights)\n",
    "        cromwell.append(new_entry)\n",
    "    for i in range(len(strands)):\n",
    "        if strands[i] != closing_heights[i]:\n",
    "            cromwell.append([closing_heights[i],strands[i]])\n",
    "    return cromwell\n",
    "\n",
    "def crom_twist(bmove, strings, current_crom, closing_ht):\n",
    "    coord = []\n",
    "    n = len(strings)\n",
    "    if bmove > 0:\n",
    "        lower = strings[bmove-1]\n",
    "        upper = strings[bmove]\n",
    "        for i in range(len(current_crom)):     #move previous cromwell stuff up to make room as below\n",
    "            crom_twist_helper_pos(current_crom[i], lower, upper)\n",
    "        for i in range(bmove+1, n):            #move the strands up to make room for rectilinear braid move\n",
    "            strings[i] += 1\n",
    "        for i in range(len(closing_ht)):\n",
    "            if closing_ht[i] > upper:\n",
    "                closing_ht[i] += 1\n",
    "        cm1 = [strings[bmove-1],strings[bmove]+1] #\\/\\/\\/this is where the braid move actually \"happens\" \\/\\/\\/\n",
    "        strings[bmove-1] = strings[bmove]\n",
    "        strings[bmove] = strings[bmove] + 1\n",
    "    elif bmove < 0:\n",
    "        bmove = (-1)*bmove\n",
    "        lower = strings[bmove-1]\n",
    "        upper = strings[bmove]\n",
    "        for i in range(len(current_crom)):     #move previous cromwell stuff up to make room as below\n",
    "            crom_twist_helper_neg(current_crom[i], lower, upper)\n",
    "        for i in range(bmove-1, n):            #move the strands up to make room for rectilinear braid move\n",
    "            strings[i] += 1\n",
    "        for i in range(len(closing_ht)):\n",
    "            if closing_ht[i] >= lower:\n",
    "                closing_ht[i] += 1\n",
    "        cm1 = [strings[bmove],strings[bmove-1]-1] #\\/\\/\\/this is where the braid move actually \"happens\" \\/\\/\\/\n",
    "        strings[bmove] = strings[bmove - 1]\n",
    "        strings[bmove-1] = strings[bmove - 1] - 1\n",
    "    else:\n",
    "        print(\"invalid braid move\")\n",
    "    return cm1\n",
    "\n",
    "def crom_twist_helper_neg(crom_pair, lower, upper):\n",
    "    for i in range(2):\n",
    "        if crom_pair[i] >= lower:\n",
    "            crom_pair[i] += 1\n",
    "    return\n",
    "\n",
    "def crom_twist_helper_pos(crom_pair, lower, upper):\n",
    "    for i in range(2):\n",
    "        if crom_pair[i] > upper:\n",
    "            crom_pair[i] += 1\n",
    "    return\n",
    "\n",
    "def cromwell_to_grid(cromwell_pairs):\n",
    "    n = len(cromwell_pairs)\n",
    "    xhold = []\n",
    "    ohold = []\n",
    "    for i in range(n):\n",
    "        xhold.append(0)\n",
    "        ohold.append(0)\n",
    "#     print(cromwell_pairs)\n",
    "    xhold[0] = cromwell_pairs[0][0]\n",
    "    ohold[0] = cromwell_pairs[0][1]\n",
    "    count = 2\n",
    "    cromwell_pairs[0] = [-1,-1]\n",
    "    while count < 2*n:\n",
    "        for i in range(n):\n",
    "            for j in range(2):\n",
    "                if ((cromwell_pairs[i][j] in xhold)and (not(cromwell_pairs[i][j] in ohold))):\n",
    "                    ohold[i] = cromwell_pairs[i][j]\n",
    "                    xhold[i] = cromwell_pairs[i][j-1]\n",
    "                    cromwell_pairs[i] = [-1,-1]\n",
    "                    count += 2\n",
    "                elif ((cromwell_pairs[i][j] in ohold)and (not(cromwell_pairs[i][j] in xhold))):\n",
    "                    xhold[i] = cromwell_pairs[i][j]\n",
    "                    ohold[i] = cromwell_pairs[i][j-1]\n",
    "                    cromwell_pairs[i] = [-1,-1]\n",
    "                    count += 2\n",
    "    return (xhold,ohold)\n",
    "\n",
    "def grid_from_braid(bnotation):\n",
    "    \n",
    "    br = braid(bnotation)\n",
    "    crom = braid_to_cromwell(br)\n",
    "    xlist, olist = cromwell_to_grid(crom)\n",
    "    return xlist, olist"
   ]
  },
  {
   "cell_type": "code",
   "execution_count": 6,
   "metadata": {},
   "outputs": [],
   "source": [
    "def link_components(sigx, sigo):\n",
    "    \n",
    "    xperm = pr.perm(sigx)\n",
    "    operm = pr.perm(sigo)\n",
    "    comps = xperm*operm**(-1)\n",
    "    result = comps.cycles()\n",
    "    \n",
    "    return result\n",
    "\n",
    "\n",
    "def link_U_deg(poly, field, component_columns):\n",
    "\n",
    "    #Input: poly a laurent polynomial (must be  a monomial) in field a laurent polynomial ring\n",
    "    #\n",
    "    #Output: The total sum of powers of Ui in poly\n",
    "    \n",
    "    gens = field.gens()\n",
    "    size = len(gens)/2\n",
    "    degree = 0\n",
    "    \n",
    "    if type(poly) == sage.rings.finite_rings.integer_mod.IntegerMod_int: return 0\n",
    "    \n",
    "    powers = poly.exponents()   \n",
    "    \n",
    "    #len(powers) tells you how many terms the polynomial has\n",
    "#     if len(powers) > 1:\n",
    "        \n",
    "#         print(poly)\n",
    "        \n",
    "#         raise Exception(\"Ran into a non-homogoneous degree change - polynomial wasn't a monomial\")\n",
    "\n",
    "    if len(powers) == 0:\n",
    "        \n",
    "        return 0    \n",
    "    \n",
    "    #powers is a list of lists since its intended for more than just monomials, since we are guaranteeing\n",
    "    #a monomial at this point we'll just lift that inner list out\n",
    "    powers = powers[0]\n",
    "    \n",
    "    for i in component_columns:\n",
    "        \n",
    "        degree = degree + powers[i]\n",
    "    \n",
    "    return degree\n",
    "\n",
    "\n",
    "def link_V_deg(poly, field, component_columns):\n",
    "\n",
    "    #Input: poly a laurent polynomial (must be  a monomial) in field a laurent polynomial ring\n",
    "    #\n",
    "    #Output: The total sum of powers of Ui in poly    \n",
    "    \n",
    "    gens = field.gens()\n",
    "    size = len(gens)/2\n",
    "    degree = 0\n",
    "    \n",
    "    if type(poly) == sage.rings.finite_rings.integer_mod.IntegerMod_int: return 0\n",
    "    \n",
    "    powers = poly.exponents()   \n",
    "    \n",
    "    #len(powers) tells you how many terms the polynomial has    \n",
    "#     if len(powers) > 1:\n",
    "        \n",
    "#         print(poly)\n",
    "#         raise Exception(\"Ran into a non-homogoneous degree change - polynomial wasn't a monomial\")\n",
    "\n",
    "    if len(powers) == 0:\n",
    "        \n",
    "        return 0    \n",
    "    \n",
    "    #powers is a list of lists since its intended for more than just monomials, since we are guaranteeing\n",
    "    #a monomial at this point we'll just lift that inner list out    \n",
    "    powers = powers[0]\n",
    "    for i in component_columns:\n",
    "        \n",
    "        degree = degree + powers[size + i-1]\n",
    "    \n",
    "    return degree\n",
    "\n",
    "def grade_link_complex(given_graph, given_field, components, gridX = -1):\n",
    "    \n",
    "    #Input: given_graph a networkx directed graph with 'diffweight' attribute on edges\n",
    "    #       given_field the laurent polynomial field associated to the grid graph\n",
    "    #       gridX a list representing the vertex to be graded 0 in U V and Alexander gradings\n",
    "    #\n",
    "    #Output: given_graph with new attributes on the vertices for U V and Alexander gradings\n",
    "    #        also an attribute HasBeenGraded as an artifact\n",
    "    \n",
    "    \n",
    "    #If the positions of the Xs aren't provided we'll initialize around whatever\n",
    "    #state happens to appear first in the digraph structure\n",
    "    if gridX == -1:\n",
    "        \n",
    "        gridX = list(given_graph.nodes())[0]\n",
    "    \n",
    "    gens = given_field.gens()\n",
    "    size = len(gens)/2 \n",
    "\n",
    "    print(\"grading complex...\")\n",
    "    \n",
    "    comp_set = len(components)\n",
    "    \n",
    "    if comp_set == 1:\n",
    "        print(\"It looks like you called the link command for a knot (it only has one component) proceeding anyway\")\n",
    "    \n",
    "    #Adding an attribute to all nodes to keep track of if they've been assigned gradings\n",
    "    for i in range(comp_set):\n",
    "        nx.set_node_attributes(given_graph, False, f\"HasBeenGraded{i}\")\n",
    "    \n",
    "    #The gradings are relative so we're declaring one to be in U, V, and Alexander grading 0\n",
    "    #this block initializes those balues\n",
    "    for i in range(comp_set):\n",
    "        given_graph.nodes()[str(gridX)][f'HasBeenGraded{i}'] = True\n",
    "        given_graph.nodes()[str(gridX)][f'AGrading{i}'] = 0\n",
    "        given_graph.nodes()[str(gridX)][f'UGrading{i}'] = 0\n",
    "        given_graph.nodes()[str(gridX)][f'VGrading{i}'] = 0\n",
    "    \n",
    "    if TIMERS: timerstart = time.time()\n",
    "\n",
    "    #Built in function to find a spanning tree\n",
    "    #span = nx.algorithms.tree.branchings.greedy_branching(given_graph)\n",
    "    \n",
    "    tree = nx.algorithms.minimum_spanning_tree( given_graph.to_undirected()  )\n",
    "    eds = set(tree.edges())  # optimization\n",
    "    spanset = []\n",
    "    \n",
    "    for edge in eds:\n",
    "        \n",
    "        if edge in given_graph.edges():\n",
    "            spanset.append(edge)\n",
    "            \n",
    "        else:\n",
    "            spanset.append((edge[1],edge[0]))\n",
    "        \n",
    "    span = given_graph.edge_subgraph(spanset)\n",
    "        \n",
    "    if TIMERS:\n",
    "        \n",
    "        timerstop = time.time()\n",
    "        print(\"Time to find arborescence:\" + str(timerstop - timerstart))\n",
    "    \n",
    "    #Bit of baseball terminology for the following nested loops, the active data is essentially at bat, the list we're working\n",
    "    #through is called on_deck, and then we're building up the follow up as in_the_hole which will turn into\n",
    "    #on deck on the following loop\n",
    "    #\n",
    "    #On deck holds the edges to be iterated through\n",
    "    on_deck = [str(gridX)]\n",
    "    \n",
    "    #In the hole holds the ones to be iterated through once on_deck is cleared\n",
    "    in_the_hole = []\n",
    "    \n",
    "    if TIMERS: timerstart = time.time()\n",
    "    \n",
    "    while len(on_deck) > 0: \n",
    "               \n",
    "        for vert in on_deck:\n",
    "\n",
    "            #Every vertex in on_deck should be graded. The loops iterate through the neighbors of each of these\n",
    "            #vertices, grading them and then adding them to in_the_hole, ignoring vertices that have already been graded.\n",
    "            #\n",
    "            #The loop is broken into two halves since we have two flavors of neighbor in a directed graph, successors and\n",
    "            #predecessors, named accordingly. These flavors differ in relative grading change by a sign.\n",
    "            for i, component_columns in enumerate(components):\n",
    "                for succ in span.successors(vert): \n",
    "\n",
    "                    #skip the vertex if its already been graded\n",
    "                    if given_graph.nodes()[succ][f'HasBeenGraded{i}']: continue\n",
    "\n",
    "                    in_the_hole.append(succ)\n",
    "\n",
    "                    ed_weight = given_graph[vert][succ]['diffweight']\n",
    "\n",
    "                    #set the maslov (homological) gradings\n",
    "                    Upows = link_U_deg(ed_weight, given_field, component_columns)\n",
    "                    given_graph.nodes()[succ][f'UGrading{i}'] = given_graph.nodes()[vert][f'UGrading{i}'] - 1 + 2*Upows\n",
    "\n",
    "                    Vpows = link_V_deg(ed_weight, given_field, component_columns)\n",
    "                    given_graph.nodes()[succ][f'VGrading{i}'] = given_graph.nodes()[vert][f'VGrading{i}'] - 1 + 2*Vpows\n",
    "\n",
    "                    #Alexander grading is a function of the U and V grading, set here\n",
    "                    given_graph.nodes()[succ][f'AGrading{i}'] = (1/2)*(given_graph.nodes()[succ][f'UGrading{i}']-given_graph.nodes()[succ][f'VGrading{i}'])\n",
    "\n",
    "                    given_graph.nodes()[succ][f'HasBeenGraded{i}'] = True\n",
    "\n",
    "                for pred in span.predecessors(vert):\n",
    "\n",
    "                    if given_graph.nodes()[pred][f'HasBeenGraded{i}']: continue\n",
    "                    in_the_hole.append(pred)\n",
    "                    ed_weight = given_graph[pred][vert]['diffweight']\n",
    "\n",
    "                    #set the maslov (homological) gradings, note the negative grading change since we're following an arrow backwards.\n",
    "                    Upows = link_U_deg(ed_weight, given_field, component_columns)\n",
    "                    given_graph.nodes()[pred][f'UGrading{i}'] = given_graph.nodes()[vert][f'UGrading{i}'] + 1 - 2*Upows       \n",
    "\n",
    "                    Vpows = link_V_deg(ed_weight, given_field, component_columns)\n",
    "                    given_graph.nodes()[pred][f'VGrading{i}'] = given_graph.nodes()[vert][f'VGrading{i}'] + 1 - 2*Vpows\n",
    "\n",
    "                    given_graph.nodes()[pred][f'AGrading{i}'] = (1/2)*(given_graph.nodes()[pred][f'UGrading{i}']-given_graph.nodes()[pred][f'VGrading{i}'])\n",
    "                    given_graph.nodes()[pred][f'HasBeenGraded{i}'] = True\n",
    "                \n",
    "        on_deck = in_the_hole\n",
    "        in_the_hole =[]\n",
    "        \n",
    "    if TIMERS:\n",
    "        \n",
    "        timerstop = time.time()\n",
    "        print('Time to grade complex (given arborescence): ' + str(timerstop - timerstart))\n",
    "    \n",
    "    return given_graph\n",
    "\n",
    "\n",
    "def link_gml_export_weighted(graph, component_length = -1, filename = 'PleaseNameMe.gml'):\n",
    "\n",
    "    if component_length == -1:\n",
    "        return(\"!!! Unknown number of components for export !!!\")\n",
    "    nxG = graph.copy()\n",
    "    \n",
    "    if filename == 'PleaseNameMe.gml':\n",
    "        print(\"You didn't name your output! It's been named PleaseNameMe.gml\")\n",
    "    \n",
    "    if filename[-4:] != \".gml\":\n",
    "        filename += \".gml\"\n",
    "    \n",
    "    for x,y in nxG.edges():\n",
    "        \n",
    "        nxG[x][y]['diffweight'] = str(nxG[x][y]['diffweight'])\n",
    "        \n",
    "    for node in nxG.nodes():\n",
    "        \n",
    "        #print(str((nxG.nodes()[node]['UGrading'],nxG.nodes()[node]['VGrading'],nxG.nodes()[node]['AGrading'])))\n",
    "        for i in range(component_length):\n",
    "            try:\n",
    "                nxG.nodes[node][f'AGrading{i}'] = int(nxG.nodes[node][f'AGrading{i}']) \n",
    "                nxG.nodes[node][f'UGrading{i}'] = int(nxG.nodes[node][f'UGrading{i}'])\n",
    "                nxG.nodes[node][f'VGrading{i}'] = int(nxG.nodes[node][f'VGrading{i}'])\n",
    "            except:\n",
    "                nxG.nodes[node][f'AGrading{i}'] = int(-99)\n",
    "                nxG.nodes[node][f'UGrading{i}'] = int(-99)\n",
    "                nxG.nodes[node][f'VGrading{i}'] = int(-99)\n",
    "\n",
    "    nx.write_gml(nxG, filename)\n",
    "        \n",
    "    return\n"
   ]
  },
  {
   "cell_type": "code",
   "execution_count": 7,
   "metadata": {},
   "outputs": [],
   "source": [
    "def link_normalize(chain_comp, field, components):\n",
    "#Substitutes Ucomp for all the Ui associated to that component\n",
    "    \n",
    "    gens = field.gens()\n",
    "    size = len(gens)/2    \n",
    "    for edge in chain_comp.edges():\n",
    "    \n",
    "        for component in components:\n",
    "            for i in component:\n",
    "\n",
    "                if i == component[0]: continue\n",
    "                setting_var = component[0] - 1\n",
    "                src = edge[0]\n",
    "                tar = edge[1]\n",
    "                chain_comp[src][tar]['diffweight'] = chain_comp[src][tar]['diffweight'].subs({gens[i-1]:gens[setting_var]})\n",
    "                chain_comp[src][tar]['diffweight'] = chain_comp[src][tar]['diffweight'].subs({gens[i+size-1]:gens[size+setting_var]})\n",
    "            \n",
    "    remove_zeros(chain_comp)\n",
    "    return 1\n",
    "\n",
    "def remove_zeros(chain_comp):\n",
    "    \n",
    "    elist = list(chain_comp.edges())\n",
    "    for x,y in elist:\n",
    "    \n",
    "        if chain_comp[x][y]['diffweight'] == 0:\n",
    "            \n",
    "            chain_comp.remove_edge(x,y)\n",
    "            \n",
    "    return 1"
   ]
  },
  {
   "cell_type": "code",
   "execution_count": 8,
   "metadata": {},
   "outputs": [],
   "source": [
    "def link_GFC(sigx, sigo, filename = None):\n",
    "    \n",
    "    if filename == None:\n",
    "        filename = \"X\"\n",
    "        for pos in sigx:\n",
    "            filename = filename + str(pos)\n",
    "        filename = filename + \"O\"\n",
    "        for pos in sigo:\n",
    "            filename = filename + str(pos)\n",
    "        filename = filename + \".gml\"\n",
    "    \n",
    "    components = link_components(sigx, sigo)\n",
    "    link_count = len(components)\n",
    "    if link_count == 1: print(\"it looks like you called the link version of the function for a knot\")\n",
    "    raw_complex = gfk.build_cinf([sigx, sigo])\n",
    "    comp, defield = construct_cinf(raw_complex)\n",
    "    \n",
    "    grade_link_complex(comp, defield, components, sigo)\n",
    "    \n",
    "    graph_red_search(comp)\n",
    "    \n",
    "    link_gml_export_weighted(comp, link_count, filename)\n",
    "    \n",
    "    link_normalize(comp, defield, components)\n",
    "    graph_red_search(comp)\n",
    "    \n",
    "    filename = \"Normalized\" + filename\n",
    "    \n",
    "    link_gml_export_weighted(comp, link_count, filename)\n",
    "    \n",
    "    return comp, defield\n",
    "    \n",
    "    \n",
    "def GFC(sigx, sigo, filename = None):\n",
    "    \n",
    "    if filename == None:\n",
    "        filename = \"X\"\n",
    "        for pos in sigx:\n",
    "            filename = filename + str(pos)\n",
    "        filename = filename + \"O\"\n",
    "        for pos in sigo:\n",
    "            filename = filename + str(pos)\n",
    "        filename = filename + \".gml\"\n",
    "    \n",
    "    components = link_components(sigx, sigo)\n",
    "    link_count = len(components)\n",
    "    if link_count != 1: raise Exception(\"!!!More than one component in this diagram - call the link version of ths function HFL!!!\")\n",
    "    raw_complex = gfk.build_cinf([sigx, sigo])\n",
    "    comp, defield = construct_cinf(raw_complex)\n",
    "    \n",
    "    grade_complex(comp, defield, sigo)\n",
    "    \n",
    "    graph_red_search(comp)\n",
    "    \n",
    "    gml_export_weighted(comp, filename)\n",
    "    \n",
    "    normalize(comp, defield)\n",
    "    graph_red_search(comp)\n",
    "    remove_zeros(comp)\n",
    "    \n",
    "    norm_filename = \"Normalized\" + filename\n",
    "    \n",
    "    gml_export_weighted(comp, norm_filename)\n",
    "    \n",
    "    minusinator = comp.copy()\n",
    "    \n",
    "    to_minus(minusinator, defield)\n",
    "    \n",
    "    graph_red_search(minusinator)\n",
    "    remove_zeros(minusinator)\n",
    "    minus_filename = \"Minus\" + filename\n",
    "    \n",
    "    gml_export_weighted(minusinator, minus_filename)\n",
    "    \n",
    "    return comp, defield"
   ]
  },
  {
   "cell_type": "code",
   "execution_count": 26,
   "metadata": {},
   "outputs": [],
   "source": [
    "def comp_truncate(chain_comp, field_var, grading_cutoff):\n",
    "    \n",
    "    U = field_var\n",
    "    \n",
    "    for vert in chain_comp:\n",
    "        \n",
    "        if chain_comp.nodes()[vert][\"AGrading\"] >= grading_cutoff:\n",
    "            \n",
    "            chain_comp.nodes()[vert][\"AGrading\"] += 1\n",
    "            chain_comp.nodes()[vert][\"UGrading\"] += -2\n",
    "\n",
    "            for targ in chain_comp.successors(vert):\n",
    "                \n",
    "                chain_comp[vert][targ]['diffweight'] = chain_comp[vert][targ]['diffweight']*U\n",
    "\n",
    "            for pred in chain_comp.predecessors(vert):\n",
    "                \n",
    "                chain_comp[pred][vert]['diffweight'] = chain_comp[pred][vert]['diffweight']*(U^(-1))\n",
    "                \n",
    "#                 print(chain_comp[pred][vert]['diffweight'])                    \n",
    "    \n",
    "    return\n",
    "\n",
    "def grading_range(chain_comp, key = \"AGrading\"):\n",
    "    \n",
    "    min_grading = 0\n",
    "    max_grading = 0\n",
    "    \n",
    "    for vert in chain_comp.nodes():\n",
    "        \n",
    "#         print(vert)\n",
    "#         print(chain_comp[vert])\n",
    "    \n",
    "        if chain_comp.nodes[vert][key] < min_grading:\n",
    "            \n",
    "            min_grading = chain_comp.nodes[vert][key]\n",
    "            \n",
    "        if chain_comp.nodes[vert][key] > max_grading:\n",
    "            \n",
    "            max_grading = chain_comp.nodes[vert][key]\n",
    "    \n",
    "    return min_grading, max_grading\n",
    "\n",
    "def knot_large_surgery(chain_comp, field_var, field, min_grading = None, max_grading = None):\n",
    "\n",
    "    working_comp = chain_comp.copy()\n",
    "    \n",
    "    surgery_collection = []\n",
    "    \n",
    "    if ((min_grading == None) or (max_grading == None)):\n",
    "        \n",
    "        min_grading, max_grading = grading_range(chain_comp)\n",
    "    \n",
    "    for grading in range(max_grading+1,min_grading-1, -1): #Theres room to improve here - likely don't need +-2 buffer\n",
    "        \n",
    "        surgery_collection.append([f\"surgery{grading}\",working_comp.copy()])\n",
    "        comp_truncate(working_comp, field_var, grading)\n",
    "        \n",
    "    for name, comp in surgery_collection:\n",
    "        \n",
    "        to_minus(comp, field)\n",
    "        remove_zeros(comp)\n",
    "        graph_red_search(comp)\n",
    "    \n",
    "    return surgery_collection "
   ]
  },
  {
   "cell_type": "code",
   "execution_count": null,
   "metadata": {},
   "outputs": [],
   "source": []
  },
  {
   "cell_type": "code",
   "execution_count": 27,
   "metadata": {},
   "outputs": [
    {
     "data": {
      "text/plain": [
       "<class 'sage.rings.polynomial.laurent_polynomial.LaurentPolynomial_mpair'>"
      ]
     },
     "execution_count": 27,
     "metadata": {},
     "output_type": "execute_result"
    }
   ],
   "source": [
    "type(U0)"
   ]
  },
  {
   "cell_type": "code",
   "execution_count": 28,
   "metadata": {
    "scrolled": false
   },
   "outputs": [
    {
     "name": "stdout",
     "output_type": "stream",
     "text": [
      "constructing cinf...\n",
      "Grid size is 5\n",
      "Defining U0, U1, U2, U3, U4, V0, V1, V2, V3, V4\n",
      "Time to construct cinf 0.03092217445373535\n",
      "grading complex...\n",
      "Time to find arborescence:0.01643657684326172\n",
      "Time to grade complex (given arborescence): 0.0038619041442871094\n",
      "Reducing complex...\n",
      "Time to reduce complex: 0.11094546318054199\n",
      "Reducing complex...\n",
      "Time to reduce complex: 0.0034148693084716797\n",
      "normalizing Ui's and to i = 0 and Vi = 1\n",
      "Reducing complex...\n",
      "Time to reduce complex: 0.006661891937255859\n",
      "normalizing Ui's and to i = 0 and Vi = 1\n"
     ]
    },
    {
     "data": {
      "text/plain": [
       "1"
      ]
     },
     "execution_count": 28,
     "metadata": {},
     "output_type": "execute_result"
    }
   ],
   "source": [
    "tref_comp, defield = GFC([5, 1, 2, 3, 4], [2, 3, 4, 5, 1])\n",
    "gml_export_weighted(tref_comp, 'whatwasthisagain')\n",
    "to_minus(tref_comp, defield)"
   ]
  },
  {
   "cell_type": "code",
   "execution_count": 29,
   "metadata": {},
   "outputs": [
    {
     "ename": "TypeError",
     "evalue": "'DiGraph' object does not support item assignment",
     "output_type": "error",
     "traceback": [
      "\u001b[0;31m---------------------------------------------------------------------------\u001b[0m",
      "\u001b[0;31mTypeError\u001b[0m                                 Traceback (most recent call last)",
      "Cell \u001b[0;32mIn [29], line 1\u001b[0m\n\u001b[0;32m----> 1\u001b[0m \u001b[43mtref_comp\u001b[49m\u001b[43m[\u001b[49m\u001b[38;5;124;43m'\u001b[39;49m\u001b[38;5;124;43mtest\u001b[39;49m\u001b[38;5;124;43m'\u001b[39;49m\u001b[43m]\u001b[49m \u001b[38;5;241m=\u001b[39m Integer(\u001b[38;5;241m1\u001b[39m)\n\u001b[1;32m      2\u001b[0m tref_comp[\u001b[38;5;124m'\u001b[39m\u001b[38;5;124mtest\u001b[39m\u001b[38;5;124m'\u001b[39m]\n",
      "\u001b[0;31mTypeError\u001b[0m: 'DiGraph' object does not support item assignment"
     ]
    }
   ],
   "source": [
    "tref_comp['test'] = 1\n",
    "tref_comp['test']"
   ]
  },
  {
   "cell_type": "code",
   "execution_count": 30,
   "metadata": {},
   "outputs": [
    {
     "name": "stdout",
     "output_type": "stream",
     "text": [
      "normalizing Ui's and to i = 0 and Vi = 1\n",
      "Reducing complex...\n",
      "Time to reduce complex: 0.00674891471862793\n",
      "normalizing Ui's and to i = 0 and Vi = 1\n",
      "Reducing complex...\n",
      "Time to reduce complex: 0.006447315216064453\n",
      "normalizing Ui's and to i = 0 and Vi = 1\n",
      "Reducing complex...\n",
      "Time to reduce complex: 0.007482051849365234\n",
      "normalizing Ui's and to i = 0 and Vi = 1\n",
      "Reducing complex...\n",
      "Time to reduce complex: 0.012015342712402344\n",
      "normalizing Ui's and to i = 0 and Vi = 1\n",
      "Reducing complex...\n",
      "Time to reduce complex: 0.011977434158325195\n",
      "normalizing Ui's and to i = 0 and Vi = 1\n",
      "Reducing complex...\n",
      "Time to reduce complex: 0.015187501907348633\n",
      "normalizing Ui's and to i = 0 and Vi = 1\n",
      "Reducing complex...\n",
      "Time to reduce complex: 0.0364680290222168\n",
      "normalizing Ui's and to i = 0 and Vi = 1\n",
      "Reducing complex...\n",
      "Time to reduce complex: 0.013623952865600586\n"
     ]
    }
   ],
   "source": [
    "surgered_tref = knot_large_surgery(tref_comp, U0, defield)"
   ]
  },
  {
   "cell_type": "code",
   "execution_count": 16,
   "metadata": {},
   "outputs": [
    {
     "ename": "NameError",
     "evalue": "name 'surgered_tref' is not defined",
     "output_type": "error",
     "traceback": [
      "\u001b[0;31m---------------------------------------------------------------------------\u001b[0m",
      "\u001b[0;31mNameError\u001b[0m                                 Traceback (most recent call last)",
      "Cell \u001b[0;32mIn [16], line 1\u001b[0m\n\u001b[0;32m----> 1\u001b[0m \u001b[43msurgered_tref\u001b[49m\n",
      "\u001b[0;31mNameError\u001b[0m: name 'surgered_tref' is not defined"
     ]
    }
   ],
   "source": [
    "surgered_tref"
   ]
  },
  {
   "cell_type": "code",
   "execution_count": 14,
   "metadata": {},
   "outputs": [
    {
     "ename": "NameError",
     "evalue": "name 'surgered_tref' is not defined",
     "output_type": "error",
     "traceback": [
      "\u001b[0;31m---------------------------------------------------------------------------\u001b[0m",
      "\u001b[0;31mNameError\u001b[0m                                 Traceback (most recent call last)",
      "Cell \u001b[0;32mIn [14], line 1\u001b[0m\n\u001b[0;32m----> 1\u001b[0m \u001b[38;5;28;01mfor\u001b[39;00m name, comp \u001b[38;5;129;01min\u001b[39;00m \u001b[43msurgered_tref\u001b[49m:\n\u001b[1;32m      2\u001b[0m     graph_red_search(comp)\n\u001b[1;32m      3\u001b[0m     remove_zeros(comp)\n",
      "\u001b[0;31mNameError\u001b[0m: name 'surgered_tref' is not defined"
     ]
    }
   ],
   "source": [
    "for name, comp in surgered_tref:\n",
    "    graph_red_search(comp)\n",
    "    remove_zeros(comp)\n",
    "    gml_export_weighted(comp, name+\"tref\")"
   ]
  },
  {
   "cell_type": "code",
   "execution_count": 58,
   "metadata": {},
   "outputs": [
    {
     "name": "stdout",
     "output_type": "stream",
     "text": [
      "Reducing complex...\n",
      "Time to reduce complex: 0.014710187911987305\n"
     ]
    },
    {
     "data": {
      "text/plain": [
       "<networkx.classes.digraph.DiGraph object at 0x7f50b8469600>"
      ]
     },
     "execution_count": 58,
     "metadata": {},
     "output_type": "execute_result"
    }
   ],
   "source": [
    "graph_red_search(surgered_tref)"
   ]
  },
  {
   "cell_type": "code",
   "execution_count": 59,
   "metadata": {},
   "outputs": [],
   "source": [
    "gml_export_weighted(surgered_tref, 'surgered_tref')"
   ]
  },
  {
   "cell_type": "code",
   "execution_count": 69,
   "metadata": {},
   "outputs": [
    {
     "data": {
      "text/plain": [
       "U0"
      ]
     },
     "execution_count": 69,
     "metadata": {},
     "output_type": "execute_result"
    }
   ],
   "source": [
    "field.gens()[0]"
   ]
  },
  {
   "cell_type": "code",
   "execution_count": 10,
   "metadata": {
    "scrolled": true
   },
   "outputs": [
    {
     "name": "stdout",
     "output_type": "stream",
     "text": [
      "constructing cinf...\n",
      "Grid size is 4\n",
      "Defining U0, U1, U2, U3, V0, V1, V2, V3\n",
      "Time to construct cinf 0.022733449935913086\n",
      "grading complex...\n",
      "Time to find arborescence:0.0034093856811523438\n",
      "Time to grade complex (given arborescence): 0.0018494129180908203\n",
      "Reducing complex...\n",
      "Time to reduce complex: 0.007041454315185547\n",
      "Reducing complex...\n",
      "Time to reduce complex: 0.0007882118225097656\n"
     ]
    }
   ],
   "source": [
    "hopfComplex, defield = link_GFC([1,2,3,4], [3,4,1,2])"
   ]
  },
  {
   "cell_type": "code",
   "execution_count": 11,
   "metadata": {},
   "outputs": [],
   "source": [
    "testcopy = hopfComplex.copy()"
   ]
  },
  {
   "cell_type": "code",
   "execution_count": 69,
   "metadata": {
    "scrolled": true
   },
   "outputs": [
    {
     "name": "stdout",
     "output_type": "stream",
     "text": [
      "constructing cinf...\n",
      "Grid size is 5\n",
      "Defining U0, U1, U2, U3, U4, V0, V1, V2, V3, V4\n",
      "Time to construct cinf 0.03139829635620117\n",
      "grading complex...\n",
      "Time to find arborescence:0.01591801643371582\n",
      "Time to grade complex (given arborescence): 0.003993988037109375\n",
      "Reducing complex...\n",
      "Time to reduce complex: 0.11246109008789062\n",
      "Reducing complex...\n",
      "Time to reduce complex: 0.0035653114318847656\n"
     ]
    },
    {
     "data": {
      "text/plain": [
       "(<networkx.classes.digraph.DiGraph object at 0x7fc7b8412e60>,\n",
       " Multivariate Laurent Polynomial Ring in U0, U1, U2, U3, U4, V0, V1, V2, V3, V4 over Finite Field of size 2)"
      ]
     },
     "execution_count": 69,
     "metadata": {},
     "output_type": "execute_result"
    }
   ],
   "source": [
    "GFC([5, 1, 2, 3, 4], [2, 3, 4, 5, 1])"
   ]
  },
  {
   "cell_type": "code",
   "execution_count": 52,
   "metadata": {},
   "outputs": [],
   "source": [
    "raw_hopf = gfk.build_cinf([[1,2,3,4],[3,4,1,2]])"
   ]
  },
  {
   "cell_type": "code",
   "execution_count": 53,
   "metadata": {
    "collapsed": true
   },
   "outputs": [
    {
     "name": "stdout",
     "output_type": "stream",
     "text": [
      "constructing cinf...\n",
      "Grid size is 4\n",
      "Defining U0, U1, U2, U3, V0, V1, V2, V3\n",
      "Time to construct cinf 0.006593465805053711\n"
     ]
    }
   ],
   "source": [
    "hopf, defield = construct_cinf(raw_hopf)"
   ]
  },
  {
   "cell_type": "code",
   "execution_count": 54,
   "metadata": {
    "collapsed": true
   },
   "outputs": [
    {
     "name": "stdout",
     "output_type": "stream",
     "text": [
      "grading complex...\n",
      "Time to find arborescence:0.0028765201568603516\n",
      "V0*V1 + V2*V3\n",
      "V0*V1 + V2*V3\n",
      "V1*V2 + V0*V3\n",
      "V1*V2 + V0*V3\n",
      "V0*V1 + V2*V3\n",
      "V0*V1 + V2*V3\n",
      "V1*V2 + V0*V3\n",
      "V1*V2 + V0*V3\n",
      "U1 + U3\n",
      "U1 + U3\n",
      "U1 + U3\n",
      "U1 + U3\n",
      "U1*V0 + U3*V2\n",
      "U1*V0 + U3*V2\n",
      "U3*V0 + U1*V2\n",
      "U3*V0 + U1*V2\n",
      "U1 + U3\n",
      "U1 + U3\n",
      "U1 + U3\n",
      "U1 + U3\n",
      "U1*V0 + U3*V2\n",
      "U1*V0 + U3*V2\n",
      "U3*V0 + U1*V2\n",
      "U3*V0 + U1*V2\n",
      "U1 + U3\n",
      "U1 + U3\n",
      "U1 + U3\n",
      "U1 + U3\n",
      "Time to grade complex (given arborescence): 0.006990194320678711\n"
     ]
    },
    {
     "data": {
      "text/plain": [
       "<networkx.classes.digraph.DiGraph object at 0x7f04d36c50c0>"
      ]
     },
     "execution_count": 54,
     "metadata": {},
     "output_type": "execute_result"
    }
   ],
   "source": [
    "grade_link_complex(hopf, defield, x)"
   ]
  },
  {
   "cell_type": "code",
   "execution_count": 55,
   "metadata": {},
   "outputs": [],
   "source": [
    "link_gml_export_weighted(hopf, 2, \"hopfTest\")"
   ]
  },
  {
   "cell_type": "code",
   "execution_count": 40,
   "metadata": {},
   "outputs": [],
   "source": [
    "x = link_components([1,2,3,4],[3,4,1,2])"
   ]
  },
  {
   "cell_type": "code",
   "execution_count": 20,
   "metadata": {},
   "outputs": [],
   "source": [
    "a = pr.perm([1,2,3,4])\n",
    "b = pr.perm([3,4,1,2])"
   ]
  },
  {
   "cell_type": "code",
   "execution_count": 21,
   "metadata": {},
   "outputs": [
    {
     "data": {
      "text/plain": [
       "[(1, 0, 0, 0, 0, 1, 0, 0), (1, 0, 0, 0, 0, 0, 0, 0)]"
      ]
     },
     "execution_count": 21,
     "metadata": {},
     "output_type": "execute_result"
    }
   ],
   "source": [
    "(U0+U0*V1).exponents()"
   ]
  },
  {
   "cell_type": "code",
   "execution_count": 48,
   "metadata": {},
   "outputs": [
    {
     "name": "stdout",
     "output_type": "stream",
     "text": [
      "constructing cinf...\n",
      "Grid size is 5\n",
      "Defining U0, U1, U2, U3, U4, V0, V1, V2, V3, V4\n",
      "Time to construct cinf 0.03302907943725586\n"
     ]
    }
   ],
   "source": [
    "raw_tref = gfk.build_cinf([[5, 1, 2, 3, 4], [2, 3, 4, 5, 1]])\n",
    "tref, defield = construct_cinf(raw_tref)"
   ]
  },
  {
   "cell_type": "code",
   "execution_count": 49,
   "metadata": {},
   "outputs": [
    {
     "name": "stdout",
     "output_type": "stream",
     "text": [
      "normalizing Ui's and to i = 0 and Vi = 1\n"
     ]
    },
    {
     "data": {
      "text/plain": [
       "1"
      ]
     },
     "execution_count": 49,
     "metadata": {},
     "output_type": "execute_result"
    }
   ],
   "source": [
    "to_minus(tref, defield)"
   ]
  },
  {
   "cell_type": "code",
   "execution_count": null,
   "metadata": {},
   "outputs": [],
   "source": []
  },
  {
   "cell_type": "code",
   "execution_count": 22,
   "metadata": {},
   "outputs": [
    {
     "data": {
      "text/plain": [
       "0"
      ]
     },
     "execution_count": 22,
     "metadata": {},
     "output_type": "execute_result"
    }
   ],
   "source": [
    "V_deg(U0, defield)"
   ]
  },
  {
   "cell_type": "code",
   "execution_count": 35,
   "metadata": {},
   "outputs": [
    {
     "name": "stdout",
     "output_type": "stream",
     "text": [
      "constructing cinf...\n",
      "Grid size is 5\n",
      "Defining U0, U1, U2, U3, U4, V0, V1, V2, V3, V4\n",
      "Time to construct cinf 0.022909879684448242\n",
      "grading complex...\n",
      "Time to find arborescence:0.01260828971862793\n",
      "U4*V2 + U3*V3\n",
      "U4*V2 + U3*V3\n",
      "U0*V1 + U2*V4\n",
      "U0*V1 + U2*V4\n",
      "U4*V2 + U3*V3\n",
      "U4*V2 + U3*V3\n",
      "U4*V2 + U3*V3\n",
      "U4*V2 + U3*V3\n",
      "U0*V1 + U2*V4\n",
      "U0*V1 + U2*V4\n",
      "U4*V0 + U1*V3\n",
      "U4*V0 + U1*V3\n",
      "U3*V0 + U1*V2\n",
      "U3*V0 + U1*V2\n",
      "U2*V2 + U0*V3\n",
      "U2*V2 + U0*V3\n",
      "U4*V2 + U3*V3\n",
      "U4*V2 + U3*V3\n",
      "U2*U3 + U0*U4\n",
      "U2*U3 + U0*U4\n",
      "V0*V1 + V3*V4\n",
      "V0*V1 + V3*V4\n",
      "V2*V3 + V0*V4\n",
      "V2*V3 + V0*V4\n",
      "U0*V2 + U3*V4\n",
      "U0*V2 + U3*V4\n",
      "U4*V0 + U1*V3\n",
      "U4*V0 + U1*V3\n",
      "U2*V0 + U4*V4\n",
      "U2*V0 + U4*V4\n",
      "U1*U2*V1 + U0*U4*V3\n",
      "U1*U2*V1 + U0*U4*V3\n",
      "U2*V0*V1 + U4*V3*V4\n",
      "U2*V0*V1 + U4*V3*V4\n",
      "U1*V1 + U0*V3\n",
      "U1*V1 + U0*V3\n",
      "U2*V0 + U4*V4\n",
      "U2*V0 + U4*V4\n",
      "U2*V0*V1 + U4*V3*V4\n",
      "U2*V0*V1 + U4*V3*V4\n",
      "U1*U2*V1 + U0*U4*V3\n",
      "U1*U2*V1 + U0*U4*V3\n",
      "Time to grade complex (given arborescence): 0.006707429885864258\n",
      "normalizing Vi's and to i = 0 and Ui = 0\n",
      "Reducing complex...\n",
      "Time to reduce complex: 0.03180336952209473\n"
     ]
    }
   ],
   "source": [
    "raw_tref = gfk.build_cinf([[5, 1, 2, 3, 4], [2, 3, 4, 5, 1]])\n",
    "tref, defield = construct_cinf(raw_tref)\n",
    "\n",
    "# normalize(tref, defield)\n",
    "# mod_out_nonVar0(tref, defield)\n",
    "# remove_zeros(tref)\n",
    "grade_complex(tref, defield)\n",
    "# graph_red_search(tref)\n",
    "U_to_zero(tref, defield)\n",
    "graph_red_search(tref)\n",
    "\n",
    "\n",
    "remove_zeros(tref)\n",
    "gml_export_weighted(tref, \"3_1UtoZeroRed\")"
   ]
  },
  {
   "cell_type": "code",
   "execution_count": 22,
   "metadata": {},
   "outputs": [
    {
     "data": {
      "text/plain": [
       "<module 'networkx.classes.graph' from '/usr/lib/python3/dist-packages/networkx/classes/graph.py'>"
      ]
     },
     "execution_count": 22,
     "metadata": {},
     "output_type": "execute_result"
    }
   ],
   "source": [
    "nx.to_undirected(tref)\n",
    "nx.graph"
   ]
  },
  {
   "cell_type": "code",
   "execution_count": null,
   "metadata": {},
   "outputs": [],
   "source": [
    "g = gfk.build_cinf([[1,2,3,4,5],[2,3,4,5,1]])"
   ]
  },
  {
   "cell_type": "code",
   "execution_count": null,
   "metadata": {},
   "outputs": [],
   "source": [
    "nxG, defield = imp_and_construct_complex('testCinfExport.gml')"
   ]
  },
  {
   "cell_type": "code",
   "execution_count": null,
   "metadata": {},
   "outputs": [],
   "source": [
    "nx.algorithms.tree.branchings.greedy_branching"
   ]
  },
  {
   "cell_type": "code",
   "execution_count": null,
   "metadata": {},
   "outputs": [],
   "source": [
    "nxG.nodes()['[2, 5, 3, 1, 4]']"
   ]
  },
  {
   "cell_type": "code",
   "execution_count": null,
   "metadata": {
    "scrolled": true
   },
   "outputs": [],
   "source": [
    "nxG, defield = imp_and_construct_complex('Figure8.gml')\n",
    "# nx.set_node_attributes(nxG, None, \"AGrading\")\n",
    "# nx.set_node_attributes(nxG, None, \"MGrading\")\n",
    "grade_complex(nxG, defield)\n",
    "\n",
    "\n",
    "# remove_NU_loops(nxG, True)\n",
    "# graph_red_search(nxG)\n",
    "# to_minus(nxG, defield)\n",
    "# remove_zeros(nxG)\n",
    "# normalize(nxG, defield)\n",
    "# to_hat(nxG, defield)\n",
    "# remove_zeros(nxG)\n",
    "# span = nx.minimum_spanning_arborescence(nxG)\n",
    "graph_red_search(nxG)\n",
    "# remove_loops(nxG, defield)\n",
    "# nx.write_gml(span, \"redspan.gml\")\n",
    "gml_export_weighted(nxG, \"Figure8DelLoops\")"
   ]
  },
  {
   "cell_type": "code",
   "execution_count": null,
   "metadata": {},
   "outputs": [],
   "source": [
    "nxG['[1, 2, 3, 5, 4]']"
   ]
  },
  {
   "cell_type": "code",
   "execution_count": null,
   "metadata": {},
   "outputs": [],
   "source": [
    "graph_red_search(nxG)"
   ]
  },
  {
   "cell_type": "code",
   "execution_count": null,
   "metadata": {},
   "outputs": [],
   "source": [
    "gml_export_weighted(nxG)"
   ]
  },
  {
   "cell_type": "code",
   "execution_count": null,
   "metadata": {},
   "outputs": [],
   "source": [
    "\"mystring\"[-4:]"
   ]
  },
  {
   "cell_type": "code",
   "execution_count": null,
   "metadata": {},
   "outputs": [],
   "source": [
    "g = convert_gml('testCinfExport.gml')\n",
    "sageG = construct_sageG_cinf(g)\n",
    "dictg = nx.to_dict_of_dicts(g)\n",
    "# newg = DiGraph()\n",
    "#graphs.graph_input.from_dict_of_dicts(dictg, weighted = True)\n",
    "# newg\n",
    "myf = sageG.weighted_adjacency_matrix()"
   ]
  },
  {
   "cell_type": "code",
   "execution_count": null,
   "metadata": {},
   "outputs": [],
   "source": []
  },
  {
   "cell_type": "code",
   "execution_count": null,
   "metadata": {},
   "outputs": [],
   "source": [
    "f = U0*U1*V2"
   ]
  },
  {
   "cell_type": "code",
   "execution_count": null,
   "metadata": {},
   "outputs": [],
   "source": [
    "f.subs(U0=V2)"
   ]
  },
  {
   "cell_type": "code",
   "execution_count": null,
   "metadata": {},
   "outputs": [],
   "source": [
    "nxG, defield = construct_cinf(g)"
   ]
  },
  {
   "cell_type": "code",
   "execution_count": null,
   "metadata": {},
   "outputs": [],
   "source": [
    "nxG.edges()"
   ]
  },
  {
   "cell_type": "code",
   "execution_count": null,
   "metadata": {},
   "outputs": [],
   "source": [
    "nxG.edges()[('[1, 2, 3, 5, 4]', '[2, 1, 3, 5, 4]')]"
   ]
  },
  {
   "cell_type": "code",
   "execution_count": null,
   "metadata": {},
   "outputs": [],
   "source": [
    "for ed in list(nxG.edges()):\n",
    "    try:\n",
    "        out = nxG.edges()(ed[0],ed[1])\n",
    "        back = nxG.edges()[ed[1],ed[0]]\n",
    "        nxG.remove_edge(ed[0],ed[1])\n",
    "        nxG.remove_edge(ed[1],ed[0])\n",
    "    except KeyError:\n",
    "        continue"
   ]
  },
  {
   "cell_type": "code",
   "execution_count": null,
   "metadata": {},
   "outputs": [],
   "source": [
    "nxG."
   ]
  },
  {
   "cell_type": "code",
   "execution_count": null,
   "metadata": {},
   "outputs": [],
   "source": [
    "nxG = graph_red_search(nxG)"
   ]
  },
  {
   "cell_type": "code",
   "execution_count": null,
   "metadata": {},
   "outputs": [],
   "source": [
    "nxG.edges()\n",
    "nxG['[1, 2, 3, 5, 4]']['[2, 1, 3, 5, 4]']['diffweight']"
   ]
  },
  {
   "cell_type": "code",
   "execution_count": null,
   "metadata": {},
   "outputs": [],
   "source": [
    "mod_out_uv(nxG, defield)"
   ]
  },
  {
   "cell_type": "code",
   "execution_count": null,
   "metadata": {},
   "outputs": [],
   "source": [
    "to_minus(nxG, defield)"
   ]
  },
  {
   "cell_type": "code",
   "execution_count": null,
   "metadata": {},
   "outputs": [],
   "source": [
    "remove_zeros(nxG)"
   ]
  },
  {
   "cell_type": "code",
   "execution_count": null,
   "metadata": {},
   "outputs": [],
   "source": [
    "Graph(nx.to_undirected(nxG)).plot()"
   ]
  },
  {
   "cell_type": "code",
   "execution_count": null,
   "metadata": {
    "scrolled": true
   },
   "outputs": [],
   "source": [
    "is_cartesian_product(Graph(nx.to_undirected(nxG)))"
   ]
  },
  {
   "cell_type": "code",
   "execution_count": null,
   "metadata": {},
   "outputs": [],
   "source": [
    "resg = graph_red_search(nxG)"
   ]
  },
  {
   "cell_type": "code",
   "execution_count": null,
   "metadata": {},
   "outputs": [],
   "source": [
    "for x,y in resg.edges():\n",
    "    print(x)\n",
    "    resg[x][y][diffweight] = resg[x][y][diffweight].subs(V1=V0,V2=V0,V3=V0,V4=V0,U1=U0,U2=U0,U3=U0,U4=U0)\n",
    "    if resg[x][y][diffweight] == 0:\n",
    "        resg.remove_edge[x][y]"
   ]
  },
  {
   "cell_type": "code",
   "execution_count": null,
   "metadata": {},
   "outputs": [],
   "source": [
    "myring = LaurentPolynomialRing(QQ, ('x','y'))"
   ]
  },
  {
   "cell_type": "code",
   "execution_count": null,
   "metadata": {},
   "outputs": [],
   "source": [
    "nx.draw(nxG)\n",
    "for x,y in nxG.edges():\n",
    "#     print(x)\n",
    "    nxG[x][y]['diffweight'] = str(nxG[x][y]['diffweight'])\n",
    "nx.write_gml(nxG, 'pleasegod.gml')"
   ]
  },
  {
   "cell_type": "code",
   "execution_count": null,
   "metadata": {},
   "outputs": [],
   "source": [
    "nxcomp = nx.DiGraph(dictg)"
   ]
  },
  {
   "cell_type": "code",
   "execution_count": null,
   "metadata": {},
   "outputs": [],
   "source": [
    "redg = graph_red_search(nxcomp)\n",
    "for edge in redg.edges():\n",
    "    redg"
   ]
  },
  {
   "cell_type": "code",
   "execution_count": null,
   "metadata": {
    "scrolled": true
   },
   "outputs": [],
   "source": [
    "redg = graph_red_search(nxg)"
   ]
  },
  {
   "cell_type": "code",
   "execution_count": null,
   "metadata": {},
   "outputs": [],
   "source": [
    "redg.edges()"
   ]
  },
  {
   "cell_type": "code",
   "execution_count": null,
   "metadata": {},
   "outputs": [],
   "source": [
    "redg.nodes()"
   ]
  },
  {
   "cell_type": "code",
   "execution_count": null,
   "metadata": {},
   "outputs": [],
   "source": [
    "redg.get_edge_data('[1, 2, 3]', '[2, 1, 3]')"
   ]
  },
  {
   "cell_type": "code",
   "execution_count": null,
   "metadata": {},
   "outputs": [],
   "source": [
    "g"
   ]
  },
  {
   "cell_type": "code",
   "execution_count": null,
   "metadata": {},
   "outputs": [],
   "source": [
    "testmat = matrix([[1,0,U1],[V0,1,V2],[U0,U1,V2]])\n",
    "testmat"
   ]
  },
  {
   "cell_type": "code",
   "execution_count": null,
   "metadata": {},
   "outputs": [],
   "source": [
    "myf.add_multiple_of_row(1,2,U1)"
   ]
  },
  {
   "cell_type": "code",
   "execution_count": null,
   "metadata": {},
   "outputs": [],
   "source": [
    "g.get_edge_data(list(g.edges())[0][0],list(g.edges())[0][1])['weight']"
   ]
  },
  {
   "cell_type": "code",
   "execution_count": null,
   "metadata": {},
   "outputs": [],
   "source": [
    "iterate through dictionary keys(dict)\n",
    "    tracker = -1\n",
    "    for target in keydic\n",
    "        if target weight == 1\n",
    "            graph reduction alg\n",
    "            tracker = 1\n",
    "    if tracker == 1\n",
    "        return rerun\n",
    "    else\n",
    "        return\n",
    "        \n",
    "graph reduction(dict, key, target)\n",
    "    for x in predecessors(target)\n",
    "        if x == key: continue\n",
    "        for y in successors(key)\n",
    "            if y == target: continue\n",
    "            x_weight = thegraph[x][targ]['weight']\n",
    "            y_weight = thegraph[key][y]['weight']\n",
    "            W = x_weight x y_weight\n",
    "            add edge to graph from x to y weight = W\n",
    "    delete key\n",
    "    delete target\n",
    "    return graph"
   ]
  },
  {
   "cell_type": "code",
   "execution_count": null,
   "metadata": {},
   "outputs": [],
   "source": [
    "#OLD CODE\n",
    "\n",
    "# def reduce_around(M, position): \n",
    "# #M isa matrix and position is a pair [a,b] where a 1 is located\n",
    "# #function does Gauss-Jordan-ish elimination on that column and in a symmetric way to the entry's row\n",
    "#     a,b = position\n",
    "#     #First step is to use the row to cancel the other entries, then we'll do a symmetric cancellation on\n",
    "#     #the columns as well\n",
    "#     column = M[:][b]\n",
    "#     for index, entry in enumerate(column):\n",
    "#         if ((index != 0) and (index != a) and (entry != 0)):\n",
    "#             M.add_multiple_of_row(index, entry, a)\n",
    "#     for index, entry in enumerate(column):\n",
    "#         if ((index != 0) and (index != a) and (entry != 0)):\n",
    "#             M.add_multiple_of_col(index, entry, b)\n",
    "#     #Now we'll repeat the process but with the row entries\n",
    "#     row = M[a][:]\n",
    "#     for index, entry in enumerate(row):\n",
    "#         if ((index != 0) and (index != b) and (entry != 0)):\n",
    "#             M.add_multiple_of_col(index, entry, b)\n",
    "#     for index, entry in enumerate(column):\n",
    "#         if ((index != 0) and (index != b) and (entry != 0)):\n",
    "#             M.add_multiple_of_row(index, entry, a)\n",
    "#     return\n",
    "\n",
    "# def hom_reduction(adj_mat):\n",
    "#     M = adj_mat\n",
    "#     row_position = 0\n",
    "#     for row in M:\n",
    "#         check, column_position = row_count(row)\n",
    "#         if row_count(check[0]) > 1:\n",
    "#             reduce_around(M, row_position, column_position)\n",
    "#         row_position = position + 1\n",
    "\n",
    "\n",
    "\n",
    "# def cinf_coeff(size):\n",
    "#     n = size\n",
    "#     varis = name_some_vars(['U','V'],n)\n",
    "#     F = LaurentPolynomialRing(GF(2), varis)\n",
    "#     F.inject_variables()\n",
    "# #     preF = LaurentPolynomialRing(GF(2), 'U', n) #F[Ui+-] which we'll then pair up with the Vi\n",
    "# #     preF.inject_variables()                     #Telling Sage we have Ui's as variables\n",
    "# #     Vars = preF.gens()                          #storing the variables in a list - not currently implemented anywhere\n",
    "# #     for vari in preF.gens():\n",
    "# #         preF.<vari> = preF\n",
    "# #     F = LaurentPolynomialRing(preF, 'V', n)     #Takes our preF (F[Ui+-]) and adjoins Vi\n",
    "# #     F.inject_variables()                        #F only thinks it has Vi as variables, we tell Sage about it\n",
    "# #     Vars = Vars + F.gens()\n",
    "# #     for vari in F.gens():\n",
    "# #        F.<vari> = F\n",
    "# #     for vari in Vars: \n",
    "# #         F.<vari> = F    \n",
    "#     return F,list(F.gens())\n",
    "\n",
    "# def find_one(targetlist): #Searches a list for first 1 - will be used for reduction\n",
    "# #     print(\"searching for 1 in\" + str(targetlist))\n",
    "#     if 1 in list(targetlist):\n",
    "        \n",
    "# #         print(\"found 1 in the list at\" + str(list(targetlist).index(1)))\n",
    "#         return list(targetlist).index(1)\n",
    "\n",
    "#     return -1\n",
    "\n",
    "# def find_col_with_one(matrix, startc=0):\n",
    "    \n",
    "#     endc = len(matrix[0])\n",
    "#     print(str(endc))\n",
    "#     for n in range(startc, endc):\n",
    "        \n",
    "#         search_result = find_one(matrix[:][n])\n",
    "#         if search_result != -1: return (search_result, n)\n",
    "        \n",
    "#     return (-1, -1)\n",
    "\n",
    "\n",
    "# def reduction_remap(matrix, row, col):\n",
    "#     n = len(matrix[0])\n",
    "#     range1 = range_skip_entry(n, row)\n",
    "# #     print(\"searching through \" + str(range1))\n",
    "#     for count, target_row in enumerate(range1):\n",
    "        \n",
    "#         entry = matrix[target_row][col]\n",
    "#         if entry != 0: my_row_add(matrix, row, target_row, entry)\n",
    "            \n",
    "#     return matrix\n",
    "\n",
    "# def row_col_del(matrix, loc):\n",
    "#     newrange = list(range(len(matrix[0])))\n",
    "#     del newrange[loc]\n",
    "#     return matrix[newrange,newrange]\n",
    "\n",
    "# def construct_sageG_cinf(g, size = -1): #Construct CFKinf complex from graph data - essentially just changing weights to polynomials\n",
    "#                                   #Only works for grid diagrams *not* Latin Squares\n",
    "#     #DEPRECATED None of the current pipelines are using sage graphs\n",
    "#     if size == -1:\n",
    "#         size = len(g.get_edge_data(list(g.edges())[0][0],list(g.edges())[0][1])['diffweight'])  #kind of a mess - just turning the edges\n",
    "#     n = size/2                                                                              #into a list and checking the length of\n",
    "#                                                                                             #the weight of the first edge\n",
    "#     F,Vars = cinf_coeff(n)\n",
    "#     resG = DiGraph()\n",
    "#     for edge in g.edges:\n",
    "        \n",
    "#         start = edge[0]\n",
    "#         end = edge[1]\n",
    "#         poly = F(1)\n",
    "#         i = 0\n",
    "#         for entry in g[edge[0]][edge[1]]['diffweight']:\n",
    "            \n",
    "#             poly = poly*(Vars[i])**entry\n",
    "#             i = i + 1\n",
    "            \n",
    "#         resG.add_edge(start, end, poly)\n",
    "        \n",
    "#     return resG\n",
    "\n",
    "# def convert_gml(fileName): #GridToolsTBD exports to a text file - this grabs it and converts the edges back to lists\n",
    "#                            #super inneficient - should convert to pickle file system or something\n",
    "#     g = nx.read_gml(fileName)\n",
    "#     for edge in g.edges:\n",
    "#         g[edge[0]][edge[1]]['diffweight'] = ast.literal_eval(g[edge[0]][edge[1]]['weight'])\n",
    "#         g[edge[0]][edge[1]]['diffweight'] = g[edge[0]][edge[1]]['diffweight'][0]+g[edge[0]][edge[1]]['diffweight'][1] #end result is edge weights as list of\n",
    "#                                                                                                           #multiplicities [U1,U2...,Un,V1,...,Vn]\n",
    "#     return g\n",
    "\n",
    "# def imp_and_construct_complex(filename):\n",
    "    \n",
    "#     #Input: Filename string for a file\n",
    "    \n",
    "#     print('importing complex...')\n",
    "#     g = convert_gml(filename)\n",
    "#     return construct_cinf(g)\n",
    "\n",
    "# def reduction(matrix):\n",
    "#     col, row = find_col_with_one(matrix)\n",
    "# #     print(\"reducing around entry \" +str(row) + \",\" +str(col))\n",
    "#     if col == -1:\n",
    "        \n",
    "#         print(\"completed reduction\")\n",
    "#         print(matrix)\n",
    "#         print (type(matrix))\n",
    "#         return matrix\n",
    "    \n",
    "#     print(\"reduction in progress\")\n",
    "#     remapped_matrix = reduction_remap(matrix, row, col)\n",
    "#     if row < col:\n",
    "        \n",
    "#         remapped_matrix = row_col_del(remapped_matrix, col)\n",
    "#         remapped_matrix = row_col_del(remapped_matrix, row)\n",
    "        \n",
    "#     else:\n",
    "        \n",
    "#         remapped_matrix = row_col_del(remapped_matrix, row)\n",
    "#         remapped_matrix = row_col_del(remapped_matrix, col)\n",
    "        \n",
    "#     return reduction(remapped_matrix)\n",
    "    \n",
    "# def my_row_add(matrix, row, targetrow, multiple):\n",
    "#     n = len(matrix[0])\n",
    "#     for i in range(n):\n",
    "#         current_src = matrix[row][i]\n",
    "#         if current_src != 0:\n",
    "# #             print(\"adding copies times \" + str(current_src))\n",
    "# #             print(\"multiple\" + str(multiple))\n",
    "# #             print(\"target entry \" + str(matrix[targetrow][i]))\n",
    "#             matrix[targetrow,i] = matrix[targetrow][i] + multiple*current_src\n",
    "# #         print(matrix)\n",
    "#     return matrix\n",
    "\n",
    "\n",
    "# def alex_power_change(poly, field):\n",
    "    \n",
    "#     gens = field.gens()\n",
    "#     size = len(gens)/2\n",
    "#     grade = 0\n",
    "#     powers = poly.exponents()\n",
    "#     if len(powers) > 1:\n",
    "        \n",
    "#         raise Exception(\"Ran into a non-homogoneous degree change - polynomial wasn't a monomial\")\n",
    "\n",
    "#     if len(powers) == 0:\n",
    "        \n",
    "#         return 0\n",
    "        \n",
    "#     powers = powers[0]\n",
    "#     for i in range(size):\n",
    "        \n",
    "#         grade = grade - powers[i] + powers[i+size]\n",
    "        \n",
    "#     return grade\n",
    "\n",
    "# def mod_out_uv(chain_comp, field):\n",
    "#     gens = field.gens()\n",
    "#     size = len(gens)/2    \n",
    "#     for edge in chain_comp.edges():\n",
    "    \n",
    "#         for i in range(size):\n",
    "            \n",
    "#             src = edge[0]\n",
    "#             tar = edge[1]\n",
    "# #             print(gens[0])\n",
    "# #             print(gens[size])\n",
    "# #             print(chain_comp[src][tar]['diffweight'])\n",
    "#             chain_comp[src][tar]['diffweight'] = chain_comp[src][tar]['diffweight'].subs({gens[i]:gens[0]})\n",
    "#             chain_comp[src][tar]['diffweight'] = chain_comp[src][tar]['diffweight'].subs({gens[size+i]:gens[size]})\n",
    "#         print(chain_comp[src][tar]['diffweight'])\n",
    "\n",
    "            \n",
    "#     return 1\n",
    "\n",
    "# def U_to_zero(chain_comp, field):\n",
    "# #Substitutes 0 for all the Ui\n",
    "    \n",
    "#     print(\"normalizing Vi's to i = 0 and Ui = 0\")\n",
    "#     gens = field.gens()\n",
    "#     size = len(gens)/2    \n",
    "#     for edge in chain_comp.edges():\n",
    "    \n",
    "#         for i in range(size):\n",
    "            \n",
    "#             src = edge[0]\n",
    "#             tar = edge[1]\n",
    "#             chain_comp[src][tar]['diffweight'] = chain_comp[src][tar]['diffweight'].subs({gens[i]:0})\n",
    "#             chain_comp[src][tar]['diffweight'] = chain_comp[src][tar]['diffweight'].subs({gens[i+size]:gens[size]})\n",
    "            \n",
    "#     remove_zeros(chain_comp)\n",
    "#     return 1\n"
   ]
  }
 ],
 "metadata": {
  "celltoolbar": "Raw Cell Format",
  "kernelspec": {
   "display_name": "SageMath 9.8",
   "language": "sage",
   "name": "sagemath"
  },
  "language_info": {
   "codemirror_mode": {
    "name": "ipython",
    "version": 3
   },
   "file_extension": ".py",
   "mimetype": "text/x-python",
   "name": "python",
   "nbconvert_exporter": "python",
   "pygments_lexer": "ipython3",
   "version": "3.10.6"
  },
  "varInspector": {
   "cols": {
    "lenName": 16,
    "lenType": 16,
    "lenVar": 40
   },
   "kernels_config": {
    "python": {
     "delete_cmd_postfix": "",
     "delete_cmd_prefix": "del ",
     "library": "var_list.py",
     "varRefreshCmd": "print(var_dic_list())"
    },
    "r": {
     "delete_cmd_postfix": ") ",
     "delete_cmd_prefix": "rm(",
     "library": "var_list.r",
     "varRefreshCmd": "cat(var_dic_list()) "
    }
   },
   "types_to_exclude": [
    "module",
    "function",
    "builtin_function_or_method",
    "instance",
    "_Feature"
   ],
   "window_display": false
  }
 },
 "nbformat": 4,
 "nbformat_minor": 4
}
