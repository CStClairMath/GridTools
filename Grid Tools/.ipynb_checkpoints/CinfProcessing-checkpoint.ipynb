{
 "cells": [
  {
   "cell_type": "code",
   "execution_count": 88,
   "metadata": {},
   "outputs": [],
   "source": [
    "import networkx as nx\n",
    "import ast\n",
    "import numpy as np\n",
    "from scipy import sparse\n",
    "import matplotlib.pyplot as plt\n",
    "from sage.graphs.graph_decompositions.graph_products import is_cartesian_product"
   ]
  },
  {
   "cell_type": "code",
   "execution_count": 2,
   "metadata": {},
   "outputs": [],
   "source": [
    "g = nx.read_gml('testCinfExport.gml')"
   ]
  },
  {
   "cell_type": "code",
   "execution_count": 3,
   "metadata": {},
   "outputs": [],
   "source": [
    "# nx.to_dict_of_dicts(g)"
   ]
  },
  {
   "cell_type": "code",
   "execution_count": 143,
   "metadata": {},
   "outputs": [],
   "source": [
    "def convert_gml(fileName): #GridToolsTBD exports to a text file - this grabs it and converts the edges back to lists\n",
    "                           #super inneficient - should convert to pickle file system or something\n",
    "    g = nx.read_gml(fileName)\n",
    "    for edge in g.edges:\n",
    "        g[edge[0]][edge[1]]['diffweight'] = ast.literal_eval(g[edge[0]][edge[1]]['weight'])\n",
    "        g[edge[0]][edge[1]]['diffweight'] = g[edge[0]][edge[1]]['diffweight'][0]+g[edge[0]][edge[1]]['diffweight'][1] #end result is edge weights as list of\n",
    "                                                                                                          #multiplicities [U1,U2...,Un,V1,...,Vn]\n",
    "    return g\n",
    "\n",
    "def construct_sageG_cinf(g, size = -1): #Construct CFKinf complex from graph data - essentially just changing weights to polynomials\n",
    "                                  #Only works for grid diagrams *not* Latin Squares\n",
    "    if size == -1:\n",
    "        size = len(g.get_edge_data(list(g.edges())[0][0],list(g.edges())[0][1])['diffweight'])  #kind of a mess - just turning the edges\n",
    "    n = size/2                                                                              #into a list and checking the length of\n",
    "                                                                                            #the weight of the first edge\n",
    "    F,Vars = cinf_coeff(n)\n",
    "    resG = DiGraph()\n",
    "    for edge in g.edges:\n",
    "        \n",
    "        start = edge[0]\n",
    "        end = edge[1]\n",
    "        poly = F(1)\n",
    "        i = 0\n",
    "        for entry in g[edge[0]][edge[1]]['diffweight']:\n",
    "            \n",
    "            poly = poly*(Vars[i])**entry\n",
    "            i = i + 1\n",
    "            \n",
    "        resG.add_edge(start, end, poly)\n",
    "        \n",
    "    return resG\n",
    "\n",
    "def name_some_vars(letters, num):\n",
    "    result = []\n",
    "    for letter in letters:\n",
    "        \n",
    "        for i in range(num):\n",
    "            new_var = f\"{letter}{i}\"\n",
    "            print(new_var)\n",
    "            result.append(new_var)\n",
    "    \n",
    "    return result\n",
    "\n",
    "def construct_cinf(g, size = -1): #Construct CFKinf complex from graph data - essentially just changing weights to polynomials\n",
    "                                  #Only works for grid diagrams *not* Latin Squares\n",
    "    if size == -1:\n",
    "        size = len(g.get_edge_data(list(g.edges())[0][0],list(g.edges())[0][1])['diffweight'])  #kind of a mess - just turning the edges\n",
    "    n = size/2                                                                              #into a list and checking the length of\n",
    "                                                                                            #the weight of the first edge\n",
    "    F,Vars = cinf_coeff(n)\n",
    "    resG = nx.DiGraph()\n",
    "    for edge in g.edges:\n",
    "        \n",
    "        start = edge[0]\n",
    "        end = edge[1]\n",
    "        poly = F(1)\n",
    "        i = 0\n",
    "        for entry in g[edge[0]][edge[1]]['diffweight']:\n",
    "            \n",
    "            poly = poly*(Vars[i])**entry\n",
    "            i = i + 1\n",
    "            \n",
    "        resG.add_edge(start,end,diffweight = poly)\n",
    "        \n",
    "    return resG, F\n",
    "        \n",
    "def cinf_coeff(size):\n",
    "    \n",
    "    n = size\n",
    "    varis = name_some_vars(['U','V'],n)\n",
    "    F = LaurentPolynomialRing(GF(2), varis)\n",
    "    F.inject_variables()\n",
    "  \n",
    "    return F,list(F.gens())\n",
    "\n",
    "def find_one(targetlist): #Searches a list for first 1 - will be used for reduction\n",
    "#     print(\"searching for 1 in\" + str(targetlist))\n",
    "    if 1 in list(targetlist):\n",
    "        \n",
    "#         print(\"found 1 in the list at\" + str(list(targetlist).index(1)))\n",
    "        return list(targetlist).index(1)\n",
    "\n",
    "    return -1\n",
    "\n",
    "def find_col_with_one(matrix, startc=0):\n",
    "    \n",
    "    endc = len(matrix[0])\n",
    "    print(str(endc))\n",
    "    for n in range(startc, endc):\n",
    "        \n",
    "        search_result = find_one(matrix[:][n])\n",
    "        if search_result != -1: return (search_result, n)\n",
    "        \n",
    "    return (-1, -1)\n",
    "\n",
    "\n",
    "def reduction_remap(matrix, row, col):\n",
    "    n = len(matrix[0])\n",
    "    range1 = range_skip_entry(n, row)\n",
    "#     print(\"searching through \" + str(range1))\n",
    "    for count, target_row in enumerate(range1):\n",
    "        \n",
    "        entry = matrix[target_row][col]\n",
    "        if entry != 0: my_row_add(matrix, row, target_row, entry)\n",
    "            \n",
    "    return matrix\n",
    "\n",
    "def row_col_del(matrix, loc):\n",
    "    newrange = list(range(len(matrix[0])))\n",
    "    del newrange[loc]\n",
    "    return matrix[newrange,newrange]\n",
    "\n",
    "def range_skip_entry(n, skip):\n",
    "    u = []\n",
    "    for i in range(0, skip): u.append(i)\n",
    "    for j in range(skip+1, n): u.append(j)       \n",
    "    return u\n",
    "\n",
    "def reduction(matrix):\n",
    "    col, row = find_col_with_one(matrix)\n",
    "#     print(\"reducing around entry \" +str(row) + \",\" +str(col))\n",
    "    if col == -1:\n",
    "        \n",
    "        print(\"completed reduction\")\n",
    "        print(matrix)\n",
    "        print (type(matrix))\n",
    "        return matrix\n",
    "    \n",
    "    print(\"reduction in progress\")\n",
    "    remapped_matrix = reduction_remap(matrix, row, col)\n",
    "    if row < col:\n",
    "        \n",
    "        remapped_matrix = row_col_del(remapped_matrix, col)\n",
    "        remapped_matrix = row_col_del(remapped_matrix, row)\n",
    "        \n",
    "    else:\n",
    "        \n",
    "        remapped_matrix = row_col_del(remapped_matrix, row)\n",
    "        remapped_matrix = row_col_del(remapped_matrix, col)\n",
    "        \n",
    "    return reduction(remapped_matrix)\n",
    "    \n",
    "def my_row_add(matrix, row, targetrow, multiple):\n",
    "    n = len(matrix[0])\n",
    "    for i in range(n):\n",
    "        current_src = matrix[row][i]\n",
    "        if current_src != 0:\n",
    "#             print(\"adding copies times \" + str(current_src))\n",
    "#             print(\"multiple\" + str(multiple))\n",
    "#             print(\"target entry \" + str(matrix[targetrow][i]))\n",
    "            matrix[targetrow,i] = matrix[targetrow][i] + multiple*current_src\n",
    "#         print(matrix)\n",
    "    return matrix\n",
    "        \n",
    "    \n",
    "def mod_out_uv(chain_comp, field):\n",
    "    gens = field.gens()\n",
    "    size = len(gens)/2    \n",
    "    for edge in chain_comp.edges():\n",
    "    \n",
    "        for i in range(size):\n",
    "            \n",
    "            src = edge[0]\n",
    "            tar = edge[1]\n",
    "#             print(gens[0])\n",
    "#             print(gens[size])\n",
    "#             print(chain_comp[src][tar]['diffweight'])\n",
    "            chain_comp[src][tar]['diffweight'] = chain_comp[src][tar]['diffweight'].subs({gens[i]:gens[0]})\n",
    "            chain_comp[src][tar]['diffweight'] = chain_comp[src][tar]['diffweight'].subs({gens[size+i]:gens[size]})\n",
    "        print(chain_comp[src][tar]['diffweight'])\n",
    "\n",
    "            \n",
    "    return 1\n",
    "\n",
    "def to_hat(chain_comp, field):\n",
    "\n",
    "    gens = field.gens()\n",
    "    size = len(gens)/2    \n",
    "    for edge in chain_comp.edges():\n",
    "    \n",
    "        for i in range(2*size):\n",
    "            \n",
    "            src = edge[0]\n",
    "            tar = edge[1]\n",
    "            chain_comp[src][tar]['diffweight'] = chain_comp[src][tar]['diffweight'].subs({gens[i]:0})\n",
    "\n",
    "    return 1\n",
    "\n",
    "def to_minus(chain_comp, field):\n",
    "\n",
    "    gens = field.gens()\n",
    "    size = len(gens)/2    \n",
    "    for edge in chain_comp.edges():\n",
    "    \n",
    "        for i in range(size):\n",
    "            \n",
    "            src = edge[0]\n",
    "            tar = edge[1]\n",
    "            chain_comp[src][tar]['diffweight'] = chain_comp[src][tar]['diffweight'].subs({gens[i+size]:0})\n",
    "    remove_zeros(chain_comp)\n",
    "    return 1\n",
    "\n",
    "def remove_zeros(chain_comp):\n",
    "    \n",
    "    elist = list(chain_comp.edges())\n",
    "    for x,y in elist:\n",
    "    \n",
    "        if chain_comp[x][y]['diffweight'] == 0:\n",
    "            \n",
    "            chain_comp.remove_edge(x,y)\n",
    "            \n",
    "    return 1"
   ]
  },
  {
   "cell_type": "code",
   "execution_count": 64,
   "metadata": {},
   "outputs": [],
   "source": [
    "def graph_red_search(given_graph): \n",
    "#searches through a cfk inf complex for reducible edges and calling\n",
    "#the reduction function to eliminate the pair according to the reduction algorithm\n",
    "#     dict_graph = nx.to_dict_of_dicts(given_graph)\n",
    "    for key in given_graph:\n",
    "        \n",
    "        for target in given_graph[key]:\n",
    "            \n",
    "            if given_graph[key][target]['diffweight'] == 1:\n",
    "                given_graph = graph_reduction(given_graph, key, target)\n",
    "                return graph_red_search(given_graph)\n",
    "            \n",
    "    return given_graph\n",
    "\n",
    "def graph_reduction(given_graph, key, target):\n",
    "#Deletes edge specified from graph_red_search and adds in edges according to the\n",
    "#reduction algorithm\n",
    "    for x in given_graph.predecessors(target):\n",
    "        \n",
    "        if x == key: continue\n",
    "        for y in given_graph.successors(key):\n",
    "        \n",
    "            if y == target: continue\n",
    "            x_weight = given_graph[x][target]['diffweight']\n",
    "            y_weight = given_graph[key][y]['diffweight']\n",
    "            red_weight = x_weight * y_weight\n",
    "            given_graph.add_edge(x,y,diffweight=red_weight)\n",
    "\n",
    "    given_graph.remove_node(key)\n",
    "    given_graph.remove_node(target)\n",
    "    return given_graph\n",
    "\n"
   ]
  },
  {
   "cell_type": "code",
   "execution_count": 15,
   "metadata": {
    "scrolled": false
   },
   "outputs": [
    {
     "name": "stdout",
     "output_type": "stream",
     "text": [
      "U0\n",
      "U1\n",
      "U2\n",
      "U3\n",
      "U4\n",
      "V0\n",
      "V1\n",
      "V2\n",
      "V3\n",
      "V4\n",
      "Defining U0, U1, U2, U3, U4, V0, V1, V2, V3, V4\n"
     ]
    }
   ],
   "source": [
    "g = convert_gml('testCinfExport.gml')\n",
    "sageG = construct_sageG_cinf(g)\n",
    "dictg = nx.to_dict_of_dicts(g)\n",
    "# newg = DiGraph()\n",
    "#graphs.graph_input.from_dict_of_dicts(dictg, weighted = True)\n",
    "# newg\n",
    "myf = sageG.weighted_adjacency_matrix()"
   ]
  },
  {
   "cell_type": "code",
   "execution_count": 30,
   "metadata": {},
   "outputs": [],
   "source": [
    "f = U0*U1*V2"
   ]
  },
  {
   "cell_type": "code",
   "execution_count": 31,
   "metadata": {},
   "outputs": [
    {
     "data": {
      "text/plain": [
       "U1*V2^2"
      ]
     },
     "execution_count": 31,
     "metadata": {},
     "output_type": "execute_result"
    }
   ],
   "source": [
    "f.subs(U0=V2)"
   ]
  },
  {
   "cell_type": "code",
   "execution_count": 144,
   "metadata": {},
   "outputs": [
    {
     "name": "stdout",
     "output_type": "stream",
     "text": [
      "U0\n",
      "U1\n",
      "U2\n",
      "U3\n",
      "U4\n",
      "V0\n",
      "V1\n",
      "V2\n",
      "V3\n",
      "V4\n",
      "Defining U0, U1, U2, U3, U4, V0, V1, V2, V3, V4\n"
     ]
    }
   ],
   "source": [
    "nxG, defield = construct_cinf(g)"
   ]
  },
  {
   "cell_type": "code",
   "execution_count": 145,
   "metadata": {},
   "outputs": [],
   "source": [
    "nxG = graph_red_search(nxG)"
   ]
  },
  {
   "cell_type": "code",
   "execution_count": 82,
   "metadata": {},
   "outputs": [
    {
     "data": {
      "text/plain": [
       "1"
      ]
     },
     "execution_count": 82,
     "metadata": {},
     "output_type": "execute_result"
    }
   ],
   "source": [
    "nxG.edges()\n",
    "nxG['[1, 2, 3, 5, 4]']['[2, 1, 3, 5, 4]']['diffweight']"
   ]
  },
  {
   "cell_type": "code",
   "execution_count": 146,
   "metadata": {},
   "outputs": [
    {
     "name": "stdout",
     "output_type": "stream",
     "text": [
      "U0\n",
      "U0\n",
      "U0\n",
      "V0\n",
      "U0\n",
      "V0\n",
      "V0\n",
      "V0\n",
      "U0\n",
      "V0\n",
      "U0\n",
      "V0\n",
      "V0\n",
      "V0\n",
      "U0\n",
      "U0\n",
      "V0\n",
      "U0\n",
      "V0\n",
      "U0\n",
      "U0\n",
      "V0\n",
      "U0\n",
      "U0\n",
      "V0\n",
      "V0\n",
      "U0\n",
      "U0\n",
      "V0\n",
      "U0\n",
      "V0\n",
      "U0\n",
      "V0\n",
      "U0\n",
      "U0\n",
      "U0\n",
      "V0\n",
      "V0\n",
      "V0\n",
      "V0\n",
      "V0\n",
      "V0\n",
      "V0\n",
      "U0\n",
      "V0\n",
      "V0\n",
      "U0\n",
      "U0\n",
      "V0\n",
      "U0\n",
      "V0\n",
      "U0\n",
      "V0\n",
      "U0\n",
      "U0\n",
      "U0\n",
      "U0\n",
      "V0\n",
      "V0\n",
      "V0\n",
      "V0\n",
      "V0\n",
      "V0\n",
      "V0\n",
      "U0\n",
      "V0\n",
      "V0\n",
      "V0\n",
      "U0\n",
      "V0\n",
      "U0\n",
      "V0\n",
      "U0\n",
      "V0\n",
      "U0\n",
      "U0\n",
      "V0\n",
      "V0\n",
      "V0\n",
      "U0\n",
      "U0\n",
      "V0\n",
      "V0\n",
      "V0\n",
      "V0\n",
      "V0\n",
      "U0\n",
      "V0\n",
      "V0\n",
      "U0\n",
      "U0\n",
      "U0\n",
      "U0\n",
      "U0\n",
      "U0\n",
      "V0\n",
      "U0\n",
      "V0\n",
      "U0\n",
      "U0\n",
      "U0\n",
      "U0\n",
      "V0\n",
      "V0\n",
      "V0\n",
      "V0\n",
      "V0\n",
      "V0\n",
      "U0\n",
      "U0\n",
      "V0\n",
      "U0\n",
      "U0\n",
      "V0\n",
      "U0\n",
      "V0\n",
      "V0\n",
      "U0\n",
      "U0\n",
      "U0\n",
      "V0\n",
      "V0\n",
      "V0\n",
      "U0\n",
      "U0\n",
      "U0\n",
      "V0\n",
      "U0\n",
      "V0\n",
      "V0\n",
      "V0\n",
      "U0\n",
      "V0\n",
      "U0\n",
      "V0\n",
      "V0\n",
      "U0\n",
      "U0\n",
      "V0\n",
      "U0\n",
      "U0\n",
      "U0\n",
      "U0\n",
      "U0\n",
      "V0\n",
      "V0\n",
      "V0\n",
      "U0\n",
      "V0\n",
      "V0\n",
      "U0\n",
      "U0\n",
      "U0\n",
      "U0\n",
      "V0\n",
      "V0\n",
      "U0\n",
      "U0\n",
      "V0\n",
      "V0\n",
      "V0\n",
      "V0\n",
      "V0\n",
      "U0\n",
      "U0\n",
      "V0\n",
      "V0\n",
      "V0\n",
      "U0\n",
      "U0\n",
      "V0\n",
      "V0\n",
      "U0\n",
      "U0\n",
      "U0\n",
      "V0\n",
      "V0\n",
      "V0\n",
      "U0\n",
      "U0\n",
      "U0\n",
      "U0\n",
      "U0\n",
      "U0\n",
      "U0\n",
      "U0\n",
      "V0\n",
      "U0\n",
      "V0\n",
      "V0\n",
      "V0\n",
      "U0\n",
      "V0\n",
      "U0\n",
      "V0\n",
      "V0\n",
      "U0\n",
      "U0\n",
      "V0\n",
      "U0\n",
      "V0\n",
      "V0\n",
      "U0\n",
      "U0\n",
      "U0\n",
      "U0\n",
      "V0\n",
      "V0\n",
      "V0\n",
      "U0\n",
      "U0\n",
      "U0\n",
      "V0\n",
      "U0\n",
      "V0\n",
      "U0\n",
      "U0\n",
      "V0\n",
      "U0\n",
      "V0\n",
      "U0\n",
      "V0\n",
      "V0\n",
      "U0\n",
      "U0\n",
      "U0\n",
      "U0\n",
      "V0\n",
      "V0\n",
      "U0\n",
      "U0\n",
      "U0\n",
      "V0\n",
      "U0\n",
      "U0\n",
      "U0\n",
      "V0\n",
      "U0\n",
      "V0\n",
      "U0\n",
      "U0\n",
      "V0\n",
      "V0\n",
      "U0\n",
      "V0\n",
      "U0\n",
      "V0\n",
      "V0\n",
      "V0\n",
      "U0\n",
      "V0\n",
      "U0\n",
      "V0\n",
      "V0\n",
      "V0\n",
      "U0\n",
      "U0\n",
      "U0\n",
      "U0\n",
      "U0\n",
      "V0\n",
      "U0\n",
      "U0\n",
      "V0\n",
      "V0\n",
      "V0\n",
      "V0\n",
      "V0\n",
      "U0\n",
      "U0\n",
      "V0\n",
      "V0\n",
      "V0\n",
      "U0\n",
      "V0\n",
      "U0\n",
      "V0\n",
      "V0\n",
      "V0\n",
      "V0\n",
      "U0\n",
      "V0\n",
      "U0\n",
      "V0\n",
      "U0\n",
      "V0\n",
      "V0\n",
      "V0\n",
      "V0\n",
      "V0\n",
      "V0\n",
      "V0\n",
      "U0\n",
      "U0\n",
      "U0\n",
      "V0\n",
      "V0\n",
      "V0\n",
      "V0\n",
      "V0\n",
      "U0\n",
      "V0\n",
      "U0\n",
      "V0\n",
      "V0\n",
      "U0\n",
      "U0\n",
      "V0\n",
      "U0\n",
      "U0\n",
      "V0\n",
      "U0\n",
      "V0\n",
      "U0\n",
      "V0\n",
      "V0\n",
      "U0\n",
      "V0\n",
      "V0\n",
      "V0\n",
      "U0\n",
      "U0\n",
      "V0\n",
      "U0\n",
      "V0\n",
      "V0\n",
      "U0\n",
      "U0\n",
      "U0\n",
      "U0\n",
      "V0\n",
      "V0\n",
      "U0\n",
      "V0\n",
      "U0\n",
      "V0\n",
      "U0\n",
      "U0\n",
      "U0\n",
      "U0\n",
      "U0\n",
      "U0\n",
      "V0\n",
      "U0\n",
      "V0\n",
      "U0\n",
      "V0\n",
      "U0\n",
      "V0\n",
      "V0\n",
      "U0\n",
      "U0\n",
      "U0\n",
      "U0\n",
      "V0\n",
      "V0\n",
      "V0\n",
      "U0\n",
      "U0\n",
      "V0\n",
      "V0\n",
      "U0\n",
      "U0\n",
      "U0\n",
      "U0\n",
      "U0\n",
      "V0\n",
      "V0\n",
      "U0\n",
      "U0\n",
      "U0\n",
      "U0\n",
      "V0\n",
      "U0\n",
      "V0\n",
      "U0\n",
      "U0\n",
      "U0\n",
      "U0\n",
      "U0\n",
      "V0\n",
      "V0\n",
      "U0\n",
      "U0\n",
      "U0\n",
      "V0\n",
      "U0\n",
      "U0\n",
      "V0\n",
      "V0\n",
      "U0\n",
      "U0\n",
      "U0\n",
      "U0\n",
      "U0\n",
      "U0\n",
      "V0\n",
      "U0\n",
      "U0\n",
      "V0\n",
      "V0\n",
      "V0\n",
      "U0\n",
      "V0\n",
      "U0\n",
      "V0\n",
      "U0\n",
      "V0\n",
      "V0\n",
      "V0\n",
      "V0\n",
      "V0\n",
      "V0\n"
     ]
    },
    {
     "data": {
      "text/plain": [
       "1"
      ]
     },
     "execution_count": 146,
     "metadata": {},
     "output_type": "execute_result"
    }
   ],
   "source": [
    "mod_out_uv(nxG, defield)"
   ]
  },
  {
   "cell_type": "code",
   "execution_count": 147,
   "metadata": {},
   "outputs": [
    {
     "data": {
      "text/plain": [
       "1"
      ]
     },
     "execution_count": 147,
     "metadata": {},
     "output_type": "execute_result"
    }
   ],
   "source": [
    "to_minus(nxG, defield)"
   ]
  },
  {
   "cell_type": "code",
   "execution_count": 140,
   "metadata": {},
   "outputs": [
    {
     "data": {
      "text/plain": [
       "1"
      ]
     },
     "execution_count": 140,
     "metadata": {},
     "output_type": "execute_result"
    }
   ],
   "source": [
    "remove_zeros(nxG)"
   ]
  },
  {
   "cell_type": "code",
   "execution_count": 121,
   "metadata": {},
   "outputs": [
    {
     "data": {
      "image/png": "[encoded data removed]",
      "text/plain": [
       "Graphics object consisting of 271 graphics primitives"
      ]
     },
     "execution_count": 121,
     "metadata": {},
     "output_type": "execute_result"
    }
   ],
   "source": [
    "Graph(nx.to_undirected(nxG)).plot()"
   ]
  },
  {
   "cell_type": "code",
   "execution_count": 142,
   "metadata": {
    "scrolled": true
   },
   "outputs": [
    {
     "data": {
      "text/plain": [
       "False"
      ]
     },
     "execution_count": 142,
     "metadata": {},
     "output_type": "execute_result"
    }
   ],
   "source": [
    "is_cartesian_product(Graph(nx.to_undirected(nxG)))"
   ]
  },
  {
   "cell_type": "code",
   "execution_count": 27,
   "metadata": {},
   "outputs": [],
   "source": [
    "resg = graph_red_search(nxG)"
   ]
  },
  {
   "cell_type": "code",
   "execution_count": 28,
   "metadata": {
    "scrolled": true
   },
   "outputs": [
    {
     "name": "stdout",
     "output_type": "stream",
     "text": [
      "[5, 1, 3, 2, 4]\n"
     ]
    },
    {
     "ename": "NameError",
     "evalue": "name 'diffweight' is not defined",
     "output_type": "error",
     "traceback": [
      "\u001b[0;31m---------------------------------------------------------------------------\u001b[0m",
      "\u001b[0;31mNameError\u001b[0m                                 Traceback (most recent call last)",
      "\u001b[0;32m<ipython-input-28-7233fedfc56e>\u001b[0m in \u001b[0;36m<module>\u001b[0;34m\u001b[0m\n\u001b[1;32m      1\u001b[0m \u001b[0;32mfor\u001b[0m \u001b[0mx\u001b[0m\u001b[0;34m,\u001b[0m\u001b[0my\u001b[0m \u001b[0;32min\u001b[0m \u001b[0mresg\u001b[0m\u001b[0;34m.\u001b[0m\u001b[0medges\u001b[0m\u001b[0;34m(\u001b[0m\u001b[0;34m)\u001b[0m\u001b[0;34m:\u001b[0m\u001b[0;34m\u001b[0m\u001b[0;34m\u001b[0m\u001b[0m\n\u001b[1;32m      2\u001b[0m     \u001b[0mprint\u001b[0m\u001b[0;34m(\u001b[0m\u001b[0mx\u001b[0m\u001b[0;34m)\u001b[0m\u001b[0;34m\u001b[0m\u001b[0;34m\u001b[0m\u001b[0m\n\u001b[0;32m----> 3\u001b[0;31m     \u001b[0mresg\u001b[0m\u001b[0;34m[\u001b[0m\u001b[0mx\u001b[0m\u001b[0;34m]\u001b[0m\u001b[0;34m[\u001b[0m\u001b[0my\u001b[0m\u001b[0;34m]\u001b[0m\u001b[0;34m[\u001b[0m\u001b[0mdiffweight\u001b[0m\u001b[0;34m]\u001b[0m \u001b[0;34m=\u001b[0m \u001b[0mresg\u001b[0m\u001b[0;34m[\u001b[0m\u001b[0mx\u001b[0m\u001b[0;34m]\u001b[0m\u001b[0;34m[\u001b[0m\u001b[0my\u001b[0m\u001b[0;34m]\u001b[0m\u001b[0;34m[\u001b[0m\u001b[0mdiffweight\u001b[0m\u001b[0;34m]\u001b[0m\u001b[0;34m.\u001b[0m\u001b[0msubs\u001b[0m\u001b[0;34m(\u001b[0m\u001b[0mV1\u001b[0m\u001b[0;34m=\u001b[0m\u001b[0mV0\u001b[0m\u001b[0;34m,\u001b[0m\u001b[0mV2\u001b[0m\u001b[0;34m=\u001b[0m\u001b[0mV0\u001b[0m\u001b[0;34m,\u001b[0m\u001b[0mV3\u001b[0m\u001b[0;34m=\u001b[0m\u001b[0mV0\u001b[0m\u001b[0;34m,\u001b[0m\u001b[0mV4\u001b[0m\u001b[0;34m=\u001b[0m\u001b[0mV0\u001b[0m\u001b[0;34m,\u001b[0m\u001b[0mU1\u001b[0m\u001b[0;34m=\u001b[0m\u001b[0mU0\u001b[0m\u001b[0;34m,\u001b[0m\u001b[0mU2\u001b[0m\u001b[0;34m=\u001b[0m\u001b[0mU0\u001b[0m\u001b[0;34m,\u001b[0m\u001b[0mU3\u001b[0m\u001b[0;34m=\u001b[0m\u001b[0mU0\u001b[0m\u001b[0;34m,\u001b[0m\u001b[0mU4\u001b[0m\u001b[0;34m=\u001b[0m\u001b[0mU0\u001b[0m\u001b[0;34m)\u001b[0m\u001b[0;34m\u001b[0m\u001b[0;34m\u001b[0m\u001b[0m\n\u001b[0m\u001b[1;32m      4\u001b[0m     \u001b[0;32mif\u001b[0m \u001b[0mresg\u001b[0m\u001b[0;34m[\u001b[0m\u001b[0mx\u001b[0m\u001b[0;34m]\u001b[0m\u001b[0;34m[\u001b[0m\u001b[0my\u001b[0m\u001b[0;34m]\u001b[0m\u001b[0;34m[\u001b[0m\u001b[0mdiffweight\u001b[0m\u001b[0;34m]\u001b[0m \u001b[0;34m==\u001b[0m \u001b[0mInteger\u001b[0m\u001b[0;34m(\u001b[0m\u001b[0;36m0\u001b[0m\u001b[0;34m)\u001b[0m\u001b[0;34m:\u001b[0m\u001b[0;34m\u001b[0m\u001b[0;34m\u001b[0m\u001b[0m\n\u001b[1;32m      5\u001b[0m         \u001b[0mresg\u001b[0m\u001b[0;34m.\u001b[0m\u001b[0mremove_edge\u001b[0m\u001b[0;34m[\u001b[0m\u001b[0mx\u001b[0m\u001b[0;34m]\u001b[0m\u001b[0;34m[\u001b[0m\u001b[0my\u001b[0m\u001b[0;34m]\u001b[0m\u001b[0;34m\u001b[0m\u001b[0;34m\u001b[0m\u001b[0m\n",
      "\u001b[0;31mNameError\u001b[0m: name 'diffweight' is not defined"
     ]
    }
   ],
   "source": [
    "for x,y in resg.edges():\n",
    "    print(x)\n",
    "    resg[x][y][diffweight] = resg[x][y][diffweight].subs(V1=V0,V2=V0,V3=V0,V4=V0,U1=U0,U2=U0,U3=U0,U4=U0)\n",
    "    if resg[x][y][diffweight] == 0:\n",
    "        resg.remove_edge[x][y]"
   ]
  },
  {
   "cell_type": "code",
   "execution_count": 111,
   "metadata": {},
   "outputs": [],
   "source": [
    "myring = LaurentPolynomialRing(QQ, ('x','y'))"
   ]
  },
  {
   "cell_type": "code",
   "execution_count": 148,
   "metadata": {},
   "outputs": [
    {
     "data": {
      "image/png": "[encoded data removed]",
      "text/plain": [
       "<Figure size 432x288 with 1 Axes>"
      ]
     },
     "metadata": {},
     "output_type": "display_data"
    }
   ],
   "source": [
    "nx.draw(nxG)\n",
    "for x,y in nxG.edges():\n",
    "#     print(x)\n",
    "    nxG[x][y]['diffweight'] = str(nxG[x][y]['diffweight'])\n",
    "nx.write_gml(nxG, 'pleasegod.gml')"
   ]
  },
  {
   "cell_type": "code",
   "execution_count": 59,
   "metadata": {},
   "outputs": [],
   "source": [
    "nxcomp = nx.DiGraph(dictg)"
   ]
  },
  {
   "cell_type": "code",
   "execution_count": 73,
   "metadata": {},
   "outputs": [
    {
     "ename": "TypeError",
     "evalue": "'tuple' object does not support item assignment",
     "output_type": "error",
     "traceback": [
      "\u001b[0;31m---------------------------------------------------------------------------\u001b[0m",
      "\u001b[0;31mTypeError\u001b[0m                                 Traceback (most recent call last)",
      "\u001b[0;32m<ipython-input-73-8717af5f6713>\u001b[0m in \u001b[0;36m<module>\u001b[0;34m\u001b[0m\n\u001b[1;32m      1\u001b[0m \u001b[0mredg\u001b[0m \u001b[0;34m=\u001b[0m \u001b[0mgraph_red_search\u001b[0m\u001b[0;34m(\u001b[0m\u001b[0mnxcomp\u001b[0m\u001b[0;34m)\u001b[0m\u001b[0;34m\u001b[0m\u001b[0;34m\u001b[0m\u001b[0m\n\u001b[1;32m      2\u001b[0m \u001b[0;32mfor\u001b[0m \u001b[0medge\u001b[0m \u001b[0;32min\u001b[0m \u001b[0mredg\u001b[0m\u001b[0;34m.\u001b[0m\u001b[0medges\u001b[0m\u001b[0;34m(\u001b[0m\u001b[0;34m)\u001b[0m\u001b[0;34m:\u001b[0m\u001b[0;34m\u001b[0m\u001b[0;34m\u001b[0m\u001b[0m\n\u001b[0;32m----> 3\u001b[0;31m     \u001b[0medge\u001b[0m\u001b[0;34m[\u001b[0m\u001b[0;34m'weight'\u001b[0m\u001b[0;34m]\u001b[0m \u001b[0;34m=\u001b[0m \u001b[0mInteger\u001b[0m\u001b[0;34m(\u001b[0m\u001b[0;36m1\u001b[0m\u001b[0;34m)\u001b[0m\u001b[0;34m\u001b[0m\u001b[0;34m\u001b[0m\u001b[0m\n\u001b[0m",
      "\u001b[0;31mTypeError\u001b[0m: 'tuple' object does not support item assignment"
     ]
    }
   ],
   "source": [
    "redg = graph_red_search(nxcomp)\n",
    "for edge in redg.edges():\n",
    "    redg"
   ]
  },
  {
   "cell_type": "code",
   "execution_count": 60,
   "metadata": {
    "scrolled": true
   },
   "outputs": [],
   "source": [
    "redg = graph_red_search(nxg)"
   ]
  },
  {
   "cell_type": "code",
   "execution_count": 61,
   "metadata": {},
   "outputs": [
    {
     "data": {
      "text/plain": [
       "OutEdgeView([('[1, 2, 3]', '[2, 1, 3]'), ('[1, 2, 3]', '[1, 3, 2]'), ('[2, 1, 3]', '[1, 2, 3]'), ('[2, 1, 3]', '[2, 3, 1]'), ('[1, 3, 2]', '[1, 2, 3]'), ('[1, 3, 2]', '[2, 3, 1]'), ('[2, 3, 1]', '[2, 1, 3]'), ('[2, 3, 1]', '[1, 3, 2]')])"
      ]
     },
     "execution_count": 61,
     "metadata": {},
     "output_type": "execute_result"
    }
   ],
   "source": [
    "redg.edges()"
   ]
  },
  {
   "cell_type": "code",
   "execution_count": 62,
   "metadata": {},
   "outputs": [
    {
     "data": {
      "text/plain": [
       "NodeView(('[1, 2, 3]', '[2, 1, 3]', '[1, 3, 2]', '[2, 3, 1]'))"
      ]
     },
     "execution_count": 62,
     "metadata": {},
     "output_type": "execute_result"
    }
   ],
   "source": [
    "redg.nodes()"
   ]
  },
  {
   "cell_type": "code",
   "execution_count": 64,
   "metadata": {},
   "outputs": [
    {
     "data": {
      "text/plain": [
       "{'weight': U0}"
      ]
     },
     "execution_count": 64,
     "metadata": {},
     "output_type": "execute_result"
    }
   ],
   "source": [
    "redg.get_edge_data('[1, 2, 3]', '[2, 1, 3]')"
   ]
  },
  {
   "cell_type": "code",
   "execution_count": 55,
   "metadata": {},
   "outputs": [
    {
     "data": {
      "text/plain": [
       "<networkx.classes.digraph.DiGraph object at 0x6ffdb0079390>"
      ]
     },
     "execution_count": 55,
     "metadata": {},
     "output_type": "execute_result"
    }
   ],
   "source": [
    "g"
   ]
  },
  {
   "cell_type": "code",
   "execution_count": 61,
   "metadata": {},
   "outputs": [
    {
     "data": {
      "text/plain": [
       "[ 1  0 U1]\n",
       "[V0  1 V2]\n",
       "[U0 U1 V2]"
      ]
     },
     "execution_count": 61,
     "metadata": {},
     "output_type": "execute_result"
    }
   ],
   "source": [
    "testmat = matrix([[1,0,U1],[V0,1,V2],[U0,U1,V2]])\n",
    "testmat"
   ]
  },
  {
   "cell_type": "code",
   "execution_count": 107,
   "metadata": {},
   "outputs": [],
   "source": [
    "myf.add_multiple_of_row(1,2,U1)"
   ]
  },
  {
   "cell_type": "code",
   "execution_count": 33,
   "metadata": {},
   "outputs": [
    {
     "data": {
      "text/plain": [
       "[1, 0, 0, 0, 0, 0]"
      ]
     },
     "execution_count": 33,
     "metadata": {},
     "output_type": "execute_result"
    }
   ],
   "source": [
    "g.get_edge_data(list(g.edges())[0][0],list(g.edges())[0][1])['weight']"
   ]
  },
  {
   "cell_type": "code",
   "execution_count": null,
   "metadata": {},
   "outputs": [],
   "source": [
    "iterate through dictionary keys(dict)\n",
    "    tracker = -1\n",
    "    for target in keydic\n",
    "        if target weight == 1\n",
    "            graph reduction alg\n",
    "            tracker = 1\n",
    "    if tracker == 1\n",
    "        return rerun\n",
    "    else\n",
    "        return\n",
    "        \n",
    "graph reduction(dict, key, target)\n",
    "    for x in predecessors(target)\n",
    "        if x == key: continue\n",
    "        for y in successors(key)\n",
    "            if y == target: continue\n",
    "            x_weight = thegraph[x][targ]['weight']\n",
    "            y_weight = thegraph[key][y]['weight']\n",
    "            W = x_weight x y_weight\n",
    "            add edge to graph from x to y weight = W\n",
    "    delete key\n",
    "    delete target\n",
    "    return graph"
   ]
  },
  {
   "cell_type": "code",
   "execution_count": null,
   "metadata": {},
   "outputs": [],
   "source": [
    "#OLD CODE\n",
    "\n",
    "# def reduce_around(M, position): \n",
    "# #M isa matrix and position is a pair [a,b] where a 1 is located\n",
    "# #function does Gauss-Jordan-ish elimination on that column and in a symmetric way to the entry's row\n",
    "#     a,b = position\n",
    "#     #First step is to use the row to cancel the other entries, then we'll do a symmetric cancellation on\n",
    "#     #the columns as well\n",
    "#     column = M[:][b]\n",
    "#     for index, entry in enumerate(column):\n",
    "#         if ((index != 0) and (index != a) and (entry != 0)):\n",
    "#             M.add_multiple_of_row(index, entry, a)\n",
    "#     for index, entry in enumerate(column):\n",
    "#         if ((index != 0) and (index != a) and (entry != 0)):\n",
    "#             M.add_multiple_of_col(index, entry, b)\n",
    "#     #Now we'll repeat the process but with the row entries\n",
    "#     row = M[a][:]\n",
    "#     for index, entry in enumerate(row):\n",
    "#         if ((index != 0) and (index != b) and (entry != 0)):\n",
    "#             M.add_multiple_of_col(index, entry, b)\n",
    "#     for index, entry in enumerate(column):\n",
    "#         if ((index != 0) and (index != b) and (entry != 0)):\n",
    "#             M.add_multiple_of_row(index, entry, a)\n",
    "#     return\n",
    "\n",
    "# def hom_reduction(adj_mat):\n",
    "#     M = adj_mat\n",
    "#     row_position = 0\n",
    "#     for row in M:\n",
    "#         check, column_position = row_count(row)\n",
    "#         if row_count(check[0]) > 1:\n",
    "#             reduce_around(M, row_position, column_position)\n",
    "#         row_position = position + 1\n",
    "\n",
    "\n",
    "\n",
    "# def cinf_coeff(size):\n",
    "#     n = size\n",
    "#     varis = name_some_vars(['U','V'],n)\n",
    "#     F = LaurentPolynomialRing(GF(2), varis)\n",
    "#     F.inject_variables()\n",
    "# #     preF = LaurentPolynomialRing(GF(2), 'U', n) #F[Ui+-] which we'll then pair up with the Vi\n",
    "# #     preF.inject_variables()                     #Telling Sage we have Ui's as variables\n",
    "# #     Vars = preF.gens()                          #storing the variables in a list - not currently implemented anywhere\n",
    "# #     for vari in preF.gens():\n",
    "# #         preF.<vari> = preF\n",
    "# #     F = LaurentPolynomialRing(preF, 'V', n)     #Takes our preF (F[Ui+-]) and adjoins Vi\n",
    "# #     F.inject_variables()                        #F only thinks it has Vi as variables, we tell Sage about it\n",
    "# #     Vars = Vars + F.gens()\n",
    "# #     for vari in F.gens():\n",
    "# #        F.<vari> = F\n",
    "# #     for vari in Vars: \n",
    "# #         F.<vari> = F    \n",
    "#     return F,list(F.gens())"
   ]
  }
 ],
 "metadata": {
  "kernelspec": {
   "display_name": "SageMath 9.3",
   "language": "sage",
   "name": "sagemath"
  },
  "language_info": {
   "codemirror_mode": {
    "name": "ipython",
    "version": 3
   },
   "file_extension": ".py",
   "mimetype": "text/x-python",
   "name": "python",
   "nbconvert_exporter": "python",
   "pygments_lexer": "ipython3",
   "version": "3.7.10"
  }
 },
 "nbformat": 4,
 "nbformat_minor": 4
}
