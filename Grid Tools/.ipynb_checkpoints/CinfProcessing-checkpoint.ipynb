{
 "cells": [
  {
   "cell_type": "code",
   "execution_count": 1,
   "metadata": {},
   "outputs": [],
   "source": [
    "import networkx as nx\n",
    "import ast"
   ]
  },
  {
   "cell_type": "code",
   "execution_count": 2,
   "metadata": {},
   "outputs": [],
   "source": [
    "g = nx.read_gml('testCinfExport.gml')"
   ]
  },
  {
   "cell_type": "code",
   "execution_count": 3,
   "metadata": {},
   "outputs": [
    {
     "data": {
      "text/plain": [
       "{'[1, 2, 3]': {'[2, 1, 3]': {'weight': '[[1, 0, 0], [0, 0, 0]]'},\n",
       "  '[1, 3, 2]': {'weight': '[[0, 1, 0], [0, 0, 0]]'},\n",
       "  '[3, 2, 1]': {'weight': '[[0, 0, 1], [0, 0, 0]]'}},\n",
       " '[2, 1, 3]': {'[1, 2, 3]': {'weight': '[[0, 0, 0], [0, 0, 1]]'},\n",
       "  '[2, 3, 1]': {'weight': '[[0, 0, 1], [0, 0, 0]]'},\n",
       "  '[3, 1, 2]': {'weight': '[[0, 1, 0], [1, 0, 0]]'}},\n",
       " '[2, 3, 1]': {'[3, 2, 1]': {'weight': '[[0, 0, 0], [1, 0, 0]]'},\n",
       "  '[2, 1, 3]': {'weight': '[[0, 0, 0], [0, 1, 0]]'},\n",
       "  '[1, 3, 2]': {'weight': '[[0, 0, 0], [0, 0, 1]]'}},\n",
       " '[3, 2, 1]': {'[2, 3, 1]': {'weight': '[[0, 1, 0], [0, 0, 0]]'},\n",
       "  '[3, 1, 2]': {'weight': '[[1, 0, 0], [0, 0, 1]]'},\n",
       "  '[1, 2, 3]': {'weight': '[[0, 0, 0], [0, 1, 0]]'}},\n",
       " '[3, 1, 2]': {'[1, 3, 2]': {'weight': '[[0, 0, 0], [0, 0, 0]]'},\n",
       "  '[3, 2, 1]': {'weight': '[[0, 0, 0], [0, 0, 0]]'},\n",
       "  '[2, 1, 3]': {'weight': '[[0, 0, 0], [0, 0, 0]]'}},\n",
       " '[1, 3, 2]': {'[3, 1, 2]': {'weight': '[[0, 0, 1], [0, 1, 0]]'},\n",
       "  '[1, 2, 3]': {'weight': '[[0, 0, 0], [1, 0, 0]]'},\n",
       "  '[2, 3, 1]': {'weight': '[[1, 0, 0], [0, 0, 0]]'}}}"
      ]
     },
     "execution_count": 3,
     "metadata": {},
     "output_type": "execute_result"
    }
   ],
   "source": [
    "nx.to_dict_of_dicts(g)"
   ]
  },
  {
   "cell_type": "code",
   "execution_count": 3,
   "metadata": {},
   "outputs": [],
   "source": [
    "def convert_gml(fileName): #GridToolsTBD exports to a text file - this grabs it and converts the edges back to lists\n",
    "                           #super inneficient - should convert to pickle file system or something\n",
    "    g = nx.read_gml(fileName)\n",
    "    for edge in g.edges:\n",
    "        g[edge[0]][edge[1]]['weight'] = ast.literal_eval(g[edge[0]][edge[1]]['weight'])\n",
    "        g[edge[0]][edge[1]]['weight'] = g[edge[0]][edge[1]]['weight'][0]+g[edge[0]][edge[1]]['weight'][1] #end result is edge weights as list of\n",
    "                                                                                                          #multiplicities [U1,U2...,Un,V1,...,Vn]\n",
    "    return g\n",
    "\n",
    "def construct_cinf(g, size = -1): #Construct CFKinf complex from graph data - essentially just changing weights to polynomials\n",
    "                                  #Only works for grid diagrams *not* Latin Squares\n",
    "    if size == -1:\n",
    "        size = len(g.get_edge_data(list(g.edges())[0][0],list(g.edges())[0][1])['weight'])  #kind of a mess - just turning the edges\n",
    "    n = size/2                                                                              #into a list and checking the length of\n",
    "                                                                                            #the weight of the first edge\n",
    "    F,Vars = cinf_coeff(n)\n",
    "    sageG = DiGraph()\n",
    "    for edge in g.edges:\n",
    "        start = edge[0]\n",
    "        end = edge[1]\n",
    "        poly = F(1)\n",
    "        i = 0\n",
    "        for entry in g[edge[0]][edge[1]]['weight']:\n",
    "            poly = poly*(Vars[i])**entry\n",
    "            i = i + 1\n",
    "#        g[start][end]['weight'] = poly\n",
    "        sageG.add_edge(start,end,poly)\n",
    "    return sageG\n",
    "        \n",
    "def cinf_coeff(size):\n",
    "    n = size\n",
    "    preF = LaurentPolynomialRing(GF(2), 'U', n) #F[Ui+-] which we'll then pair up with the Vi\n",
    "    preF.inject_variables()                     #Telling Sage we have Ui's as variables\n",
    "    Vars = preF.gens()                          #storing the variables in a list - not currently implemented anywhere\n",
    "    F = LaurentPolynomialRing(preF, 'V', n)     #Takes our preF (F[Ui+-]) and adjoins Vi\n",
    "    F.inject_variables()                        #F only thinks it has Vi as variables, we tell Sage about it\n",
    "    Vars = Vars + F.gens()\n",
    "    return F,Vars\n",
    "\n",
    "def find_one(targetlist): #Searches a list for first 1 - will be used for reduction\n",
    "    print(\"searching for 1 in\" + str(targetlist))\n",
    "    if 1 in list(targetlist):\n",
    "        print(\"found 1 in the list\")\n",
    "        return list(targetlist).index(1)\n",
    "    return -1\n",
    "\n",
    "def find_col_with_one(matrix, startc=0):\n",
    "    endc = len(matrix[0])\n",
    "    print(str(endc))\n",
    "    for n in range(startc, endc):\n",
    "        search_result = find_one(matrix[:][n])\n",
    "        if search_result != -1:\n",
    "            return (search_result, n)\n",
    "    return (-1, -1)\n",
    "\n",
    "\n",
    "def reduction_remap(matrix, row, col):\n",
    "    n = len(matrix[0])\n",
    "    range1 = range_skip_entry(n, row)\n",
    "    for count, entry in enumerate(list(matrix[range1,[col]])):\n",
    "        if entry != 0:\n",
    "            print(\"doing row addition\")\n",
    "            my_row_add(matrix, row, count, entry)\n",
    "    return matrix\n",
    "\n",
    "def row_col_del(matrix, loc):\n",
    "    newrange = list(range(len(matrix[0])))\n",
    "    del newrange[loc]\n",
    "    return matrix[newrange,newrange]\n",
    "\n",
    "def range_skip_entry(n, skip):\n",
    "    u = []\n",
    "    for i in range(0, skip):\n",
    "        u.append(i)\n",
    "    for j in range(skip+1, n):\n",
    "        u.append(j)\n",
    "    return u\n",
    "\n",
    "def reduction(matrix):\n",
    "    col, row = find_col_with_one(matrix)\n",
    "    print(\"reducing around entry \" +str(row) + \",\" +str(col))\n",
    "    if col == -1:\n",
    "        print(\"completed reduction\")\n",
    "        print(matrix)\n",
    "        print (type(matrix))\n",
    "        return matrix\n",
    "    print(\"reduction in progress\")\n",
    "    remapped_matrix = reduction_remap(matrix, row, col)\n",
    "    if row < col:\n",
    "        remapped_matrix = row_col_del(remapped_matrix, col)\n",
    "        remapped_matrix = row_col_del(remapped_matrix, row)\n",
    "    else:\n",
    "        remapped_matrix = row_col_del(remapped_matrix, row)\n",
    "        remapped_matrix = row_col_del(remapped_matrix, col)\n",
    "    return reduction(remapped_matrix)\n",
    "    \n",
    "def my_row_add(matrix, row, targetrow, multiple):\n",
    "    n = len(matrix[0])\n",
    "    for i in range(n):\n",
    "        current_src = matrix[row][i]\n",
    "        matrix[targetrow,i] = matrix[targetrow,i] + multiple*current_src\n",
    "        print(matrix)\n",
    "    return matrix\n",
    "        "
   ]
  },
  {
   "cell_type": "code",
   "execution_count": 4,
   "metadata": {},
   "outputs": [
    {
     "name": "stdout",
     "output_type": "stream",
     "text": [
      "Defining U0, U1, U2\n",
      "Defining V0, V1, V2\n"
     ]
    }
   ],
   "source": [
    "thering = cinf_coeff(3)"
   ]
  },
  {
   "cell_type": "code",
   "execution_count": 50,
   "metadata": {},
   "outputs": [
    {
     "data": {
      "text/plain": [
       "(Multivariate Laurent Polynomial Ring in V0, V1, V2 over Multivariate Laurent Polynomial Ring in U0, U1, U2 over Finite Field of size 2,\n",
       " (U0, U1, U2, V0, V1, V2))"
      ]
     },
     "execution_count": 50,
     "metadata": {},
     "output_type": "execute_result"
    }
   ],
   "source": [
    "thering"
   ]
  },
  {
   "cell_type": "code",
   "execution_count": 6,
   "metadata": {
    "scrolled": true
   },
   "outputs": [
    {
     "data": {
      "text/plain": [
       "U0*U1"
      ]
     },
     "execution_count": 6,
     "metadata": {},
     "output_type": "execute_result"
    }
   ],
   "source": [
    "U0*U1"
   ]
  },
  {
   "cell_type": "code",
   "execution_count": 9,
   "metadata": {
    "scrolled": true
   },
   "outputs": [
    {
     "data": {
      "text/plain": [
       "(Multivariate Laurent Polynomial Ring in V0, V1, V2 over Multivariate Laurent Polynomial Ring in U0, U1, U2 over Finite Field of size 2,\n",
       " (U0, U1, U2, V0, V1, V2))"
      ]
     },
     "execution_count": 9,
     "metadata": {},
     "output_type": "execute_result"
    }
   ],
   "source": [
    "thering"
   ]
  },
  {
   "cell_type": "code",
   "execution_count": 30,
   "metadata": {
    "scrolled": true
   },
   "outputs": [
    {
     "name": "stdout",
     "output_type": "stream",
     "text": [
      "Defining U0, U1, U2\n",
      "Defining V0, V1, V2\n"
     ]
    }
   ],
   "source": [
    "g = convert_gml('testCinfExport.gml')\n",
    "sageG = construct_cinf(g)\n",
    "# dictg = nx.to_dict_of_dicts(g)\n",
    "# newg = DiGraph()\n",
    "# #graphs.graph_input.from_dict_of_dicts(dictg, weighted = True)\n",
    "# newg\n",
    "myf = sageG.weighted_adjacency_matrix()"
   ]
  },
  {
   "cell_type": "code",
   "execution_count": 31,
   "metadata": {},
   "outputs": [
    {
     "data": {
      "text/plain": [
       "[    0    U1    U0     0     0    U2]\n",
       "[   V0     0     0    U0 U2*V1     0]\n",
       "[   V2     0     0    U2 U1*V0     0]\n",
       "[    0    V2    V1     0     0    V0]\n",
       "[    0     1     1     0     0     1]\n",
       "[   V1     0     0    U1 U0*V2     0]"
      ]
     },
     "execution_count": 31,
     "metadata": {},
     "output_type": "execute_result"
    }
   ],
   "source": [
    "myf"
   ]
  },
  {
   "cell_type": "code",
   "execution_count": 15,
   "metadata": {},
   "outputs": [],
   "source": [
    "myf.add_multiple_of_row(1,2,U1)"
   ]
  },
  {
   "cell_type": "code",
   "execution_count": 33,
   "metadata": {},
   "outputs": [
    {
     "data": {
      "text/plain": [
       "[    0    U1    U0     0     0    U2]\n",
       "[   V0     0     0    U0 U2*V1     0]\n",
       "[   V2     0     0    U2 U1*V0     0]\n",
       "[    0    V2    V1     0     0    V0]\n",
       "[    0     1     1     0     0     1]\n",
       "[   V1     0     0    U1 U0*V2     0]"
      ]
     },
     "execution_count": 33,
     "metadata": {},
     "output_type": "execute_result"
    }
   ],
   "source": [
    "myf"
   ]
  },
  {
   "cell_type": "code",
   "execution_count": 41,
   "metadata": {},
   "outputs": [
    {
     "data": {
      "text/plain": [
       "True"
      ]
     },
     "execution_count": 41,
     "metadata": {},
     "output_type": "execute_result"
    }
   ],
   "source": [
    "1 in GF(3)"
   ]
  },
  {
   "cell_type": "code",
   "execution_count": 40,
   "metadata": {},
   "outputs": [
    {
     "data": {
      "text/plain": [
       "False"
      ]
     },
     "execution_count": 40,
     "metadata": {},
     "output_type": "execute_result"
    }
   ],
   "source": [
    "1 in thering"
   ]
  },
  {
   "cell_type": "code",
   "execution_count": 36,
   "metadata": {},
   "outputs": [
    {
     "data": {
      "text/plain": [
       "False"
      ]
     },
     "execution_count": 36,
     "metadata": {},
     "output_type": "execute_result"
    }
   ],
   "source": [
    "myf[0,1] in thering"
   ]
  },
  {
   "cell_type": "code",
   "execution_count": 17,
   "metadata": {
    "scrolled": true
   },
   "outputs": [
    {
     "name": "stdout",
     "output_type": "stream",
     "text": [
      "6\n",
      "searching for 1 in(0, U1, U0, 0, 0, U2)\n",
      "searching for 1 in(V0 + U1*V2, 0, 0, U1*U2 + U0, U1^2*V0 + U2*V1, 0)\n",
      "searching for 1 in(V2, 0, 0, U2, U1*V0, 0)\n",
      "searching for 1 in(0, V2, V1, 0, 0, V0)\n",
      "searching for 1 in(0, 1, 1, 0, 0, 1)\n",
      "found 1 in the list\n"
     ]
    },
    {
     "data": {
      "text/plain": [
       "(1, 4)"
      ]
     },
     "execution_count": 17,
     "metadata": {},
     "output_type": "execute_result"
    }
   ],
   "source": [
    "find_col_with_one(myf)"
   ]
  },
  {
   "cell_type": "code",
   "execution_count": 32,
   "metadata": {},
   "outputs": [
    {
     "name": "stdout",
     "output_type": "stream",
     "text": [
      "6\n",
      "searching for 1 in(0, U1, U0, 0, 0, U2)\n",
      "searching for 1 in(V0, 0, 0, U0, U2*V1, 0)\n",
      "searching for 1 in(V2, 0, 0, U2, U1*V0, 0)\n",
      "searching for 1 in(0, V2, V1, 0, 0, V0)\n",
      "searching for 1 in(0, 1, 1, 0, 0, 1)\n",
      "found 1 in the list\n",
      "reducing around entry 4,1\n",
      "reduction in progress\n",
      "doing row addition\n"
     ]
    },
    {
     "ename": "TypeError",
     "evalue": "unsupported operand parent(s) for +: 'Multivariate Laurent Polynomial Ring in V0, V1, V2 over Multivariate Laurent Polynomial Ring in U0, U1, U2 over Finite Field of size 2' and 'Ambient sparse free module of rank 1 over the integral domain Multivariate Laurent Polynomial Ring in V0, V1, V2 over Multivariate Laurent Polynomial Ring in U0, U1, U2 over Finite Field of size 2'",
     "output_type": "error",
     "traceback": [
      "\u001b[0;31m---------------------------------------------------------------------------\u001b[0m",
      "\u001b[0;31mTypeError\u001b[0m                                 Traceback (most recent call last)",
      "\u001b[0;32m<ipython-input-32-ec3d9b256ec1>\u001b[0m in \u001b[0;36m<module>\u001b[0;34m\u001b[0m\n\u001b[0;32m----> 1\u001b[0;31m \u001b[0mnewmat\u001b[0m \u001b[0;34m=\u001b[0m \u001b[0mreduction\u001b[0m\u001b[0;34m(\u001b[0m\u001b[0mmyf\u001b[0m\u001b[0;34m)\u001b[0m\u001b[0;34m\u001b[0m\u001b[0;34m\u001b[0m\u001b[0m\n\u001b[0m",
      "\u001b[0;32m<ipython-input-28-e5bbd96833da>\u001b[0m in \u001b[0;36mreduction\u001b[0;34m(matrix)\u001b[0m\n\u001b[1;32m     86\u001b[0m         \u001b[0;32mreturn\u001b[0m \u001b[0mmatrix\u001b[0m\u001b[0;34m\u001b[0m\u001b[0;34m\u001b[0m\u001b[0m\n\u001b[1;32m     87\u001b[0m     \u001b[0mprint\u001b[0m\u001b[0;34m(\u001b[0m\u001b[0;34m\"reduction in progress\"\u001b[0m\u001b[0;34m)\u001b[0m\u001b[0;34m\u001b[0m\u001b[0;34m\u001b[0m\u001b[0m\n\u001b[0;32m---> 88\u001b[0;31m     \u001b[0mremapped_matrix\u001b[0m \u001b[0;34m=\u001b[0m \u001b[0mreduction_remap\u001b[0m\u001b[0;34m(\u001b[0m\u001b[0mmatrix\u001b[0m\u001b[0;34m,\u001b[0m \u001b[0mrow\u001b[0m\u001b[0;34m,\u001b[0m \u001b[0mcol\u001b[0m\u001b[0;34m)\u001b[0m\u001b[0;34m\u001b[0m\u001b[0;34m\u001b[0m\u001b[0m\n\u001b[0m\u001b[1;32m     89\u001b[0m     \u001b[0;32mif\u001b[0m \u001b[0mrow\u001b[0m \u001b[0;34m<\u001b[0m \u001b[0mcol\u001b[0m\u001b[0;34m:\u001b[0m\u001b[0;34m\u001b[0m\u001b[0;34m\u001b[0m\u001b[0m\n\u001b[1;32m     90\u001b[0m         \u001b[0mremapped_matrix\u001b[0m \u001b[0;34m=\u001b[0m \u001b[0mrow_col_del\u001b[0m\u001b[0;34m(\u001b[0m\u001b[0mremapped_matrix\u001b[0m\u001b[0;34m,\u001b[0m \u001b[0mcol\u001b[0m\u001b[0;34m)\u001b[0m\u001b[0;34m\u001b[0m\u001b[0;34m\u001b[0m\u001b[0m\n",
      "\u001b[0;32m<ipython-input-28-e5bbd96833da>\u001b[0m in \u001b[0;36mreduction_remap\u001b[0;34m(matrix, row, col)\u001b[0m\n\u001b[1;32m     61\u001b[0m         \u001b[0;32mif\u001b[0m \u001b[0mentry\u001b[0m \u001b[0;34m!=\u001b[0m \u001b[0mInteger\u001b[0m\u001b[0;34m(\u001b[0m\u001b[0;36m0\u001b[0m\u001b[0;34m)\u001b[0m\u001b[0;34m:\u001b[0m\u001b[0;34m\u001b[0m\u001b[0;34m\u001b[0m\u001b[0m\n\u001b[1;32m     62\u001b[0m             \u001b[0mprint\u001b[0m\u001b[0;34m(\u001b[0m\u001b[0;34m\"doing row addition\"\u001b[0m\u001b[0;34m)\u001b[0m\u001b[0;34m\u001b[0m\u001b[0;34m\u001b[0m\u001b[0m\n\u001b[0;32m---> 63\u001b[0;31m             \u001b[0mmy_row_add\u001b[0m\u001b[0;34m(\u001b[0m\u001b[0mmatrix\u001b[0m\u001b[0;34m,\u001b[0m \u001b[0mrow\u001b[0m\u001b[0;34m,\u001b[0m \u001b[0mcount\u001b[0m\u001b[0;34m,\u001b[0m \u001b[0mentry\u001b[0m\u001b[0;34m)\u001b[0m\u001b[0;34m\u001b[0m\u001b[0;34m\u001b[0m\u001b[0m\n\u001b[0m\u001b[1;32m     64\u001b[0m     \u001b[0;32mreturn\u001b[0m \u001b[0mmatrix\u001b[0m\u001b[0;34m\u001b[0m\u001b[0;34m\u001b[0m\u001b[0m\n\u001b[1;32m     65\u001b[0m \u001b[0;34m\u001b[0m\u001b[0m\n",
      "\u001b[0;32m<ipython-input-28-e5bbd96833da>\u001b[0m in \u001b[0;36mmy_row_add\u001b[0;34m(matrix, row, targetrow, multiple)\u001b[0m\n\u001b[1;32m     99\u001b[0m     \u001b[0;32mfor\u001b[0m \u001b[0mi\u001b[0m \u001b[0;32min\u001b[0m \u001b[0mrange\u001b[0m\u001b[0;34m(\u001b[0m\u001b[0mn\u001b[0m\u001b[0;34m)\u001b[0m\u001b[0;34m:\u001b[0m\u001b[0;34m\u001b[0m\u001b[0;34m\u001b[0m\u001b[0m\n\u001b[1;32m    100\u001b[0m         \u001b[0mcurrent_src\u001b[0m \u001b[0;34m=\u001b[0m \u001b[0mmatrix\u001b[0m\u001b[0;34m[\u001b[0m\u001b[0mrow\u001b[0m\u001b[0;34m]\u001b[0m\u001b[0;34m[\u001b[0m\u001b[0mi\u001b[0m\u001b[0;34m]\u001b[0m\u001b[0;34m\u001b[0m\u001b[0;34m\u001b[0m\u001b[0m\n\u001b[0;32m--> 101\u001b[0;31m         \u001b[0mmatrix\u001b[0m\u001b[0;34m[\u001b[0m\u001b[0mtargetrow\u001b[0m\u001b[0;34m,\u001b[0m\u001b[0mi\u001b[0m\u001b[0;34m]\u001b[0m \u001b[0;34m=\u001b[0m \u001b[0mmatrix\u001b[0m\u001b[0;34m[\u001b[0m\u001b[0mtargetrow\u001b[0m\u001b[0;34m,\u001b[0m\u001b[0mi\u001b[0m\u001b[0;34m]\u001b[0m \u001b[0;34m+\u001b[0m \u001b[0mmultiple\u001b[0m\u001b[0;34m*\u001b[0m\u001b[0mcurrent_src\u001b[0m\u001b[0;34m\u001b[0m\u001b[0;34m\u001b[0m\u001b[0m\n\u001b[0m\u001b[1;32m    102\u001b[0m         \u001b[0mprint\u001b[0m\u001b[0;34m(\u001b[0m\u001b[0mmatrix\u001b[0m\u001b[0;34m)\u001b[0m\u001b[0;34m\u001b[0m\u001b[0;34m\u001b[0m\u001b[0m\n\u001b[1;32m    103\u001b[0m     \u001b[0;32mreturn\u001b[0m \u001b[0mmatrix\u001b[0m\u001b[0;34m\u001b[0m\u001b[0;34m\u001b[0m\u001b[0m\n",
      "\u001b[0;32m/opt/sagemath-9.3/local/lib/python3.7/site-packages/sage/structure/element.pyx\u001b[0m in \u001b[0;36msage.structure.element.Element.__add__ (build/cythonized/sage/structure/element.c:10989)\u001b[0;34m()\u001b[0m\n\u001b[1;32m   1230\u001b[0m         \u001b[0;31m# Left and right are Sage elements => use coercion model\u001b[0m\u001b[0;34m\u001b[0m\u001b[0;34m\u001b[0m\u001b[0;34m\u001b[0m\u001b[0m\n\u001b[1;32m   1231\u001b[0m         \u001b[0;32mif\u001b[0m \u001b[0mBOTH_ARE_ELEMENT\u001b[0m\u001b[0;34m(\u001b[0m\u001b[0mcl\u001b[0m\u001b[0;34m)\u001b[0m\u001b[0;34m:\u001b[0m\u001b[0;34m\u001b[0m\u001b[0;34m\u001b[0m\u001b[0m\n\u001b[0;32m-> 1232\u001b[0;31m             \u001b[0;32mreturn\u001b[0m \u001b[0mcoercion_model\u001b[0m\u001b[0;34m.\u001b[0m\u001b[0mbin_op\u001b[0m\u001b[0;34m(\u001b[0m\u001b[0mleft\u001b[0m\u001b[0;34m,\u001b[0m \u001b[0mright\u001b[0m\u001b[0;34m,\u001b[0m \u001b[0madd\u001b[0m\u001b[0;34m)\u001b[0m\u001b[0;34m\u001b[0m\u001b[0;34m\u001b[0m\u001b[0m\n\u001b[0m\u001b[1;32m   1233\u001b[0m \u001b[0;34m\u001b[0m\u001b[0m\n\u001b[1;32m   1234\u001b[0m         \u001b[0mcdef\u001b[0m \u001b[0mlong\u001b[0m \u001b[0mvalue\u001b[0m\u001b[0;34m\u001b[0m\u001b[0;34m\u001b[0m\u001b[0m\n",
      "\u001b[0;32m/opt/sagemath-9.3/local/lib/python3.7/site-packages/sage/structure/coerce.pyx\u001b[0m in \u001b[0;36msage.structure.coerce.CoercionModel.bin_op (build/cythonized/sage/structure/coerce.c:11708)\u001b[0;34m()\u001b[0m\n\u001b[1;32m   1246\u001b[0m         \u001b[0;31m# We should really include the underlying error.\u001b[0m\u001b[0;34m\u001b[0m\u001b[0;34m\u001b[0m\u001b[0;34m\u001b[0m\u001b[0m\n\u001b[1;32m   1247\u001b[0m         \u001b[0;31m# This causes so much headache.\u001b[0m\u001b[0;34m\u001b[0m\u001b[0;34m\u001b[0m\u001b[0;34m\u001b[0m\u001b[0m\n\u001b[0;32m-> 1248\u001b[0;31m         \u001b[0;32mraise\u001b[0m \u001b[0mbin_op_exception\u001b[0m\u001b[0;34m(\u001b[0m\u001b[0mop\u001b[0m\u001b[0;34m,\u001b[0m \u001b[0mx\u001b[0m\u001b[0;34m,\u001b[0m \u001b[0my\u001b[0m\u001b[0;34m)\u001b[0m\u001b[0;34m\u001b[0m\u001b[0;34m\u001b[0m\u001b[0m\n\u001b[0m\u001b[1;32m   1249\u001b[0m \u001b[0;34m\u001b[0m\u001b[0m\n\u001b[1;32m   1250\u001b[0m     \u001b[0mcpdef\u001b[0m \u001b[0mcanonical_coercion\u001b[0m\u001b[0;34m(\u001b[0m\u001b[0mself\u001b[0m\u001b[0;34m,\u001b[0m \u001b[0mx\u001b[0m\u001b[0;34m,\u001b[0m \u001b[0my\u001b[0m\u001b[0;34m)\u001b[0m\u001b[0;34m:\u001b[0m\u001b[0;34m\u001b[0m\u001b[0;34m\u001b[0m\u001b[0m\n",
      "\u001b[0;31mTypeError\u001b[0m: unsupported operand parent(s) for +: 'Multivariate Laurent Polynomial Ring in V0, V1, V2 over Multivariate Laurent Polynomial Ring in U0, U1, U2 over Finite Field of size 2' and 'Ambient sparse free module of rank 1 over the integral domain Multivariate Laurent Polynomial Ring in V0, V1, V2 over Multivariate Laurent Polynomial Ring in U0, U1, U2 over Finite Field of size 2'"
     ]
    }
   ],
   "source": [
    "newmat = reduction(myf)"
   ]
  },
  {
   "cell_type": "code",
   "execution_count": 145,
   "metadata": {},
   "outputs": [
    {
     "name": "stdout",
     "output_type": "stream",
     "text": [
      "[     0 U0 + 1      0 U2 + 1]\n",
      "[    V2      0     U2      0]\n",
      "[     0 V1 + 1      0 V0 + 1]\n",
      "[    V1      0     U1      0]\n"
     ]
    }
   ],
   "source": [
    "print(newmat)"
   ]
  },
  {
   "cell_type": "code",
   "execution_count": 59,
   "metadata": {},
   "outputs": [
    {
     "data": {
      "text/plain": [
       "[        0        U1        U0         0         0        U2]\n",
       "[       V0         0         0        U0     U2*V1         0]\n",
       "[       V2         0         0        U2     U1*V0         0]\n",
       "[        0        V2        V1         0         0        V0]\n",
       "[        0  U1^2 + 1 U0*U1 + 1         0         0 U1*U2 + 1]\n",
       "[       V1         0         0        U1     U0*V2         0]"
      ]
     },
     "execution_count": 59,
     "metadata": {},
     "output_type": "execute_result"
    }
   ],
   "source": [
    "myf"
   ]
  },
  {
   "cell_type": "code",
   "execution_count": 58,
   "metadata": {
    "scrolled": true
   },
   "outputs": [
    {
     "name": "stdout",
     "output_type": "stream",
     "text": [
      "None\n"
     ]
    }
   ],
   "source": [
    "print(newmat)"
   ]
  },
  {
   "cell_type": "code",
   "execution_count": 32,
   "metadata": {},
   "outputs": [
    {
     "data": {
      "text/plain": [
       "[0, 1, 3, 4]"
      ]
     },
     "execution_count": 32,
     "metadata": {},
     "output_type": "execute_result"
    }
   ],
   "source": [
    "range_skip_entry(5,2)"
   ]
  },
  {
   "cell_type": "code",
   "execution_count": 33,
   "metadata": {},
   "outputs": [
    {
     "data": {
      "text/plain": [
       "[1, 0, 0, 0, 0, 0]"
      ]
     },
     "execution_count": 33,
     "metadata": {},
     "output_type": "execute_result"
    }
   ],
   "source": [
    "g.get_edge_data(list(g.edges())[0][0],list(g.edges())[0][1])['weight']"
   ]
  },
  {
   "cell_type": "code",
   "execution_count": 98,
   "metadata": {},
   "outputs": [
    {
     "name": "stdout",
     "output_type": "stream",
     "text": [
      "Defining w0, w1, w2, w3\n",
      "Defining z0, z1, z2, z3\n"
     ]
    },
    {
     "data": {
      "text/plain": [
       "z0"
      ]
     },
     "execution_count": 98,
     "metadata": {},
     "output_type": "execute_result"
    }
   ],
   "source": [
    "preF = LaurentPolynomialRing(GF(2), 4, ('w'))\n",
    "preF.inject_variables()\n",
    "F = LaurentPolynomialRing(preF,4,'z')\n",
    "F.inject_variables()\n",
    "F.gens()[0]"
   ]
  },
  {
   "cell_type": "code",
   "execution_count": 165,
   "metadata": {},
   "outputs": [
    {
     "name": "stdout",
     "output_type": "stream",
     "text": [
      "Defining U0, U1, U2\n",
      "Defining V0, V1, V2\n"
     ]
    }
   ],
   "source": [
    "preF = LaurentPolynomialRing(GF(2), 'U', 3)\n",
    "preF.inject_variables()\n",
    "F = LaurentPolynomialRing(GF(2), 'V', 3)\n",
    "F.inject_variables()"
   ]
  },
  {
   "cell_type": "code",
   "execution_count": 16,
   "metadata": {},
   "outputs": [
    {
     "data": {
      "text/plain": [
       "Multivariate Laurent Polynomial Ring in U, V over Finite Field of size 2"
      ]
     },
     "execution_count": 16,
     "metadata": {},
     "output_type": "execute_result"
    }
   ],
   "source": [
    "F"
   ]
  },
  {
   "cell_type": "code",
   "execution_count": null,
   "metadata": {},
   "outputs": [],
   "source": [
    "#OLD CODE\n",
    "\n",
    "# def reduce_around(M, position): \n",
    "# #M isa matrix and position is a pair [a,b] where a 1 is located\n",
    "# #function does Gauss-Jordan-ish elimination on that column and in a symmetric way to the entry's row\n",
    "#     a,b = position\n",
    "#     #First step is to use the row to cancel the other entries, then we'll do a symmetric cancellation on\n",
    "#     #the columns as well\n",
    "#     column = M[:][b]\n",
    "#     for index, entry in enumerate(column):\n",
    "#         if ((index != 0) and (index != a) and (entry != 0)):\n",
    "#             M.add_multiple_of_row(index, entry, a)\n",
    "#     for index, entry in enumerate(column):\n",
    "#         if ((index != 0) and (index != a) and (entry != 0)):\n",
    "#             M.add_multiple_of_col(index, entry, b)\n",
    "#     #Now we'll repeat the process but with the row entries\n",
    "#     row = M[a][:]\n",
    "#     for index, entry in enumerate(row):\n",
    "#         if ((index != 0) and (index != b) and (entry != 0)):\n",
    "#             M.add_multiple_of_col(index, entry, b)\n",
    "#     for index, entry in enumerate(column):\n",
    "#         if ((index != 0) and (index != b) and (entry != 0)):\n",
    "#             M.add_multiple_of_row(index, entry, a)\n",
    "#     return\n",
    "\n",
    "# def hom_reduction(adj_mat):\n",
    "#     M = adj_mat\n",
    "#     row_position = 0\n",
    "#     for row in M:\n",
    "#         check, column_position = row_count(row)\n",
    "#         if row_count(check[0]) > 1:\n",
    "#             reduce_around(M, row_position, column_position)\n",
    "#         row_position = position + 1"
   ]
  }
 ],
 "metadata": {
  "kernelspec": {
   "display_name": "SageMath 9.3",
   "language": "sage",
   "name": "sagemath"
  },
  "language_info": {
   "codemirror_mode": {
    "name": "ipython",
    "version": 3
   },
   "file_extension": ".py",
   "mimetype": "text/x-python",
   "name": "python",
   "nbconvert_exporter": "python",
   "pygments_lexer": "ipython3",
   "version": "3.7.10"
  }
 },
 "nbformat": 4,
 "nbformat_minor": 4
}
