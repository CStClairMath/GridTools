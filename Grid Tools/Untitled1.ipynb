{
 "cells": [
  {
   "cell_type": "code",
   "execution_count": 1,
   "id": "8ad5b6e4-626d-4e73-8f2f-02611f89e6d6",
   "metadata": {
    "editable": true,
    "slideshow": {
     "slide_type": ""
    },
    "tags": [],
    "vscode": {
     "languageId": "python"
    }
   },
   "outputs": [
    {
     "ename": "ImportError",
     "evalue": "attempted relative import with no known parent package",
     "output_type": "error",
     "traceback": [
      "\u001b[0;31m---------------------------------------------------------------------------\u001b[0m",
      "\u001b[0;31mImportError\u001b[0m                               Traceback (most recent call last)",
      "Cell \u001b[0;32mIn[1], line 1\u001b[0m\n\u001b[0;32m----> 1\u001b[0m \u001b[38;5;28;01mfrom\u001b[39;00m \u001b[38;5;21;01m.\u001b[39;00m\u001b[38;5;21;01mcinfprocessing\u001b[39;00m \u001b[38;5;28;01mimport\u001b[39;00m \u001b[38;5;241m*\u001b[39m\n",
      "\u001b[0;31mImportError\u001b[0m: attempted relative import with no known parent package"
     ]
    }
   ],
   "source": [
    "from .cinfprocessing import *"
   ]
  },
  {
   "cell_type": "code",
   "execution_count": 11,
   "id": "5fe06f3a-6089-4591-a0fe-f7c6ff7ca906",
   "metadata": {
    "vscode": {
     "languageId": "python"
    }
   },
   "outputs": [
    {
     "name": "stdout",
     "output_type": "stream",
     "text": [
      "constructing cinf...\n",
      "Grid size is 6\n",
      "Defining U0, U1, U2, U3, U4, U5, V0, V1, V2, V3, V4, V5\n",
      "Time to construct cinf 0.41022777557373047\n",
      "grading complex...\n",
      "Time to find arborescence:0.18311238288879395\n",
      "Time to grade complex (given arborescence): 0.1624281406402588\n",
      "passing to parallel reducer\n",
      "entering parallel reduction\n",
      "1248reducible edges remaining\n",
      "566reducible edges remaining\n",
      "147reducible edges remaining\n",
      "parallel reduction complete\n",
      "Reducing complex...\n",
      "72\n",
      "completed parallel reducer function\n",
      "writing to Outputs/X326154O654321.gml\n",
      "writing to Outputs/NormalizedX326154O654321.gml\n",
      "Time to process complex = 10.378327369689941 seconds\n"
     ]
    },
    {
     "data": {
      "text/plain": [
       "<repr(<CodeModules.cinfprocessing.grid_complex at 0x7f68aec1b810>) failed: TypeError: __repr__ returned non-string (type DiGraph)>"
      ]
     },
     "execution_count": 11,
     "metadata": {},
     "output_type": "execute_result"
    }
   ],
   "source": [
    "\n",
    "link_GFC(*link_dict['L4a1_1'])"
   ]
  },
  {
   "cell_type": "code",
   "execution_count": null,
   "id": "8c90a709-f094-433d-814d-3b47b8a26b3e",
   "metadata": {
    "vscode": {
     "languageId": "python"
    }
   },
   "outputs": [],
   "source": []
  }
 ],
 "metadata": {
  "kernelspec": {
   "display_name": "SageMath 10.2",
   "language": "sage",
   "name": "sagemath"
  },
  "language_info": {
   "codemirror_mode": {
    "name": "ipython",
    "version": 3
   },
   "file_extension": ".py",
   "mimetype": "text/x-python",
   "name": "sage",
   "nbconvert_exporter": "python",
   "pygments_lexer": "ipython3",
   "version": "3.11.8"
  }
 },
 "nbformat": 4,
 "nbformat_minor": 5
}
