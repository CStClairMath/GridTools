{
 "cells": [
  {
   "cell_type": "code",
   "execution_count": 1,
   "metadata": {},
   "outputs": [],
   "source": [
    "import networkx as nx\n",
    "import ast"
   ]
  },
  {
   "cell_type": "code",
   "execution_count": 2,
   "metadata": {},
   "outputs": [],
   "source": [
    "g = nx.read_gml('testCinfExport.gml')"
   ]
  },
  {
   "cell_type": "code",
   "execution_count": 3,
   "metadata": {
    "collapsed": true
   },
   "outputs": [
    {
     "data": {
      "text/plain": [
       "{'[1, 2, 3]': {'[2, 1, 3]': {'weight': '[[1, 0, 0], [0, 0, 0]]'},\n",
       "  '[1, 3, 2]': {'weight': '[[0, 1, 0], [0, 0, 0]]'},\n",
       "  '[3, 2, 1]': {'weight': '[[0, 0, 1], [0, 0, 0]]'}},\n",
       " '[2, 1, 3]': {'[1, 2, 3]': {'weight': '[[0, 0, 0], [0, 0, 1]]'},\n",
       "  '[2, 3, 1]': {'weight': '[[0, 0, 1], [0, 0, 0]]'},\n",
       "  '[3, 1, 2]': {'weight': '[[0, 1, 0], [1, 0, 0]]'}},\n",
       " '[2, 3, 1]': {'[3, 2, 1]': {'weight': '[[0, 0, 0], [1, 0, 0]]'},\n",
       "  '[2, 1, 3]': {'weight': '[[0, 0, 0], [0, 1, 0]]'},\n",
       "  '[1, 3, 2]': {'weight': '[[0, 0, 0], [0, 0, 1]]'}},\n",
       " '[3, 2, 1]': {'[2, 3, 1]': {'weight': '[[0, 1, 0], [0, 0, 0]]'},\n",
       "  '[3, 1, 2]': {'weight': '[[1, 0, 0], [0, 0, 1]]'},\n",
       "  '[1, 2, 3]': {'weight': '[[0, 0, 0], [0, 1, 0]]'}},\n",
       " '[3, 1, 2]': {'[1, 3, 2]': {'weight': '[[0, 0, 0], [0, 0, 0]]'},\n",
       "  '[3, 2, 1]': {'weight': '[[0, 0, 0], [0, 0, 0]]'},\n",
       "  '[2, 1, 3]': {'weight': '[[0, 0, 0], [0, 0, 0]]'}},\n",
       " '[1, 3, 2]': {'[3, 1, 2]': {'weight': '[[0, 0, 1], [0, 1, 0]]'},\n",
       "  '[1, 2, 3]': {'weight': '[[0, 0, 0], [1, 0, 0]]'},\n",
       "  '[2, 3, 1]': {'weight': '[[1, 0, 0], [0, 0, 0]]'}}}"
      ]
     },
     "execution_count": 3,
     "metadata": {},
     "output_type": "execute_result"
    }
   ],
   "source": [
    "nx.to_dict_of_dicts(g)"
   ]
  },
  {
   "cell_type": "code",
   "execution_count": 14,
   "metadata": {},
   "outputs": [],
   "source": [
    "def convert_gml(fileName): #GridToolsTBD exports to a text file - this grabs it and converts the edges back to lists\n",
    "                           #super inneficient - should convert to pickle file system or something\n",
    "    g = nx.read_gml(fileName)\n",
    "    for edge in g.edges:\n",
    "        g[edge[0]][edge[1]]['weight'] = ast.literal_eval(g[edge[0]][edge[1]]['weight'])\n",
    "        g[edge[0]][edge[1]]['weight'] = g[edge[0]][edge[1]]['weight'][0]+g[edge[0]][edge[1]]['weight'][1] #end result is edge weights as list of\n",
    "                                                                                                          #multiplicities [U1,U2...,Un,V1,...,Vn]\n",
    "    return g\n",
    "\n",
    "def construct_cinf(g, size = -1): #Construct CFKinf complex from graph data - essentially just changing weights to polynomials\n",
    "                                  #Only works for grid diagrams *not* Latin Squares\n",
    "    if size == -1:\n",
    "        size = len(g.get_edge_data(list(g.edges())[0][0],list(g.edges())[0][1])['weight'])  #kind of a mess - just turning the edges\n",
    "    n = size/2                                                                              #into a list and checking the length of\n",
    "                                                                                            #the weight of the first edge\n",
    "    F,Vars = cinf_coeff(n)\n",
    "    sageG = DiGraph()\n",
    "    for edge in g.edges:\n",
    "        start = edge[0]\n",
    "        end = edge[1]\n",
    "        poly = F(1)\n",
    "        i = 0\n",
    "        for entry in g[edge[0]][edge[1]]['weight']:\n",
    "            poly = poly*(Vars[i])**entry\n",
    "            i = i + 1\n",
    "#        g[start][end]['weight'] = poly\n",
    "        sageG.add_edge(start,end,poly)\n",
    "    return sageG\n",
    "        \n",
    "def cinf_coeff(size):\n",
    "    n = size\n",
    "    preF = LaurentPolynomialRing(GF(2), 'U', n) #F[Ui+-] which we'll then pair up with the Vi\n",
    "    preF.inject_variables()                     #Telling Sage we have Ui's as variables\n",
    "    Vars = preF.gens()                          #storing the variables in a list - not currently implemented anywhere\n",
    "    F = LaurentPolynomialRing(preF, 'V', n)     #Takes our preF (F[Ui+-]) and adjoins Vi\n",
    "    F.inject_variables()                        #F only thinks it has Vi as variables, we tell Sage about it\n",
    "    Vars = Vars + F.gens()\n",
    "    return F,Vars\n",
    "\n",
    "def find_one(row): #Searches a row for first 1 - will be used for reduction\n",
    "    if 1 in row:\n",
    "        return row.index(1)\n",
    "    return -1\n",
    "\n",
    "def reduce_around(M, position): \n",
    "#M isa matrix and position is a pair [a,b] where a 1 is located\n",
    "#function does Gauss-Jordan-ish elimination on that column and in a symmetric way to the entry's row\n",
    "    a,b = position\n",
    "    #First step is to use the row to cancel the other entries, then we'll do a symmetric cancellation on\n",
    "    #the columns as well\n",
    "    column = M[:][b]\n",
    "    for index, entry in enumerate(column):\n",
    "        if ((index != 0) and (index != a) and (entry != 0)):\n",
    "            M.add_multiple_of_row(index, entry, a)\n",
    "    for index, entry in enumerate(column):\n",
    "        if ((index != 0) and (index != a) and (entry != 0)):\n",
    "            M.add_multiple_of_col(index, entry, b)\n",
    "    #Now we'll repeat the process but with the row entries\n",
    "    row = M[a][:]\n",
    "    for index, entry in enumerate(row):\n",
    "        if ((index != 0) and (index != b) and (entry != 0)):\n",
    "            M.add_multiple_of_col(index, entry, b)\n",
    "    for index, entry in enumerate(column):\n",
    "        if ((index != 0) and (index != b) and (entry != 0)):\n",
    "            M.add_multiple_of_row(index, entry, a)\n",
    "    return\n",
    "\n",
    "# def hom_reduction(adj_mat):\n",
    "#     M = adj_mat\n",
    "#     row_position = 0\n",
    "#     for row in M:\n",
    "#         check, column_position = row_count(row)\n",
    "#         if row_count(check[0]) > 1:\n",
    "#             reduce_around(M, row_position, column_position)\n",
    "#         row_position = position + 1"
   ]
  },
  {
   "cell_type": "code",
   "execution_count": 31,
   "metadata": {},
   "outputs": [],
   "source": [
    "M = matrix.identity(3)"
   ]
  },
  {
   "cell_type": "code",
   "execution_count": 36,
   "metadata": {},
   "outputs": [
    {
     "name": "stdout",
     "output_type": "stream",
     "text": [
      "[1 2 0]\n",
      "[0 2 0]\n",
      "[0 0 1]\n"
     ]
    }
   ],
   "source": [
    "print(M)"
   ]
  },
  {
   "cell_type": "code",
   "execution_count": 35,
   "metadata": {},
   "outputs": [],
   "source": [
    "M.add_multiple_of_row(0,1,1)\n"
   ]
  },
  {
   "cell_type": "code",
   "execution_count": 30,
   "metadata": {},
   "outputs": [
    {
     "name": "stdout",
     "output_type": "stream",
     "text": [
      "None\n"
     ]
    }
   ],
   "source": [
    "print(X)"
   ]
  },
  {
   "cell_type": "code",
   "execution_count": 15,
   "metadata": {},
   "outputs": [
    {
     "name": "stdout",
     "output_type": "stream",
     "text": [
      "Defining U0, U1, U2\n",
      "Defining V0, V1, V2\n"
     ]
    },
    {
     "data": {
      "text/plain": [
       "(Multivariate Laurent Polynomial Ring in V0, V1, V2 over Multivariate Laurent Polynomial Ring in U0, U1, U2 over Finite Field of size 2,\n",
       " (U0, U1, U2, V0, V1, V2))"
      ]
     },
     "execution_count": 15,
     "metadata": {},
     "output_type": "execute_result"
    }
   ],
   "source": [
    "cinf_coeff(3)"
   ]
  },
  {
   "cell_type": "code",
   "execution_count": 16,
   "metadata": {
    "scrolled": true
   },
   "outputs": [
    {
     "name": "stdout",
     "output_type": "stream",
     "text": [
      "Defining U0, U1, U2\n",
      "Defining V0, V1, V2\n"
     ]
    }
   ],
   "source": [
    "g = convert_gml('testCinfExport.gml')\n",
    "sageG = construct_cinf(g)\n",
    "# dictg = nx.to_dict_of_dicts(g)\n",
    "# newg = DiGraph()\n",
    "# #graphs.graph_input.from_dict_of_dicts(dictg, weighted = True)\n",
    "# newg\n",
    "myf = sageG.weighted_adjacency_matrix()"
   ]
  },
  {
   "cell_type": "code",
   "execution_count": 17,
   "metadata": {},
   "outputs": [
    {
     "data": {
      "text/plain": [
       "[    0    U1    U0     0     0    U2]\n",
       "[   V0     0     0    U0 U2*V1     0]\n",
       "[   V2     0     0    U2 U1*V0     0]\n",
       "[    0    V2    V1     0     0    V0]\n",
       "[    0     1     1     0     0     1]\n",
       "[   V1     0     0    U1 U0*V2     0]"
      ]
     },
     "execution_count": 17,
     "metadata": {},
     "output_type": "execute_result"
    }
   ],
   "source": [
    "myf"
   ]
  },
  {
   "cell_type": "code",
   "execution_count": 92,
   "metadata": {},
   "outputs": [
    {
     "data": {
      "text/plain": [
       "[1, 0, 0, 0, 0, 0]"
      ]
     },
     "execution_count": 92,
     "metadata": {},
     "output_type": "execute_result"
    }
   ],
   "source": [
    "g.get_edge_data(list(g.edges())[0][0],list(g.edges())[0][1])['weight'"
   ]
  },
  {
   "cell_type": "code",
   "execution_count": 98,
   "metadata": {},
   "outputs": [
    {
     "name": "stdout",
     "output_type": "stream",
     "text": [
      "Defining w0, w1, w2, w3\n",
      "Defining z0, z1, z2, z3\n"
     ]
    },
    {
     "data": {
      "text/plain": [
       "z0"
      ]
     },
     "execution_count": 98,
     "metadata": {},
     "output_type": "execute_result"
    }
   ],
   "source": [
    "preF = LaurentPolynomialRing(GF(2), 4, ('w'))\n",
    "preF.inject_variables()\n",
    "F = LaurentPolynomialRing(preF,4,'z')\n",
    "F.inject_variables()\n",
    "F.gens()[0]"
   ]
  },
  {
   "cell_type": "code",
   "execution_count": 165,
   "metadata": {},
   "outputs": [
    {
     "name": "stdout",
     "output_type": "stream",
     "text": [
      "Defining U0, U1, U2\n",
      "Defining V0, V1, V2\n"
     ]
    }
   ],
   "source": [
    "preF = LaurentPolynomialRing(GF(2), 'U', 3)\n",
    "preF.inject_variables()\n",
    "F = LaurentPolynomialRing(GF(2), 'V', 3)\n",
    "F.inject_variables()"
   ]
  },
  {
   "cell_type": "code",
   "execution_count": 16,
   "metadata": {},
   "outputs": [
    {
     "data": {
      "text/plain": [
       "Multivariate Laurent Polynomial Ring in U, V over Finite Field of size 2"
      ]
     },
     "execution_count": 16,
     "metadata": {},
     "output_type": "execute_result"
    }
   ],
   "source": [
    "F"
   ]
  }
 ],
 "metadata": {
  "kernelspec": {
   "display_name": "SageMath 9.3",
   "language": "sage",
   "name": "sagemath"
  },
  "language_info": {
   "codemirror_mode": {
    "name": "ipython",
    "version": 3
   },
   "file_extension": ".py",
   "mimetype": "text/x-python",
   "name": "python",
   "nbconvert_exporter": "python",
   "pygments_lexer": "ipython3",
   "version": "3.7.10"
  }
 },
 "nbformat": 4,
 "nbformat_minor": 4
}
