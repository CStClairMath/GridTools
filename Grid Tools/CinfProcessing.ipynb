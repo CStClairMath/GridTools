{
 "cells": [
  {
   "cell_type": "code",
   "execution_count": 74,
   "metadata": {},
   "outputs": [],
   "source": [
    "import networkx as nx\n",
    "import ast\n",
    "import numpy as np\n",
    "from scipy import sparse\n",
    "import matplotlib.pyplot as plt"
   ]
  },
  {
   "cell_type": "code",
   "execution_count": 75,
   "metadata": {},
   "outputs": [],
   "source": [
    "g = nx.read_gml('testCinfExport.gml')"
   ]
  },
  {
   "cell_type": "code",
   "execution_count": 76,
   "metadata": {},
   "outputs": [
    {
     "data": {
      "text/plain": [
       "{'[1, 2, 3]': {'[2, 1, 3]': {'weight': '[[1, 0, 0], [0, 0, 0]]'},\n",
       "  '[1, 3, 2]': {'weight': '[[0, 1, 0], [0, 0, 0]]'},\n",
       "  '[3, 2, 1]': {'weight': '[[0, 0, 1], [0, 0, 0]]'}},\n",
       " '[2, 1, 3]': {'[1, 2, 3]': {'weight': '[[0, 0, 0], [0, 0, 1]]'},\n",
       "  '[2, 3, 1]': {'weight': '[[0, 0, 1], [0, 0, 0]]'},\n",
       "  '[3, 1, 2]': {'weight': '[[0, 1, 0], [1, 0, 0]]'}},\n",
       " '[2, 3, 1]': {'[3, 2, 1]': {'weight': '[[0, 0, 0], [1, 0, 0]]'},\n",
       "  '[2, 1, 3]': {'weight': '[[0, 0, 0], [0, 1, 0]]'},\n",
       "  '[1, 3, 2]': {'weight': '[[0, 0, 0], [0, 0, 1]]'}},\n",
       " '[3, 2, 1]': {'[2, 3, 1]': {'weight': '[[0, 1, 0], [0, 0, 0]]'},\n",
       "  '[3, 1, 2]': {'weight': '[[1, 0, 0], [0, 0, 1]]'},\n",
       "  '[1, 2, 3]': {'weight': '[[0, 0, 0], [0, 1, 0]]'}},\n",
       " '[3, 1, 2]': {'[1, 3, 2]': {'weight': '[[0, 0, 0], [0, 0, 0]]'},\n",
       "  '[3, 2, 1]': {'weight': '[[0, 0, 0], [0, 0, 0]]'},\n",
       "  '[2, 1, 3]': {'weight': '[[0, 0, 0], [0, 0, 0]]'}},\n",
       " '[1, 3, 2]': {'[3, 1, 2]': {'weight': '[[0, 0, 1], [0, 1, 0]]'},\n",
       "  '[1, 2, 3]': {'weight': '[[0, 0, 0], [1, 0, 0]]'},\n",
       "  '[2, 3, 1]': {'weight': '[[1, 0, 0], [0, 0, 0]]'}}}"
      ]
     },
     "execution_count": 76,
     "metadata": {},
     "output_type": "execute_result"
    }
   ],
   "source": [
    "nx.to_dict_of_dicts(g)"
   ]
  },
  {
   "cell_type": "code",
   "execution_count": 80,
   "metadata": {},
   "outputs": [],
   "source": [
    "def convert_gml(fileName): #GridToolsTBD exports to a text file - this grabs it and converts the edges back to lists\n",
    "                           #super inneficient - should convert to pickle file system or something\n",
    "    g = nx.read_gml(fileName)\n",
    "    for edge in g.edges:\n",
    "        g[edge[0]][edge[1]]['diffweight'] = ast.literal_eval(g[edge[0]][edge[1]]['weight'])\n",
    "        g[edge[0]][edge[1]]['diffweight'] = g[edge[0]][edge[1]]['diffweight'][0]+g[edge[0]][edge[1]]['diffweight'][1] #end result is edge weights as list of\n",
    "                                                                                                          #multiplicities [U1,U2...,Un,V1,...,Vn]\n",
    "    return g\n",
    "\n",
    "def construct_sageG_cinf(g, size = -1): #Construct CFKinf complex from graph data - essentially just changing weights to polynomials\n",
    "                                  #Only works for grid diagrams *not* Latin Squares\n",
    "    if size == -1:\n",
    "        size = len(g.get_edge_data(list(g.edges())[0][0],list(g.edges())[0][1])['diffweight'])  #kind of a mess - just turning the edges\n",
    "    n = size/2                                                                              #into a list and checking the length of\n",
    "                                                                                            #the weight of the first edge\n",
    "    F,Vars = cinf_coeff(n)\n",
    "    resG = DiGraph()\n",
    "    for edge in g.edges:\n",
    "        \n",
    "        start = edge[0]\n",
    "        end = edge[1]\n",
    "        poly = F(1)\n",
    "        i = 0\n",
    "        for entry in g[edge[0]][edge[1]]['diffweight']:\n",
    "            \n",
    "            poly = poly*(Vars[i])**entry\n",
    "            i = i + 1\n",
    "            \n",
    "        resG.add_edge(start, end, poly)\n",
    "        \n",
    "    return resG\n",
    "\n",
    "def construct_cinf(g, size = -1): #Construct CFKinf complex from graph data - essentially just changing weights to polynomials\n",
    "                                  #Only works for grid diagrams *not* Latin Squares\n",
    "    if size == -1:\n",
    "        size = len(g.get_edge_data(list(g.edges())[0][0],list(g.edges())[0][1])['diffweight'])  #kind of a mess - just turning the edges\n",
    "    n = size/2                                                                              #into a list and checking the length of\n",
    "                                                                                            #the weight of the first edge\n",
    "    F,Vars = cinf_coeff(n)\n",
    "    resG = nx.DiGraph()\n",
    "    for edge in g.edges:\n",
    "        \n",
    "        start = edge[0]\n",
    "        end = edge[1]\n",
    "        poly = F(1)\n",
    "        i = 0\n",
    "        for entry in g[edge[0]][edge[1]]['diffweight']:\n",
    "            \n",
    "            poly = poly*(Vars[i])**entry\n",
    "            i = i + 1\n",
    "            \n",
    "        resG.add_edge(start,end,diffweight = poly)\n",
    "        \n",
    "    return resG\n",
    "        \n",
    "def cinf_coeff(size):\n",
    "    n = size\n",
    "    preF = LaurentPolynomialRing(GF(2), 'U', n) #F[Ui+-] which we'll then pair up with the Vi\n",
    "    preF.inject_variables()                     #Telling Sage we have Ui's as variables\n",
    "    Vars = preF.gens()                          #storing the variables in a list - not currently implemented anywhere\n",
    "    for vari in preF.gens():\n",
    "        preF.<vari> = preF\n",
    "    F = LaurentPolynomialRing(preF, 'V', n)     #Takes our preF (F[Ui+-]) and adjoins Vi\n",
    "    F.inject_variables()                        #F only thinks it has Vi as variables, we tell Sage about it\n",
    "    Vars = Vars + F.gens()\n",
    "    for vari in F.gens():\n",
    "        F.<vari> = F\n",
    "#     for vari in Vars: \n",
    "#         F.<vari> = F    \n",
    "    return F,Vars\n",
    "\n",
    "def find_one(targetlist): #Searches a list for first 1 - will be used for reduction\n",
    "#     print(\"searching for 1 in\" + str(targetlist))\n",
    "    if 1 in list(targetlist):\n",
    "#         print(\"found 1 in the list at\" + str(list(targetlist).index(1)))\n",
    "        return list(targetlist).index(1)\n",
    "    return -1\n",
    "\n",
    "def find_col_with_one(matrix, startc=0):\n",
    "    endc = len(matrix[0])\n",
    "    print(str(endc))\n",
    "    for n in range(startc, endc):\n",
    "        \n",
    "        search_result = find_one(matrix[:][n])\n",
    "        if search_result != -1: return (search_result, n)\n",
    "        \n",
    "    return (-1, -1)\n",
    "\n",
    "\n",
    "def reduction_remap(matrix, row, col):\n",
    "    n = len(matrix[0])\n",
    "    range1 = range_skip_entry(n, row)\n",
    "#     print(\"searching through \" + str(range1))\n",
    "    for count, target_row in enumerate(range1):\n",
    "        \n",
    "        entry = matrix[target_row][col]\n",
    "        if entry != 0: my_row_add(matrix, row, target_row, entry)\n",
    "            \n",
    "    return matrix\n",
    "\n",
    "def row_col_del(matrix, loc):\n",
    "    newrange = list(range(len(matrix[0])))\n",
    "    del newrange[loc]\n",
    "    return matrix[newrange,newrange]\n",
    "\n",
    "def range_skip_entry(n, skip):\n",
    "    u = []\n",
    "    for i in range(0, skip): u.append(i)\n",
    "    for j in range(skip+1, n): u.append(j)       \n",
    "    return u\n",
    "\n",
    "def reduction(matrix):\n",
    "    col, row = find_col_with_one(matrix)\n",
    "#     print(\"reducing around entry \" +str(row) + \",\" +str(col))\n",
    "    if col == -1:\n",
    "        \n",
    "        print(\"completed reduction\")\n",
    "        print(matrix)\n",
    "        print (type(matrix))\n",
    "        return matrix\n",
    "    \n",
    "    print(\"reduction in progress\")\n",
    "    remapped_matrix = reduction_remap(matrix, row, col)\n",
    "    if row < col:\n",
    "        \n",
    "        remapped_matrix = row_col_del(remapped_matrix, col)\n",
    "        remapped_matrix = row_col_del(remapped_matrix, row)\n",
    "        \n",
    "    else:\n",
    "        \n",
    "        remapped_matrix = row_col_del(remapped_matrix, row)\n",
    "        remapped_matrix = row_col_del(remapped_matrix, col)\n",
    "        \n",
    "    return reduction(remapped_matrix)\n",
    "    \n",
    "def my_row_add(matrix, row, targetrow, multiple):\n",
    "    n = len(matrix[0])\n",
    "    for i in range(n):\n",
    "        current_src = matrix[row][i]\n",
    "        if current_src != 0:\n",
    "#             print(\"adding copies times \" + str(current_src))\n",
    "#             print(\"multiple\" + str(multiple))\n",
    "#             print(\"target entry \" + str(matrix[targetrow][i]))\n",
    "            matrix[targetrow,i] = matrix[targetrow][i] + multiple*current_src\n",
    "#         print(matrix)\n",
    "    return matrix\n",
    "        "
   ]
  },
  {
   "cell_type": "markdown",
   "metadata": {},
   "source": [
    "iterate through dictionary keys(dict)\n",
    "    tracker = -1\n",
    "    for target in keydic\n",
    "        if target weight == 1\n",
    "            graph reduction alg\n",
    "            tracker = 1\n",
    "    if tracker == 1\n",
    "        return rerun\n",
    "    else\n",
    "        return\n",
    "        \n",
    "graph reduction(dict, key, target)\n",
    "    for x in predecessors(target)\n",
    "        if x == key: continue\n",
    "        for y in successors(key)\n",
    "            if y == target: continue\n",
    "            x_weight = thegraph[x][targ]['weight']\n",
    "            y_weight = thegraph[key][y]['weight']\n",
    "            W = x_weight x y_weight\n",
    "            add edge to graph from x to y weight = W\n",
    "    delete key\n",
    "    delete target\n",
    "    return graph"
   ]
  },
  {
   "cell_type": "code",
   "execution_count": 93,
   "metadata": {},
   "outputs": [],
   "source": [
    "def graph_red_search(given_graph): \n",
    "#searches through a cfk inf complex for reducible edges and calling\n",
    "#the reduction function to eliminate the pair according to the reduction algorithm\n",
    "#     dict_graph = nx.to_dict_of_dicts(given_graph)\n",
    "    for key in given_graph:\n",
    "        \n",
    "        for target in given_graph[key]:\n",
    "            \n",
    "            if given_graph[key][target]['diffweight'] == 1:\n",
    "                given_graph = graph_reduction(given_graph, key, target)\n",
    "                return graph_red_search(given_graph)\n",
    "            \n",
    "    return given_graph\n",
    "\n",
    "def graph_reduction(given_graph, key, target):\n",
    "#Deletes edge specified from graph_red_search and adds in edges according to the\n",
    "#reduction algorithm\n",
    "    for x in given_graph.predecessors(target):\n",
    "        \n",
    "        if x == key: continue\n",
    "        for y in given_graph.successors(key):\n",
    "        \n",
    "            if y == target: continue\n",
    "            x_weight = given_graph[x][target]['diffweight']\n",
    "            y_weight = given_graph[key][y]['diffweight']\n",
    "            red_weight = x_weight * y_weight\n",
    "            given_graph.add_edge(x,y,diffweight=red_weight)\n",
    "\n",
    "    given_graph.remove_node(key)\n",
    "    given_graph.remove_node(target)\n",
    "    return given_graph\n",
    "\n"
   ]
  },
  {
   "cell_type": "code",
   "execution_count": 47,
   "metadata": {
    "scrolled": false
   },
   "outputs": [
    {
     "name": "stdout",
     "output_type": "stream",
     "text": [
      "Defining U0, U1, U2\n",
      "Defining V0, V1, V2\n"
     ]
    }
   ],
   "source": [
    "thering = cinf_coeff(3)"
   ]
  },
  {
   "cell_type": "code",
   "execution_count": 48,
   "metadata": {},
   "outputs": [
    {
     "ename": "NameError",
     "evalue": "name 'varis' is not defined",
     "output_type": "error",
     "traceback": [
      "\u001b[0;31m---------------------------------------------------------------------------\u001b[0m",
      "\u001b[0;31mNameError\u001b[0m                                 Traceback (most recent call last)",
      "\u001b[0;32m<ipython-input-48-3c77bf589dc9>\u001b[0m in \u001b[0;36m<module>\u001b[0;34m\u001b[0m\n\u001b[0;32m----> 1\u001b[0;31m \u001b[0mprint\u001b[0m\u001b[0;34m(\u001b[0m\u001b[0mvaris\u001b[0m\u001b[0;34m)\u001b[0m\u001b[0;34m\u001b[0m\u001b[0;34m\u001b[0m\u001b[0m\n\u001b[0m",
      "\u001b[0;31mNameError\u001b[0m: name 'varis' is not defined"
     ]
    }
   ],
   "source": [
    "print(varis)"
   ]
  },
  {
   "cell_type": "code",
   "execution_count": 49,
   "metadata": {},
   "outputs": [
    {
     "ename": "NameError",
     "evalue": "name 'varis' is not defined",
     "output_type": "error",
     "traceback": [
      "\u001b[0;31m---------------------------------------------------------------------------\u001b[0m",
      "\u001b[0;31mNameError\u001b[0m                                 Traceback (most recent call last)",
      "\u001b[0;32m<ipython-input-49-68e93cadf129>\u001b[0m in \u001b[0;36m<module>\u001b[0;34m\u001b[0m\n\u001b[1;32m      1\u001b[0m \u001b[0mf\u001b[0m \u001b[0;34m=\u001b[0m \u001b[0mthering\u001b[0m\u001b[0;34m\u001b[0m\u001b[0;34m\u001b[0m\u001b[0m\n\u001b[0;32m----> 2\u001b[0;31m \u001b[0;32mfor\u001b[0m \u001b[0mvari\u001b[0m \u001b[0;32min\u001b[0m \u001b[0mvaris\u001b[0m\u001b[0;34m:\u001b[0m\u001b[0;34m\u001b[0m\u001b[0;34m\u001b[0m\u001b[0m\n\u001b[0m\u001b[1;32m      3\u001b[0m     \u001b[0mf\u001b[0m \u001b[0;34m=\u001b[0m \u001b[0mf\u001b[0m\u001b[0;34m;\u001b[0m \u001b[0;34m(\u001b[0m\u001b[0mvari\u001b[0m\u001b[0;34m,\u001b[0m\u001b[0;34m)\u001b[0m \u001b[0;34m=\u001b[0m \u001b[0mf\u001b[0m\u001b[0;34m.\u001b[0m\u001b[0m_first_ngens\u001b[0m\u001b[0;34m(\u001b[0m\u001b[0;36m1\u001b[0m\u001b[0;34m)\u001b[0m\u001b[0;34m\u001b[0m\u001b[0;34m\u001b[0m\u001b[0m\n",
      "\u001b[0;31mNameError\u001b[0m: name 'varis' is not defined"
     ]
    }
   ],
   "source": [
    "f = thering\n",
    "for vari in varis:\n",
    "    f.<vari> = f"
   ]
  },
  {
   "cell_type": "code",
   "execution_count": null,
   "metadata": {},
   "outputs": [],
   "source": []
  },
  {
   "cell_type": "code",
   "execution_count": 50,
   "metadata": {},
   "outputs": [],
   "source": [
    "g = U0*U1"
   ]
  },
  {
   "cell_type": "code",
   "execution_count": 51,
   "metadata": {},
   "outputs": [
    {
     "data": {
      "text/plain": [
       "U0*U1"
      ]
     },
     "execution_count": 51,
     "metadata": {},
     "output_type": "execute_result"
    }
   ],
   "source": [
    "g"
   ]
  },
  {
   "cell_type": "code",
   "execution_count": 70,
   "metadata": {},
   "outputs": [
    {
     "data": {
      "text/plain": [
       "U1^2"
      ]
     },
     "execution_count": 70,
     "metadata": {},
     "output_type": "execute_result"
    }
   ],
   "source": [
    "g.subs(U0=U1)"
   ]
  },
  {
   "cell_type": "code",
   "execution_count": 43,
   "metadata": {},
   "outputs": [
    {
     "ename": "NameError",
     "evalue": "name 'varis' is not defined",
     "output_type": "error",
     "traceback": [
      "\u001b[0;31m---------------------------------------------------------------------------\u001b[0m",
      "\u001b[0;31mNameError\u001b[0m                                 Traceback (most recent call last)",
      "\u001b[0;32m<ipython-input-43-3c77bf589dc9>\u001b[0m in \u001b[0;36m<module>\u001b[0;34m\u001b[0m\n\u001b[0;32m----> 1\u001b[0;31m \u001b[0mprint\u001b[0m\u001b[0;34m(\u001b[0m\u001b[0mvaris\u001b[0m\u001b[0;34m)\u001b[0m\u001b[0;34m\u001b[0m\u001b[0;34m\u001b[0m\u001b[0m\n\u001b[0m",
      "\u001b[0;31mNameError\u001b[0m: name 'varis' is not defined"
     ]
    }
   ],
   "source": [
    "print(varis)"
   ]
  },
  {
   "cell_type": "code",
   "execution_count": 90,
   "metadata": {
    "scrolled": true
   },
   "outputs": [
    {
     "name": "stdout",
     "output_type": "stream",
     "text": [
      "Defining U0, U1, U2, U3, U4\n",
      "Defining V0, V1, V2, V3, V4\n"
     ]
    }
   ],
   "source": [
    "g = convert_gml('testCinfExport.gml')\n",
    "sageG = construct_sageG_cinf(g)\n",
    "dictg = nx.to_dict_of_dicts(g)\n",
    "# newg = DiGraph()\n",
    "#graphs.graph_input.from_dict_of_dicts(dictg, weighted = True)\n",
    "# newg\n",
    "myf = sageG.weighted_adjacency_matrix()"
   ]
  },
  {
   "cell_type": "code",
   "execution_count": 105,
   "metadata": {},
   "outputs": [
    {
     "name": "stdout",
     "output_type": "stream",
     "text": [
      "Defining U0, U1, U2, U3, U4\n",
      "Defining V0, V1, V2, V3, V4\n"
     ]
    }
   ],
   "source": [
    "nxG = construct_cinf(g)"
   ]
  },
  {
   "cell_type": "code",
   "execution_count": 106,
   "metadata": {},
   "outputs": [],
   "source": [
    "resg = graph_red_search(nxG)"
   ]
  },
  {
   "cell_type": "code",
   "execution_count": 108,
   "metadata": {},
   "outputs": [
    {
     "name": "stdout",
     "output_type": "stream",
     "text": [
      "[5, 1, 3, 2, 4]\n",
      "[5, 1, 3, 2, 4]\n",
      "[5, 1, 3, 2, 4]\n",
      "[5, 1, 3, 2, 4]\n",
      "[5, 1, 3, 2, 4]\n",
      "[2, 4, 3, 5, 1]\n",
      "[2, 4, 3, 5, 1]\n",
      "[2, 4, 3, 5, 1]\n",
      "[2, 4, 3, 5, 1]\n",
      "[2, 4, 3, 5, 1]\n",
      "[2, 5, 3, 1, 4]\n",
      "[2, 5, 3, 1, 4]\n",
      "[2, 5, 3, 1, 4]\n",
      "[2, 5, 3, 1, 4]\n",
      "[2, 5, 3, 1, 4]\n",
      "[2, 5, 3, 1, 4]\n",
      "[2, 5, 3, 1, 4]\n",
      "[2, 5, 3, 1, 4]\n",
      "[2, 5, 3, 1, 4]\n",
      "[2, 5, 3, 1, 4]\n",
      "[2, 5, 3, 1, 4]\n",
      "[2, 5, 3, 1, 4]\n",
      "[2, 5, 3, 1, 4]\n",
      "[2, 5, 3, 1, 4]\n",
      "[2, 5, 3, 1, 4]\n",
      "[1, 4, 2, 5, 3]\n",
      "[1, 4, 2, 5, 3]\n",
      "[1, 4, 2, 5, 3]\n",
      "[1, 4, 2, 5, 3]\n",
      "[1, 4, 2, 5, 3]\n",
      "[1, 4, 2, 5, 3]\n",
      "[1, 4, 2, 5, 3]\n",
      "[1, 4, 2, 5, 3]\n",
      "[1, 4, 2, 5, 3]\n",
      "[1, 4, 2, 5, 3]\n",
      "[1, 4, 2, 5, 3]\n",
      "[1, 4, 2, 5, 3]\n",
      "[1, 4, 2, 5, 3]\n",
      "[1, 4, 2, 5, 3]\n",
      "[1, 4, 2, 5, 3]\n",
      "[3, 2, 4, 5, 1]\n",
      "[3, 2, 4, 5, 1]\n",
      "[3, 2, 4, 5, 1]\n",
      "[3, 2, 4, 5, 1]\n",
      "[3, 2, 4, 5, 1]\n",
      "[5, 2, 4, 1, 3]\n",
      "[5, 2, 4, 1, 3]\n",
      "[5, 2, 4, 1, 3]\n",
      "[5, 2, 4, 1, 3]\n",
      "[5, 2, 4, 1, 3]\n",
      "[5, 2, 4, 1, 3]\n",
      "[5, 2, 4, 1, 3]\n",
      "[5, 2, 4, 1, 3]\n",
      "[5, 2, 4, 1, 3]\n",
      "[5, 2, 4, 1, 3]\n",
      "[5, 2, 4, 1, 3]\n",
      "[5, 2, 4, 1, 3]\n",
      "[5, 2, 4, 1, 3]\n",
      "[5, 2, 4, 1, 3]\n",
      "[5, 2, 4, 1, 3]\n",
      "[5, 2, 4, 1, 3]\n",
      "[1, 3, 4, 5, 2]\n",
      "[1, 3, 4, 5, 2]\n",
      "[1, 3, 4, 5, 2]\n",
      "[1, 3, 4, 5, 2]\n",
      "[1, 3, 4, 5, 2]\n",
      "[2, 4, 1, 5, 3]\n",
      "[2, 4, 1, 5, 3]\n",
      "[2, 4, 1, 5, 3]\n",
      "[2, 4, 1, 5, 3]\n",
      "[2, 4, 1, 5, 3]\n",
      "[2, 4, 1, 5, 3]\n",
      "[2, 4, 1, 5, 3]\n",
      "[2, 4, 1, 5, 3]\n",
      "[2, 4, 1, 5, 3]\n",
      "[2, 4, 1, 5, 3]\n",
      "[2, 4, 1, 5, 3]\n",
      "[2, 4, 1, 5, 3]\n",
      "[3, 1, 4, 5, 2]\n",
      "[3, 1, 4, 5, 2]\n",
      "[3, 1, 4, 5, 2]\n",
      "[3, 1, 4, 5, 2]\n",
      "[3, 1, 4, 5, 2]\n",
      "[3, 1, 4, 5, 2]\n",
      "[3, 1, 4, 5, 2]\n",
      "[3, 1, 4, 5, 2]\n",
      "[4, 1, 2, 5, 3]\n",
      "[4, 1, 2, 5, 3]\n",
      "[4, 1, 2, 5, 3]\n",
      "[4, 1, 2, 5, 3]\n",
      "[4, 1, 2, 5, 3]\n",
      "[4, 1, 2, 5, 3]\n",
      "[4, 1, 2, 5, 3]\n",
      "[4, 1, 2, 5, 3]\n",
      "[5, 1, 4, 2, 3]\n",
      "[5, 1, 4, 2, 3]\n",
      "[5, 1, 4, 2, 3]\n",
      "[5, 1, 4, 2, 3]\n",
      "[5, 1, 4, 2, 3]\n",
      "[5, 1, 4, 2, 3]\n",
      "[5, 1, 4, 2, 3]\n",
      "[5, 1, 4, 2, 3]\n",
      "[2, 3, 4, 5, 1]\n",
      "[2, 3, 4, 5, 1]\n",
      "[2, 3, 4, 5, 1]\n",
      "[2, 3, 4, 5, 1]\n",
      "[2, 3, 4, 5, 1]\n",
      "[2, 4, 1, 3, 5]\n",
      "[2, 4, 1, 3, 5]\n",
      "[2, 4, 1, 3, 5]\n",
      "[2, 4, 1, 3, 5]\n",
      "[2, 4, 1, 3, 5]\n",
      "[2, 4, 1, 3, 5]\n",
      "[2, 4, 1, 3, 5]\n",
      "[2, 4, 1, 3, 5]\n",
      "[2, 4, 1, 3, 5]\n",
      "[2, 4, 1, 3, 5]\n",
      "[2, 4, 1, 3, 5]\n",
      "[2, 4, 1, 3, 5]\n",
      "[2, 4, 1, 3, 5]\n",
      "[2, 4, 1, 3, 5]\n",
      "[2, 4, 1, 3, 5]\n",
      "[2, 4, 1, 3, 5]\n",
      "[4, 1, 2, 3, 5]\n",
      "[4, 1, 2, 3, 5]\n",
      "[4, 1, 2, 3, 5]\n",
      "[4, 1, 2, 3, 5]\n",
      "[4, 1, 2, 3, 5]\n",
      "[2, 3, 4, 1, 5]\n",
      "[2, 3, 4, 1, 5]\n",
      "[2, 3, 4, 1, 5]\n",
      "[2, 3, 4, 1, 5]\n",
      "[2, 3, 4, 1, 5]\n",
      "[3, 1, 4, 2, 5]\n",
      "[3, 1, 4, 2, 5]\n",
      "[3, 1, 4, 2, 5]\n",
      "[3, 1, 4, 2, 5]\n",
      "[3, 1, 4, 2, 5]\n",
      "[3, 1, 4, 2, 5]\n",
      "[3, 1, 4, 2, 5]\n",
      "[3, 1, 4, 2, 5]\n",
      "[3, 1, 4, 2, 5]\n",
      "[3, 1, 4, 2, 5]\n",
      "[3, 1, 4, 2, 5]\n",
      "[3, 1, 4, 2, 5]\n",
      "[3, 1, 4, 2, 5]\n",
      "[3, 1, 4, 2, 5]\n",
      "[1, 5, 2, 4, 3]\n",
      "[1, 5, 2, 4, 3]\n",
      "[1, 5, 2, 4, 3]\n",
      "[1, 5, 2, 4, 3]\n",
      "[1, 5, 2, 4, 3]\n",
      "[1, 5, 2, 4, 3]\n",
      "[1, 5, 2, 4, 3]\n",
      "[3, 2, 5, 4, 1]\n",
      "[3, 2, 5, 4, 1]\n",
      "[3, 2, 5, 4, 1]\n",
      "[3, 2, 5, 4, 1]\n",
      "[3, 2, 5, 4, 1]\n",
      "[3, 2, 5, 4, 1]\n",
      "[3, 2, 5, 4, 1]\n",
      "[1, 3, 5, 4, 2]\n",
      "[1, 3, 5, 4, 2]\n",
      "[1, 3, 5, 4, 2]\n",
      "[1, 3, 5, 4, 2]\n",
      "[1, 3, 5, 4, 2]\n",
      "[1, 3, 5, 4, 2]\n",
      "[1, 3, 5, 4, 2]\n",
      "[5, 2, 1, 4, 3]\n",
      "[5, 2, 1, 4, 3]\n",
      "[5, 2, 1, 4, 3]\n",
      "[5, 2, 1, 4, 3]\n",
      "[5, 2, 1, 4, 3]\n",
      "[5, 2, 1, 4, 3]\n",
      "[5, 2, 1, 4, 3]\n",
      "[2, 5, 1, 4, 3]\n",
      "[2, 5, 1, 4, 3]\n",
      "[2, 5, 1, 4, 3]\n",
      "[2, 5, 1, 4, 3]\n",
      "[2, 5, 1, 4, 3]\n",
      "[2, 5, 1, 4, 3]\n",
      "[2, 5, 1, 4, 3]\n",
      "[2, 5, 1, 4, 3]\n",
      "[5, 1, 2, 4, 3]\n",
      "[5, 1, 2, 4, 3]\n",
      "[5, 1, 2, 4, 3]\n",
      "[5, 1, 2, 4, 3]\n",
      "[5, 1, 2, 4, 3]\n",
      "[2, 3, 5, 4, 1]\n",
      "[2, 3, 5, 4, 1]\n",
      "[2, 3, 5, 4, 1]\n",
      "[2, 3, 5, 4, 1]\n",
      "[2, 3, 5, 4, 1]\n",
      "[4, 2, 5, 3, 1]\n",
      "[4, 2, 5, 3, 1]\n",
      "[4, 2, 5, 3, 1]\n",
      "[4, 2, 5, 3, 1]\n",
      "[4, 2, 5, 3, 1]\n",
      "[4, 2, 5, 3, 1]\n",
      "[4, 2, 5, 3, 1]\n",
      "[4, 2, 5, 3, 1]\n",
      "[4, 2, 5, 3, 1]\n",
      "[4, 2, 5, 3, 1]\n",
      "[4, 2, 5, 3, 1]\n",
      "[4, 2, 5, 3, 1]\n",
      "[4, 2, 5, 3, 1]\n",
      "[4, 2, 5, 3, 1]\n",
      "[4, 2, 5, 3, 1]\n",
      "[4, 2, 5, 3, 1]\n",
      "[1, 5, 2, 3, 4]\n",
      "[1, 5, 2, 3, 4]\n",
      "[1, 5, 2, 3, 4]\n",
      "[1, 5, 2, 3, 4]\n",
      "[1, 5, 2, 3, 4]\n",
      "[1, 3, 5, 2, 4]\n",
      "[1, 3, 5, 2, 4]\n",
      "[1, 3, 5, 2, 4]\n",
      "[1, 3, 5, 2, 4]\n",
      "[1, 3, 5, 2, 4]\n",
      "[1, 3, 5, 2, 4]\n",
      "[1, 3, 5, 2, 4]\n",
      "[1, 3, 5, 2, 4]\n",
      "[1, 3, 5, 2, 4]\n",
      "[1, 3, 5, 2, 4]\n",
      "[1, 3, 5, 2, 4]\n",
      "[1, 3, 5, 2, 4]\n",
      "[1, 3, 5, 2, 4]\n",
      "[1, 3, 5, 2, 4]\n",
      "[1, 3, 5, 2, 4]\n",
      "[5, 2, 1, 3, 4]\n",
      "[5, 2, 1, 3, 4]\n",
      "[5, 2, 1, 3, 4]\n",
      "[5, 2, 1, 3, 4]\n",
      "[5, 2, 1, 3, 4]\n",
      "[2, 5, 1, 3, 4]\n",
      "[2, 5, 1, 3, 4]\n",
      "[2, 5, 1, 3, 4]\n",
      "[2, 5, 1, 3, 4]\n",
      "[2, 5, 1, 3, 4]\n",
      "[2, 5, 1, 3, 4]\n",
      "[2, 5, 1, 3, 4]\n",
      "[2, 3, 5, 1, 4]\n",
      "[2, 3, 5, 1, 4]\n",
      "[2, 3, 5, 1, 4]\n",
      "[2, 3, 5, 1, 4]\n",
      "[2, 3, 5, 1, 4]\n",
      "[2, 3, 5, 1, 4]\n",
      "[2, 3, 5, 1, 4]\n",
      "[2, 4, 5, 3, 1]\n",
      "[2, 4, 5, 3, 1]\n",
      "[2, 4, 5, 3, 1]\n",
      "[2, 4, 5, 3, 1]\n",
      "[2, 4, 5, 3, 1]\n",
      "[2, 4, 5, 3, 1]\n",
      "[2, 4, 5, 3, 1]\n",
      "[5, 1, 2, 3, 4]\n",
      "[5, 1, 2, 3, 4]\n",
      "[5, 1, 2, 3, 4]\n",
      "[5, 1, 2, 3, 4]\n",
      "[5, 1, 2, 3, 4]\n",
      "[3, 2, 4, 1, 5]\n",
      "[3, 2, 4, 1, 5]\n",
      "[3, 2, 4, 1, 5]\n",
      "[3, 2, 4, 1, 5]\n",
      "[3, 2, 4, 1, 5]\n",
      "[3, 2, 4, 1, 5]\n",
      "[2, 4, 3, 1, 5]\n",
      "[2, 4, 3, 1, 5]\n",
      "[2, 4, 3, 1, 5]\n",
      "[2, 4, 3, 1, 5]\n",
      "[2, 4, 3, 1, 5]\n",
      "[2, 4, 3, 1, 5]\n",
      "[5, 3, 4, 1, 2]\n",
      "[5, 3, 4, 1, 2]\n",
      "[5, 3, 4, 1, 2]\n",
      "[5, 3, 4, 1, 2]\n",
      "[5, 3, 4, 1, 2]\n",
      "[5, 3, 4, 1, 2]\n",
      "[5, 3, 4, 1, 2]\n",
      "[5, 3, 4, 1, 2]\n",
      "[4, 2, 3, 1, 5]\n",
      "[4, 2, 3, 1, 5]\n",
      "[4, 2, 3, 1, 5]\n",
      "[4, 2, 3, 1, 5]\n",
      "[4, 2, 3, 1, 5]\n",
      "[4, 2, 3, 1, 5]\n",
      "[4, 2, 3, 1, 5]\n",
      "[4, 2, 3, 1, 5]\n",
      "[4, 2, 3, 1, 5]\n",
      "[4, 2, 3, 1, 5]\n",
      "[4, 2, 3, 1, 5]\n",
      "[3, 2, 5, 1, 4]\n",
      "[3, 2, 5, 1, 4]\n",
      "[3, 2, 5, 1, 4]\n",
      "[3, 2, 5, 1, 4]\n",
      "[3, 2, 5, 1, 4]\n",
      "[3, 2, 5, 1, 4]\n",
      "[3, 2, 5, 1, 4]\n",
      "[3, 2, 5, 1, 4]\n",
      "[3, 4, 2, 5, 1]\n",
      "[3, 4, 2, 5, 1]\n",
      "[3, 4, 2, 5, 1]\n",
      "[3, 4, 2, 5, 1]\n",
      "[3, 4, 2, 5, 1]\n",
      "[3, 4, 2, 5, 1]\n",
      "[3, 5, 2, 1, 4]\n",
      "[3, 5, 2, 1, 4]\n",
      "[3, 5, 2, 1, 4]\n",
      "[3, 5, 2, 1, 4]\n",
      "[3, 5, 2, 1, 4]\n",
      "[3, 5, 2, 1, 4]\n",
      "[3, 5, 2, 1, 4]\n",
      "[3, 5, 2, 1, 4]\n",
      "[3, 5, 2, 1, 4]\n",
      "[3, 5, 2, 1, 4]\n",
      "[3, 5, 2, 1, 4]\n",
      "[3, 5, 2, 4, 1]\n",
      "[3, 5, 2, 4, 1]\n",
      "[3, 5, 2, 4, 1]\n",
      "[3, 5, 2, 4, 1]\n",
      "[3, 5, 2, 4, 1]\n",
      "[3, 5, 2, 4, 1]\n",
      "[3, 5, 2, 4, 1]\n",
      "[3, 5, 2, 4, 1]\n",
      "[3, 5, 2, 4, 1]\n",
      "[3, 5, 2, 4, 1]\n",
      "[3, 5, 2, 4, 1]\n",
      "[3, 5, 2, 4, 1]\n",
      "[3, 5, 2, 4, 1]\n",
      "[3, 5, 2, 4, 1]\n",
      "[3, 5, 2, 4, 1]\n",
      "[3, 5, 2, 4, 1]\n",
      "[5, 3, 1, 2, 4]\n",
      "[5, 3, 1, 2, 4]\n",
      "[5, 3, 1, 2, 4]\n",
      "[5, 3, 1, 2, 4]\n",
      "[5, 3, 1, 2, 4]\n",
      "[5, 3, 1, 2, 4]\n",
      "[5, 3, 1, 2, 4]\n",
      "[5, 3, 1, 2, 4]\n",
      "[5, 3, 1, 2, 4]\n",
      "[5, 3, 1, 4, 2]\n",
      "[5, 3, 1, 4, 2]\n",
      "[5, 3, 1, 4, 2]\n",
      "[5, 3, 1, 4, 2]\n",
      "[5, 3, 1, 4, 2]\n",
      "[5, 3, 1, 4, 2]\n",
      "[5, 3, 1, 4, 2]\n",
      "[5, 3, 1, 4, 2]\n",
      "[5, 3, 1, 4, 2]\n",
      "[5, 3, 1, 4, 2]\n",
      "[5, 3, 1, 4, 2]\n",
      "[5, 3, 1, 4, 2]\n",
      "[5, 3, 1, 4, 2]\n",
      "[5, 3, 1, 4, 2]\n",
      "[5, 3, 1, 4, 2]\n",
      "[5, 3, 1, 4, 2]\n",
      "[4, 2, 1, 3, 5]\n",
      "[4, 2, 1, 3, 5]\n",
      "[4, 2, 1, 3, 5]\n",
      "[4, 2, 1, 3, 5]\n",
      "[4, 2, 1, 3, 5]\n",
      "[4, 2, 1, 3, 5]\n",
      "[4, 2, 1, 3, 5]\n",
      "[4, 2, 1, 3, 5]\n",
      "[4, 1, 3, 2, 5]\n",
      "[4, 1, 3, 2, 5]\n",
      "[4, 1, 3, 2, 5]\n",
      "[4, 1, 3, 2, 5]\n",
      "[4, 1, 3, 2, 5]\n",
      "[4, 1, 3, 2, 5]\n",
      "[4, 5, 2, 3, 1]\n",
      "[4, 5, 2, 3, 1]\n",
      "[4, 5, 2, 3, 1]\n",
      "[4, 5, 2, 3, 1]\n",
      "[4, 5, 2, 3, 1]\n",
      "[4, 5, 2, 3, 1]\n",
      "[4, 5, 2, 3, 1]\n",
      "[1, 5, 3, 2, 4]\n",
      "[1, 5, 3, 2, 4]\n",
      "[1, 5, 3, 2, 4]\n",
      "[1, 5, 3, 2, 4]\n",
      "[1, 5, 3, 2, 4]\n",
      "[1, 5, 3, 2, 4]\n",
      "[1, 5, 3, 2, 4]\n",
      "[1, 4, 3, 2, 5]\n",
      "[1, 4, 3, 2, 5]\n",
      "[1, 4, 3, 2, 5]\n",
      "[1, 4, 3, 2, 5]\n",
      "[1, 4, 3, 2, 5]\n",
      "[1, 4, 3, 2, 5]\n",
      "[1, 4, 3, 2, 5]\n",
      "[1, 4, 3, 2, 5]\n",
      "[1, 4, 3, 2, 5]\n",
      "[1, 4, 3, 2, 5]\n",
      "[1, 4, 3, 2, 5]\n",
      "[1, 4, 3, 5, 2]\n",
      "[1, 4, 3, 5, 2]\n",
      "[1, 4, 3, 5, 2]\n",
      "[1, 4, 3, 5, 2]\n",
      "[1, 4, 3, 5, 2]\n",
      "[1, 4, 3, 5, 2]\n",
      "[1, 5, 3, 4, 2]\n",
      "[1, 5, 3, 4, 2]\n",
      "[1, 5, 3, 4, 2]\n",
      "[1, 5, 3, 4, 2]\n",
      "[1, 5, 3, 4, 2]\n",
      "[1, 5, 3, 4, 2]\n",
      "[1, 5, 3, 4, 2]\n",
      "[1, 5, 3, 4, 2]\n",
      "[1, 5, 3, 4, 2]\n",
      "[1, 5, 3, 4, 2]\n",
      "[1, 5, 3, 4, 2]\n"
     ]
    }
   ],
   "source": [
    "for x,y in resg.edges():\n",
    "    print(x)\n",
    "    resg[x][y]['diffweight'] = resg[x][y]['diffweight'].subs(V1=V0,V2=V0,V3=V0,V4=V0,U1=U0,U2=U0,U3=U0,U4=U0)\n",
    "    if resg[x][y]['diffweight'] == 0:\n",
    "        resg.remove_edge[x][y]"
   ]
  },
  {
   "cell_type": "code",
   "execution_count": 111,
   "metadata": {},
   "outputs": [],
   "source": [
    "myring = LaurentPolynomialRing(QQ, ('x','y'))"
   ]
  },
  {
   "cell_type": "code",
   "execution_count": 109,
   "metadata": {},
   "outputs": [
    {
     "name": "stdout",
     "output_type": "stream",
     "text": [
      "[5, 1, 3, 2, 4]\n",
      "[5, 1, 3, 2, 4]\n",
      "[5, 1, 3, 2, 4]\n",
      "[5, 1, 3, 2, 4]\n",
      "[5, 1, 3, 2, 4]\n",
      "[2, 4, 3, 5, 1]\n",
      "[2, 4, 3, 5, 1]\n",
      "[2, 4, 3, 5, 1]\n",
      "[2, 4, 3, 5, 1]\n",
      "[2, 4, 3, 5, 1]\n",
      "[2, 5, 3, 1, 4]\n",
      "[2, 5, 3, 1, 4]\n",
      "[2, 5, 3, 1, 4]\n",
      "[2, 5, 3, 1, 4]\n",
      "[2, 5, 3, 1, 4]\n",
      "[2, 5, 3, 1, 4]\n",
      "[2, 5, 3, 1, 4]\n",
      "[2, 5, 3, 1, 4]\n",
      "[2, 5, 3, 1, 4]\n",
      "[2, 5, 3, 1, 4]\n",
      "[2, 5, 3, 1, 4]\n",
      "[2, 5, 3, 1, 4]\n",
      "[2, 5, 3, 1, 4]\n",
      "[2, 5, 3, 1, 4]\n",
      "[2, 5, 3, 1, 4]\n",
      "[1, 4, 2, 5, 3]\n",
      "[1, 4, 2, 5, 3]\n",
      "[1, 4, 2, 5, 3]\n",
      "[1, 4, 2, 5, 3]\n",
      "[1, 4, 2, 5, 3]\n",
      "[1, 4, 2, 5, 3]\n",
      "[1, 4, 2, 5, 3]\n",
      "[1, 4, 2, 5, 3]\n",
      "[1, 4, 2, 5, 3]\n",
      "[1, 4, 2, 5, 3]\n",
      "[1, 4, 2, 5, 3]\n",
      "[1, 4, 2, 5, 3]\n",
      "[1, 4, 2, 5, 3]\n",
      "[1, 4, 2, 5, 3]\n",
      "[1, 4, 2, 5, 3]\n",
      "[3, 2, 4, 5, 1]\n",
      "[3, 2, 4, 5, 1]\n",
      "[3, 2, 4, 5, 1]\n",
      "[3, 2, 4, 5, 1]\n",
      "[3, 2, 4, 5, 1]\n",
      "[5, 2, 4, 1, 3]\n",
      "[5, 2, 4, 1, 3]\n",
      "[5, 2, 4, 1, 3]\n",
      "[5, 2, 4, 1, 3]\n",
      "[5, 2, 4, 1, 3]\n",
      "[5, 2, 4, 1, 3]\n",
      "[5, 2, 4, 1, 3]\n",
      "[5, 2, 4, 1, 3]\n",
      "[5, 2, 4, 1, 3]\n",
      "[5, 2, 4, 1, 3]\n",
      "[5, 2, 4, 1, 3]\n",
      "[5, 2, 4, 1, 3]\n",
      "[5, 2, 4, 1, 3]\n",
      "[5, 2, 4, 1, 3]\n",
      "[5, 2, 4, 1, 3]\n",
      "[5, 2, 4, 1, 3]\n",
      "[1, 3, 4, 5, 2]\n",
      "[1, 3, 4, 5, 2]\n",
      "[1, 3, 4, 5, 2]\n",
      "[1, 3, 4, 5, 2]\n",
      "[1, 3, 4, 5, 2]\n",
      "[2, 4, 1, 5, 3]\n",
      "[2, 4, 1, 5, 3]\n",
      "[2, 4, 1, 5, 3]\n",
      "[2, 4, 1, 5, 3]\n",
      "[2, 4, 1, 5, 3]\n",
      "[2, 4, 1, 5, 3]\n",
      "[2, 4, 1, 5, 3]\n",
      "[2, 4, 1, 5, 3]\n",
      "[2, 4, 1, 5, 3]\n",
      "[2, 4, 1, 5, 3]\n",
      "[2, 4, 1, 5, 3]\n",
      "[2, 4, 1, 5, 3]\n",
      "[3, 1, 4, 5, 2]\n",
      "[3, 1, 4, 5, 2]\n",
      "[3, 1, 4, 5, 2]\n",
      "[3, 1, 4, 5, 2]\n",
      "[3, 1, 4, 5, 2]\n",
      "[3, 1, 4, 5, 2]\n",
      "[3, 1, 4, 5, 2]\n",
      "[3, 1, 4, 5, 2]\n",
      "[4, 1, 2, 5, 3]\n",
      "[4, 1, 2, 5, 3]\n",
      "[4, 1, 2, 5, 3]\n",
      "[4, 1, 2, 5, 3]\n",
      "[4, 1, 2, 5, 3]\n",
      "[4, 1, 2, 5, 3]\n",
      "[4, 1, 2, 5, 3]\n",
      "[4, 1, 2, 5, 3]\n",
      "[5, 1, 4, 2, 3]\n",
      "[5, 1, 4, 2, 3]\n",
      "[5, 1, 4, 2, 3]\n",
      "[5, 1, 4, 2, 3]\n",
      "[5, 1, 4, 2, 3]\n",
      "[5, 1, 4, 2, 3]\n",
      "[5, 1, 4, 2, 3]\n",
      "[5, 1, 4, 2, 3]\n",
      "[2, 3, 4, 5, 1]\n",
      "[2, 3, 4, 5, 1]\n",
      "[2, 3, 4, 5, 1]\n",
      "[2, 3, 4, 5, 1]\n",
      "[2, 3, 4, 5, 1]\n",
      "[2, 4, 1, 3, 5]\n",
      "[2, 4, 1, 3, 5]\n",
      "[2, 4, 1, 3, 5]\n",
      "[2, 4, 1, 3, 5]\n",
      "[2, 4, 1, 3, 5]\n",
      "[2, 4, 1, 3, 5]\n",
      "[2, 4, 1, 3, 5]\n",
      "[2, 4, 1, 3, 5]\n",
      "[2, 4, 1, 3, 5]\n",
      "[2, 4, 1, 3, 5]\n",
      "[2, 4, 1, 3, 5]\n",
      "[2, 4, 1, 3, 5]\n",
      "[2, 4, 1, 3, 5]\n",
      "[2, 4, 1, 3, 5]\n",
      "[2, 4, 1, 3, 5]\n",
      "[2, 4, 1, 3, 5]\n",
      "[4, 1, 2, 3, 5]\n",
      "[4, 1, 2, 3, 5]\n",
      "[4, 1, 2, 3, 5]\n",
      "[4, 1, 2, 3, 5]\n",
      "[4, 1, 2, 3, 5]\n",
      "[2, 3, 4, 1, 5]\n",
      "[2, 3, 4, 1, 5]\n",
      "[2, 3, 4, 1, 5]\n",
      "[2, 3, 4, 1, 5]\n",
      "[2, 3, 4, 1, 5]\n",
      "[3, 1, 4, 2, 5]\n",
      "[3, 1, 4, 2, 5]\n",
      "[3, 1, 4, 2, 5]\n",
      "[3, 1, 4, 2, 5]\n",
      "[3, 1, 4, 2, 5]\n",
      "[3, 1, 4, 2, 5]\n",
      "[3, 1, 4, 2, 5]\n",
      "[3, 1, 4, 2, 5]\n",
      "[3, 1, 4, 2, 5]\n",
      "[3, 1, 4, 2, 5]\n",
      "[3, 1, 4, 2, 5]\n",
      "[3, 1, 4, 2, 5]\n",
      "[3, 1, 4, 2, 5]\n",
      "[3, 1, 4, 2, 5]\n",
      "[1, 5, 2, 4, 3]\n",
      "[1, 5, 2, 4, 3]\n",
      "[1, 5, 2, 4, 3]\n",
      "[1, 5, 2, 4, 3]\n",
      "[1, 5, 2, 4, 3]\n",
      "[1, 5, 2, 4, 3]\n",
      "[1, 5, 2, 4, 3]\n",
      "[3, 2, 5, 4, 1]\n",
      "[3, 2, 5, 4, 1]\n",
      "[3, 2, 5, 4, 1]\n",
      "[3, 2, 5, 4, 1]\n",
      "[3, 2, 5, 4, 1]\n",
      "[3, 2, 5, 4, 1]\n",
      "[3, 2, 5, 4, 1]\n",
      "[1, 3, 5, 4, 2]\n",
      "[1, 3, 5, 4, 2]\n",
      "[1, 3, 5, 4, 2]\n",
      "[1, 3, 5, 4, 2]\n",
      "[1, 3, 5, 4, 2]\n",
      "[1, 3, 5, 4, 2]\n",
      "[1, 3, 5, 4, 2]\n",
      "[5, 2, 1, 4, 3]\n",
      "[5, 2, 1, 4, 3]\n",
      "[5, 2, 1, 4, 3]\n",
      "[5, 2, 1, 4, 3]\n",
      "[5, 2, 1, 4, 3]\n",
      "[5, 2, 1, 4, 3]\n",
      "[5, 2, 1, 4, 3]\n",
      "[2, 5, 1, 4, 3]\n",
      "[2, 5, 1, 4, 3]\n",
      "[2, 5, 1, 4, 3]\n",
      "[2, 5, 1, 4, 3]\n",
      "[2, 5, 1, 4, 3]\n",
      "[2, 5, 1, 4, 3]\n",
      "[2, 5, 1, 4, 3]\n",
      "[2, 5, 1, 4, 3]\n",
      "[5, 1, 2, 4, 3]\n",
      "[5, 1, 2, 4, 3]\n",
      "[5, 1, 2, 4, 3]\n",
      "[5, 1, 2, 4, 3]\n",
      "[5, 1, 2, 4, 3]\n",
      "[2, 3, 5, 4, 1]\n",
      "[2, 3, 5, 4, 1]\n",
      "[2, 3, 5, 4, 1]\n",
      "[2, 3, 5, 4, 1]\n",
      "[2, 3, 5, 4, 1]\n",
      "[4, 2, 5, 3, 1]\n",
      "[4, 2, 5, 3, 1]\n",
      "[4, 2, 5, 3, 1]\n",
      "[4, 2, 5, 3, 1]\n",
      "[4, 2, 5, 3, 1]\n",
      "[4, 2, 5, 3, 1]\n",
      "[4, 2, 5, 3, 1]\n",
      "[4, 2, 5, 3, 1]\n",
      "[4, 2, 5, 3, 1]\n",
      "[4, 2, 5, 3, 1]\n",
      "[4, 2, 5, 3, 1]\n",
      "[4, 2, 5, 3, 1]\n",
      "[4, 2, 5, 3, 1]\n",
      "[4, 2, 5, 3, 1]\n",
      "[4, 2, 5, 3, 1]\n",
      "[4, 2, 5, 3, 1]\n",
      "[1, 5, 2, 3, 4]\n",
      "[1, 5, 2, 3, 4]\n",
      "[1, 5, 2, 3, 4]\n",
      "[1, 5, 2, 3, 4]\n",
      "[1, 5, 2, 3, 4]\n",
      "[1, 3, 5, 2, 4]\n",
      "[1, 3, 5, 2, 4]\n",
      "[1, 3, 5, 2, 4]\n",
      "[1, 3, 5, 2, 4]\n",
      "[1, 3, 5, 2, 4]\n",
      "[1, 3, 5, 2, 4]\n",
      "[1, 3, 5, 2, 4]\n",
      "[1, 3, 5, 2, 4]\n",
      "[1, 3, 5, 2, 4]\n",
      "[1, 3, 5, 2, 4]\n",
      "[1, 3, 5, 2, 4]\n",
      "[1, 3, 5, 2, 4]\n",
      "[1, 3, 5, 2, 4]\n",
      "[1, 3, 5, 2, 4]\n",
      "[1, 3, 5, 2, 4]\n",
      "[5, 2, 1, 3, 4]\n",
      "[5, 2, 1, 3, 4]\n",
      "[5, 2, 1, 3, 4]\n",
      "[5, 2, 1, 3, 4]\n",
      "[5, 2, 1, 3, 4]\n",
      "[2, 5, 1, 3, 4]\n",
      "[2, 5, 1, 3, 4]\n",
      "[2, 5, 1, 3, 4]\n",
      "[2, 5, 1, 3, 4]\n",
      "[2, 5, 1, 3, 4]\n",
      "[2, 5, 1, 3, 4]\n",
      "[2, 5, 1, 3, 4]\n",
      "[2, 3, 5, 1, 4]\n",
      "[2, 3, 5, 1, 4]\n",
      "[2, 3, 5, 1, 4]\n",
      "[2, 3, 5, 1, 4]\n",
      "[2, 3, 5, 1, 4]\n",
      "[2, 3, 5, 1, 4]\n",
      "[2, 3, 5, 1, 4]\n",
      "[2, 4, 5, 3, 1]\n",
      "[2, 4, 5, 3, 1]\n",
      "[2, 4, 5, 3, 1]\n",
      "[2, 4, 5, 3, 1]\n",
      "[2, 4, 5, 3, 1]\n",
      "[2, 4, 5, 3, 1]\n",
      "[2, 4, 5, 3, 1]\n",
      "[5, 1, 2, 3, 4]\n",
      "[5, 1, 2, 3, 4]\n",
      "[5, 1, 2, 3, 4]\n",
      "[5, 1, 2, 3, 4]\n",
      "[5, 1, 2, 3, 4]\n",
      "[3, 2, 4, 1, 5]\n",
      "[3, 2, 4, 1, 5]\n",
      "[3, 2, 4, 1, 5]\n",
      "[3, 2, 4, 1, 5]\n",
      "[3, 2, 4, 1, 5]\n",
      "[3, 2, 4, 1, 5]\n",
      "[2, 4, 3, 1, 5]\n",
      "[2, 4, 3, 1, 5]\n",
      "[2, 4, 3, 1, 5]\n",
      "[2, 4, 3, 1, 5]\n",
      "[2, 4, 3, 1, 5]\n",
      "[2, 4, 3, 1, 5]\n",
      "[5, 3, 4, 1, 2]\n",
      "[5, 3, 4, 1, 2]\n",
      "[5, 3, 4, 1, 2]\n",
      "[5, 3, 4, 1, 2]\n",
      "[5, 3, 4, 1, 2]\n",
      "[5, 3, 4, 1, 2]\n",
      "[5, 3, 4, 1, 2]\n",
      "[5, 3, 4, 1, 2]\n",
      "[4, 2, 3, 1, 5]\n",
      "[4, 2, 3, 1, 5]\n",
      "[4, 2, 3, 1, 5]\n",
      "[4, 2, 3, 1, 5]\n",
      "[4, 2, 3, 1, 5]\n",
      "[4, 2, 3, 1, 5]\n",
      "[4, 2, 3, 1, 5]\n",
      "[4, 2, 3, 1, 5]\n",
      "[4, 2, 3, 1, 5]\n",
      "[4, 2, 3, 1, 5]\n",
      "[4, 2, 3, 1, 5]\n",
      "[3, 2, 5, 1, 4]\n",
      "[3, 2, 5, 1, 4]\n",
      "[3, 2, 5, 1, 4]\n",
      "[3, 2, 5, 1, 4]\n",
      "[3, 2, 5, 1, 4]\n",
      "[3, 2, 5, 1, 4]\n",
      "[3, 2, 5, 1, 4]\n",
      "[3, 2, 5, 1, 4]\n",
      "[3, 4, 2, 5, 1]\n",
      "[3, 4, 2, 5, 1]\n",
      "[3, 4, 2, 5, 1]\n",
      "[3, 4, 2, 5, 1]\n",
      "[3, 4, 2, 5, 1]\n",
      "[3, 4, 2, 5, 1]\n",
      "[3, 5, 2, 1, 4]\n",
      "[3, 5, 2, 1, 4]\n",
      "[3, 5, 2, 1, 4]\n",
      "[3, 5, 2, 1, 4]\n",
      "[3, 5, 2, 1, 4]\n",
      "[3, 5, 2, 1, 4]\n",
      "[3, 5, 2, 1, 4]\n",
      "[3, 5, 2, 1, 4]\n",
      "[3, 5, 2, 1, 4]\n",
      "[3, 5, 2, 1, 4]\n",
      "[3, 5, 2, 1, 4]\n",
      "[3, 5, 2, 4, 1]\n",
      "[3, 5, 2, 4, 1]\n",
      "[3, 5, 2, 4, 1]\n",
      "[3, 5, 2, 4, 1]\n",
      "[3, 5, 2, 4, 1]\n",
      "[3, 5, 2, 4, 1]\n",
      "[3, 5, 2, 4, 1]\n",
      "[3, 5, 2, 4, 1]\n",
      "[3, 5, 2, 4, 1]\n",
      "[3, 5, 2, 4, 1]\n",
      "[3, 5, 2, 4, 1]\n",
      "[3, 5, 2, 4, 1]\n",
      "[3, 5, 2, 4, 1]\n",
      "[3, 5, 2, 4, 1]\n",
      "[3, 5, 2, 4, 1]\n",
      "[3, 5, 2, 4, 1]\n",
      "[5, 3, 1, 2, 4]\n",
      "[5, 3, 1, 2, 4]\n",
      "[5, 3, 1, 2, 4]\n",
      "[5, 3, 1, 2, 4]\n",
      "[5, 3, 1, 2, 4]\n",
      "[5, 3, 1, 2, 4]\n",
      "[5, 3, 1, 2, 4]\n",
      "[5, 3, 1, 2, 4]\n",
      "[5, 3, 1, 2, 4]\n",
      "[5, 3, 1, 4, 2]\n",
      "[5, 3, 1, 4, 2]\n",
      "[5, 3, 1, 4, 2]\n",
      "[5, 3, 1, 4, 2]\n",
      "[5, 3, 1, 4, 2]\n",
      "[5, 3, 1, 4, 2]\n",
      "[5, 3, 1, 4, 2]\n",
      "[5, 3, 1, 4, 2]\n",
      "[5, 3, 1, 4, 2]\n",
      "[5, 3, 1, 4, 2]\n",
      "[5, 3, 1, 4, 2]\n",
      "[5, 3, 1, 4, 2]\n",
      "[5, 3, 1, 4, 2]\n",
      "[5, 3, 1, 4, 2]\n",
      "[5, 3, 1, 4, 2]\n",
      "[5, 3, 1, 4, 2]\n",
      "[4, 2, 1, 3, 5]\n",
      "[4, 2, 1, 3, 5]\n",
      "[4, 2, 1, 3, 5]\n",
      "[4, 2, 1, 3, 5]\n",
      "[4, 2, 1, 3, 5]\n",
      "[4, 2, 1, 3, 5]\n",
      "[4, 2, 1, 3, 5]\n",
      "[4, 2, 1, 3, 5]\n",
      "[4, 1, 3, 2, 5]\n",
      "[4, 1, 3, 2, 5]\n",
      "[4, 1, 3, 2, 5]\n",
      "[4, 1, 3, 2, 5]\n",
      "[4, 1, 3, 2, 5]\n",
      "[4, 1, 3, 2, 5]\n",
      "[4, 5, 2, 3, 1]\n",
      "[4, 5, 2, 3, 1]\n",
      "[4, 5, 2, 3, 1]\n",
      "[4, 5, 2, 3, 1]\n",
      "[4, 5, 2, 3, 1]\n",
      "[4, 5, 2, 3, 1]\n",
      "[4, 5, 2, 3, 1]\n",
      "[1, 5, 3, 2, 4]\n",
      "[1, 5, 3, 2, 4]\n",
      "[1, 5, 3, 2, 4]\n",
      "[1, 5, 3, 2, 4]\n",
      "[1, 5, 3, 2, 4]\n",
      "[1, 5, 3, 2, 4]\n",
      "[1, 5, 3, 2, 4]\n",
      "[1, 4, 3, 2, 5]\n",
      "[1, 4, 3, 2, 5]\n",
      "[1, 4, 3, 2, 5]\n",
      "[1, 4, 3, 2, 5]\n",
      "[1, 4, 3, 2, 5]\n",
      "[1, 4, 3, 2, 5]\n",
      "[1, 4, 3, 2, 5]\n",
      "[1, 4, 3, 2, 5]\n",
      "[1, 4, 3, 2, 5]\n",
      "[1, 4, 3, 2, 5]\n",
      "[1, 4, 3, 2, 5]\n",
      "[1, 4, 3, 5, 2]\n",
      "[1, 4, 3, 5, 2]\n",
      "[1, 4, 3, 5, 2]\n",
      "[1, 4, 3, 5, 2]\n",
      "[1, 4, 3, 5, 2]\n",
      "[1, 4, 3, 5, 2]\n",
      "[1, 5, 3, 4, 2]\n",
      "[1, 5, 3, 4, 2]\n",
      "[1, 5, 3, 4, 2]\n",
      "[1, 5, 3, 4, 2]\n",
      "[1, 5, 3, 4, 2]\n",
      "[1, 5, 3, 4, 2]\n",
      "[1, 5, 3, 4, 2]\n",
      "[1, 5, 3, 4, 2]\n",
      "[1, 5, 3, 4, 2]\n",
      "[1, 5, 3, 4, 2]\n",
      "[1, 5, 3, 4, 2]\n"
     ]
    },
    {
     "data": {
      "image/png": "[encoded data removed]",
      "text/plain": [
       "<Figure size 432x288 with 1 Axes>"
      ]
     },
     "metadata": {},
     "output_type": "display_data"
    }
   ],
   "source": [
    "nx.draw(resg)\n",
    "for x,y in resg.edges():\n",
    "    print(x)\n",
    "    resg[x][y]['diffweight'] = str(resg[x][y]['diffweight'])\n",
    "nx.write_gml(resg, 'pleasegod.gml')"
   ]
  },
  {
   "cell_type": "code",
   "execution_count": 59,
   "metadata": {},
   "outputs": [],
   "source": [
    "nxcomp = nx.DiGraph(dictg)"
   ]
  },
  {
   "cell_type": "code",
   "execution_count": 73,
   "metadata": {},
   "outputs": [
    {
     "ename": "TypeError",
     "evalue": "'tuple' object does not support item assignment",
     "output_type": "error",
     "traceback": [
      "\u001b[0;31m---------------------------------------------------------------------------\u001b[0m",
      "\u001b[0;31mTypeError\u001b[0m                                 Traceback (most recent call last)",
      "\u001b[0;32m<ipython-input-73-8717af5f6713>\u001b[0m in \u001b[0;36m<module>\u001b[0;34m\u001b[0m\n\u001b[1;32m      1\u001b[0m \u001b[0mredg\u001b[0m \u001b[0;34m=\u001b[0m \u001b[0mgraph_red_search\u001b[0m\u001b[0;34m(\u001b[0m\u001b[0mnxcomp\u001b[0m\u001b[0;34m)\u001b[0m\u001b[0;34m\u001b[0m\u001b[0;34m\u001b[0m\u001b[0m\n\u001b[1;32m      2\u001b[0m \u001b[0;32mfor\u001b[0m \u001b[0medge\u001b[0m \u001b[0;32min\u001b[0m \u001b[0mredg\u001b[0m\u001b[0;34m.\u001b[0m\u001b[0medges\u001b[0m\u001b[0;34m(\u001b[0m\u001b[0;34m)\u001b[0m\u001b[0;34m:\u001b[0m\u001b[0;34m\u001b[0m\u001b[0;34m\u001b[0m\u001b[0m\n\u001b[0;32m----> 3\u001b[0;31m     \u001b[0medge\u001b[0m\u001b[0;34m[\u001b[0m\u001b[0;34m'weight'\u001b[0m\u001b[0;34m]\u001b[0m \u001b[0;34m=\u001b[0m \u001b[0mInteger\u001b[0m\u001b[0;34m(\u001b[0m\u001b[0;36m1\u001b[0m\u001b[0;34m)\u001b[0m\u001b[0;34m\u001b[0m\u001b[0;34m\u001b[0m\u001b[0m\n\u001b[0m",
      "\u001b[0;31mTypeError\u001b[0m: 'tuple' object does not support item assignment"
     ]
    }
   ],
   "source": [
    "redg = graph_red_search(nxcomp)\n",
    "for edge in redg.edges():\n",
    "    redg"
   ]
  },
  {
   "cell_type": "code",
   "execution_count": 63,
   "metadata": {},
   "outputs": [],
   "source": [
    "testg = 0"
   ]
  },
  {
   "cell_type": "code",
   "execution_count": 64,
   "metadata": {},
   "outputs": [],
   "source": [
    "testg = nx.DiGraph()"
   ]
  },
  {
   "cell_type": "code",
   "execution_count": 65,
   "metadata": {},
   "outputs": [],
   "source": [
    "testg.add_edge('x','y',diffweight = 'U0')"
   ]
  },
  {
   "cell_type": "code",
   "execution_count": 69,
   "metadata": {},
   "outputs": [
    {
     "data": {
      "text/plain": [
       "OutEdgeView([('x', 'y')])"
      ]
     },
     "execution_count": 69,
     "metadata": {},
     "output_type": "execute_result"
    }
   ],
   "source": [
    "testg.edges()"
   ]
  },
  {
   "cell_type": "code",
   "execution_count": 72,
   "metadata": {},
   "outputs": [
    {
     "data": {
      "text/plain": [
       "'U0'"
      ]
     },
     "execution_count": 72,
     "metadata": {},
     "output_type": "execute_result"
    }
   ],
   "source": [
    "testg['x']['y']['diffweight']"
   ]
  },
  {
   "cell_type": "code",
   "execution_count": 66,
   "metadata": {},
   "outputs": [
    {
     "data": {
      "image/png": "[encoded data removed]",
      "text/plain": [
       "<Figure size 432x288 with 1 Axes>"
      ]
     },
     "metadata": {},
     "output_type": "display_data"
    }
   ],
   "source": [
    "nx.draw(testg)"
   ]
  },
  {
   "cell_type": "code",
   "execution_count": 24,
   "metadata": {},
   "outputs": [
    {
     "data": {
      "text/plain": [
       "3"
      ]
     },
     "execution_count": 24,
     "metadata": {},
     "output_type": "execute_result"
    }
   ],
   "source": [
    "len(('x','y',U0))"
   ]
  },
  {
   "cell_type": "code",
   "execution_count": 19,
   "metadata": {
    "scrolled": true
   },
   "outputs": [
    {
     "ename": "ValueError",
     "evalue": "setting an array element with a sequence.",
     "output_type": "error",
     "traceback": [
      "\u001b[0;31m---------------------------------------------------------------------------\u001b[0m",
      "\u001b[0;31mValueError\u001b[0m                                Traceback (most recent call last)",
      "\u001b[0;32m/opt/sagemath-9.3/local/lib/python3.7/site-packages/networkx/drawing/layout.py\u001b[0m in \u001b[0;36mfruchterman_reingold_layout\u001b[0;34m(G, k, pos, fixed, iterations, threshold, weight, scale, center, dim, seed)\u001b[0m\n\u001b[1;32m    484\u001b[0m         \u001b[0;32mif\u001b[0m \u001b[0mlen\u001b[0m\u001b[0;34m(\u001b[0m\u001b[0mG\u001b[0m\u001b[0;34m)\u001b[0m \u001b[0;34m<\u001b[0m \u001b[0;36m500\u001b[0m\u001b[0;34m:\u001b[0m  \u001b[0;31m# sparse solver for large graphs\u001b[0m\u001b[0;34m\u001b[0m\u001b[0;34m\u001b[0m\u001b[0m\n\u001b[0;32m--> 485\u001b[0;31m             \u001b[0;32mraise\u001b[0m \u001b[0mValueError\u001b[0m\u001b[0;34m\u001b[0m\u001b[0;34m\u001b[0m\u001b[0m\n\u001b[0m\u001b[1;32m    486\u001b[0m         \u001b[0mA\u001b[0m \u001b[0;34m=\u001b[0m \u001b[0mnx\u001b[0m\u001b[0;34m.\u001b[0m\u001b[0mto_scipy_sparse_matrix\u001b[0m\u001b[0;34m(\u001b[0m\u001b[0mG\u001b[0m\u001b[0;34m,\u001b[0m \u001b[0mweight\u001b[0m\u001b[0;34m=\u001b[0m\u001b[0mweight\u001b[0m\u001b[0;34m,\u001b[0m \u001b[0mdtype\u001b[0m\u001b[0;34m=\u001b[0m\u001b[0;34m\"f\"\u001b[0m\u001b[0;34m)\u001b[0m\u001b[0;34m\u001b[0m\u001b[0;34m\u001b[0m\u001b[0m\n",
      "\u001b[0;31mValueError\u001b[0m: ",
      "\nDuring handling of the above exception, another exception occurred:\n",
      "\u001b[0;31mTypeError\u001b[0m                                 Traceback (most recent call last)",
      "\u001b[0;31mTypeError\u001b[0m: float() argument must be a string or a number, not 'list'",
      "\nThe above exception was the direct cause of the following exception:\n",
      "\u001b[0;31mValueError\u001b[0m                                Traceback (most recent call last)",
      "\u001b[0;32m<ipython-input-19-a8a236a0ab08>\u001b[0m in \u001b[0;36m<module>\u001b[0;34m\u001b[0m\n\u001b[0;32m----> 1\u001b[0;31m \u001b[0mnx\u001b[0m\u001b[0;34m.\u001b[0m\u001b[0mdraw\u001b[0m\u001b[0;34m(\u001b[0m\u001b[0mredg\u001b[0m\u001b[0;34m)\u001b[0m\u001b[0;34m\u001b[0m\u001b[0;34m\u001b[0m\u001b[0m\n\u001b[0m",
      "\u001b[0;32m/opt/sagemath-9.3/local/lib/python3.7/site-packages/networkx/drawing/nx_pylab.py\u001b[0m in \u001b[0;36mdraw\u001b[0;34m(G, pos, ax, **kwds)\u001b[0m\n\u001b[1;32m    121\u001b[0m         \u001b[0mkwds\u001b[0m\u001b[0;34m[\u001b[0m\u001b[0;34m\"with_labels\"\u001b[0m\u001b[0;34m]\u001b[0m \u001b[0;34m=\u001b[0m \u001b[0;34m\"labels\"\u001b[0m \u001b[0;32min\u001b[0m \u001b[0mkwds\u001b[0m\u001b[0;34m\u001b[0m\u001b[0;34m\u001b[0m\u001b[0m\n\u001b[1;32m    122\u001b[0m \u001b[0;34m\u001b[0m\u001b[0m\n\u001b[0;32m--> 123\u001b[0;31m     \u001b[0mdraw_networkx\u001b[0m\u001b[0;34m(\u001b[0m\u001b[0mG\u001b[0m\u001b[0;34m,\u001b[0m \u001b[0mpos\u001b[0m\u001b[0;34m=\u001b[0m\u001b[0mpos\u001b[0m\u001b[0;34m,\u001b[0m \u001b[0max\u001b[0m\u001b[0;34m=\u001b[0m\u001b[0max\u001b[0m\u001b[0;34m,\u001b[0m \u001b[0;34m**\u001b[0m\u001b[0mkwds\u001b[0m\u001b[0;34m)\u001b[0m\u001b[0;34m\u001b[0m\u001b[0;34m\u001b[0m\u001b[0m\n\u001b[0m\u001b[1;32m    124\u001b[0m     \u001b[0max\u001b[0m\u001b[0;34m.\u001b[0m\u001b[0mset_axis_off\u001b[0m\u001b[0;34m(\u001b[0m\u001b[0;34m)\u001b[0m\u001b[0;34m\u001b[0m\u001b[0;34m\u001b[0m\u001b[0m\n\u001b[1;32m    125\u001b[0m     \u001b[0mplt\u001b[0m\u001b[0;34m.\u001b[0m\u001b[0mdraw_if_interactive\u001b[0m\u001b[0;34m(\u001b[0m\u001b[0;34m)\u001b[0m\u001b[0;34m\u001b[0m\u001b[0;34m\u001b[0m\u001b[0m\n",
      "\u001b[0;32m/opt/sagemath-9.3/local/lib/python3.7/site-packages/networkx/drawing/nx_pylab.py\u001b[0m in \u001b[0;36mdraw_networkx\u001b[0;34m(G, pos, arrows, with_labels, **kwds)\u001b[0m\n\u001b[1;32m    331\u001b[0m \u001b[0;34m\u001b[0m\u001b[0m\n\u001b[1;32m    332\u001b[0m     \u001b[0;32mif\u001b[0m \u001b[0mpos\u001b[0m \u001b[0;32mis\u001b[0m \u001b[0;32mNone\u001b[0m\u001b[0;34m:\u001b[0m\u001b[0;34m\u001b[0m\u001b[0;34m\u001b[0m\u001b[0m\n\u001b[0;32m--> 333\u001b[0;31m         \u001b[0mpos\u001b[0m \u001b[0;34m=\u001b[0m \u001b[0mnx\u001b[0m\u001b[0;34m.\u001b[0m\u001b[0mdrawing\u001b[0m\u001b[0;34m.\u001b[0m\u001b[0mspring_layout\u001b[0m\u001b[0;34m(\u001b[0m\u001b[0mG\u001b[0m\u001b[0;34m)\u001b[0m  \u001b[0;31m# default to spring layout\u001b[0m\u001b[0;34m\u001b[0m\u001b[0;34m\u001b[0m\u001b[0m\n\u001b[0m\u001b[1;32m    334\u001b[0m \u001b[0;34m\u001b[0m\u001b[0m\n\u001b[1;32m    335\u001b[0m     \u001b[0mdraw_networkx_nodes\u001b[0m\u001b[0;34m(\u001b[0m\u001b[0mG\u001b[0m\u001b[0;34m,\u001b[0m \u001b[0mpos\u001b[0m\u001b[0;34m,\u001b[0m \u001b[0;34m**\u001b[0m\u001b[0mnode_kwds\u001b[0m\u001b[0;34m)\u001b[0m\u001b[0;34m\u001b[0m\u001b[0;34m\u001b[0m\u001b[0m\n",
      "\u001b[0;32m<decorator-gen-868>\u001b[0m in \u001b[0;36mfruchterman_reingold_layout\u001b[0;34m(G, k, pos, fixed, iterations, threshold, weight, scale, center, dim, seed)\u001b[0m\n",
      "\u001b[0;32m/opt/sagemath-9.3/local/lib/python3.7/site-packages/networkx/utils/decorators.py\u001b[0m in \u001b[0;36m_random_state\u001b[0;34m(func, *args, **kwargs)\u001b[0m\n\u001b[1;32m    406\u001b[0m         \u001b[0mnew_args\u001b[0m \u001b[0;34m=\u001b[0m \u001b[0mlist\u001b[0m\u001b[0;34m(\u001b[0m\u001b[0margs\u001b[0m\u001b[0;34m)\u001b[0m\u001b[0;34m\u001b[0m\u001b[0;34m\u001b[0m\u001b[0m\n\u001b[1;32m    407\u001b[0m         \u001b[0mnew_args\u001b[0m\u001b[0;34m[\u001b[0m\u001b[0mrandom_state_index\u001b[0m\u001b[0;34m]\u001b[0m \u001b[0;34m=\u001b[0m \u001b[0mrandom_state\u001b[0m\u001b[0;34m\u001b[0m\u001b[0;34m\u001b[0m\u001b[0m\n\u001b[0;32m--> 408\u001b[0;31m         \u001b[0;32mreturn\u001b[0m \u001b[0mfunc\u001b[0m\u001b[0;34m(\u001b[0m\u001b[0;34m*\u001b[0m\u001b[0mnew_args\u001b[0m\u001b[0;34m,\u001b[0m \u001b[0;34m**\u001b[0m\u001b[0mkwargs\u001b[0m\u001b[0;34m)\u001b[0m\u001b[0;34m\u001b[0m\u001b[0;34m\u001b[0m\u001b[0m\n\u001b[0m\u001b[1;32m    409\u001b[0m \u001b[0;34m\u001b[0m\u001b[0m\n\u001b[1;32m    410\u001b[0m     \u001b[0;32mreturn\u001b[0m \u001b[0m_random_state\u001b[0m\u001b[0;34m\u001b[0m\u001b[0;34m\u001b[0m\u001b[0m\n",
      "\u001b[0;32m/opt/sagemath-9.3/local/lib/python3.7/site-packages/networkx/drawing/layout.py\u001b[0m in \u001b[0;36mfruchterman_reingold_layout\u001b[0;34m(G, k, pos, fixed, iterations, threshold, weight, scale, center, dim, seed)\u001b[0m\n\u001b[1;32m    493\u001b[0m         )\n\u001b[1;32m    494\u001b[0m     \u001b[0;32mexcept\u001b[0m \u001b[0mValueError\u001b[0m\u001b[0;34m:\u001b[0m\u001b[0;34m\u001b[0m\u001b[0;34m\u001b[0m\u001b[0m\n\u001b[0;32m--> 495\u001b[0;31m         \u001b[0mA\u001b[0m \u001b[0;34m=\u001b[0m \u001b[0mnx\u001b[0m\u001b[0;34m.\u001b[0m\u001b[0mto_numpy_array\u001b[0m\u001b[0;34m(\u001b[0m\u001b[0mG\u001b[0m\u001b[0;34m,\u001b[0m \u001b[0mweight\u001b[0m\u001b[0;34m=\u001b[0m\u001b[0mweight\u001b[0m\u001b[0;34m)\u001b[0m\u001b[0;34m\u001b[0m\u001b[0;34m\u001b[0m\u001b[0m\n\u001b[0m\u001b[1;32m    496\u001b[0m         \u001b[0;32mif\u001b[0m \u001b[0mk\u001b[0m \u001b[0;32mis\u001b[0m \u001b[0;32mNone\u001b[0m \u001b[0;32mand\u001b[0m \u001b[0mfixed\u001b[0m \u001b[0;32mis\u001b[0m \u001b[0;32mnot\u001b[0m \u001b[0;32mNone\u001b[0m\u001b[0;34m:\u001b[0m\u001b[0;34m\u001b[0m\u001b[0;34m\u001b[0m\u001b[0m\n\u001b[1;32m    497\u001b[0m             \u001b[0;31m# We must adjust k by domain size for layouts not near 1x1\u001b[0m\u001b[0;34m\u001b[0m\u001b[0;34m\u001b[0m\u001b[0;34m\u001b[0m\u001b[0m\n",
      "\u001b[0;32m/opt/sagemath-9.3/local/lib/python3.7/site-packages/networkx/convert_matrix.py\u001b[0m in \u001b[0;36mto_numpy_array\u001b[0;34m(G, nodelist, dtype, order, multigraph_weight, weight, nonedge)\u001b[0m\n\u001b[1;32m   1259\u001b[0m             \u001b[0;32mfor\u001b[0m \u001b[0mv\u001b[0m\u001b[0;34m,\u001b[0m \u001b[0md\u001b[0m \u001b[0;32min\u001b[0m \u001b[0mnbrdict\u001b[0m\u001b[0;34m.\u001b[0m\u001b[0mitems\u001b[0m\u001b[0;34m(\u001b[0m\u001b[0;34m)\u001b[0m\u001b[0;34m:\u001b[0m\u001b[0;34m\u001b[0m\u001b[0;34m\u001b[0m\u001b[0m\n\u001b[1;32m   1260\u001b[0m                 \u001b[0;32mtry\u001b[0m\u001b[0;34m:\u001b[0m\u001b[0;34m\u001b[0m\u001b[0;34m\u001b[0m\u001b[0m\n\u001b[0;32m-> 1261\u001b[0;31m                     \u001b[0mA\u001b[0m\u001b[0;34m[\u001b[0m\u001b[0mindex\u001b[0m\u001b[0;34m[\u001b[0m\u001b[0mu\u001b[0m\u001b[0;34m]\u001b[0m\u001b[0;34m,\u001b[0m \u001b[0mindex\u001b[0m\u001b[0;34m[\u001b[0m\u001b[0mv\u001b[0m\u001b[0;34m]\u001b[0m\u001b[0;34m]\u001b[0m \u001b[0;34m=\u001b[0m \u001b[0md\u001b[0m\u001b[0;34m.\u001b[0m\u001b[0mget\u001b[0m\u001b[0;34m(\u001b[0m\u001b[0mweight\u001b[0m\u001b[0;34m,\u001b[0m \u001b[0;36m1\u001b[0m\u001b[0;34m)\u001b[0m\u001b[0;34m\u001b[0m\u001b[0;34m\u001b[0m\u001b[0m\n\u001b[0m\u001b[1;32m   1262\u001b[0m                 \u001b[0;32mexcept\u001b[0m \u001b[0mKeyError\u001b[0m\u001b[0;34m:\u001b[0m\u001b[0;34m\u001b[0m\u001b[0;34m\u001b[0m\u001b[0m\n\u001b[1;32m   1263\u001b[0m                     \u001b[0;31m# This occurs when there are fewer desired nodes than\u001b[0m\u001b[0;34m\u001b[0m\u001b[0;34m\u001b[0m\u001b[0;34m\u001b[0m\u001b[0m\n",
      "\u001b[0;31mValueError\u001b[0m: setting an array element with a sequence."
     ]
    },
    {
     "data": {
      "image/png": "[encoded data removed]",
      "text/plain": [
       "<Figure size 432x288 with 1 Axes>"
      ]
     },
     "metadata": {},
     "output_type": "display_data"
    }
   ],
   "source": [
    "nx.draw(redg)"
   ]
  },
  {
   "cell_type": "code",
   "execution_count": 78,
   "metadata": {},
   "outputs": [],
   "source": [
    "fun = U0*U2*V1"
   ]
  },
  {
   "cell_type": "code",
   "execution_count": 79,
   "metadata": {},
   "outputs": [
    {
     "data": {
      "text/plain": [
       "U0*U2*V1"
      ]
     },
     "execution_count": 79,
     "metadata": {},
     "output_type": "execute_result"
    }
   ],
   "source": [
    "fun.subs(U0=U1)"
   ]
  },
  {
   "cell_type": "code",
   "execution_count": 74,
   "metadata": {},
   "outputs": [
    {
     "name": "stdout",
     "output_type": "stream",
     "text": [
      "6\n",
      "reduction in progress\n",
      "4\n",
      "completed reduction\n",
      "[      0 U0 + U1       0 U1 + U2]\n",
      "[     V0       0      U2       0]\n",
      "[      0       0       0       0]\n",
      "[     V0       0      U1       0]\n",
      "<class 'sage.matrix.matrix_generic_sparse.Matrix_generic_sparse'>\n"
     ]
    }
   ],
   "source": [
    "redg = reduction(myf.subs(V1=V0,V2=V0,U1=U0,U2=U0))"
   ]
  },
  {
   "cell_type": "code",
   "execution_count": 77,
   "metadata": {},
   "outputs": [
    {
     "data": {
      "text/plain": [
       "[      0 U0 + U1       0 U1 + U2]\n",
       "[     V0       0      U2       0]\n",
       "[      0       0       0       0]\n",
       "[     V0       0      U1       0]"
      ]
     },
     "execution_count": 77,
     "metadata": {},
     "output_type": "execute_result"
    }
   ],
   "source": [
    "redg.subs(U0=U1)"
   ]
  },
  {
   "cell_type": "code",
   "execution_count": 24,
   "metadata": {},
   "outputs": [
    {
     "name": "stdout",
     "output_type": "stream",
     "text": [
      "[           0           V0           V0            0            0            0            0            0            0           U1            0            0            0            0           V0            0            0            0            0            0            0            0            0            0            0            0            0            0            0            0            0            0            0            0            0            0            0            0            0            0            0            0            0            0           V0            0            0            0]\n",
      "[          U4            0            0            0            0            0           V0            0            0            0           U1            0            0            0            0           V0            0            0            0            0            0            0            0            0            0            0            0            0            0            0            0            0            0            0            0            0            0            0            0            0            0            0            0           V0            0            0            0            0]\n",
      "[          U3            0            0            0            0            0           V0           V0            0            0            0            0           U1            0            0            0            0            0            0            0            0            0           V0            0            0            0            0            0            0            0            0            0            0            0            0            0            0            0            0            0           V0            0            0            0            0            0            0           V0]\n",
      "[           0            0            0            0           U3           U2            0            0            0            0            0            0            0            0            0            0            0            0            0            0            0            0            0            0            0            0            0            0            0            0            0      U1 + U4            0           V0            0            0            0            0            0            0            0            0            0            0            0           U1            0            0]\n",
      "[           0            0            0           V0            0            0           U2      U2 + U4            0            0            0            0            0            0            0           U1            0            0            0      U1 + U4            0            0            0            0            0            0            0            0            0            0            0            0            0            0           V0            0            0            0            0            0            0            0            0           U1            0            0            0            0]\n",
      "[           0            0            0           V0            0            0           U3           U3            0            0            0            0            0            0            0            0            0            0            0            0            0            0           U1            0            0            0            0            0            0            0            0            0      U1 + U4            0            0           V0            0            0            0            0           U1            0            0            0            0            0            0           U1]\n",
      "[           0      U1 + U3      U2 + U4            0           V0           V0            0            0            0            0            0            0            0           U1            0            0            0            0            0            0            0            0            0            0            0            0            0            0            0            0            0            0            0            0            0            0           V0            0            0            0            0            0            0            0            0           V0            0            0]\n",
      "[           0           U3           U2            0           V0           V0            0            0            0            0            0            0            0            0           U1            0            0            0            0            0            0            0            0            0            0            0            0            0            0            0      U1 + U4            0            0            0            0            0            0            0            0            0            0            0           V0            0           U1            0           V0            0]\n",
      "[           0            0            0            0            0            0            0            0            0           U0            0           V0            0            0            0            0           V0            0            0            0            0            0            0            0            0            0            0            0            0           V0           V0            0            0            0            0            0            0            0            0            0            0            0            0            0            0            0            0            0]\n",
      "[          V0            0            0            0            0            0            0            0           V0            0           V0            0           V0            0            0            0            0           V0            0            0            0            0            0            0            0            0            0            0            0            0            0            0            0            0            0            0            0            0            0            0            0            0            0            0            0            0            0            0]\n",
      "[           0           V0            0            0            0            0            0            0            0           U4            0            0            0           V0            0            0            0            0           V0            0            0            0            0            0            0            0            0            0            0           V0           V0            0            0            0            0            0            0            0            0            0            0            0            0            0           V0            0            0            0]\n",
      "[           0            0            0            0            0            0            0            0           U3            0            0            0           U0            0            0            0            0            0            0            0            0            0           V0            0            0           V0            0            0            0            0            0            0           V0            0            0            0            0            0            0            0            0            0            0            0            0            0            0            0]\n",
      "[           0            0           V0            0            0            0            0            0            0           U3            0           V0            0           V0            0            0            0            0            0            0            0            0            0            0            0            0           V0            0            0            0            0            0            0            0            0            0            0            0            0            0            0            0            0            0            0            0            0            0]\n",
      "[           0            0            0            0            0            0           V0            0            0            0      U1 + U3            0      U2 + U4            0            0            0            0            0            0           V0            0            0           V0            0            0            0            0           V0            0            0            0            0           V0            0            0            0            0            0            0            0           V0            0            0            0            0            0            0           V0]\n",
      "[     U0 + U2            0            0            0            0            0            0           V0            0            0            0            0            0            0            0           V0            0      U1 + U4            0            0            0            0           V0            0            0            0            0            0           V0            0            0            0            0            0            0            0            0            0            0            0           V0           V0            0            0            0            0            0            0]\n",
      "[           0      U0 + U2            0            0           V0            0            0            0            0            0            0            0            0            0           U4            0            0            0      U1 + U4            0            0            0            0            0            0            0            0            0            0            0            0           V0            0            0            0            0           V0            0           V0            0            0            0           V0            0            0           V0            0            0]\n",
      "[           0            0            0            0            0            0            0            0           U2            0            0            0            0            0            0            0            0           U0            0            0            0            0            0            0           V0           V0            0           V0           V0            0            0            0            0            0            0            0            0            0            0            0            0            0            0            0            0            0            0            0]\n",
      "[           0            0            0            0            0            0            0            0            0           U2            0            0            0            0           V0            0           V0            0           V0            0            0            0            0            0            0            0           V0            0            0            0            0            0            0            0            0            0            0            0            0            0            0            0            0            0            0            0            0            0]\n",
      "[           0            0            0            0            0            0            0            0            0            0           U2            0            0            0            0           V0            0           U4            0           V0            0            0            0            0           V0            0            0            0            0            0            0            0            0            0            0            0            0            0            0            0           V0           V0            0            0            0            0            0            0]\n",
      "[           0           U3            0            0           V0           V0            0            0            0            0            0            0            0           U2            0            0            0            0           U1            0            0            0            0            0            0            0            0            0            0           U1 U1 + U2 + U4            0            0            0            0            0            0            0            0            0            0            0            0            0           U1           V0            0            0]\n",
      "[           0            0            0            0            0            0            0            0            0            0            0            0            0            0            0            0            0            0            0            0            0           U2            0           U1            0            0            0            0            0            0            0      U0 + U3            0           V0            0            0            0            0            0            0            0            0            0            0            0            0           U3            0]\n",
      "[           0            0            0            0            0            0            0            0            0            0            0            0            0            0            0            0            0            0            0            0           V0            0           U3            0            0           U1            0            0      U1 + U3            0            0            0           U0            0            0           V0            0            0            0            0            0            0            0            0            0            0            0            0]\n",
      "[           0            0           U0            0            0            0            0            0            0            0            0           U2            0           U0            0            0            0            0            0            0            0           V0            0           V0            0            0           U1            0            0      U1 + U3            0            0            0            0            0            0            0            0            0            0            0            0            0            0            0            0           V0            0]\n",
      "[           0            0            0            0            0            0            0            0            0            0            0            0            0            0            0            0            0            0            0            0           V0            0            0            0           U3           U2            0           U0           U2            0            0            0            0            0            0            0            0           V0            0            0            0            0            0            0            0            0            0            0]\n",
      "[           0            0            0            0            0            0            0            0            0            0            0            0            0            0           U0            0           U2            0           U0            0            0            0            0            0            0            0           U2            0            0      U0 + U2            0           V0            0            0            0            0            0            0            0            0            0            0            0            0            0            0           V0            0]\n",
      "[           0            0            0            0            0            0            0            0            0            0            0      U0 + U2            0            0            0            0      U1 + U3            0            0            0            0           V0            0           V0            0            0           U0            0            0            0            0            0            0            0            0            0            0            0            0           V0            0            0            0            0            0            0           V0            0]\n",
      "[           0            0            0            0            0            0            0           V0            0            0            0            0      U0 + U2            0            0            0            0      U1 + U3            0           V0            0            0           V0            0            0           V0            0           V0            0            0            0            0            0            0            0            0            0            0            0            0            0            0            0            0            0            0            0            0]\n",
      "[           0            0            0            0            0            0            0            0            0            0            0           U2            0            0           U3            0            0            0           U3            0            0            0            0            0            0            0           U2            0            0           U3           U2            0            0            0            0            0            0            0            0            0            0            0            0            0            0            0            0            0]\n",
      "[           0            0            0            0            0            0            0            0            0            0            0           U2            0            0            0            0           U1            0            0            0            0           V0            0           V0            0            0            0            0            0           U3           U0            0            0            0            0            0            0            0            0            0            0            0           V0            0            0            0           V0            0]\n",
      "[          U0            0            0            0            0            0            0           V0           U2            0           U0            0           U2            0            0            0            0           U1            0           V0            0            0           V0            0           V0            0            0            0           V0            0            0            0            0            0            0            0            0            0            0            0            0            0            0            0            0            0            0            0]\n",
      "[          U3            0            0            0            0            0            0           V0           U1            0           U3            0           U2            0            0            0            0           U1            0           V0            0            0            0            0            0            0            0           V0            0            0            0            0           V0            0            0            0            0            0            0            0            0            0            0            0            0            0            0            0]\n",
      "[           0            0            0            0            0            0            0           U3            0            0            0            0            0            0            0            0            0            0            0           U3            0            0            0            0            0            0            0           U1            0            0            0            0           U2            0            0            0            0            0            0            0            0            0            0            0            0            0            0            0]\n",
      "[           0            0           U3            0            0            0            0            0            0            0            0           U1            0           U3            0            0            0            0            0            0            0            0            0            0            0            0           U1            0            0            0      U1 + U3           V0            0            0            0            0            0            0            0            0            0            0            0            0            0            0            0            0]\n",
      "[           0            0            0           U0            0            0            0            0            0            0            0            0            0            0            0            0            0            0            0            0           U4            0            0            0            0            0            0            0            0            0            0            0            0            0           U3           U2            0           U1            0            0            0            0            0            0            0            0            0            0]\n",
      "[           0            0            0            0           U0            0            0            0            0            0            0            0            0            0            0            0            0            0            0            0            0            0            0            0            0            0            0            0            0            0            0           U4            0           V0            0            0           U2            0           U1            0            0            0           U2            0            0           U2      U2 + U4            0]\n",
      "[           0            0            0            0            0           U0            0            0            0            0            0            0            0            0            0            0            0            0            0            0            0           U4            0            0            0            0            0            0            0            0            0            0            0           V0            0            0           U3            0            0           U1            0            0      U1 + U3            0            0           U3           U3            0]\n",
      "[           0            0            0           V0            0            0           U0            0            0            0            0            0            0            0            0           U3            0            0            0            0           V0            0      U2 + U4            0            0            0            0      U1 + U4            0            0            0            0            0            0           V0           V0            0           V0            0            0      U1 + U2            0            0           U1            0            0            0            0]\n",
      "[           0            0            0            0            0            0            0            0            0            0            0            0            0            0            0            0            0            0            0            0            0            0            0           U4            0            0            0            0            0            0            0           U0            0           V0            0            0            0            0           U3           U2            0            0           U2            0            0           U0            0            0]\n",
      "[           0            0            0            0            0            0            0            0            0            0            0            0            0            0            0           U0            0            0            0           U0            0            0            0            0           U4            0            0            0            0            0            0            0            0            0           V0            0            0           V0            0            0           U2           U2            0      U0 + U2            0            0            0            0]\n",
      "[           0            0            0           V0            0            0            0            0            0            0            0            0            0            0            0            0            0            0            0      U0 + U3           V0            0      U0 + U2            0           U1           U4            0           U1           U2            0            0            0      U0 + U2            0           V0           V0            0           V0            0            0      U0 + U3      U1 + U3            0            0            0            0            0      U0 + U2]\n",
      "[           0           U3            0            0            0           V0            0            0            0            0            0           U2            0           U0           U3            0            0            0            0            0            0            0            0           V0            0            0           U4            0            0      U1 + U3      U1 + U4            0            0            0            0            0           V0            0            0           V0            0            0            0            0           U1           V0            0            0]\n",
      "[           0            0            0            0            0            0            0            0            0            0            0           U2            0            0      U0 + U3            0           U4            0            0            0            0            0            0           V0            0            0            0            0            0           U3           U0           V0            0            0            0            0            0            0           V0           V0            0            0           V0            0      U0 + U2           V0            0            0]\n",
      "[           0            0            0           V0            0            0            0            0            0            0            0            0            0            0            0            0            0            0            0      U0 + U3           V0            0           U2            0           U1            0            0           U1      U2 + U4            0            0            0           U2            0           V0           V0            0           V0            0            0            0           U1            0           U3            0            0            0           U2]\n",
      "[           0      U0 + U3            0            0            0           V0            0            0            0            0            0            0            0            0            0            0            0            0            0            0            0            0            0            0            0            0            0            0            0      U1 + U4      U1 + U4           V0            0            0            0            0           V0            0           V0            0            0            0           V0            0      U1 + U2            0            0            0]\n",
      "[     U0 + U3            0            0            0            0            0            0            0      U1 + U4            0            0            0            0            0            0            0            0            0            0            0            0            0            0            0            0            0            0            0           V0            0            0            0            0            0            0            0            0            0            0            0            0           V0            0           V0            0            0            0           V0]\n",
      "[           0            0            0            0            0            0            0           U3            0            0            0            0            0            0            0           U3            0            0            0            0            0            0           U2            0            0            0            0      U1 + U4            0            0            0            0            0            0            0            0            0            0            0            0           U2            0            0           U3            0            0            0           U2]\n",
      "[           0            0            0            0            0            0            0      U0 + U3            0            0            0            0            0            0            0            0            0            0            0      U0 + U3            0            0           U2            0           U1            0            0           U1           U2            0            0            0           U2            0            0            0            0            0            0            0            0            0            0            0            0            0            0            0]\n",
      "[           0            0      U0 + U3            0            0           V0            0            0            0            0            0      U1 + U4            0            0            0            0            0            0            0            0            0           V0            0            0            0            0            0            0            0            0            0            0            0            0            0            0           V0            0            0           V0            0            0            0            0           U3           V0           V0            0]\n"
     ]
    }
   ],
   "source": [
    "print(redg.subs(V1=V0,V2=V0,V3=V0,V4=V0,U1=U0,U2=U0,U3=U0,U4=U0))"
   ]
  },
  {
   "cell_type": "code",
   "execution_count": 26,
   "metadata": {},
   "outputs": [
    {
     "data": {
      "text/plain": [
       "[      0 U0 + U1       0 U1 + U2]\n",
       "[     V2       0      U2       0]\n",
       "[      0  V2 + 1       0 V0 + V2]\n",
       "[      1       0      U1       0]"
      ]
     },
     "execution_count": 26,
     "metadata": {},
     "output_type": "execute_result"
    }
   ],
   "source": [
    "redg.subs(V1=1)"
   ]
  },
  {
   "cell_type": "code",
   "execution_count": 36,
   "metadata": {},
   "outputs": [],
   "source": [
    "nxg = sageG.networkx_graph()"
   ]
  },
  {
   "cell_type": "code",
   "execution_count": 60,
   "metadata": {
    "scrolled": true
   },
   "outputs": [],
   "source": [
    "redg = graph_red_search(nxg)"
   ]
  },
  {
   "cell_type": "code",
   "execution_count": 61,
   "metadata": {},
   "outputs": [
    {
     "data": {
      "text/plain": [
       "OutEdgeView([('[1, 2, 3]', '[2, 1, 3]'), ('[1, 2, 3]', '[1, 3, 2]'), ('[2, 1, 3]', '[1, 2, 3]'), ('[2, 1, 3]', '[2, 3, 1]'), ('[1, 3, 2]', '[1, 2, 3]'), ('[1, 3, 2]', '[2, 3, 1]'), ('[2, 3, 1]', '[2, 1, 3]'), ('[2, 3, 1]', '[1, 3, 2]')])"
      ]
     },
     "execution_count": 61,
     "metadata": {},
     "output_type": "execute_result"
    }
   ],
   "source": [
    "redg.edges()"
   ]
  },
  {
   "cell_type": "code",
   "execution_count": 62,
   "metadata": {},
   "outputs": [
    {
     "data": {
      "text/plain": [
       "NodeView(('[1, 2, 3]', '[2, 1, 3]', '[1, 3, 2]', '[2, 3, 1]'))"
      ]
     },
     "execution_count": 62,
     "metadata": {},
     "output_type": "execute_result"
    }
   ],
   "source": [
    "redg.nodes()"
   ]
  },
  {
   "cell_type": "code",
   "execution_count": 64,
   "metadata": {},
   "outputs": [
    {
     "data": {
      "text/plain": [
       "{'weight': U0}"
      ]
     },
     "execution_count": 64,
     "metadata": {},
     "output_type": "execute_result"
    }
   ],
   "source": [
    "redg.get_edge_data('[1, 2, 3]', '[2, 1, 3]')"
   ]
  },
  {
   "cell_type": "code",
   "execution_count": 55,
   "metadata": {},
   "outputs": [
    {
     "data": {
      "text/plain": [
       "<networkx.classes.digraph.DiGraph object at 0x6ffdb0079390>"
      ]
     },
     "execution_count": 55,
     "metadata": {},
     "output_type": "execute_result"
    }
   ],
   "source": [
    "g"
   ]
  },
  {
   "cell_type": "code",
   "execution_count": 61,
   "metadata": {},
   "outputs": [
    {
     "data": {
      "text/plain": [
       "[ 1  0 U1]\n",
       "[V0  1 V2]\n",
       "[U0 U1 V2]"
      ]
     },
     "execution_count": 61,
     "metadata": {},
     "output_type": "execute_result"
    }
   ],
   "source": [
    "testmat = matrix([[1,0,U1],[V0,1,V2],[U0,U1,V2]])\n",
    "testmat"
   ]
  },
  {
   "cell_type": "code",
   "execution_count": 107,
   "metadata": {},
   "outputs": [],
   "source": [
    "myf.add_multiple_of_row(1,2,U1)"
   ]
  },
  {
   "cell_type": "code",
   "execution_count": 33,
   "metadata": {},
   "outputs": [
    {
     "data": {
      "text/plain": [
       "[1, 0, 0, 0, 0, 0]"
      ]
     },
     "execution_count": 33,
     "metadata": {},
     "output_type": "execute_result"
    }
   ],
   "source": [
    "g.get_edge_data(list(g.edges())[0][0],list(g.edges())[0][1])['weight']"
   ]
  },
  {
   "cell_type": "code",
   "execution_count": 98,
   "metadata": {},
   "outputs": [
    {
     "name": "stdout",
     "output_type": "stream",
     "text": [
      "Defining w0, w1, w2, w3\n",
      "Defining z0, z1, z2, z3\n"
     ]
    },
    {
     "data": {
      "text/plain": [
       "z0"
      ]
     },
     "execution_count": 98,
     "metadata": {},
     "output_type": "execute_result"
    }
   ],
   "source": [
    "preF = LaurentPolynomialRing(GF(2), 4, ('w'))\n",
    "preF.inject_variables()\n",
    "F = LaurentPolynomialRing(preF,4,'z')\n",
    "F.inject_variables()\n",
    "F.gens()[0]"
   ]
  },
  {
   "cell_type": "code",
   "execution_count": 165,
   "metadata": {},
   "outputs": [
    {
     "name": "stdout",
     "output_type": "stream",
     "text": [
      "Defining U0, U1, U2\n",
      "Defining V0, V1, V2\n"
     ]
    }
   ],
   "source": [
    "preF = LaurentPolynomialRing(GF(2), 'U', 3)\n",
    "preF.inject_variables()\n",
    "F = LaurentPolynomialRing(GF(2), 'V', 3)\n",
    "F.inject_variables()"
   ]
  },
  {
   "cell_type": "code",
   "execution_count": null,
   "metadata": {},
   "outputs": [],
   "source": [
    "#OLD CODE\n",
    "\n",
    "# def reduce_around(M, position): \n",
    "# #M isa matrix and position is a pair [a,b] where a 1 is located\n",
    "# #function does Gauss-Jordan-ish elimination on that column and in a symmetric way to the entry's row\n",
    "#     a,b = position\n",
    "#     #First step is to use the row to cancel the other entries, then we'll do a symmetric cancellation on\n",
    "#     #the columns as well\n",
    "#     column = M[:][b]\n",
    "#     for index, entry in enumerate(column):\n",
    "#         if ((index != 0) and (index != a) and (entry != 0)):\n",
    "#             M.add_multiple_of_row(index, entry, a)\n",
    "#     for index, entry in enumerate(column):\n",
    "#         if ((index != 0) and (index != a) and (entry != 0)):\n",
    "#             M.add_multiple_of_col(index, entry, b)\n",
    "#     #Now we'll repeat the process but with the row entries\n",
    "#     row = M[a][:]\n",
    "#     for index, entry in enumerate(row):\n",
    "#         if ((index != 0) and (index != b) and (entry != 0)):\n",
    "#             M.add_multiple_of_col(index, entry, b)\n",
    "#     for index, entry in enumerate(column):\n",
    "#         if ((index != 0) and (index != b) and (entry != 0)):\n",
    "#             M.add_multiple_of_row(index, entry, a)\n",
    "#     return\n",
    "\n",
    "# def hom_reduction(adj_mat):\n",
    "#     M = adj_mat\n",
    "#     row_position = 0\n",
    "#     for row in M:\n",
    "#         check, column_position = row_count(row)\n",
    "#         if row_count(check[0]) > 1:\n",
    "#             reduce_around(M, row_position, column_position)\n",
    "#         row_position = position + 1"
   ]
  }
 ],
 "metadata": {
  "kernelspec": {
   "display_name": "SageMath 9.3",
   "language": "sage",
   "name": "sagemath"
  },
  "language_info": {
   "codemirror_mode": {
    "name": "ipython",
    "version": 3
   },
   "file_extension": ".py",
   "mimetype": "text/x-python",
   "name": "python",
   "nbconvert_exporter": "python",
   "pygments_lexer": "ipython3",
   "version": "3.7.10"
  }
 },
 "nbformat": 4,
 "nbformat_minor": 4
}
