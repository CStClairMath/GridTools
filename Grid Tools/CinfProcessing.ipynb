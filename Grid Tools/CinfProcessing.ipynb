{
 "cells": [
  {
   "cell_type": "code",
   "execution_count": 11,
   "metadata": {},
   "outputs": [],
   "source": [
    "import networkx as nx\n",
    "import ast\n",
    "import numpy as np\n",
    "from scipy import sparse"
   ]
  },
  {
   "cell_type": "code",
   "execution_count": 12,
   "metadata": {},
   "outputs": [],
   "source": [
    "g = nx.read_gml('testCinfExport.gml')"
   ]
  },
  {
   "cell_type": "code",
   "execution_count": 13,
   "metadata": {},
   "outputs": [
    {
     "data": {
      "text/plain": [
       "{'[1, 2, 3]': {'[2, 1, 3]': {'weight': '[[1, 0, 0], [0, 0, 0]]'},\n",
       "  '[1, 3, 2]': {'weight': '[[0, 1, 0], [0, 0, 0]]'},\n",
       "  '[3, 2, 1]': {'weight': '[[0, 0, 1], [0, 0, 0]]'}},\n",
       " '[2, 1, 3]': {'[1, 2, 3]': {'weight': '[[0, 0, 0], [0, 0, 1]]'},\n",
       "  '[2, 3, 1]': {'weight': '[[0, 0, 1], [0, 0, 0]]'},\n",
       "  '[3, 1, 2]': {'weight': '[[0, 1, 0], [1, 0, 0]]'}},\n",
       " '[2, 3, 1]': {'[3, 2, 1]': {'weight': '[[0, 0, 0], [1, 0, 0]]'},\n",
       "  '[2, 1, 3]': {'weight': '[[0, 0, 0], [0, 1, 0]]'},\n",
       "  '[1, 3, 2]': {'weight': '[[0, 0, 0], [0, 0, 1]]'}},\n",
       " '[3, 2, 1]': {'[2, 3, 1]': {'weight': '[[0, 1, 0], [0, 0, 0]]'},\n",
       "  '[3, 1, 2]': {'weight': '[[1, 0, 0], [0, 0, 1]]'},\n",
       "  '[1, 2, 3]': {'weight': '[[0, 0, 0], [0, 1, 0]]'}},\n",
       " '[3, 1, 2]': {'[1, 3, 2]': {'weight': '[[0, 0, 0], [0, 0, 0]]'},\n",
       "  '[3, 2, 1]': {'weight': '[[0, 0, 0], [0, 0, 0]]'},\n",
       "  '[2, 1, 3]': {'weight': '[[0, 0, 0], [0, 0, 0]]'}},\n",
       " '[1, 3, 2]': {'[3, 1, 2]': {'weight': '[[0, 0, 1], [0, 1, 0]]'},\n",
       "  '[1, 2, 3]': {'weight': '[[0, 0, 0], [1, 0, 0]]'},\n",
       "  '[2, 3, 1]': {'weight': '[[1, 0, 0], [0, 0, 0]]'}}}"
      ]
     },
     "execution_count": 13,
     "metadata": {},
     "output_type": "execute_result"
    }
   ],
   "source": [
    "nx.to_dict_of_dicts(g)"
   ]
  },
  {
   "cell_type": "code",
   "execution_count": 27,
   "metadata": {},
   "outputs": [],
   "source": [
    "def convert_gml(fileName): #GridToolsTBD exports to a text file - this grabs it and converts the edges back to lists\n",
    "                           #super inneficient - should convert to pickle file system or something\n",
    "    g = nx.read_gml(fileName)\n",
    "    for edge in g.edges:\n",
    "        g[edge[0]][edge[1]]['weight'] = ast.literal_eval(g[edge[0]][edge[1]]['weight'])\n",
    "        g[edge[0]][edge[1]]['weight'] = g[edge[0]][edge[1]]['weight'][0]+g[edge[0]][edge[1]]['weight'][1] #end result is edge weights as list of\n",
    "                                                                                                          #multiplicities [U1,U2...,Un,V1,...,Vn]\n",
    "    return g\n",
    "\n",
    "def construct_cinf(g, size = -1): #Construct CFKinf complex from graph data - essentially just changing weights to polynomials\n",
    "                                  #Only works for grid diagrams *not* Latin Squares\n",
    "    if size == -1:\n",
    "        size = len(g.get_edge_data(list(g.edges())[0][0],list(g.edges())[0][1])['weight'])  #kind of a mess - just turning the edges\n",
    "    n = size/2                                                                              #into a list and checking the length of\n",
    "                                                                                            #the weight of the first edge\n",
    "    F,Vars = cinf_coeff(n)\n",
    "    sageG = DiGraph()\n",
    "    for edge in g.edges:\n",
    "        \n",
    "        start = edge[0]\n",
    "        end = edge[1]\n",
    "        poly = F(1)\n",
    "        i = 0\n",
    "        for entry in g[edge[0]][edge[1]]['weight']:\n",
    "            \n",
    "            poly = poly*(Vars[i])**entry\n",
    "            i = i + 1\n",
    "            \n",
    "#        g[start][end]['weight'] = poly\n",
    "        sageG.add_edge(start,end,poly)\n",
    "    \n",
    "    return sageG\n",
    "        \n",
    "def cinf_coeff(size):\n",
    "    n = size\n",
    "    preF = LaurentPolynomialRing(GF(2), 'U', n) #F[Ui+-] which we'll then pair up with the Vi\n",
    "    preF.inject_variables()                     #Telling Sage we have Ui's as variables\n",
    "    Vars = preF.gens()                          #storing the variables in a list - not currently implemented anywhere\n",
    "    F = LaurentPolynomialRing(preF, 'V', n)     #Takes our preF (F[Ui+-]) and adjoins Vi\n",
    "    F.inject_variables()                        #F only thinks it has Vi as variables, we tell Sage about it\n",
    "    Vars = Vars + F.gens()\n",
    "    return F,Vars\n",
    "\n",
    "def find_one(targetlist): #Searches a list for first 1 - will be used for reduction\n",
    "#     print(\"searching for 1 in\" + str(targetlist))\n",
    "    if 1 in list(targetlist):\n",
    "#         print(\"found 1 in the list at\" + str(list(targetlist).index(1)))\n",
    "        return list(targetlist).index(1)\n",
    "    return -1\n",
    "\n",
    "def find_col_with_one(matrix, startc=0):\n",
    "    endc = len(matrix[0])\n",
    "    print(str(endc))\n",
    "    for n in range(startc, endc):\n",
    "        search_result = find_one(matrix[:][n])\n",
    "        if search_result != -1:\n",
    "            return (search_result, n)\n",
    "    return (-1, -1)\n",
    "\n",
    "\n",
    "def reduction_remap(matrix, row, col):\n",
    "    n = len(matrix[0])\n",
    "    range1 = range_skip_entry(n, row)\n",
    "#     print(\"searching through \" + str(range1))\n",
    "    for count, target_row in enumerate(range1):\n",
    "        entry = matrix[target_row][col]\n",
    "        if entry != 0:\n",
    "#             print(\"doing row addition with row\" + str(row))\n",
    "#             print(\"and count\" + str(count))\n",
    "#             print(\"and entry (multiple)\" + str(entry))\n",
    "            my_row_add(matrix, row, target_row, entry)\n",
    "    return matrix\n",
    "\n",
    "def row_col_del(matrix, loc):\n",
    "    newrange = list(range(len(matrix[0])))\n",
    "    del newrange[loc]\n",
    "    return matrix[newrange,newrange]\n",
    "\n",
    "def range_skip_entry(n, skip):\n",
    "    u = []\n",
    "    for i in range(0, skip):\n",
    "        u.append(i)\n",
    "    for j in range(skip+1, n):\n",
    "        u.append(j)\n",
    "    return u\n",
    "\n",
    "def reduction(matrix):\n",
    "    col, row = find_col_with_one(matrix)\n",
    "#     print(\"reducing around entry \" +str(row) + \",\" +str(col))\n",
    "    if col == -1:\n",
    "        print(\"completed reduction\")\n",
    "        print(matrix)\n",
    "        print (type(matrix))\n",
    "        return matrix\n",
    "    print(\"reduction in progress\")\n",
    "    remapped_matrix = reduction_remap(matrix, row, col)\n",
    "    if row < col:\n",
    "        remapped_matrix = row_col_del(remapped_matrix, col)\n",
    "        remapped_matrix = row_col_del(remapped_matrix, row)\n",
    "    else:\n",
    "        remapped_matrix = row_col_del(remapped_matrix, row)\n",
    "        remapped_matrix = row_col_del(remapped_matrix, col)\n",
    "    return reduction(remapped_matrix)\n",
    "    \n",
    "def my_row_add(matrix, row, targetrow, multiple):\n",
    "    n = len(matrix[0])\n",
    "    for i in range(n):\n",
    "        current_src = matrix[row][i]\n",
    "        if current_src != 0:\n",
    "#             print(\"adding copies times \" + str(current_src))\n",
    "#             print(\"multiple\" + str(multiple))\n",
    "#             print(\"target entry \" + str(matrix[targetrow][i]))\n",
    "            matrix[targetrow,i] = matrix[targetrow][i] + multiple*current_src\n",
    "#         print(matrix)\n",
    "    return matrix\n",
    "        "
   ]
  },
  {
   "cell_type": "markdown",
   "metadata": {},
   "source": [
    "iterate through dictionary keys(dict)\n",
    "    tracker = -1\n",
    "    for target in keydic\n",
    "        if target weight == 1\n",
    "            graph reduction alg\n",
    "            tracker = 1\n",
    "    if tracker == 1\n",
    "        return rerun\n",
    "    else\n",
    "        return\n",
    "        \n",
    "graph reduction(dict, key, target)\n",
    "    for x in predecessors(target)\n",
    "        if x == key: continue\n",
    "        for y in successors(key)\n",
    "            if y == target: continue\n",
    "            x_weight = thegraph[x][targ]['weight']\n",
    "            y_weight = thegraph[key][y]['weight']\n",
    "            W = x_weight x y_weight\n",
    "            add edge to graph from x to y weight = W\n",
    "    delete key\n",
    "    delete target\n",
    "    return graph"
   ]
  },
  {
   "cell_type": "code",
   "execution_count": 57,
   "metadata": {},
   "outputs": [],
   "source": [
    "def graph_red_search(given_graph): \n",
    "#searches through a cfk inf complex for reducible edges and calling\n",
    "#the reduction function to eliminate the pair according to the reduction algorithm\n",
    "#     dict_graph = nx.to_dict_of_dicts(given_graph)\n",
    "    for key in given_graph:\n",
    "        \n",
    "        for target in given_graph[key]:\n",
    "            \n",
    "            if given_graph[key][target]['weight'] == 1:\n",
    "                given_graph = graph_reduction(given_graph, key, target)\n",
    "                return graph_red_search(given_graph)\n",
    "            \n",
    "    return given_graph\n",
    "\n",
    "def graph_reduction(given_graph, key, target):\n",
    "#Deletes edge specified from graph_red_search and adds in edges according to the\n",
    "#reduction algorithm\n",
    "    for x in given_graph.predecessors(target):\n",
    "        \n",
    "        if x == key: continue\n",
    "        for y in given_graph.successors(key):\n",
    "        \n",
    "            if y == target: continue\n",
    "            x_weight = given_graph[x][target]['weight']\n",
    "            y_weight = given_graph[key][y]['weight']\n",
    "            red_weight = x_weight * y_weight\n",
    "            given_graph.add_edge(x,y,weight=red_weight)\n",
    "\n",
    "    given_graph.remove_node(x)\n",
    "    given_graph.remove_node(y)\n",
    "    return given_graph\n",
    "\n"
   ]
  },
  {
   "cell_type": "code",
   "execution_count": 58,
   "metadata": {
    "scrolled": false
   },
   "outputs": [
    {
     "name": "stdout",
     "output_type": "stream",
     "text": [
      "Defining U0, U1, U2\n",
      "Defining V0, V1, V2\n"
     ]
    }
   ],
   "source": [
    "thering = cinf_coeff(3)"
   ]
  },
  {
   "cell_type": "code",
   "execution_count": 59,
   "metadata": {
    "scrolled": true
   },
   "outputs": [
    {
     "name": "stdout",
     "output_type": "stream",
     "text": [
      "Defining U0, U1, U2\n",
      "Defining V0, V1, V2\n"
     ]
    }
   ],
   "source": [
    "g = convert_gml('testCinfExport.gml')\n",
    "sageG = construct_cinf(g)\n",
    "dictg = nx.to_dict_of_dicts(g)\n",
    "# newg = DiGraph()\n",
    "#graphs.graph_input.from_dict_of_dicts(dictg, weighted = True)\n",
    "# newg\n",
    "myf = sageG.weighted_adjacency_matrix()"
   ]
  },
  {
   "cell_type": "code",
   "execution_count": 36,
   "metadata": {},
   "outputs": [],
   "source": [
    "nxg = sageG.networkx_graph()"
   ]
  },
  {
   "cell_type": "code",
   "execution_count": 60,
   "metadata": {
    "scrolled": true
   },
   "outputs": [],
   "source": [
    "redg = graph_red_search(nxg)"
   ]
  },
  {
   "cell_type": "code",
   "execution_count": 61,
   "metadata": {},
   "outputs": [
    {
     "data": {
      "text/plain": [
       "OutEdgeView([('[1, 2, 3]', '[2, 1, 3]'), ('[1, 2, 3]', '[1, 3, 2]'), ('[2, 1, 3]', '[1, 2, 3]'), ('[2, 1, 3]', '[2, 3, 1]'), ('[1, 3, 2]', '[1, 2, 3]'), ('[1, 3, 2]', '[2, 3, 1]'), ('[2, 3, 1]', '[2, 1, 3]'), ('[2, 3, 1]', '[1, 3, 2]')])"
      ]
     },
     "execution_count": 61,
     "metadata": {},
     "output_type": "execute_result"
    }
   ],
   "source": [
    "redg.edges()"
   ]
  },
  {
   "cell_type": "code",
   "execution_count": 62,
   "metadata": {},
   "outputs": [
    {
     "data": {
      "text/plain": [
       "NodeView(('[1, 2, 3]', '[2, 1, 3]', '[1, 3, 2]', '[2, 3, 1]'))"
      ]
     },
     "execution_count": 62,
     "metadata": {},
     "output_type": "execute_result"
    }
   ],
   "source": [
    "redg.nodes()"
   ]
  },
  {
   "cell_type": "code",
   "execution_count": 64,
   "metadata": {},
   "outputs": [
    {
     "data": {
      "text/plain": [
       "{'weight': U0}"
      ]
     },
     "execution_count": 64,
     "metadata": {},
     "output_type": "execute_result"
    }
   ],
   "source": [
    "redg.get_edge_data('[1, 2, 3]', '[2, 1, 3]')"
   ]
  },
  {
   "cell_type": "code",
   "execution_count": 55,
   "metadata": {},
   "outputs": [
    {
     "data": {
      "text/plain": [
       "<networkx.classes.digraph.DiGraph object at 0x6ffdb0079390>"
      ]
     },
     "execution_count": 55,
     "metadata": {},
     "output_type": "execute_result"
    }
   ],
   "source": [
    "g"
   ]
  },
  {
   "cell_type": "code",
   "execution_count": null,
   "metadata": {},
   "outputs": [],
   "source": []
  },
  {
   "cell_type": "code",
   "execution_count": 49,
   "metadata": {},
   "outputs": [
    {
     "name": "stderr",
     "output_type": "stream",
     "text": [
      "/opt/sagemath-9.3/local/lib/python3.7/site-packages/scipy/sparse/sputils.py:114: UserWarning: object dtype is not supported by sparse matrices\n",
      "  warnings.warn(\"object dtype is not supported by sparse matrices\")\n"
     ]
    },
    {
     "ename": "ValueError",
     "evalue": "cannot create object arrays from iterator",
     "output_type": "error",
     "traceback": [
      "\u001b[0;31m---------------------------------------------------------------------------\u001b[0m",
      "\u001b[0;31mValueError\u001b[0m                                Traceback (most recent call last)",
      "\u001b[0;32m<ipython-input-49-7e6feeed4299>\u001b[0m in \u001b[0;36m<module>\u001b[0;34m\u001b[0m\n\u001b[0;32m----> 1\u001b[0;31m \u001b[0mprint\u001b[0m\u001b[0;34m(\u001b[0m\u001b[0msparse\u001b[0m\u001b[0;34m.\u001b[0m\u001b[0mcoo_matrix\u001b[0m\u001b[0;34m(\u001b[0m\u001b[0mmyf\u001b[0m\u001b[0;34m)\u001b[0m\u001b[0;34m.\u001b[0m\u001b[0mtodok\u001b[0m\u001b[0;34m(\u001b[0m\u001b[0;34m)\u001b[0m\u001b[0;34m)\u001b[0m\u001b[0;34m\u001b[0m\u001b[0;34m\u001b[0m\u001b[0m\n\u001b[0m",
      "\u001b[0;32m/opt/sagemath-9.3/local/lib/python3.7/site-packages/scipy/sparse/base.py\u001b[0m in \u001b[0;36m__str__\u001b[0;34m(self)\u001b[0m\n\u001b[1;32m    259\u001b[0m         \u001b[0mmaxprint\u001b[0m \u001b[0;34m=\u001b[0m \u001b[0mself\u001b[0m\u001b[0;34m.\u001b[0m\u001b[0mgetmaxprint\u001b[0m\u001b[0;34m(\u001b[0m\u001b[0;34m)\u001b[0m\u001b[0;34m\u001b[0m\u001b[0;34m\u001b[0m\u001b[0m\n\u001b[1;32m    260\u001b[0m \u001b[0;34m\u001b[0m\u001b[0m\n\u001b[0;32m--> 261\u001b[0;31m         \u001b[0mA\u001b[0m \u001b[0;34m=\u001b[0m \u001b[0mself\u001b[0m\u001b[0;34m.\u001b[0m\u001b[0mtocoo\u001b[0m\u001b[0;34m(\u001b[0m\u001b[0;34m)\u001b[0m\u001b[0;34m\u001b[0m\u001b[0;34m\u001b[0m\u001b[0m\n\u001b[0m\u001b[1;32m    262\u001b[0m \u001b[0;34m\u001b[0m\u001b[0m\n\u001b[1;32m    263\u001b[0m         \u001b[0;31m# helper function, outputs \"(i,j)  v\"\u001b[0m\u001b[0;34m\u001b[0m\u001b[0;34m\u001b[0m\u001b[0;34m\u001b[0m\u001b[0m\n",
      "\u001b[0;32m/opt/sagemath-9.3/local/lib/python3.7/site-packages/scipy/sparse/dok.py\u001b[0m in \u001b[0;36mtocoo\u001b[0;34m(self, copy)\u001b[0m\n\u001b[1;32m    393\u001b[0m \u001b[0;34m\u001b[0m\u001b[0m\n\u001b[1;32m    394\u001b[0m         \u001b[0midx_dtype\u001b[0m \u001b[0;34m=\u001b[0m \u001b[0mget_index_dtype\u001b[0m\u001b[0;34m(\u001b[0m\u001b[0mmaxval\u001b[0m\u001b[0;34m=\u001b[0m\u001b[0mmax\u001b[0m\u001b[0;34m(\u001b[0m\u001b[0mself\u001b[0m\u001b[0;34m.\u001b[0m\u001b[0mshape\u001b[0m\u001b[0;34m)\u001b[0m\u001b[0;34m)\u001b[0m\u001b[0;34m\u001b[0m\u001b[0;34m\u001b[0m\u001b[0m\n\u001b[0;32m--> 395\u001b[0;31m         \u001b[0mdata\u001b[0m \u001b[0;34m=\u001b[0m \u001b[0mnp\u001b[0m\u001b[0;34m.\u001b[0m\u001b[0mfromiter\u001b[0m\u001b[0;34m(\u001b[0m\u001b[0mself\u001b[0m\u001b[0;34m.\u001b[0m\u001b[0mvalues\u001b[0m\u001b[0;34m(\u001b[0m\u001b[0;34m)\u001b[0m\u001b[0;34m,\u001b[0m \u001b[0mdtype\u001b[0m\u001b[0;34m=\u001b[0m\u001b[0mself\u001b[0m\u001b[0;34m.\u001b[0m\u001b[0mdtype\u001b[0m\u001b[0;34m,\u001b[0m \u001b[0mcount\u001b[0m\u001b[0;34m=\u001b[0m\u001b[0mself\u001b[0m\u001b[0;34m.\u001b[0m\u001b[0mnnz\u001b[0m\u001b[0;34m)\u001b[0m\u001b[0;34m\u001b[0m\u001b[0;34m\u001b[0m\u001b[0m\n\u001b[0m\u001b[1;32m    396\u001b[0m         \u001b[0mrow\u001b[0m \u001b[0;34m=\u001b[0m \u001b[0mnp\u001b[0m\u001b[0;34m.\u001b[0m\u001b[0mfromiter\u001b[0m\u001b[0;34m(\u001b[0m\u001b[0;34m(\u001b[0m\u001b[0mi\u001b[0m \u001b[0;32mfor\u001b[0m \u001b[0mi\u001b[0m\u001b[0;34m,\u001b[0m \u001b[0m_\u001b[0m \u001b[0;32min\u001b[0m \u001b[0mself\u001b[0m\u001b[0;34m.\u001b[0m\u001b[0mkeys\u001b[0m\u001b[0;34m(\u001b[0m\u001b[0;34m)\u001b[0m\u001b[0;34m)\u001b[0m\u001b[0;34m,\u001b[0m \u001b[0mdtype\u001b[0m\u001b[0;34m=\u001b[0m\u001b[0midx_dtype\u001b[0m\u001b[0;34m,\u001b[0m \u001b[0mcount\u001b[0m\u001b[0;34m=\u001b[0m\u001b[0mself\u001b[0m\u001b[0;34m.\u001b[0m\u001b[0mnnz\u001b[0m\u001b[0;34m)\u001b[0m\u001b[0;34m\u001b[0m\u001b[0;34m\u001b[0m\u001b[0m\n\u001b[1;32m    397\u001b[0m         \u001b[0mcol\u001b[0m \u001b[0;34m=\u001b[0m \u001b[0mnp\u001b[0m\u001b[0;34m.\u001b[0m\u001b[0mfromiter\u001b[0m\u001b[0;34m(\u001b[0m\u001b[0;34m(\u001b[0m\u001b[0mj\u001b[0m \u001b[0;32mfor\u001b[0m \u001b[0m_\u001b[0m\u001b[0;34m,\u001b[0m \u001b[0mj\u001b[0m \u001b[0;32min\u001b[0m \u001b[0mself\u001b[0m\u001b[0;34m.\u001b[0m\u001b[0mkeys\u001b[0m\u001b[0;34m(\u001b[0m\u001b[0;34m)\u001b[0m\u001b[0;34m)\u001b[0m\u001b[0;34m,\u001b[0m \u001b[0mdtype\u001b[0m\u001b[0;34m=\u001b[0m\u001b[0midx_dtype\u001b[0m\u001b[0;34m,\u001b[0m \u001b[0mcount\u001b[0m\u001b[0;34m=\u001b[0m\u001b[0mself\u001b[0m\u001b[0;34m.\u001b[0m\u001b[0mnnz\u001b[0m\u001b[0;34m)\u001b[0m\u001b[0;34m\u001b[0m\u001b[0;34m\u001b[0m\u001b[0m\n",
      "\u001b[0;31mValueError\u001b[0m: cannot create object arrays from iterator"
     ]
    }
   ],
   "source": [
    "print(sparse.coo_matrix(myf))"
   ]
  },
  {
   "cell_type": "code",
   "execution_count": 42,
   "metadata": {},
   "outputs": [
    {
     "ename": "NameError",
     "evalue": "name 'lil_array' is not defined",
     "output_type": "error",
     "traceback": [
      "\u001b[0;31m---------------------------------------------------------------------------\u001b[0m",
      "\u001b[0;31mNameError\u001b[0m                                 Traceback (most recent call last)",
      "\u001b[0;32m<ipython-input-42-2245ca70c3ff>\u001b[0m in \u001b[0;36m<module>\u001b[0;34m\u001b[0m\n\u001b[0;32m----> 1\u001b[0;31m \u001b[0mtesty\u001b[0m \u001b[0;34m=\u001b[0m \u001b[0mlil_array\u001b[0m\u001b[0;34m(\u001b[0m\u001b[0mmyf\u001b[0m\u001b[0;34m)\u001b[0m\u001b[0;34m\u001b[0m\u001b[0;34m\u001b[0m\u001b[0m\n\u001b[0m",
      "\u001b[0;31mNameError\u001b[0m: name 'lil_array' is not defined"
     ]
    }
   ],
   "source": [
    "testy = lil_array(myf)"
   ]
  },
  {
   "cell_type": "code",
   "execution_count": null,
   "metadata": {},
   "outputs": [],
   "source": []
  },
  {
   "cell_type": "code",
   "execution_count": 30,
   "metadata": {},
   "outputs": [
    {
     "ename": "TypeError",
     "evalue": "'coo_matrix' object is not subscriptable",
     "output_type": "error",
     "traceback": [
      "\u001b[0;31m---------------------------------------------------------------------------\u001b[0m",
      "\u001b[0;31mTypeError\u001b[0m                                 Traceback (most recent call last)",
      "\u001b[0;32m<ipython-input-30-6abf001f0567>\u001b[0m in \u001b[0;36m<module>\u001b[0;34m\u001b[0m\n\u001b[0;32m----> 1\u001b[0;31m \u001b[0mtesty\u001b[0m\u001b[0;34m[\u001b[0m\u001b[0;34m[\u001b[0m\u001b[0mInteger\u001b[0m\u001b[0;34m(\u001b[0m\u001b[0;36m0\u001b[0m\u001b[0;34m)\u001b[0m\u001b[0;34m,\u001b[0m\u001b[0mInteger\u001b[0m\u001b[0;34m(\u001b[0m\u001b[0;36m1\u001b[0m\u001b[0;34m)\u001b[0m\u001b[0;34m]\u001b[0m\u001b[0;34m]\u001b[0m\u001b[0;34m\u001b[0m\u001b[0;34m\u001b[0m\u001b[0m\n\u001b[0m",
      "\u001b[0;31mTypeError\u001b[0m: 'coo_matrix' object is not subscriptable"
     ]
    }
   ],
   "source": [
    "testy.todok"
   ]
  },
  {
   "cell_type": "code",
   "execution_count": 14,
   "metadata": {
    "scrolled": false
   },
   "outputs": [
    {
     "data": {
      "text/plain": [
       "<class 'sage.matrix.matrix_generic_sparse.Matrix_generic_sparse'>"
      ]
     },
     "execution_count": 14,
     "metadata": {},
     "output_type": "execute_result"
    }
   ],
   "source": [
    "type(myf)"
   ]
  },
  {
   "cell_type": "code",
   "execution_count": 15,
   "metadata": {},
   "outputs": [
    {
     "name": "stdout",
     "output_type": "stream",
     "text": [
      "6\n",
      "reduction in progress\n",
      "4\n",
      "completed reduction\n",
      "[      0 U0 + U1       0 U1 + U2]\n",
      "[     V2       0      U2       0]\n",
      "[      0 V1 + V2       0 V0 + V2]\n",
      "[     V1       0      U1       0]\n",
      "<class 'sage.matrix.matrix_generic_sparse.Matrix_generic_sparse'>\n"
     ]
    }
   ],
   "source": [
    "trefred = reduction(myf)"
   ]
  },
  {
   "cell_type": "code",
   "execution_count": 20,
   "metadata": {},
   "outputs": [
    {
     "data": {
      "text/plain": [
       "[      0 U0 + U1       0 U1 + U2]\n",
       "[     V2       0      U2       0]\n",
       "[      0 V1 + V2       0 V0 + V2]\n",
       "[     V1       0      U1       0]"
      ]
     },
     "execution_count": 20,
     "metadata": {},
     "output_type": "execute_result"
    }
   ],
   "source": [
    "trefred"
   ]
  },
  {
   "cell_type": "code",
   "execution_count": 96,
   "metadata": {},
   "outputs": [],
   "source": [
    "idk = np.array(trefred)"
   ]
  },
  {
   "cell_type": "code",
   "execution_count": 99,
   "metadata": {},
   "outputs": [
    {
     "data": {
      "text/plain": [
       "array([[0, V2, V1, ..., 0, 0, 0],\n",
       "       [U4, 0, 0, ..., 0, 0, 0],\n",
       "       [U3, 0, 0, ..., 0, 0, V3],\n",
       "       ...,\n",
       "       [0, 0, 0, ..., 0, 0, U2],\n",
       "       [0, 0, 0, ..., 0, 0, 0],\n",
       "       [0, 0, U0 + U3, ..., V2, V0, 0]], dtype=object)"
      ]
     },
     "execution_count": 99,
     "metadata": {},
     "output_type": "execute_result"
    }
   ],
   "source": [
    "idk"
   ]
  },
  {
   "cell_type": "code",
   "execution_count": 98,
   "metadata": {},
   "outputs": [
    {
     "ename": "NetworkXError",
     "evalue": "Input is not a correct numpy matrix or array.",
     "output_type": "error",
     "traceback": [
      "\u001b[0;31m---------------------------------------------------------------------------\u001b[0m",
      "\u001b[0;31mKeyError\u001b[0m                                  Traceback (most recent call last)",
      "\u001b[0;32m/opt/sagemath-9.3/local/lib/python3.7/site-packages/networkx/convert_matrix.py\u001b[0m in \u001b[0;36mfrom_numpy_matrix\u001b[0;34m(A, parallel_edges, create_using)\u001b[0m\n\u001b[1;32m    660\u001b[0m     \u001b[0;32mtry\u001b[0m\u001b[0;34m:\u001b[0m\u001b[0;34m\u001b[0m\u001b[0;34m\u001b[0m\u001b[0m\n\u001b[0;32m--> 661\u001b[0;31m         \u001b[0mpython_type\u001b[0m \u001b[0;34m=\u001b[0m \u001b[0mkind_to_python_type\u001b[0m\u001b[0;34m[\u001b[0m\u001b[0mdt\u001b[0m\u001b[0;34m.\u001b[0m\u001b[0mkind\u001b[0m\u001b[0;34m]\u001b[0m\u001b[0;34m\u001b[0m\u001b[0;34m\u001b[0m\u001b[0m\n\u001b[0m\u001b[1;32m    662\u001b[0m     \u001b[0;32mexcept\u001b[0m \u001b[0mException\u001b[0m \u001b[0;32mas\u001b[0m \u001b[0me\u001b[0m\u001b[0;34m:\u001b[0m\u001b[0;34m\u001b[0m\u001b[0;34m\u001b[0m\u001b[0m\n",
      "\u001b[0;31mKeyError\u001b[0m: 'O'",
      "\nThe above exception was the direct cause of the following exception:\n",
      "\u001b[0;31mTypeError\u001b[0m                                 Traceback (most recent call last)",
      "\u001b[0;32m/opt/sagemath-9.3/local/lib/python3.7/site-packages/networkx/convert.py\u001b[0m in \u001b[0;36mto_networkx_graph\u001b[0;34m(data, create_using, multigraph_input)\u001b[0m\n\u001b[1;32m    140\u001b[0m             \u001b[0;32mtry\u001b[0m\u001b[0;34m:\u001b[0m\u001b[0;34m\u001b[0m\u001b[0;34m\u001b[0m\u001b[0m\n\u001b[0;32m--> 141\u001b[0;31m                 \u001b[0;32mreturn\u001b[0m \u001b[0mnx\u001b[0m\u001b[0;34m.\u001b[0m\u001b[0mfrom_numpy_matrix\u001b[0m\u001b[0;34m(\u001b[0m\u001b[0mdata\u001b[0m\u001b[0;34m,\u001b[0m \u001b[0mcreate_using\u001b[0m\u001b[0;34m=\u001b[0m\u001b[0mcreate_using\u001b[0m\u001b[0;34m)\u001b[0m\u001b[0;34m\u001b[0m\u001b[0;34m\u001b[0m\u001b[0m\n\u001b[0m\u001b[1;32m    142\u001b[0m             \u001b[0;32mexcept\u001b[0m \u001b[0mException\u001b[0m \u001b[0;32mas\u001b[0m \u001b[0me\u001b[0m\u001b[0;34m:\u001b[0m\u001b[0;34m\u001b[0m\u001b[0;34m\u001b[0m\u001b[0m\n",
      "\u001b[0;32m/opt/sagemath-9.3/local/lib/python3.7/site-packages/networkx/convert_matrix.py\u001b[0m in \u001b[0;36mfrom_numpy_matrix\u001b[0;34m(A, parallel_edges, create_using)\u001b[0m\n\u001b[1;32m    662\u001b[0m     \u001b[0;32mexcept\u001b[0m \u001b[0mException\u001b[0m \u001b[0;32mas\u001b[0m \u001b[0me\u001b[0m\u001b[0;34m:\u001b[0m\u001b[0;34m\u001b[0m\u001b[0;34m\u001b[0m\u001b[0m\n\u001b[0;32m--> 663\u001b[0;31m         \u001b[0;32mraise\u001b[0m \u001b[0mTypeError\u001b[0m\u001b[0;34m(\u001b[0m\u001b[0;34mf\"Unknown numpy data type: {dt}\"\u001b[0m\u001b[0;34m)\u001b[0m \u001b[0;32mfrom\u001b[0m \u001b[0me\u001b[0m\u001b[0;34m\u001b[0m\u001b[0;34m\u001b[0m\u001b[0m\n\u001b[0m\u001b[1;32m    664\u001b[0m \u001b[0;34m\u001b[0m\u001b[0m\n",
      "\u001b[0;31mTypeError\u001b[0m: Unknown numpy data type: object",
      "\nThe above exception was the direct cause of the following exception:\n",
      "\u001b[0;31mNetworkXError\u001b[0m                             Traceback (most recent call last)",
      "\u001b[0;32m<ipython-input-98-c67098bfd22e>\u001b[0m in \u001b[0;36m<module>\u001b[0;34m\u001b[0m\n\u001b[0;32m----> 1\u001b[0;31m \u001b[0mnx\u001b[0m\u001b[0;34m.\u001b[0m\u001b[0mGraph\u001b[0m\u001b[0;34m(\u001b[0m\u001b[0midk\u001b[0m\u001b[0;34m)\u001b[0m\u001b[0;34m\u001b[0m\u001b[0;34m\u001b[0m\u001b[0m\n\u001b[0m",
      "\u001b[0;32m/opt/sagemath-9.3/local/lib/python3.7/site-packages/networkx/classes/graph.py\u001b[0m in \u001b[0;36m__init__\u001b[0;34m(self, incoming_graph_data, **attr)\u001b[0m\n\u001b[1;32m    333\u001b[0m         \u001b[0;31m# attempt to load graph with data\u001b[0m\u001b[0;34m\u001b[0m\u001b[0;34m\u001b[0m\u001b[0;34m\u001b[0m\u001b[0m\n\u001b[1;32m    334\u001b[0m         \u001b[0;32mif\u001b[0m \u001b[0mincoming_graph_data\u001b[0m \u001b[0;32mis\u001b[0m \u001b[0;32mnot\u001b[0m \u001b[0;32mNone\u001b[0m\u001b[0;34m:\u001b[0m\u001b[0;34m\u001b[0m\u001b[0;34m\u001b[0m\u001b[0m\n\u001b[0;32m--> 335\u001b[0;31m             \u001b[0mconvert\u001b[0m\u001b[0;34m.\u001b[0m\u001b[0mto_networkx_graph\u001b[0m\u001b[0;34m(\u001b[0m\u001b[0mincoming_graph_data\u001b[0m\u001b[0;34m,\u001b[0m \u001b[0mcreate_using\u001b[0m\u001b[0;34m=\u001b[0m\u001b[0mself\u001b[0m\u001b[0;34m)\u001b[0m\u001b[0;34m\u001b[0m\u001b[0;34m\u001b[0m\u001b[0m\n\u001b[0m\u001b[1;32m    336\u001b[0m         \u001b[0;31m# load graph attributes (must be after convert)\u001b[0m\u001b[0;34m\u001b[0m\u001b[0;34m\u001b[0m\u001b[0;34m\u001b[0m\u001b[0m\n\u001b[1;32m    337\u001b[0m         \u001b[0mself\u001b[0m\u001b[0;34m.\u001b[0m\u001b[0mgraph\u001b[0m\u001b[0;34m.\u001b[0m\u001b[0mupdate\u001b[0m\u001b[0;34m(\u001b[0m\u001b[0mattr\u001b[0m\u001b[0;34m)\u001b[0m\u001b[0;34m\u001b[0m\u001b[0;34m\u001b[0m\u001b[0m\n",
      "\u001b[0;32m/opt/sagemath-9.3/local/lib/python3.7/site-packages/networkx/convert.py\u001b[0m in \u001b[0;36mto_networkx_graph\u001b[0;34m(data, create_using, multigraph_input)\u001b[0m\n\u001b[1;32m    143\u001b[0m                 raise nx.NetworkXError(\n\u001b[1;32m    144\u001b[0m                     \u001b[0;34m\"Input is not a correct numpy matrix or array.\"\u001b[0m\u001b[0;34m\u001b[0m\u001b[0;34m\u001b[0m\u001b[0m\n\u001b[0;32m--> 145\u001b[0;31m                 ) from e\n\u001b[0m\u001b[1;32m    146\u001b[0m     \u001b[0;32mexcept\u001b[0m \u001b[0mImportError\u001b[0m\u001b[0;34m:\u001b[0m\u001b[0;34m\u001b[0m\u001b[0;34m\u001b[0m\u001b[0m\n\u001b[1;32m    147\u001b[0m         \u001b[0mwarnings\u001b[0m\u001b[0;34m.\u001b[0m\u001b[0mwarn\u001b[0m\u001b[0;34m(\u001b[0m\u001b[0;34m\"numpy not found, skipping conversion test.\"\u001b[0m\u001b[0;34m,\u001b[0m \u001b[0mImportWarning\u001b[0m\u001b[0;34m)\u001b[0m\u001b[0;34m\u001b[0m\u001b[0;34m\u001b[0m\u001b[0m\n",
      "\u001b[0;31mNetworkXError\u001b[0m: Input is not a correct numpy matrix or array."
     ]
    }
   ],
   "source": [
    "nx.Graph(idk)"
   ]
  },
  {
   "cell_type": "code",
   "execution_count": 80,
   "metadata": {},
   "outputs": [
    {
     "data": {
      "text/plain": [
       "120 x 120 sparse matrix over Multivariate Laurent Polynomial Ring in V0, V1, V2, V3, V4 over Multivariate Laurent Polynomial Ring in U0, U1, U2, U3, U4 over Finite Field of size 2 (use the '.str()' method to see the entries)"
      ]
     },
     "execution_count": 80,
     "metadata": {},
     "output_type": "execute_result"
    }
   ],
   "source": [
    "myf"
   ]
  },
  {
   "cell_type": "code",
   "execution_count": 61,
   "metadata": {},
   "outputs": [
    {
     "data": {
      "text/plain": [
       "[ 1  0 U1]\n",
       "[V0  1 V2]\n",
       "[U0 U1 V2]"
      ]
     },
     "execution_count": 61,
     "metadata": {},
     "output_type": "execute_result"
    }
   ],
   "source": [
    "testmat = matrix([[1,0,U1],[V0,1,V2],[U0,U1,V2]])\n",
    "testmat"
   ]
  },
  {
   "cell_type": "code",
   "execution_count": 45,
   "metadata": {
    "scrolled": true
   },
   "outputs": [
    {
     "name": "stdout",
     "output_type": "stream",
     "text": [
      "adding copies times 1\n",
      "multipleV0\n",
      "target entry V0\n",
      "[ 1  0 U1]\n",
      "[ 0  1 V2]\n",
      "[U0 U1 V2]\n",
      "[ 1  0 U1]\n",
      "[ 0  1 V2]\n",
      "[U0 U1 V2]\n",
      "adding copies times U1\n",
      "multipleV0\n",
      "target entry V2\n",
      "[         1          0         U1]\n",
      "[         0          1 U1*V0 + V2]\n",
      "[        U0         U1         V2]\n"
     ]
    },
    {
     "data": {
      "text/plain": [
       "[         1          0         U1]\n",
       "[         0          1 U1*V0 + V2]\n",
       "[        U0         U1         V2]"
      ]
     },
     "execution_count": 45,
     "metadata": {},
     "output_type": "execute_result"
    }
   ],
   "source": [
    "my_row_add(testmat, 0, 1, V0)"
   ]
  },
  {
   "cell_type": "code",
   "execution_count": 62,
   "metadata": {},
   "outputs": [
    {
     "name": "stdout",
     "output_type": "stream",
     "text": [
      "searching through [1, 2]\n",
      "doing row addition with row0\n",
      "and count0\n",
      "and entry (multiple)V0\n",
      "adding copies times 1\n",
      "multipleV0\n",
      "target entry V0\n",
      "[ 1  0 U1]\n",
      "[ 0  1 V2]\n",
      "[U0 U1 V2]\n",
      "[ 1  0 U1]\n",
      "[ 0  1 V2]\n",
      "[U0 U1 V2]\n",
      "adding copies times U1\n",
      "multipleV0\n",
      "target entry V2\n",
      "[         1          0         U1]\n",
      "[         0          1 U1*V0 + V2]\n",
      "[        U0         U1         V2]\n",
      "doing row addition with row0\n",
      "and count1\n",
      "and entry (multiple)U0\n",
      "adding copies times 1\n",
      "multipleU0\n",
      "target entry U0\n",
      "[         1          0         U1]\n",
      "[         0          1 U1*V0 + V2]\n",
      "[         0         U1         V2]\n",
      "[         1          0         U1]\n",
      "[         0          1 U1*V0 + V2]\n",
      "[         0         U1         V2]\n",
      "adding copies times U1\n",
      "multipleU0\n",
      "target entry V2\n",
      "[         1          0         U1]\n",
      "[         0          1 U1*V0 + V2]\n",
      "[         0         U1 V2 + U0*U1]\n"
     ]
    },
    {
     "data": {
      "text/plain": [
       "[         1          0         U1]\n",
       "[         0          1 U1*V0 + V2]\n",
       "[         0         U1 V2 + U0*U1]"
      ]
     },
     "execution_count": 62,
     "metadata": {},
     "output_type": "execute_result"
    }
   ],
   "source": [
    "reduction_remap(testmat,0,0)"
   ]
  },
  {
   "cell_type": "code",
   "execution_count": 64,
   "metadata": {
    "scrolled": false
   },
   "outputs": [
    {
     "name": "stdout",
     "output_type": "stream",
     "text": [
      "3\n",
      "searching for 1 in(0, 1, U1)\n",
      "found 1 in the list at1\n",
      "reducing around entry 0,1\n",
      "reduction in progress\n",
      "searching through [1, 2]\n",
      "doing row addition with row0\n",
      "and count1\n",
      "and entry (multiple)U1\n",
      "[ 0  1 U1]\n",
      "[V0  0 V2]\n",
      "[U0 U1 V2]\n",
      "adding copies times 1\n",
      "multipleU1\n",
      "target entry U1\n",
      "[ 0  1 U1]\n",
      "[V0  0 V2]\n",
      "[U0  0 V2]\n",
      "adding copies times U1\n",
      "multipleU1\n",
      "target entry V2\n",
      "[        0         1        U1]\n",
      "[       V0         0        V2]\n",
      "[       U0         0 V2 + U1^2]\n",
      "1\n",
      "searching for 1 in(V2 + U1^2)\n",
      "reducing around entry -1,-1\n",
      "completed reduction\n",
      "[V2 + U1^2]\n",
      "<class 'sage.matrix.matrix_generic_dense.Matrix_generic_dense'>\n"
     ]
    }
   ],
   "source": [
    "test = reduction(matrix([[0,1,U1],[V0,0,V2],[U0,U1,V2]]))"
   ]
  },
  {
   "cell_type": "code",
   "execution_count": null,
   "metadata": {},
   "outputs": [],
   "source": []
  },
  {
   "cell_type": "code",
   "execution_count": 107,
   "metadata": {},
   "outputs": [],
   "source": [
    "myf.add_multiple_of_row(1,2,U1)"
   ]
  },
  {
   "cell_type": "code",
   "execution_count": 108,
   "metadata": {},
   "outputs": [
    {
     "data": {
      "text/plain": [
       "[              0              U1              U0               0               0              U2]\n",
       "[     V0 + U1*V2               0               0      U1*U2 + U0 U1^2*V0 + U2*V1               0]\n",
       "[             V2               0               0              U2           U1*V0               0]\n",
       "[              0              V2              V1               0               0              V0]\n",
       "[              0               1               1               0               0               1]\n",
       "[             V1               0               0              U1           U0*V2               0]"
      ]
     },
     "execution_count": 108,
     "metadata": {},
     "output_type": "execute_result"
    }
   ],
   "source": [
    "myf"
   ]
  },
  {
   "cell_type": "code",
   "execution_count": 109,
   "metadata": {},
   "outputs": [
    {
     "data": {
      "text/plain": [
       "True"
      ]
     },
     "execution_count": 109,
     "metadata": {},
     "output_type": "execute_result"
    }
   ],
   "source": [
    "1 in GF(3)"
   ]
  },
  {
   "cell_type": "code",
   "execution_count": 110,
   "metadata": {},
   "outputs": [
    {
     "data": {
      "text/plain": [
       "False"
      ]
     },
     "execution_count": 110,
     "metadata": {},
     "output_type": "execute_result"
    }
   ],
   "source": [
    "1 in thering"
   ]
  },
  {
   "cell_type": "code",
   "execution_count": 111,
   "metadata": {},
   "outputs": [
    {
     "data": {
      "text/plain": [
       "False"
      ]
     },
     "execution_count": 111,
     "metadata": {},
     "output_type": "execute_result"
    }
   ],
   "source": [
    "myf[0,1] in thering"
   ]
  },
  {
   "cell_type": "code",
   "execution_count": 112,
   "metadata": {
    "scrolled": true
   },
   "outputs": [
    {
     "name": "stdout",
     "output_type": "stream",
     "text": [
      "6\n",
      "searching for 1 in(0, U1, U0, 0, 0, U2)\n",
      "searching for 1 in(V0 + U1*V2, 0, 0, U1*U2 + U0, U1^2*V0 + U2*V1, 0)\n",
      "searching for 1 in(V2, 0, 0, U2, U1*V0, 0)\n",
      "searching for 1 in(0, V2, V1, 0, 0, V0)\n",
      "searching for 1 in(0, 1, 1, 0, 0, 1)\n",
      "found 1 in the list at1\n"
     ]
    },
    {
     "data": {
      "text/plain": [
       "(1, 4)"
      ]
     },
     "execution_count": 112,
     "metadata": {},
     "output_type": "execute_result"
    }
   ],
   "source": [
    "find_col_with_one(myf)"
   ]
  },
  {
   "cell_type": "code",
   "execution_count": 116,
   "metadata": {},
   "outputs": [
    {
     "name": "stdout",
     "output_type": "stream",
     "text": [
      "6\n",
      "searching for 1 in(0, U1, U0, 0, 0, U2)\n",
      "searching for 1 in(V0, 0, 0, U0, U2*V1, 0)\n",
      "searching for 1 in(V2, 0, 0, U2, U1*V0, 0)\n",
      "searching for 1 in(0, V2, V1, 0, 0, V0)\n",
      "searching for 1 in(0, 1, 1, 0, 0, 1)\n",
      "found 1 in the list at1\n",
      "reducing around entry 4,1\n",
      "reduction in progress\n",
      "searching through [0, 1, 2, 3, 5]\n",
      "doing row addition with row4\n",
      "and count0\n",
      "and entry (multiple)V0\n",
      "[    0    U1    U0     0     0    U2]\n",
      "[   V0     0     0    U0 U2*V1     0]\n",
      "[   V2     0     0    U2 U1*V0     0]\n",
      "[    0    V2    V1     0     0    V0]\n",
      "[    0     1     1     0     0     1]\n",
      "[   V1     0     0    U1 U0*V2     0]\n",
      "adding copies times 1\n",
      "multipleV0\n",
      "target entry U1\n",
      "[      0 V0 + U1      U0       0       0      U2]\n",
      "[     V0       0       0      U0   U2*V1       0]\n",
      "[     V2       0       0      U2   U1*V0       0]\n",
      "[      0      V2      V1       0       0      V0]\n",
      "[      0       1       1       0       0       1]\n",
      "[     V1       0       0      U1   U0*V2       0]\n",
      "adding copies times 1\n",
      "multipleV0\n",
      "target entry U0\n",
      "[      0 V0 + U1 V0 + U0       0       0      U2]\n",
      "[     V0       0       0      U0   U2*V1       0]\n",
      "[     V2       0       0      U2   U1*V0       0]\n",
      "[      0      V2      V1       0       0      V0]\n",
      "[      0       1       1       0       0       1]\n",
      "[     V1       0       0      U1   U0*V2       0]\n",
      "[      0 V0 + U1 V0 + U0       0       0      U2]\n",
      "[     V0       0       0      U0   U2*V1       0]\n",
      "[     V2       0       0      U2   U1*V0       0]\n",
      "[      0      V2      V1       0       0      V0]\n",
      "[      0       1       1       0       0       1]\n",
      "[     V1       0       0      U1   U0*V2       0]\n",
      "[      0 V0 + U1 V0 + U0       0       0      U2]\n",
      "[     V0       0       0      U0   U2*V1       0]\n",
      "[     V2       0       0      U2   U1*V0       0]\n",
      "[      0      V2      V1       0       0      V0]\n",
      "[      0       1       1       0       0       1]\n",
      "[     V1       0       0      U1   U0*V2       0]\n",
      "adding copies times 1\n",
      "multipleV0\n",
      "target entry U2\n",
      "[      0 V0 + U1 V0 + U0       0       0 V0 + U2]\n",
      "[     V0       0       0      U0   U2*V1       0]\n",
      "[     V2       0       0      U2   U1*V0       0]\n",
      "[      0      V2      V1       0       0      V0]\n",
      "[      0       1       1       0       0       1]\n",
      "[     V1       0       0      U1   U0*V2       0]\n",
      "doing row addition with row4\n",
      "and count3\n",
      "and entry (multiple)U0\n",
      "[      0 V0 + U1 V0 + U0       0       0 V0 + U2]\n",
      "[     V0       0       0      U0   U2*V1       0]\n",
      "[     V2       0       0      U2   U1*V0       0]\n",
      "[      0      V2      V1       0       0      V0]\n",
      "[      0       1       1       0       0       1]\n",
      "[     V1       0       0      U1   U0*V2       0]\n",
      "adding copies times 1\n",
      "multipleU0\n",
      "target entry V2\n",
      "[      0 V0 + U1 V0 + U0       0       0 V0 + U2]\n",
      "[     V0       0       0      U0   U2*V1       0]\n",
      "[     V2       0       0      U2   U1*V0       0]\n",
      "[      0 V2 + U0      V1       0       0      V0]\n",
      "[      0       1       1       0       0       1]\n",
      "[     V1       0       0      U1   U0*V2       0]\n",
      "adding copies times 1\n",
      "multipleU0\n",
      "target entry V1\n",
      "[      0 V0 + U1 V0 + U0       0       0 V0 + U2]\n",
      "[     V0       0       0      U0   U2*V1       0]\n",
      "[     V2       0       0      U2   U1*V0       0]\n",
      "[      0 V2 + U0 V1 + U0       0       0      V0]\n",
      "[      0       1       1       0       0       1]\n",
      "[     V1       0       0      U1   U0*V2       0]\n",
      "[      0 V0 + U1 V0 + U0       0       0 V0 + U2]\n",
      "[     V0       0       0      U0   U2*V1       0]\n",
      "[     V2       0       0      U2   U1*V0       0]\n",
      "[      0 V2 + U0 V1 + U0       0       0      V0]\n",
      "[      0       1       1       0       0       1]\n",
      "[     V1       0       0      U1   U0*V2       0]\n",
      "[      0 V0 + U1 V0 + U0       0       0 V0 + U2]\n",
      "[     V0       0       0      U0   U2*V1       0]\n",
      "[     V2       0       0      U2   U1*V0       0]\n",
      "[      0 V2 + U0 V1 + U0       0       0      V0]\n",
      "[      0       1       1       0       0       1]\n",
      "[     V1       0       0      U1   U0*V2       0]\n",
      "adding copies times 1\n",
      "multipleU0\n",
      "target entry V0\n",
      "[      0 V0 + U1 V0 + U0       0       0 V0 + U2]\n",
      "[     V0       0       0      U0   U2*V1       0]\n",
      "[     V2       0       0      U2   U1*V0       0]\n",
      "[      0 V2 + U0 V1 + U0       0       0 V0 + U0]\n",
      "[      0       1       1       0       0       1]\n",
      "[     V1       0       0      U1   U0*V2       0]\n",
      "doing row addition with row4\n",
      "and count4\n",
      "and entry (multiple)U2*V1\n",
      "[      0 V0 + U1 V0 + U0       0       0 V0 + U2]\n",
      "[     V0       0       0      U0   U2*V1       0]\n",
      "[     V2       0       0      U2   U1*V0       0]\n",
      "[      0 V2 + U0 V1 + U0       0       0 V0 + U0]\n",
      "[      0       1       1       0       0       1]\n",
      "[     V1       0       0      U1   U0*V2       0]\n",
      "adding copies times 1\n",
      "multipleU2*V1\n",
      "target entry 1\n",
      "[        0   V0 + U1   V0 + U0         0         0   V0 + U2]\n",
      "[       V0         0         0        U0     U2*V1         0]\n",
      "[       V2         0         0        U2     U1*V0         0]\n",
      "[        0   V2 + U0   V1 + U0         0         0   V0 + U0]\n",
      "[        0 U2*V1 + 1         1         0         0         1]\n",
      "[       V1         0         0        U1     U0*V2         0]\n",
      "adding copies times 1\n",
      "multipleU2*V1\n",
      "target entry 1\n",
      "[        0   V0 + U1   V0 + U0         0         0   V0 + U2]\n",
      "[       V0         0         0        U0     U2*V1         0]\n",
      "[       V2         0         0        U2     U1*V0         0]\n",
      "[        0   V2 + U0   V1 + U0         0         0   V0 + U0]\n",
      "[        0 U2*V1 + 1 U2*V1 + 1         0         0         1]\n",
      "[       V1         0         0        U1     U0*V2         0]\n",
      "[        0   V0 + U1   V0 + U0         0         0   V0 + U2]\n",
      "[       V0         0         0        U0     U2*V1         0]\n",
      "[       V2         0         0        U2     U1*V0         0]\n",
      "[        0   V2 + U0   V1 + U0         0         0   V0 + U0]\n",
      "[        0 U2*V1 + 1 U2*V1 + 1         0         0         1]\n",
      "[       V1         0         0        U1     U0*V2         0]\n",
      "[        0   V0 + U1   V0 + U0         0         0   V0 + U2]\n",
      "[       V0         0         0        U0     U2*V1         0]\n",
      "[       V2         0         0        U2     U1*V0         0]\n",
      "[        0   V2 + U0   V1 + U0         0         0   V0 + U0]\n",
      "[        0 U2*V1 + 1 U2*V1 + 1         0         0         1]\n",
      "[       V1         0         0        U1     U0*V2         0]\n",
      "adding copies times 1\n",
      "multipleU2*V1\n",
      "target entry 1\n",
      "[        0   V0 + U1   V0 + U0         0         0   V0 + U2]\n",
      "[       V0         0         0        U0     U2*V1         0]\n",
      "[       V2         0         0        U2     U1*V0         0]\n",
      "[        0   V2 + U0   V1 + U0         0         0   V0 + U0]\n",
      "[        0 U2*V1 + 1 U2*V1 + 1         0         0 U2*V1 + 1]\n",
      "[       V1         0         0        U1     U0*V2         0]\n",
      "4\n",
      "searching for 1 in(0, V0 + U0, 0, V0 + U2)\n",
      "searching for 1 in(V2, 0, U2, 0)\n",
      "searching for 1 in(0, V1 + U0, 0, V0 + U0)\n",
      "searching for 1 in(V1, 0, U1, 0)\n",
      "reducing around entry -1,-1\n",
      "completed reduction\n",
      "[      0 V0 + U0       0 V0 + U2]\n",
      "[     V2       0      U2       0]\n",
      "[      0 V1 + U0       0 V0 + U0]\n",
      "[     V1       0      U1       0]\n",
      "<class 'sage.matrix.matrix_generic_sparse.Matrix_generic_sparse'>\n"
     ]
    }
   ],
   "source": [
    "newmat = reduction(myf)"
   ]
  },
  {
   "cell_type": "code",
   "execution_count": 145,
   "metadata": {},
   "outputs": [
    {
     "name": "stdout",
     "output_type": "stream",
     "text": [
      "[     0 U0 + 1      0 U2 + 1]\n",
      "[    V2      0     U2      0]\n",
      "[     0 V1 + 1      0 V0 + 1]\n",
      "[    V1      0     U1      0]\n"
     ]
    }
   ],
   "source": [
    "print(newmat)"
   ]
  },
  {
   "cell_type": "code",
   "execution_count": 59,
   "metadata": {},
   "outputs": [
    {
     "data": {
      "text/plain": [
       "[        0        U1        U0         0         0        U2]\n",
       "[       V0         0         0        U0     U2*V1         0]\n",
       "[       V2         0         0        U2     U1*V0         0]\n",
       "[        0        V2        V1         0         0        V0]\n",
       "[        0  U1^2 + 1 U0*U1 + 1         0         0 U1*U2 + 1]\n",
       "[       V1         0         0        U1     U0*V2         0]"
      ]
     },
     "execution_count": 59,
     "metadata": {},
     "output_type": "execute_result"
    }
   ],
   "source": [
    "myf"
   ]
  },
  {
   "cell_type": "code",
   "execution_count": 58,
   "metadata": {
    "scrolled": true
   },
   "outputs": [
    {
     "name": "stdout",
     "output_type": "stream",
     "text": [
      "None\n"
     ]
    }
   ],
   "source": [
    "print(newmat)"
   ]
  },
  {
   "cell_type": "code",
   "execution_count": 32,
   "metadata": {},
   "outputs": [
    {
     "data": {
      "text/plain": [
       "[0, 1, 3, 4]"
      ]
     },
     "execution_count": 32,
     "metadata": {},
     "output_type": "execute_result"
    }
   ],
   "source": [
    "range_skip_entry(5,2)"
   ]
  },
  {
   "cell_type": "code",
   "execution_count": 33,
   "metadata": {},
   "outputs": [
    {
     "data": {
      "text/plain": [
       "[1, 0, 0, 0, 0, 0]"
      ]
     },
     "execution_count": 33,
     "metadata": {},
     "output_type": "execute_result"
    }
   ],
   "source": [
    "g.get_edge_data(list(g.edges())[0][0],list(g.edges())[0][1])['weight']"
   ]
  },
  {
   "cell_type": "code",
   "execution_count": 98,
   "metadata": {},
   "outputs": [
    {
     "name": "stdout",
     "output_type": "stream",
     "text": [
      "Defining w0, w1, w2, w3\n",
      "Defining z0, z1, z2, z3\n"
     ]
    },
    {
     "data": {
      "text/plain": [
       "z0"
      ]
     },
     "execution_count": 98,
     "metadata": {},
     "output_type": "execute_result"
    }
   ],
   "source": [
    "preF = LaurentPolynomialRing(GF(2), 4, ('w'))\n",
    "preF.inject_variables()\n",
    "F = LaurentPolynomialRing(preF,4,'z')\n",
    "F.inject_variables()\n",
    "F.gens()[0]"
   ]
  },
  {
   "cell_type": "code",
   "execution_count": 165,
   "metadata": {},
   "outputs": [
    {
     "name": "stdout",
     "output_type": "stream",
     "text": [
      "Defining U0, U1, U2\n",
      "Defining V0, V1, V2\n"
     ]
    }
   ],
   "source": [
    "preF = LaurentPolynomialRing(GF(2), 'U', 3)\n",
    "preF.inject_variables()\n",
    "F = LaurentPolynomialRing(GF(2), 'V', 3)\n",
    "F.inject_variables()"
   ]
  },
  {
   "cell_type": "code",
   "execution_count": 16,
   "metadata": {},
   "outputs": [
    {
     "data": {
      "text/plain": [
       "Multivariate Laurent Polynomial Ring in U, V over Finite Field of size 2"
      ]
     },
     "execution_count": 16,
     "metadata": {},
     "output_type": "execute_result"
    }
   ],
   "source": [
    "F"
   ]
  },
  {
   "cell_type": "code",
   "execution_count": null,
   "metadata": {},
   "outputs": [],
   "source": [
    "#OLD CODE\n",
    "\n",
    "# def reduce_around(M, position): \n",
    "# #M isa matrix and position is a pair [a,b] where a 1 is located\n",
    "# #function does Gauss-Jordan-ish elimination on that column and in a symmetric way to the entry's row\n",
    "#     a,b = position\n",
    "#     #First step is to use the row to cancel the other entries, then we'll do a symmetric cancellation on\n",
    "#     #the columns as well\n",
    "#     column = M[:][b]\n",
    "#     for index, entry in enumerate(column):\n",
    "#         if ((index != 0) and (index != a) and (entry != 0)):\n",
    "#             M.add_multiple_of_row(index, entry, a)\n",
    "#     for index, entry in enumerate(column):\n",
    "#         if ((index != 0) and (index != a) and (entry != 0)):\n",
    "#             M.add_multiple_of_col(index, entry, b)\n",
    "#     #Now we'll repeat the process but with the row entries\n",
    "#     row = M[a][:]\n",
    "#     for index, entry in enumerate(row):\n",
    "#         if ((index != 0) and (index != b) and (entry != 0)):\n",
    "#             M.add_multiple_of_col(index, entry, b)\n",
    "#     for index, entry in enumerate(column):\n",
    "#         if ((index != 0) and (index != b) and (entry != 0)):\n",
    "#             M.add_multiple_of_row(index, entry, a)\n",
    "#     return\n",
    "\n",
    "# def hom_reduction(adj_mat):\n",
    "#     M = adj_mat\n",
    "#     row_position = 0\n",
    "#     for row in M:\n",
    "#         check, column_position = row_count(row)\n",
    "#         if row_count(check[0]) > 1:\n",
    "#             reduce_around(M, row_position, column_position)\n",
    "#         row_position = position + 1"
   ]
  }
 ],
 "metadata": {
  "kernelspec": {
   "display_name": "SageMath 9.3",
   "language": "sage",
   "name": "sagemath"
  },
  "language_info": {
   "codemirror_mode": {
    "name": "ipython",
    "version": 3
   },
   "file_extension": ".py",
   "mimetype": "text/x-python",
   "name": "python",
   "nbconvert_exporter": "python",
   "pygments_lexer": "ipython3",
   "version": "3.7.10"
  }
 },
 "nbformat": 4,
 "nbformat_minor": 4
}
