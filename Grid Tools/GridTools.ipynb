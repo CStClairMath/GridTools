{
 "cells": [
  {
   "cell_type": "code",
   "execution_count": 1,
   "id": "fc771721",
   "metadata": {
    "tags": []
   },
   "outputs": [],
   "source": [
    "import numpy as np\n",
    "import sys\n",
    "import copy\n",
    "import networkx as nx\n",
    "from pyvis.network import Network\n",
    "import plotly\n",
    "import plotly.graph_objects as go\n",
    "import math\n",
    "from timeit import default_timer as timer\n",
    "import time\n",
    "from CodeModules.perm import *\n",
    "import sympy as sp\n",
    "import pickle\n",
    "\n",
    "\n",
    "%matplotlib inline"
   ]
  },
  {
   "cell_type": "code",
   "execution_count": 2,
   "id": "e6e472a7",
   "metadata": {},
   "outputs": [],
   "source": [
    "#Settings:\n",
    "\n",
    "QUIET = True #Just here so you can tell a function \"QUIET\" or \"INVIS\" and for some of these it will suppress part \n",
    "INVIS = False #of the output. For INVIS this will be graphical outputs\n",
    "FORCE_VALID_GRIDS = False #Not fully implemented - may let some X and O be placed in the same square\n",
    "FORCE_VALID_MOVES = False #Not fully implemented - prevents stabilizing where we can't and commuting columns illegally\n"
   ]
  },
  {
   "cell_type": "code",
   "execution_count": 3,
   "id": "013ebd81",
   "metadata": {},
   "outputs": [],
   "source": [
    "import matplotlib.pyplot as plt  #code necessary for the grid diagram printing written by Evan Bell from SURIEM 2021 - saving here in case\n",
    "import itertools                 #I decide to duplicate the functionality here\n",
    "from scipy.optimize import curve_fit\n",
    "from collections import defaultdict\n",
    "import networkx as nx\n",
    "from numba import jit\n",
    "from numba import njit\n",
    "%matplotlib inline\n",
    "\n",
    "# Function to create a grid diagram given permutations of X and O positions\n",
    "def display_grid(x_list, o_list):\n",
    "    # Getting the size of the grid\n",
    "    if len(x_list) == len(o_list):\n",
    "        n = len(x_list)\n",
    "    else:\n",
    "        print('The length of the index lists do not match.')\n",
    "    \n",
    "    # Initializing figure and making gridlines\n",
    "    plt.figure(figsize=(10*n/6,10*n/6))\n",
    "    plt.vlines(range(2,n+1), ymin=1, ymax=n+1, zorder=8, color='gray', linewidth=3)\n",
    "    plt.hlines(range(2,n+1), xmin=1, xmax=n+1, zorder=10.5, color='gray', linewidth=3)\n",
    "    \n",
    "    # Placing the X's and O's\n",
    "    plt.scatter(np.arange(1, n+1)+0.5, np.array(x_list)+0.5, marker='x', s=1500, linewidth=5, c='black')\n",
    "    plt.scatter(np.arange(1, n+1)+0.5, np.array(o_list)+0.5, marker='o', s=2000, linewidth=5, c='black')\n",
    "    plt.scatter(np.arange(1, n+1)+0.5, np.array(o_list)+0.5, marker='o', s=1200, linewidth=5, c='white')\n",
    "\n",
    "    # Drawing arrows\n",
    "    for x, y, i in zip(x_list, o_list, range(1, n+1)):\n",
    "        if x>y: # Downward pointing arrows\n",
    "            plt.arrow(i+0.5, x+0.25, 0, y-x+.6, width=0.05, head_width=0.2, color='black', length_includes_head=True, zorder=11)\n",
    "            plt.arrow(i+0.5, x+0.25, 0, y-x+.6, width=0.15, head_width=0.2, color='white', length_includes_head=True, zorder=10)\n",
    "        if x<y: # Upward pointing arrows\n",
    "            plt.arrow(i+0.5, x+0.75, 0, y-x-0.6, width=0.05, head_width=0.2, color='black', length_includes_head=True, zorder=11)\n",
    "            plt.arrow(i+0.5, x+0.75, 0, y-x-0.6, width=0.15, head_width=0.2, color='white', length_includes_head=True, zorder=10)\n",
    "        if o_list.index(i)<x_list.index(i): # Rightward pointing arrows\n",
    "            plt.arrow(o_list.index(i)+1.85, i+0.5, x_list.index(i)-o_list.index(i)-0.55, 0, width=0.05, head_width=0.2, color='black', length_includes_head=True, zorder=9)\n",
    "        if o_list.index(i)>x_list.index(i): # Leftward pointing arrows\n",
    "            plt.arrow(o_list.index(i)+1.15, i+0.5, x_list.index(i)-o_list.index(i)+0.55, 0, width=0.05, head_width=0.2, color='black', length_includes_head=True, zorder=9)\n",
    "    \n",
    "    # Setting up the rest of the plot\n",
    "    plt.xlim(1, n+1)\n",
    "    plt.ylim(1, n+1)\n",
    "    plt.tick_params(axis='x', which='both', bottom=False, labelbottom=False) # https://stackoverflow.com/questions/12998430/remove-xticks-in-a-matplotlib-plot\n",
    "    plt.tick_params(axis='y', which='both', left=False, labelleft=False)\n",
    "      "
   ]
  },
  {
   "cell_type": "code",
   "execution_count": 4,
   "id": "cf4960bb",
   "metadata": {},
   "outputs": [],
   "source": [
    "STAB_DIRS = [\"NE\",\"NW\",\"SW\",\"SE\"]\n",
    "\n",
    "class grid:      #Carries knot data - functions asking for a knot (unless otherwise specified)  \n",
    "                 #are asking for a grid\n",
    "        \n",
    "    def __init__(self, given_x, given_o, check_grid_conditions = FORCE_VALID_GRIDS): #Loads grid information into the object and confirms the grid size is square\n",
    "        check_if_valid(given_x)\n",
    "        check_if_valid(given_o)\n",
    "        self.sig_x = perm(given_x)\n",
    "        self.sig_o = perm(given_o)\n",
    "        self.size = perm(given_x).size()\n",
    "        if self.size != perm(given_o).size():\n",
    "            raise ValueError(\"Grid dimensions are not equal to eachother\")\n",
    "        if check_grid_conditions:\n",
    "            for i in self.size:\n",
    "                if self.sig_x.value[i] == self.sig_o.value[i]:\n",
    "                    raise ValueError(\"Invalid grid - X and O appear in the same square\")\n",
    "                \n",
    "    def __repr__(self, hide=INVIS):\n",
    "        if not QUIET:\n",
    "            print(\"sig_x: \" + str(self.sig_x))\n",
    "            print(\"sig_o: \" + str(self.sig_o))\n",
    "        if not hide:\n",
    "            display_grid(self.sig_x.value, self.sig_o.value)\n",
    "        return str([self.sig_x,self.sig_o])\n",
    "\n",
    "    def show(self):\n",
    "        display_grid(self.sig_x.value, self.sig_o.value)\n",
    "        return\n",
    "    \n",
    "    def __str__(self):\n",
    "        return (str(self.sig_x)+str(self.sig_o))\n",
    "    \n",
    "    def h_cycle(self, n = 1): #cycles the grid as a toroidal diagram horizontally n (negative to the left) times\n",
    "        cycler = full_cycle(self.size)\n",
    "        print(cycler)\n",
    "        new_sig_x = self.sig_x*((cycler)**n)\n",
    "        new_sig_o = self.sig_o*((cycler)**n)\n",
    "        return grid(new_sig_x, new_sig_o)\n",
    "    \n",
    "    def v_cycle(self, n = 1): #cycles the grid as a toroidal diagram vertically n (negative down) times\n",
    "        cycler = full_cycle(n)\n",
    "        new_sig_x = ((cycler)**n)*self.sig_x\n",
    "        new_sig_o = ((cycler)**n)*self.sig_o\n",
    "        return grid(new_sig_x, new_sig_o)\n",
    "        \n",
    "    def x_stab(self, x_choice, direction = \"NW\"): #grid stabilization at an x - essentially splits that x into two rows and columns\n",
    "                                                  #this makes for 4 (valid) ways to fill in the gaps, NW,NE,SE,SW\n",
    "        h_switch = perm_from_cycle(((x_choice, x_choice+1),), self.size+1)\n",
    "        v_switch = perm_from_cycle(((self.sig_x[x_choice],self.sig_x[(x_choice)]+1),), self.size+1)\n",
    "        temp_sig_x = self.sig_x.widen_at(x_choice, self.sig_x[(x_choice)])\n",
    "        temp_sig_o = self.sig_o.widen_at(x_choice, self.sig_x[(x_choice)])\n",
    "        if direction == \"NW\":\n",
    "            temp_sig_o = temp_sig_o*h_switch\n",
    "            return grid(temp_sig_x,temp_sig_o)\n",
    "        if direction == \"NE\":\n",
    "            temp_sig_x = temp_sig_x*h_switch\n",
    "            return grid(temp_sig_x,temp_sig_o)\n",
    "        if direction == \"SE\":\n",
    "            temp_sig_x = temp_sig_x\n",
    "            temp_sig_o = v_switch*temp_sig_o\n",
    "            return grid(temp_sig_x,temp_sig_o)\n",
    "        if direction == \"SW\":\n",
    "            temp_sig_x = temp_sig_x*h_switch\n",
    "            temp_sig_o = v_switch*(temp_sig_o*h_switch)\n",
    "            return grid(temp_sig_x,temp_sig_o)\n",
    "\n",
    "    def x_destab(self, x_choice, check_if_legal = FORCE_VALID_MOVES): #still need to work out how to check for legality - ie see if the place\n",
    "        height = self.sig_x[x_choice]                                 #we destabilize at is one of NE NW SE SW.\n",
    "        x_temp = self.sig_x.collapse_at(x_choice)\n",
    "        helper = perm_from_cycle(((height,self.sig_o[x_choice]),),self.size)\n",
    "        o_temp = self.sig_o\n",
    "        o_temp = (helper*o_temp).collapse_at(x_choice)\n",
    "        return grid(x_temp, o_temp)\n",
    "\n",
    "    def __hash__(self):\n",
    "        identifier = ''\n",
    "        for x in self.sig_x:\n",
    "            identifier = identifier + str(x)\n",
    "        for o in self.sig_o:\n",
    "            identifier = identifier + str(o)\n",
    "        return int(identifier)    \n",
    "    \n",
    "    \n",
    "    def commute_columns(self, left_position, ValidGridMove = FORCE_VALID_MOVES):\n",
    "        h_switch = perm_from_cycle(((left_position, left_position+1),), self.size)\n",
    "        new_sig_x = self.sig_x*h_switch\n",
    "        new_sig_o = self.sig_o*h_switch\n",
    "        return grid(new_sig_x, new_sig_o)\n",
    "        \n",
    "    def __eq__(self, other):\n",
    "        if type(other) != grid:\n",
    "            return False\n",
    "        if self.sig_x == other.sig_x:\n",
    "            if self.sig_o == other.sig_o:\n",
    "                return True\n",
    "        return False\n",
    "\n",
    "#END OF GRID TYPE DEFINITION    \n",
    "    \n",
    "    \n",
    "def generate_all_grids(n):     #this is (as far as I can tell) tied to derangements, which is an NP-complete problem so this won't be\n",
    "    perm_set = generate_sn(n)  #able to be incredibly optimized\n",
    "    hold = []\n",
    "    for element in perm_set:\n",
    "        for other in perm_set:\n",
    "            sudokurule = True\n",
    "            for i in range(n):\n",
    "                if element[i+1] == other[i+1]:\n",
    "                    sudokurule = False\n",
    "                    break\n",
    "            if sudokurule:\n",
    "                hold.append(grid(element,other))\n",
    "    return hold\n",
    "\n"
   ]
  },
  {
   "cell_type": "code",
   "execution_count": 5,
   "id": "94656e2d",
   "metadata": {},
   "outputs": [],
   "source": [
    "def symbol_coordinates(symbol_perm):\n",
    "    \n",
    "    if type(symbol_perm) == perm:\n",
    "        \n",
    "        temp = symbol_perm.value.copy()\n",
    "        \n",
    "    else:\n",
    "        \n",
    "        temp = symbol_perm.copy()\n",
    "        \n",
    "    for count, element in enumerate(temp):\n",
    "        \n",
    "        temp[count] = (count + 1.5, element + 0.5)\n",
    "        \n",
    "    return temp\n",
    "\n",
    "\n",
    "def is_between(target, a, b):\n",
    "    \n",
    "    if target > a:\n",
    "        if target < b:\n",
    "            return True\n",
    "    return False\n",
    "\n",
    "\n",
    "def check_case_1(rect, target): #standard position rectangle to check rect[0] has both coordinates less\n",
    "                                #than rect[1]\n",
    "    if (is_between(target[0], rect[0][0], rect[1][0]) and is_between(target[1], rect[0][1], rect[1][1])):\n",
    "        return True\n",
    "    return False\n",
    "\n",
    "def check_case_2(rect, target): #standard position rectangle to check rect[0] has both coordinates less\n",
    "                                #than rect[1]\n",
    "    if ((not is_between(target[0], rect[1][0], rect[0][0])) and is_between(target[1], rect[0][1], rect[1][1])):\n",
    "        return True\n",
    "    return False\n",
    "    \n",
    "def check_case_3(rect, target): #standard position rectangle to check rect[0] has both coordinates less\n",
    "                                #than rect[1]\n",
    "    if (is_between(target[0], rect[0][0], rect[1][0]) and (not is_between(target[1], rect[1][1], rect[0][1]))):\n",
    "        return True\n",
    "    return False\n",
    "\n",
    "def check_case_4(rect, target): #standard position rectangle to check rect[0] has both coordinates less\n",
    "                                #than rect[1]\n",
    "    if ((not is_between(target[0], rect[1][0], rect[0][0])) and (not is_between(target[1], rect[1][1], rect[0][1]))):\n",
    "        return True\n",
    "    return False\n",
    "    \n",
    "def parent_check(rect, target):\n",
    "    ax = rect[0][0]\n",
    "    ay = rect[0][1]\n",
    "    bx = rect[1][0]\n",
    "    by = rect[1][1]\n",
    "    if ( (ax < bx) and (ay < by) ):\n",
    "        return check_case_1(rect, target)\n",
    "    if ( (ax > bx) and (ay < by) ):\n",
    "        return check_case_2(rect, target)\n",
    "    if ( (ax < bx) and (ay > by) ):\n",
    "        return check_case_3(rect, target)\n",
    "    if ( (ax > bx) and (ay > by) ):\n",
    "        return check_case_4(rect, target)\n",
    "    print(\"invalid rectangle given\")\n",
    "\n",
    "\n",
    "        \n",
    "        "
   ]
  },
  {
   "cell_type": "code",
   "execution_count": 6,
   "id": "c3f0c5ed",
   "metadata": {},
   "outputs": [],
   "source": [
    "def hv_set_shift(h,v,sigs): #shifts all permutations horizontally and vertically by h and v\n",
    "    result = []\n",
    "    if len(sigs) == 0:\n",
    "        n = 0\n",
    "    else:\n",
    "        n = len(sigs[0])\n",
    "    hshift = full_cycle(n)**(-h)\n",
    "    vshift = full_cycle(n)**v\n",
    "    for sig in sigs:\n",
    "#        print(type(sig))\n",
    "        result.append((vshift*sig)*hshift)\n",
    "    return result\n",
    "\n",
    "def truncated_sn(n, trunc_length): #for when you want the first \"trunc_length\" possibilities of s_n\n",
    "    pre_result = generate_sn(n)    #This has room for optimization\n",
    "    result = []\n",
    "    for sig in pre_result:\n",
    "        temp = sig.value.copy()\n",
    "        trunc_sig = temp[0:trunc_length]\n",
    "        if trunc_sig not in result:\n",
    "            result.append(trunc_sig.copy())\n",
    "    return result\n",
    "\n",
    "def generate_all_states_outside_rectangle(rectangle, n): #rectangle given as lower left,upper right this function returns a list of states that \n",
    "#    print('rectangle given: ' + str(rectangle))\n",
    "    r_width = (rectangle[1][0] - rectangle[0][0]) % n\n",
    "#    print(\"r_width = \" + str(r_width)) #debug line\n",
    "    r_height = (rectangle[1][1] - rectangle[0][1]) % n\n",
    "#    print(\"r_height = \" + str(r_height)) #debug line\n",
    "    if (r_width + r_height) > n:\n",
    "        print(\"rectangle dimensions too large to have non-empty set of states\")\n",
    "        return []\n",
    "    pre_result = []\n",
    "    sa = truncated_sn(n-r_height-1, r_width - 1)    #region a is the one above the rectangle and b is the columns after that then s_a is the collection of intersection choices\n",
    "#    print(\"populated sa as \" +str(sa))  #for a grid state x that keeps the rectangle empty\n",
    "    sb = generate_sn(n-abs(r_width)-1)  #sanity check: 2 intersections used by corners, rw - 1 for a and n - rw - 1 for b means 2 + a + b = n \n",
    "#    print(\"populated sb\")\n",
    "    if sa == []:\n",
    "        whats_left = []\n",
    "        for i in range(2,r_height+1):\n",
    "            whats_left.append(i)\n",
    "        for i in range(r_height+1,n+1):\n",
    "            whats_left.append(i)\n",
    "        for psi in sb:\n",
    "            curr_state=[]\n",
    "            curr_state.append(1)\n",
    "            curr_state = [1+r_height] + curr_state\n",
    "            for i in range(n-abs(r_width)-1):\n",
    "                curr_state.append(whats_left[psi[i]-1])\n",
    "            pcurr_state = perm(curr_state.copy())\n",
    "#            print(pcurr_state)\n",
    "            pre_result.append(pcurr_state)\n",
    "    for sig in sa:\n",
    "        x = sig.copy() #we're lifting this as a list rather than a permutation because we need to shift them all up by the height - making it no longer a perm\n",
    "        for count, position in enumerate(x):\n",
    "            x[count] = position + r_height + 1\n",
    "#        print(\"x is \" + str(x))\n",
    "        whats_left = []\n",
    "        for i in range(2,abs(r_height)+1):\n",
    "            whats_left.append(i)\n",
    "        for i in range(abs(r_height) + 2, n + 1):\n",
    "            if i not in x:\n",
    "                whats_left.append(i)\n",
    "#        print(\"whats left is: \" + str(whats_left))\n",
    "        if sb == []:\n",
    "            curr_state = x.copy()\n",
    "            curr_state.append(1)\n",
    "            curr_state = [1+r_height] + curr_state\n",
    "            pcurr_state = perm(curr_state.copy())\n",
    "            pre_result.append(pcurr_state)\n",
    "        for psi in sb:\n",
    "            curr_state=x.copy()\n",
    "            curr_state.append(1)\n",
    "            curr_state = [1+r_height] + curr_state\n",
    "            for i in range(n-abs(r_width)-1):\n",
    "                curr_state.append(whats_left[psi[i]-1])\n",
    "            pcurr_state = perm(curr_state.copy())\n",
    "#            print(pcurr_state)\n",
    "            pre_result.append(pcurr_state)\n",
    "#    print(str(pre_result))\n",
    "    if not ((rectangle[0][0] == 1) and (rectangle[0][1] == 1)):\n",
    "        raw_result = hv_set_shift(rectangle[0][0]-1, rectangle[0][1]-1, pre_result)\n",
    "    else:\n",
    "        raw_result = pre_result\n",
    "    result = []\n",
    "    rect_pairer = transposition(rectangle[0][0],rectangle[1][0],n)\n",
    "    for sig in raw_result:\n",
    "        result.append([sig*rect_pairer,sig])\n",
    "    if result == []:\n",
    "        return None\n",
    "    return result\n",
    "\n",
    "def generate_all_rectangle_sizes(n):\n",
    "    result = []\n",
    "    for width in range(1,n):\n",
    "        for height in range(1,n+1-width):\n",
    "            result.append((width,height))\n",
    "    return result\n",
    "\n",
    "def generate_all_rectangles(n):\n",
    "    sizes = generate_all_rectangle_sizes(n)\n",
    "    rects = []\n",
    "    for size in sizes:\n",
    "        for i in range(0,n):\n",
    "            for j in range(0,n):\n",
    "                x = (i % n + 1,j % n + 1)\n",
    "                y = ((i+size[0]) % n + 1,(j+size[1]) % n + 1)\n",
    "                rects.append((x,y))\n",
    "#    print(rects)\n",
    "    return rects\n",
    "\n",
    "def zero_list(n):\n",
    "    result = []\n",
    "    for i in range(n):\n",
    "        result.append(0)\n",
    "    return result\n",
    "\n",
    "def count_symbols(n, rect, symbol_perm):\n",
    "    temp = zero_list(n)\n",
    "    usable_sym = symbol_coordinates(symbol_perm)\n",
    "    for i in range(n):\n",
    "        if parent_check(rect, usable_sym[i]):\n",
    "            temp[i] = 1\n",
    "    return temp\n",
    "        \n",
    "\n",
    "def generate_all_edges(n, symbols): #n is the grid size and symbols are a collection of basepoints - in the case of a grid diagram this should be a list of two permutations\n",
    "    pre_diff = generate_all_rectangles(n) #symbols is a list data type containing either lists or perms either should work\n",
    "    symbol_count = len(symbols)\n",
    "    place_holder = []\n",
    "    z_list = zero_list(n)\n",
    "    for i in range(symbol_count):\n",
    "        place_holder.append(z_list.copy())\n",
    "#    print('placeholder looks like: ' + str(place_holder))\n",
    "    unweighted_diff = []\n",
    "    for rect in pre_diff:\n",
    "#        print('processing rectangle ' + str(rect))\n",
    "        candidates = generate_all_states_outside_rectangle(rect, n)\n",
    "        if candidates is not None:\n",
    "            for count, candidate in enumerate(candidates):\n",
    "                candidates[count] = [candidate.copy(), rect, place_holder.copy()]\n",
    "            unweighted_diff = unweighted_diff + candidates\n",
    "    for count, symbol in enumerate(symbols):\n",
    "        for i in range(len(unweighted_diff)):\n",
    "#            print(unweighted_diff)\n",
    "            unweighted_diff[i][2][count] = count_symbols(n, unweighted_diff[i][1], symbol) #after this it should be weighted\n",
    "    return unweighted_diff"
   ]
  },
  {
   "cell_type": "code",
   "execution_count": 7,
   "id": "f5f18a5a-7782-419c-a3d6-b913fb21952c",
   "metadata": {},
   "outputs": [],
   "source": [
    "def pickle_it(comp, filename):\n",
    "    \n",
    "    file = open(filename, 'wb')\n",
    "    pickle.dump(comp, file)\n",
    "    file.close()\n",
    "    \n",
    "    return\n",
    "\n",
    "def pickle_cinf(gknot, filename = 'DefaultPickleComp'):\n",
    "    \n",
    "    if filename == 'DefaultPickleComp':\n",
    "        print('No name provided for pickling - saving to DefaultPickleComp')\n",
    "    size = gknot.size\n",
    "    comp = generate_all_edges(size, [list(gknot.sig_x),list(gknot.sig_o)])\n",
    "    g = nx.DiGraph()\n",
    "    for ele in comp:\n",
    "        \n",
    "        g.add_edge(str(ele[0][0]),str(ele[0][1]), diffweight = (ele[2][0] + ele[2][1]))\n",
    "        # print(g.edges()[str(ele[0][0]),str(ele[0][1])])\n",
    "        \n",
    "    pickle_it((g, size), filename)\n",
    "    \n",
    "    return"
   ]
  },
  {
   "cell_type": "code",
   "execution_count": 14,
   "id": "9f4c188b",
   "metadata": {},
   "outputs": [],
   "source": [
    "#naming some common knots\n",
    "trefoil = grid([5, 1, 2, 3, 4], [2, 3, 4, 5, 1])\n",
    "unknot = grid([1,2],[2,1])\n",
    "figureEight = grid([5,4,1,6,2,3],[2,6,5,3,4,1])\n",
    "conway = grid([1,2,4,8,5,7,6,10,3,9,11],[4,5,10,3,1,11,9,8,7,2,6])\n"
   ]
  },
  {
   "cell_type": "code",
   "execution_count": 16,
   "id": "4db3a4ed-e30d-4fc7-a4ea-131a02c16700",
   "metadata": {},
   "outputs": [],
   "source": [
    "pickle_cinf(figureEight, \"FigureEightPickle\")"
   ]
  },
  {
   "cell_type": "code",
   "execution_count": 20,
   "id": "84514703-b637-41a6-916f-c49045d94bcb",
   "metadata": {},
   "outputs": [
    {
     "data": {
      "text/plain": [
       "[(1, 1),\n",
       " (1, 2),\n",
       " (1, 3),\n",
       " (1, 4),\n",
       " (2, 1),\n",
       " (2, 2),\n",
       " (2, 3),\n",
       " (3, 1),\n",
       " (3, 2),\n",
       " (4, 1)]"
      ]
     },
     "execution_count": 20,
     "metadata": {},
     "output_type": "execute_result"
    }
   ],
   "source": [
    "generate_all_rectangle_sizes(5)"
   ]
  },
  {
   "cell_type": "code",
   "execution_count": 31,
   "id": "369464b7-de7a-49c7-9381-180fd86e4637",
   "metadata": {},
   "outputs": [],
   "source": [
    "#generate_all_rectangles(3)"
   ]
  },
  {
   "cell_type": "code",
   "execution_count": 32,
   "id": "8ab5d5bc-0e13-4a4e-984d-ef8d5c797dc4",
   "metadata": {},
   "outputs": [],
   "source": [
    "#trefoil.h_cycle()"
   ]
  },
  {
   "cell_type": "code",
   "execution_count": 21,
   "id": "f770db8e",
   "metadata": {},
   "outputs": [
    {
     "data": {
      "text/plain": [
       "[[[1, 5, 3, 2, 4], [3, 5, 1, 2, 4]],\n",
       " [[1, 5, 3, 4, 2], [3, 5, 1, 4, 2]],\n",
       " [[1, 4, 3, 2, 5], [3, 4, 1, 2, 5]],\n",
       " [[1, 4, 3, 5, 2], [3, 4, 1, 5, 2]]]"
      ]
     },
     "execution_count": 21,
     "metadata": {},
     "output_type": "execute_result"
    }
   ],
   "source": [
    "generate_all_states_outside_rectangle(((1,1),(3,3)),5)"
   ]
  },
  {
   "cell_type": "code",
   "execution_count": null,
   "id": "c245ee75-e5cc-42d0-b137-3aa38afaee8a",
   "metadata": {},
   "outputs": [
    {
     "data": {
      "text/plain": [
       "[[1, 2, 3, 4, 5, 6, 7], [2, 3, 4, 5, 6, 7, 1]]"
      ]
     },
     "execution_count": 9,
     "metadata": {},
     "output_type": "execute_result"
    },
    {
     "data": {
      "image/png": "[encoded data removed]",
      "text/plain": [
       "<Figure size 840x840 with 1 Axes>"
      ]
     },
     "metadata": {},
     "output_type": "display_data"
    }
   ],
   "source": [
    "grid([1, 2, 3, 4, 5,], [2, 3, 4, 5, 1])"
   ]
  },
  {
   "cell_type": "code",
   "execution_count": 10,
   "id": "af00afe0",
   "metadata": {},
   "outputs": [],
   "source": [
    "comp = generate_all_edges(6,[[5,4,1,6,2,3],[2,6,5,3,4,1]])\n",
    "# print(comp)\n",
    "g = nx.DiGraph()\n",
    "for ele in comp:\n",
    "    g.add_edge(str(ele[0][0]),str(ele[0][1]),weight = str(ele[2]))\n",
    "nx.write_gml(g, 'Figure8.gml')"
   ]
  },
  {
   "cell_type": "code",
   "execution_count": 20,
   "id": "a2699120-a05f-4784-aab8-bfe4cbaf1703",
   "metadata": {},
   "outputs": [],
   "source": [
    "#trying to avoid conversion to strings to speed up the process\n",
    "\n",
    "comp = generate_all_edges(6,[[5,4,1,6,2,3],[2,6,5,3,4,1]])\n",
    "# print(comp)\n",
    "g = nx.DiGraph()\n",
    "for ele in comp:\n",
    "    g.add_edge(str(ele[0][0]),str(ele[0][1]),weight = (ele[2]))\n",
    "# nx.write_gml(g, 'Figure8.gml')\n",
    "pickle_it((g, ), 'testingpicknew')"
   ]
  },
  {
   "cell_type": "code",
   "execution_count": 23,
   "id": "460c65ef-16df-4100-9552-47451120331d",
   "metadata": {},
   "outputs": [
    {
     "data": {
      "text/plain": [
       "[2, 3, 4, 5, 1]"
      ]
     },
     "execution_count": 23,
     "metadata": {},
     "output_type": "execute_result"
    }
   ],
   "source": [
    "trefoil.sig_o"
   ]
  },
  {
   "cell_type": "code",
   "execution_count": 39,
   "id": "a10e73d0-c59b-4761-9550-982a65ef065f",
   "metadata": {},
   "outputs": [],
   "source": []
  },
  {
   "cell_type": "code",
   "execution_count": 30,
   "id": "eb882155-34a1-4f92-b01a-ee147e4275ff",
   "metadata": {},
   "outputs": [],
   "source": [
    "pickle_cinf(trefoil, 'trefoilpickle')"
   ]
  },
  {
   "cell_type": "code",
   "execution_count": 9,
   "id": "dfd612a1",
   "metadata": {},
   "outputs": [],
   "source": [
    "# Amat = nx.to_dict_of_dicts(g)\n",
    "# matKeys = list(Amat.keys())\n",
    "# Amat['[1, 2, 3]']\n",
    "# i = 0\n",
    "# for gener in matKeys:\n",
    "#     Amat[gener]['index']=i\n",
    "#     i += 1\n",
    "# Amat"
   ]
  },
  {
   "cell_type": "code",
   "execution_count": 36,
   "id": "2cae9ed9",
   "metadata": {},
   "outputs": [],
   "source": [
    "# Amat[matKeys[0]]"
   ]
  },
  {
   "cell_type": "code",
   "execution_count": 23,
   "id": "b6bca159",
   "metadata": {
    "tags": []
   },
   "outputs": [
    {
     "name": "stdout",
     "output_type": "stream",
     "text": [
      "U**3 + U*V**2 + U*V + V\n"
     ]
    },
    {
     "data": {
      "text/plain": [
       "{(0, 1, 0): SymmetricModularIntegerMod2(1),\n",
       " (3, 0, 0): SymmetricModularIntegerMod2(1),\n",
       " (1, 1, 0): SymmetricModularIntegerMod2(1),\n",
       " (1, 2, 0): SymmetricModularIntegerMod2(1)}"
      ]
     },
     "execution_count": 23,
     "metadata": {},
     "output_type": "execute_result"
    }
   ],
   "source": [
    "U, V = sp.symbols('U V')\n",
    "F = sp.FF(2)[U,V,(U**-1)]\n",
    "#F((1) + (U+U)+ (U*U*(U**-1)*(U**-1)*(U**-1)*(U**-1)))\n",
    "p = F((U**1)*(U**1)*(U**1)+U*V+V+U*V**2)\n",
    "print(p)\n",
    "dict(p)"
   ]
  },
  {
   "cell_type": "code",
   "execution_count": null,
   "id": "de1cb9ad",
   "metadata": {
    "tags": []
   },
   "outputs": [],
   "source": [
    "for thing in Amat:\n",
    "    c"
   ]
  },
  {
   "cell_type": "code",
   "execution_count": null,
   "id": "83af0933",
   "metadata": {},
   "outputs": [],
   "source": [
    "generate_all_edges(5,[[5, 1, 2, 3, 4], [2, 3, 4, 5, 1]])"
   ]
  },
  {
   "cell_type": "code",
   "execution_count": 22,
   "id": "4dfa3d4e",
   "metadata": {},
   "outputs": [
    {
     "data": {
      "text/plain": [
       "CodeModules.perm.perm"
      ]
     },
     "execution_count": 22,
     "metadata": {},
     "output_type": "execute_result"
    }
   ],
   "source": [
    "type(comp[0][0][0])"
   ]
  },
  {
   "cell_type": "code",
   "execution_count": 12,
   "id": "3f998f3e",
   "metadata": {},
   "outputs": [
    {
     "data": {
      "text/plain": [
       "[[5, 1, 2, 3, 4], [2, 3, 4, 5, 1]]"
      ]
     },
     "execution_count": 12,
     "metadata": {},
     "output_type": "execute_result"
    },
    {
     "data": {
      "image/png": "[encoded data removed]",
      "text/plain": [
       "<Figure size 600x600 with 1 Axes>"
      ]
     },
     "metadata": {},
     "output_type": "display_data"
    }
   ],
   "source": [
    "trefoil"
   ]
  },
  {
   "cell_type": "code",
   "execution_count": null,
   "id": "1a3a6afd",
   "metadata": {},
   "outputs": [],
   "source": [
    "# G = Grid_Chain_Complex(trefoil)\n",
    "# nx.write_gml(G, \"demoGCC.gml\")"
   ]
  },
  {
   "cell_type": "code",
   "execution_count": null,
   "id": "e6464773",
   "metadata": {},
   "outputs": [],
   "source": [
    "def stDiff(givenGrid):\n",
    "    diff = {}\n",
    "    for x in range(1, givenGrid.size + 1):\n",
    "        current = givenGrid.x_destab(x)\n",
    "        if current in diff:\n",
    "            diff[current] += 1\n",
    "        else:\n",
    "            diff[current] = 1\n",
    "            print(current.sig_x)\n",
    "            print(current.sig_o)\n",
    "            display_grid(current.sig_x.value, current.sig_o.value)\n",
    "    return diff\n",
    "\n",
    "def addToGraphFromDictZ2(source, data, G):\n",
    "    for target in data:\n",
    "        if data[target]%2 == 1:\n",
    "            G.add_edge(str(source), str(target))\n",
    "    return\n",
    "\n",
    "def stComplex(givenGrid):\n",
    "    G = nx.DiGraph()\n",
    "    currentSize = givenGrid.size\n",
    "    curBasis = [givenGrid]\n",
    "    for count in range(currentSize - 1):\n",
    "        nextBasis = []\n",
    "        for obj in curBasis:\n",
    "            curDiff = stDiff(obj)\n",
    "            addToGraphFromDictZ2(obj, curDiff, G)\n",
    "            for dx in curDiff:\n",
    "                print(\"dx is \" + str(dx))\n",
    "                if dx not in nextBasis:\n",
    "                    nextBasis.append(dx)\n",
    "        curBasis = nextBasis\n",
    "    return G"
   ]
  },
  {
   "cell_type": "code",
   "execution_count": null,
   "id": "c13c6b16",
   "metadata": {},
   "outputs": [],
   "source": [
    "for x in range(5):\n",
    "    G = stComplex(trefoil.h_cycle(x+1))\n",
    "    adMat = nx.adjacency_matrix(G)\n",
    "    \n",
    "    nx.write_gml(G, \"stDiffTrefoil\" + str(x) + \".gml\")"
   ]
  },
  {
   "cell_type": "code",
   "execution_count": null,
   "id": "9574f34c",
   "metadata": {},
   "outputs": [],
   "source": [
    "g = nx.Graph()"
   ]
  },
  {
   "cell_type": "code",
   "execution_count": null,
   "id": "5e0bc15c",
   "metadata": {},
   "outputs": [],
   "source": [
    "x, y = sp.symbols('x y')"
   ]
  },
  {
   "cell_type": "code",
   "execution_count": null,
   "id": "ab5ed9bb",
   "metadata": {},
   "outputs": [],
   "source": [
    "type(x)"
   ]
  },
  {
   "cell_type": "code",
   "execution_count": null,
   "id": "788b8b74",
   "metadata": {},
   "outputs": [],
   "source": [
    "np.array([[1,2],[0,1]])"
   ]
  },
  {
   "cell_type": "code",
   "execution_count": null,
   "id": "966cffbc",
   "metadata": {},
   "outputs": [],
   "source": [
    "np.dtype(np.array([1,2]))"
   ]
  },
  {
   "cell_type": "code",
   "execution_count": null,
   "id": "0f9b075e",
   "metadata": {},
   "outputs": [],
   "source": [
    "ar = np.array([1,2],subok = False)\n",
    "# dt = np.dtype([('x', 'i8', (1,2))])\n",
    "# ar = ar.astype(dt)\n",
    "ar"
   ]
  },
  {
   "cell_type": "code",
   "execution_count": null,
   "id": "7da3b5b1",
   "metadata": {},
   "outputs": [],
   "source": [
    "g = nx.Graph()\n",
    "g.add_edge('a','b',weight = ar)"
   ]
  },
  {
   "cell_type": "code",
   "execution_count": null,
   "id": "4319cc5e",
   "metadata": {},
   "outputs": [],
   "source": [
    "nx.to_numpy_matrix(g, dtype = dt)"
   ]
  },
  {
   "cell_type": "code",
   "execution_count": 96,
   "id": "b2242a9c",
   "metadata": {},
   "outputs": [],
   "source": [
    "M = sp.Matrix([[3,2,2],[1,U,3]])  "
   ]
  },
  {
   "cell_type": "code",
   "execution_count": 102,
   "id": "25720a6e",
   "metadata": {},
   "outputs": [],
   "source": [
    "M[1,0] = V**2"
   ]
  },
  {
   "cell_type": "code",
   "execution_count": 103,
   "id": "c41f4eec",
   "metadata": {},
   "outputs": [
    {
     "data": {
      "text/latex": [
       "$\\displaystyle \\left[\\begin{matrix}3 & 2 & 2\\\\V^{2} & U & 3\\end{matrix}\\right]$"
      ],
      "text/plain": [
       "Matrix([\n",
       "[   3, 2, 2],\n",
       "[V**2, U, 3]])"
      ]
     },
     "execution_count": 103,
     "metadata": {},
     "output_type": "execute_result"
    }
   ],
   "source": [
    "M"
   ]
  },
  {
   "cell_type": "code",
   "execution_count": null,
   "id": "2108a0a0",
   "metadata": {},
   "outputs": [],
   "source": []
  }
 ],
 "metadata": {
  "kernelspec": {
   "display_name": "Python 3 (ipykernel)",
   "language": "python",
   "name": "python3"
  },
  "language_info": {
   "codemirror_mode": {
    "name": "ipython",
    "version": 3
   },
   "file_extension": ".py",
   "mimetype": "text/x-python",
   "name": "python",
   "nbconvert_exporter": "python",
   "pygments_lexer": "ipython3",
   "version": "3.8.12"
  },
  "toc-autonumbering": true,
  "toc-showcode": true,
  "toc-showmarkdowntxt": true
 },
 "nbformat": 4,
 "nbformat_minor": 5
}
