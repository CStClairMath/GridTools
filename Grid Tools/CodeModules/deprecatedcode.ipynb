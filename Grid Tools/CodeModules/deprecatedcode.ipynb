{
 "cells": [
  {
   "cell_type": "code",
   "execution_count": null,
   "id": "ad45965c-6dab-477f-baee-5e188a70add1",
   "metadata": {},
   "outputs": [],
   "source": []
  },
  {
   "cell_type": "code",
   "execution_count": null,
   "id": "ba079b51-1dcd-4d8f-869c-6f217872b914",
   "metadata": {},
   "outputs": [],
   "source": [
    "# def Grid_Chain_Complex(knot):\n",
    "#     n = knot.size\n",
    "#     gridstate_set = generate_sn(n)\n",
    "#     tempvset = []\n",
    "#     for element in gridstate_set:\n",
    "#         tempvset.append(str(element))\n",
    "#     transpo_set = generate_all_labeled_transpositions(n)\n",
    "#     G = nx.DiGraph()\n",
    "#     for i in range(n):\n",
    "#         G.add_node(tempvset[i]) #state=gridstate_set[i])\n",
    "#     for x in gridstate_set:\n",
    "#         for y in transpo_set:\n",
    "#             current_rectangle = [[y[1][0],x[y[1][0]]],[y[1][1],x[y[1][1]]]]\n",
    "# #            print(str(current_rectangle))\n",
    "#             G.add_edge(str(x),str(x*y[0])) ###rectangle = current_rectangle###)\n",
    "#     return G"
   ]
  },
  {
   "cell_type": "code",
   "execution_count": null,
   "id": "fb0dfaa1-f6eb-4156-be6f-9178bf488cf6",
   "metadata": {},
   "outputs": [],
   "source": [
    "sig = perm([1,5,2,4,3,6,8,7])\n",
    "phi = transposition(2,4,8)\n",
    "print(sig*phi)\n",
    "print(phi*sig)"
   ]
  },
  {
   "cell_type": "code",
   "execution_count": null,
   "id": "e46eebe2-5919-401c-8d94-1fd579148ef1",
   "metadata": {},
   "outputs": [],
   "source": [
    "# def check_if_empty(rect, target): #rect is a list [[x0,y0],[x1,y1]] with data shaped like (i, sig(i)) as the coordinates of the two\n",
    "#                           #corners of the rectangle\n",
    "#     if type(target) == perm:\n",
    "#         target = target.value.copy()\n",
    "#     given_lower = rect[0][1]\n",
    "#     given_upper = rect[1][1]\n",
    "#     if given_lower < given_upper:\n",
    "#         tracker = -1\n",
    "#         lower = given_lower\n",
    "#         upper = given_upper\n",
    "#     else:\n",
    "#         tracker = 1\n",
    "#         upper = given_lower\n",
    "#         lower = given_upper\n",
    "#     result = [True, True]\n",
    "#     n = len(target)\n",
    "#     for i in range(rect[0][0]-1):\n",
    "#         if check_step(target[i], lower, upper, tracker):\n",
    "#             result[1] = False\n",
    "#     tracker = tracker*(-1)\n",
    "#     for i in range(rect[0][0]-1,rect[1][0]-1):\n",
    "#         if check_step(target[i], lower, upper, tracker):\n",
    "#             result[0] = False\n",
    "#     tracker = tracker*(-1)\n",
    "#     for i in range(rect[1][0]-1,n):\n",
    "#         if check_step(target[i], lower, upper, tracker):\n",
    "#             result[1] = False\n",
    "#     return result\n",
    "\n",
    "# def check_step(value, low, high, location=1): #location =+-1 plus is between -1 is outside\n",
    "#     if location == 1:\n",
    "#         result = ((value < high) and (value > low))\n",
    "#     elif location == -1:\n",
    "#         result = ((value > high) or (value < low))\n",
    "#     else: #this condition should only come up when trying to check if a corner of the rectangle is in said rectangle\n",
    "#         return False\n",
    "#     return result"
   ]
  },
  {
   "cell_type": "code",
   "execution_count": 14,
   "id": "e665cceb-d8c7-4e67-a695-c626b51735d2",
   "metadata": {},
   "outputs": [
    {
     "name": "stdout",
     "output_type": "stream",
     "text": [
      "Time for complex for size 3 = 0.0004947999999842523\n",
      "Time for complex for size 4 = 0.0012836999999876753\n",
      "Time for complex for size 5 = 0.005498399999993353\n",
      "Time for complex for size 6 = 0.04215110000001232\n",
      "Time for complex for size 7 = 0.39596579999999904\n"
     ]
    },
    {
     "ename": "KeyboardInterrupt",
     "evalue": "",
     "output_type": "error",
     "traceback": [
      "\u001b[1;31m---------------------------------------------------------------------------\u001b[0m",
      "\u001b[1;31mKeyboardInterrupt\u001b[0m                         Traceback (most recent call last)",
      "\u001b[1;32m~\\AppData\\Local\\Temp/ipykernel_11616/480075637.py\u001b[0m in \u001b[0;36m<module>\u001b[1;34m\u001b[0m\n\u001b[0;32m      1\u001b[0m \u001b[1;32mfor\u001b[0m \u001b[0mi\u001b[0m \u001b[1;32min\u001b[0m \u001b[0mrange\u001b[0m\u001b[1;33m(\u001b[0m\u001b[1;36m3\u001b[0m\u001b[1;33m,\u001b[0m \u001b[1;36m9\u001b[0m\u001b[1;33m)\u001b[0m\u001b[1;33m:\u001b[0m\u001b[1;33m\u001b[0m\u001b[1;33m\u001b[0m\u001b[0m\n\u001b[1;32m----> 2\u001b[1;33m     \u001b[0mcurrent_complex\u001b[0m \u001b[1;33m=\u001b[0m \u001b[0mgenerate_all_edges\u001b[0m\u001b[1;33m(\u001b[0m\u001b[0mi\u001b[0m\u001b[1;33m,\u001b[0m\u001b[1;33m[\u001b[0m\u001b[1;33m]\u001b[0m\u001b[1;33m)\u001b[0m\u001b[1;33m\u001b[0m\u001b[1;33m\u001b[0m\u001b[0m\n\u001b[0m\u001b[0;32m      3\u001b[0m     \u001b[1;32mwith\u001b[0m \u001b[0mopen\u001b[0m\u001b[1;33m(\u001b[0m\u001b[1;34m\"edgeComplex\"\u001b[0m \u001b[1;33m+\u001b[0m \u001b[0mstr\u001b[0m\u001b[1;33m(\u001b[0m\u001b[0mi\u001b[0m\u001b[1;33m)\u001b[0m \u001b[1;33m+\u001b[0m\u001b[1;34m\".txt\"\u001b[0m\u001b[1;33m,\u001b[0m \u001b[1;34m'w'\u001b[0m\u001b[1;33m)\u001b[0m \u001b[1;32mas\u001b[0m \u001b[0mf\u001b[0m\u001b[1;33m:\u001b[0m\u001b[1;33m\u001b[0m\u001b[1;33m\u001b[0m\u001b[0m\n\u001b[0;32m      4\u001b[0m         \u001b[0mstart\u001b[0m \u001b[1;33m=\u001b[0m \u001b[0mtimer\u001b[0m\u001b[1;33m(\u001b[0m\u001b[1;33m)\u001b[0m\u001b[1;33m\u001b[0m\u001b[1;33m\u001b[0m\u001b[0m\n\u001b[0;32m      5\u001b[0m         \u001b[1;32mfor\u001b[0m \u001b[0medge\u001b[0m \u001b[1;32min\u001b[0m \u001b[0mcurrent_complex\u001b[0m\u001b[1;33m:\u001b[0m\u001b[1;33m\u001b[0m\u001b[1;33m\u001b[0m\u001b[0m\n",
      "\u001b[1;32m~\\AppData\\Local\\Temp/ipykernel_11616/2366692964.py\u001b[0m in \u001b[0;36mgenerate_all_edges\u001b[1;34m(n, symbols)\u001b[0m\n\u001b[0;32m    139\u001b[0m         \u001b[1;32mif\u001b[0m \u001b[0mcandidates\u001b[0m \u001b[1;32mis\u001b[0m \u001b[1;32mnot\u001b[0m \u001b[1;32mNone\u001b[0m\u001b[1;33m:\u001b[0m\u001b[1;33m\u001b[0m\u001b[1;33m\u001b[0m\u001b[0m\n\u001b[0;32m    140\u001b[0m             \u001b[1;32mfor\u001b[0m \u001b[0mcount\u001b[0m\u001b[1;33m,\u001b[0m \u001b[0mcandidate\u001b[0m \u001b[1;32min\u001b[0m \u001b[0menumerate\u001b[0m\u001b[1;33m(\u001b[0m\u001b[0mcandidates\u001b[0m\u001b[1;33m)\u001b[0m\u001b[1;33m:\u001b[0m\u001b[1;33m\u001b[0m\u001b[1;33m\u001b[0m\u001b[0m\n\u001b[1;32m--> 141\u001b[1;33m                 \u001b[0mcandidates\u001b[0m\u001b[1;33m[\u001b[0m\u001b[0mcount\u001b[0m\u001b[1;33m]\u001b[0m \u001b[1;33m=\u001b[0m \u001b[1;33m[\u001b[0m\u001b[0mcandidate\u001b[0m\u001b[1;33m.\u001b[0m\u001b[0mcopy\u001b[0m\u001b[1;33m(\u001b[0m\u001b[1;33m)\u001b[0m\u001b[1;33m,\u001b[0m \u001b[0mrect\u001b[0m\u001b[1;33m,\u001b[0m \u001b[0mplace_holder\u001b[0m\u001b[1;33m.\u001b[0m\u001b[0mcopy\u001b[0m\u001b[1;33m(\u001b[0m\u001b[1;33m)\u001b[0m\u001b[1;33m]\u001b[0m\u001b[1;33m\u001b[0m\u001b[1;33m\u001b[0m\u001b[0m\n\u001b[0m\u001b[0;32m    142\u001b[0m             \u001b[0munweighted_diff\u001b[0m \u001b[1;33m=\u001b[0m \u001b[0munweighted_diff\u001b[0m \u001b[1;33m+\u001b[0m \u001b[0mcandidates\u001b[0m\u001b[1;33m\u001b[0m\u001b[1;33m\u001b[0m\u001b[0m\n\u001b[0;32m    143\u001b[0m     \u001b[1;32mfor\u001b[0m \u001b[0mcount\u001b[0m\u001b[1;33m,\u001b[0m \u001b[0msymbol\u001b[0m \u001b[1;32min\u001b[0m \u001b[0menumerate\u001b[0m\u001b[1;33m(\u001b[0m\u001b[0msymbols\u001b[0m\u001b[1;33m)\u001b[0m\u001b[1;33m:\u001b[0m\u001b[1;33m\u001b[0m\u001b[1;33m\u001b[0m\u001b[0m\n",
      "\u001b[1;31mKeyboardInterrupt\u001b[0m: "
     ]
    }
   ],
   "source": [
    "for i in range(3, 9):\n",
    "    current_complex = generate_all_edges(i,[])\n",
    "    with open(\"edgeComplex\" + str(i) +\".txt\", 'w') as f:\n",
    "        start = timer()\n",
    "        for edge in current_complex:\n",
    "            f.write(str(edge) + '\\n')\n",
    "        f.close()\n",
    "        end = timer()\n",
    "        print(\"Time for complex for size \" + str(i) + \" = \" + str(end - start))"
   ]
  },
  {
   "cell_type": "code",
   "execution_count": null,
   "id": "be85c82b-fe40-4ea6-822c-acbfe27b5a9a",
   "metadata": {},
   "outputs": [],
   "source": [
    "sig = perm([1,5,2,4,3,6,8,7])\n",
    "phi = transposition(2,4,8)\n",
    "print(sig*phi)\n",
    "print(phi*sig)"
   ]
  },
  {
   "cell_type": "code",
   "execution_count": null,
   "id": "4a2e584e-df41-44f7-af63-5476cc0e5da3",
   "metadata": {},
   "outputs": [],
   "source": [
    "# def convertNPMat(givenMatrix, desiredField):\n",
    "#     result = givenMatrix.copy()\n",
    "#     for x in result:\n",
    "#         x = type(desiredField)(x)\n",
    "#     return result\n",
    "\n",
    "# class Zn:\n",
    "    \n",
    "#     def __init__(self, value, n=2):\n",
    "#         self.value = value % n\n",
    "#         self.modulus = n\n",
    "        \n",
    "#     def __add__(self, other):\n",
    "#         if type(other) == Zn:\n",
    "#             return Zn((other.value + self.value), self.modulus)\n",
    "#         return Zn(other + self.value, self.modulus)\n",
    "    \n",
    "#     def __mult__(self, other):\n",
    "#         return(Zn(self.value * other, self.modulus))"
   ]
  },
  {
   "cell_type": "code",
   "execution_count": null,
   "id": "8f6fb3fb-6e09-4d1d-9c0d-b84a3f48833b",
   "metadata": {},
   "outputs": [],
   "source": [
    "generate_all_states_outside_rectangle([(1,1),(4,3)],5)"
   ]
  },
  {
   "cell_type": "code",
   "execution_count": null,
   "id": "2dfaaab2-9564-4533-8067-7b4ff8a380bc",
   "metadata": {},
   "outputs": [],
   "source": [
    "generate_all_states_outside_rectangle([(1,1),(2,3)],5)"
   ]
  },
  {
   "cell_type": "code",
   "execution_count": null,
   "id": "3bd587fc-e8b6-465b-b985-26ca5f38eca9",
   "metadata": {},
   "outputs": [],
   "source": [
    "generate_all_states_outside_rectangle([(2,3),(5,6)],8)"
   ]
  }
 ],
 "metadata": {
  "kernelspec": {
   "display_name": "Python 3 (ipykernel)",
   "language": "python",
   "name": "python3"
  },
  "language_info": {
   "codemirror_mode": {
    "name": "ipython",
    "version": 3
   },
   "file_extension": ".py",
   "mimetype": "text/x-python",
   "name": "python",
   "nbconvert_exporter": "python",
   "pygments_lexer": "ipython3",
   "version": "3.8.12"
  }
 },
 "nbformat": 4,
 "nbformat_minor": 5
}
